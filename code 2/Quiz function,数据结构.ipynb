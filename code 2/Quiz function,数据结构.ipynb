{
 "cells": [
  {
   "cell_type": "markdown",
   "metadata": {
    "run_control": {
     "frozen": false,
     "read_only": false
    }
   },
   "source": [
    "## 基本数据结构"
   ]
  },
  {
   "cell_type": "code",
   "execution_count": null,
   "metadata": {
    "collapsed": true,
    "run_control": {
     "frozen": false,
     "read_only": false
    }
   },
   "outputs": [],
   "source": []
  },
  {
   "cell_type": "markdown",
   "metadata": {
    "run_control": {
     "frozen": false,
     "read_only": false
    }
   },
   "source": [
    "### 以下程序哪里错误了, 并给出修改意见\n"
   ]
  },
  {
   "cell_type": "code",
   "execution_count": null,
   "metadata": {
    "collapsed": true,
    "run_control": {
     "frozen": false,
     "read_only": false
    }
   },
   "outputs": [],
   "source": []
  },
  {
   "cell_type": "markdown",
   "metadata": {
    "run_control": {
     "frozen": false,
     "read_only": false
    }
   },
   "source": [
    "### 判断输出结果\n"
   ]
  },
  {
   "cell_type": "code",
   "execution_count": null,
   "metadata": {
    "collapsed": true
   },
   "outputs": [],
   "source": [
    "values = [2.3, 4.5, 7.2, 1.0, 12.2, 9.0, 15.2, 0.5]\n",
    "print(values[1])\n",
    "print(values[-2])\n",
    "print(values[0:2])\n",
    "print(values[0:-2])\n",
    "print(values[::2])"
   ]
  },
  {
   "cell_type": "code",
   "execution_count": null,
   "metadata": {},
   "outputs": [],
   "source": [
    "l = [\"8\", \"7\", \"6\", \"1\", \"9\", \"9\", \"5\", \"7\", \"6\", \"9\"]\n",
    "\n",
    "output = \"\"\n",
    "for i in range(5):\n",
    "    output += l[i*2]\n",
    "\n",
    "print(output)"
   ]
  },
  {
   "cell_type": "code",
   "execution_count": null,
   "metadata": {
    "collapsed": true
   },
   "outputs": [],
   "source": [
    "names = [\"Joshua\"]\n",
    "names.insert(1, \"Peng\")\n",
    "names.insert(0, \"Lee\")\n",
    "names.pop(2)\n",
    "names.append(\"J\")"
   ]
  },
  {
   "cell_type": "code",
   "execution_count": null,
   "metadata": {
    "collapsed": true
   },
   "outputs": [],
   "source": [
    "[2] * 3\n",
    "2 * [3]"
   ]
  },
  {
   "cell_type": "code",
   "execution_count": null,
   "metadata": {
    "run_control": {
     "frozen": false,
     "read_only": false
    }
   },
   "outputs": [],
   "source": [
    "def C2F(c):\n",
    "    return c * 9/5 + 32\n",
    "print(C2F(100), C2F(0))"
   ]
  },
  {
   "cell_type": "code",
   "execution_count": null,
   "metadata": {
    "run_control": {
     "frozen": false,
     "read_only": false
    }
   },
   "outputs": [],
   "source": [
    "def printMax(a, b):\n",
    "    if a > b:\n",
    "        print(a, 'is maximum')\n",
    "    elif a == b:\n",
    "        print(a, 'is equal to', b)\n",
    "    else:\n",
    "        print(b, 'is maximum')\n",
    "printMax(3, 4)"
   ]
  },
  {
   "cell_type": "code",
   "execution_count": null,
   "metadata": {
    "run_control": {
     "frozen": false,
     "read_only": false
    },
    "scrolled": true
   },
   "outputs": [],
   "source": [
    "# practice area\n",
    "list_1 = ['a', 'b', 'c', 'd', 'e', 'f', 'g', 'h']\n",
    "list_2 = [ 9 ,  8 ,  7 ,  6 ,  5 ,  4 ,  3 ,  2 ]\n",
    "\n",
    "for i in range(len(list_1)):\n",
    "    if list_2[i] % 2 == 1:\n",
    "        print(list_1[i],end=' ') \n",
    "\n",
    "print(\"\")\n",
    "\n",
    "for i, j in zip(list_1, list_2):\n",
    "    if j % 2 == 0:\n",
    "        print(i,end=' ')\n",
    "        \n"
   ]
  },
  {
   "cell_type": "code",
   "execution_count": null,
   "metadata": {
    "collapsed": true,
    "run_control": {
     "frozen": false,
     "read_only": false
    }
   },
   "outputs": [],
   "source": [
    "# Given the nested list below, are you able to retrive its' value by index?\n",
    "nested_list = [[\"hello\",\"world\"],\n",
    "               [1, 2, 3, 4, 5],\n",
    "               [[\"Python\", \"+ + + + +\"], [\"Java\", \"+ + +\"]],\n",
    "               2016, 12, 31\n",
    "              ]\n",
    "\n",
    "# Fill your code in the  ____, the anticipated result is comment at the end\n",
    "print nested_list[-3]      # 2016\n",
    "print nested_list[-1]      # 31\n",
    "print nested_list[0][1]    # \"world\"\n",
    "print nested_list[1][4]    # 5\n",
    "print nested_list[2][0][1] # \"+ + + + +\"\n",
    "print nested_list[2][1][0] # \"Java\""
   ]
  },
  {
   "cell_type": "markdown",
   "metadata": {
    "run_control": {
     "frozen": false,
     "read_only": false
    }
   },
   "source": [
    "<img src='two-dimensional-array.jpg' align ='left' width = 300px/>"
   ]
  },
  {
   "cell_type": "code",
   "execution_count": null,
   "metadata": {
    "run_control": {
     "frozen": false,
     "read_only": false
    }
   },
   "outputs": [],
   "source": [
    "rows = 3\n",
    "cols = 2\n",
    "\n",
    "a=[]\n",
    "for row in range(rows):\n",
    "    a += [[0]*cols]\n",
    "\n",
    "print (\"This IS ok.  At first:\")\n",
    "print (\"   a =\", a)\n",
    "\n",
    "a[0][0] = 42\n",
    "print(\"And now see what happens after a[0][0]=42\")\n",
    "print(\"   a =\", a)"
   ]
  },
  {
   "cell_type": "markdown",
   "metadata": {
    "run_control": {
     "frozen": false,
     "read_only": false
    }
   },
   "source": [
    "### 动手编程"
   ]
  },
  {
   "cell_type": "markdown",
   "metadata": {
    "run_control": {
     "frozen": false,
     "read_only": false
    }
   },
   "source": []
  },
  {
   "cell_type": "markdown",
   "metadata": {
    "run_control": {
     "frozen": false,
     "read_only": false
    }
   },
   "source": [
    "有一个列表含有很多数字， 提取出基数，并输出新的列表"
   ]
  },
  {
   "cell_type": "code",
   "execution_count": null,
   "metadata": {
    "run_control": {
     "frozen": false,
     "read_only": false
    }
   },
   "outputs": [],
   "source": [
    "list_of_number = [44, 93, 99, 33, 88, 11, 89, 52, 95, 45, 100, 42, 19, 75, 15, 19, 63, 15, \n",
    "                  7, 44, 9, 3, 49, 12, 5, 48, 62, 60, 93, 26, 92, 97, 44, 79, 65, 67, 92, \n",
    "                  25, 14, 69, 52, 44, 10, 78, 28, 26, 46, 47, 2, 1, 60, 11, 64, 42, 6, 63,\n",
    "                  13, 65, 66, 33, 64, 18, 70, 27, 10, 17, 39, 77, 94, 63, 39, 9, 20, 63, \n",
    "                  11, 43, 25, 80, 31, 77, 83, 88, 62, 27, 49, 65, 57, 53, 98, 94, 90, 70, \n",
    "                  31, 78, 88, 87, 65, 44, 69, 54]\n",
    "new_copy = []\n",
    "\n",
    "# Your code below\n",
    "\n",
    "\n",
    "\n",
    "# Your code above\n",
    "print(new_copy) # The result should be [93, 99, 33, 11, 89, ...]"
   ]
  },
  {
   "cell_type": "markdown",
   "metadata": {
    "run_control": {
     "frozen": false,
     "read_only": false
    }
   },
   "source": [
    "获取2维数组的第一个行和第3～4列的数据\n",
    "```\n",
    "sample_list = [[67, 22,  3, 81, 25],\n",
    "               [13, 78, 94, 70, 68],\n",
    "               [98, 27,  3, 69, 37],\n",
    "               [50, 69, 40, 86, 33]]\n",
    "```"
   ]
  },
  {
   "cell_type": "code",
   "execution_count": null,
   "metadata": {
    "run_control": {
     "frozen": false,
     "read_only": false
    }
   },
   "outputs": [],
   "source": [
    "# Your below\n",
    "\n",
    "\n",
    "\n",
    "# Your code above\n",
    "print(row)\n",
    "print(cols)"
   ]
  },
  {
   "cell_type": "markdown",
   "metadata": {
    "run_control": {
     "frozen": false,
     "read_only": false
    }
   },
   "source": [
    "根据公式n * (n - 1)，生成一个100个数组的列表，你的输出应该是:\n",
    ">```[0, 2, 6, 12, ...]```"
   ]
  },
  {
   "cell_type": "code",
   "execution_count": null,
   "metadata": {
    "run_control": {
     "frozen": false,
     "read_only": false
    }
   },
   "outputs": [],
   "source": [
    "result = []\n",
    "# Your code below\n",
    "\n",
    "\n",
    "\n",
    "# Your code above\n",
    "print(result)"
   ]
  },
  {
   "cell_type": "markdown",
   "metadata": {},
   "source": [
    "### 把单词按首字母顺序排列"
   ]
  },
  {
   "cell_type": "code",
   "execution_count": null,
   "metadata": {
    "run_control": {
     "frozen": false,
     "read_only": false
    }
   },
   "outputs": [],
   "source": [
    "# change this value for a different result\n",
    "my_str = \"Hello this Is an Example With cased letters\"\n",
    "\n",
    "#your solution here\n",
    "\n",
    "\n",
    "\n"
   ]
  },
  {
   "cell_type": "markdown",
   "metadata": {},
   "source": [
    "### 我们有一段话，请帮忙统计以下里面每个元音字母各出现了多少次"
   ]
  },
  {
   "cell_type": "code",
   "execution_count": null,
   "metadata": {},
   "outputs": [],
   "source": [
    "# string of vowels\n",
    "vowels = 'aeiou'\n",
    "counter = {}.fromkeys(vowels,0)\n",
    "\n",
    "# change this value for a different result\n",
    "in_str = 'Hello, have you tried our turorial section yet?'\n",
    "\n",
    "# make it suitable for caseless comparisions\n",
    "in_str = in_str.casefold()\n",
    "\n",
    "# make a dictionary with each vowel a key and value 0\n",
    "# your soultion here count the vowels\n",
    "\n",
    "\n",
    "\n",
    "\n",
    "print(counter)"
   ]
  },
  {
   "cell_type": "markdown",
   "metadata": {},
   "source": [
    "### 去掉一段话里面的标点符号"
   ]
  },
  {
   "cell_type": "code",
   "execution_count": null,
   "metadata": {},
   "outputs": [],
   "source": [
    "# define punctuation\n",
    "punctuations = '''!()-[]{};:'\"\\,<>./?@#$%^&*_~'''\n",
    "\n",
    "my_str = \"Hello!!!, he said ---and went.\"\n",
    "\n",
    "# remove punctuation from the string\n",
    "no_punct = \"\"\n",
    "\n",
    "# your solution here\n",
    "\n",
    "\n",
    "# display the unpunctuated string\n",
    "print(no_punct)"
   ]
  },
  {
   "cell_type": "markdown",
   "metadata": {},
   "source": [
    "### 找出名单中名字最长的人"
   ]
  },
  {
   "cell_type": "code",
   "execution_count": null,
   "metadata": {
    "collapsed": true
   },
   "outputs": [],
   "source": [
    "names = [\"Joshua Zhao\", \"XiaoLee\", \"Ze\", \"Josh\"]"
   ]
  },
  {
   "cell_type": "code",
   "execution_count": null,
   "metadata": {},
   "outputs": [],
   "source": [
    "names = [\"Joshua Zhao\", \"XiaoLee\", \"Ze\", \"Josh\"]\n",
    "longest = names[0]\n",
    "# your solution here\n",
    "\n",
    "\n",
    "print(longest)        "
   ]
  },
  {
   "cell_type": "markdown",
   "metadata": {},
   "source": [
    "### 利用python计算两个矩阵相加"
   ]
  },
  {
   "cell_type": "code",
   "execution_count": null,
   "metadata": {},
   "outputs": [],
   "source": [
    "# Program to add two matrices using nested loop\n",
    "\n",
    "X = [[12,7,3],\n",
    "    [4 ,5,6],\n",
    "    [7 ,8,9]]\n",
    "\n",
    "Y = [[5,8,1],\n",
    "    [6,7,3],\n",
    "    [4,5,9]]\n",
    "\n",
    "result = [[0,0,0],\n",
    "         [0,0,0],\n",
    "         [0,0,0]]\n",
    "\n",
    "# iterate through rows\n",
    "# your solution here\n",
    "\n",
    "\n",
    "for r in result:\n",
    "    print(r)"
   ]
  },
  {
   "cell_type": "markdown",
   "metadata": {},
   "source": [
    "You are given the quiz scores of a student and are asked to drop the lowest score.\n",
    "### 一个歌唱比赛的歌手打分，我们设计一个程序帮助现场去掉一个最低分和一个最高分，再计算一个平均分\n",
    "例如分数为: [8,9,5,10,9.5,8,7,9,9.5]\n",
    "则去掉最低分 [8,9,5,10,9.5,8,9,9.5]"
   ]
  },
  {
   "cell_type": "code",
   "execution_count": null,
   "metadata": {
    "collapsed": true
   },
   "outputs": [],
   "source": [
    "#Find the minimum.\n",
    "#Remove it from the list.\n",
    "values =  [8,9,5,10,5,8,7,9,9.5]\n",
    "\n",
    "#your solution here\n",
    "\n",
    "values.remove(values[small_pos])\n",
    "values.remove(values[high_pos])\n",
    "        "
   ]
  },
  {
   "cell_type": "code",
   "execution_count": null,
   "metadata": {},
   "outputs": [],
   "source": [
    "summation = 0\n",
    "for val in values:\n",
    "    summation +=val\n",
    "print(summation/7)"
   ]
  },
  {
   "cell_type": "code",
   "execution_count": null,
   "metadata": {},
   "outputs": [],
   "source": [
    "sum(values)/len(values)"
   ]
  },
  {
   "cell_type": "markdown",
   "metadata": {},
   "source": [
    "### 函数"
   ]
  },
  {
   "cell_type": "markdown",
   "metadata": {},
   "source": [
    "我们写了一个纠正时间正确的程序，如下：\n",
    "```python\n",
    "hours = int(input(\"Enter a value between 0 and 23: \"))\n",
    "while hours < 0 or hours > 23 :\n",
    "    print(\"Error: value out of range.\")\n",
    "    hours = int(input(\"Enter a value between 0 and 23: \"))\n",
    "    \n",
    "minutes = int(input(\"Enter a value between 0 and 59: \"))\n",
    "while minutes < 0 or minutes > 59 :\n",
    "    print(\"Error: value out of range.\")\n",
    "    minutes = int(input(\"Enter a value between 0 and 59: \"))\n",
    "```    \n",
    "我们希望改写成函数, 来避免重复书写的部分\n",
    "```python \n",
    "def readIntUpTo(high) :\n",
    "    # your code here\n",
    "    return value\n",
    "hours = readIntUpTo(23)\n",
    "minutes = readIntUpTo(59)    \n",
    "```\n",
    "若我们希望进一步控制最小值呢？\n",
    "```python\n",
    "def readIntBetween(low, high) :\n",
    "    # your code here\n",
    "    return value\n",
    "hours = readIntBetween(0, 23)\n",
    "minutes = readIntBetween(0, 59)\n",
    "```"
   ]
  },
  {
   "cell_type": "code",
   "execution_count": null,
   "metadata": {},
   "outputs": [],
   "source": [
    "def readIntUpTo(high) :\n",
    "    value = int(input(\"Enter a value between 0 and \" + str(high) + \": \"))\n",
    "    \n",
    "    #your solution here\n",
    "    \n",
    "    return value\n",
    "\n",
    "def readIntBetween(low, high) :\n",
    "    value = int(input(\"Enter a value between \" + str(low) + \" and \" +str(high) + \": \"))\n",
    "    #your solution here\n",
    "\n",
    "    \n",
    "    return value\n",
    "hours = readIntBetween(0, 23)\n",
    "minutes = readIntBetween(0, 59)\n",
    "print(\"Time is \",hours,\":\", minutes)"
   ]
  },
  {
   "cell_type": "markdown",
   "metadata": {},
   "source": [
    "### 设计一个函数，反向打印list里面的数据"
   ]
  },
  {
   "cell_type": "code",
   "execution_count": null,
   "metadata": {},
   "outputs": [],
   "source": [
    "def print_reversed(values) :\n",
    "    # Traverse the list in reverse order, starting with the last element\n",
    "\n",
    "    # your solution here\n",
    "\n",
    "print_reversed([3,4,52,3,1,5,6,78,3])"
   ]
  },
  {
   "cell_type": "markdown",
   "metadata": {
    "run_control": {
     "frozen": false,
     "read_only": false
    }
   },
   "source": [
    "\n",
    "Create a function that find the result for formula: $$aX^2 + bX + c = 0 $$\n",
    "\n",
    "if: $$b^2 - 4ac ≥ 0$$ you should return two results\n",
    "\n",
    "if: $$b^2 - 4ac < 0$$you should return two None values\n",
    "\n",
    "For example:\n",
    ">```\n",
    "x1, x2 = calculation(1, 2, 1)\n",
    "print x1, x2\n",
    ">>>> -1.0 -1.0\n",
    ">\n",
    "x1, x2 = calculation(2, -10, 12)\n",
    "print x1, x2 # x1 is always the larger number\n",
    ">>>> 3.0 2.0\n",
    ">\n",
    "x1, x2 = calculation(4, 7, 12)\n",
    "print x1, x2 # x1 is always the larger number\n",
    ">>>> None None\n",
    "```"
   ]
  },
  {
   "cell_type": "code",
   "execution_count": null,
   "metadata": {
    "run_control": {
     "frozen": false,
     "read_only": false
    }
   },
   "outputs": [],
   "source": [
    "# Write your code below\n",
    "\n",
    "\n",
    "# Test your result below\n",
    "x1, x2 = calculation(1, 2, 1)\n",
    "print(x1, x2)\n",
    "x1, x2 = calculation(2, -10, 12)\n",
    "print(x1, x2) # x1 is always the larger number\n",
    "x1, x2 = calculation(4, 7, 12)\n",
    "print(x1, x2) # x1 is always the larger number"
   ]
  },
  {
   "cell_type": "markdown",
   "metadata": {
    "run_control": {
     "frozen": false,
     "read_only": false
    }
   },
   "source": [
    "\n",
    "Given a dictionary, write a function named `find_key_of_value(d, val)` that can return the key of a given value (*Assume values are unique*). If value not found, return `None`.\n",
    "\n",
    "*Use Loop-Else strucure to implement this function.*\n",
    "```python\n",
    "mydict = {'george':16,'amber':19}\n",
    "print(list(mydict.keys())[list(mydict.values()).index(16)]) # Prints george\n",
    "mydict.items()\n",
    "```"
   ]
  },
  {
   "cell_type": "code",
   "execution_count": null,
   "metadata": {
    "run_control": {
     "frozen": false,
     "read_only": false
    }
   },
   "outputs": [],
   "source": [
    "def find_key_of_value(d: dict, val):\n",
    "    # Put your code here\n",
    "    return\n",
    "\n",
    "\n",
    "\n",
    "# Test\n",
    "print(find_key_of_value({'a': 1, 'b': 2, 'c': 3}, 3)) # Expected: 'c'\n",
    "print(find_key_of_value({'a': 1, 'b': 2, 'c': 3}, 4)) # Expected: None"
   ]
  },
  {
   "cell_type": "markdown",
   "metadata": {
    "run_control": {
     "frozen": false,
     "read_only": false
    }
   },
   "source": [
    "Write a function named `matrix(m, n, default=0)` that returns a $m \\times n$ matrix, initialized with default value.\n",
    "\n",
    "*Use List Comprehension to implement this function*"
   ]
  },
  {
   "cell_type": "code",
   "execution_count": null,
   "metadata": {
    "run_control": {
     "frozen": false,
     "read_only": false
    }
   },
   "outputs": [],
   "source": [
    "import pprint\n",
    "def matrix(m, n, default=0):\n",
    "    # Put your code here\n",
    "    return \n",
    "\n",
    "pprint.pprint(matrix(3, 2))     # Expected: [[0, 0], [0, 0], [0, 0]]\n",
    "pprint.pprint(matrix(5, 1, 1))  # Expected: [[1], [1], [1], [1], [1]]"
   ]
  }
 ],
 "metadata": {
  "kernelspec": {
   "display_name": "Python 3",
   "language": "python",
   "name": "python3"
  },
  "language_info": {
   "codemirror_mode": {
    "name": "ipython",
    "version": 3
   },
   "file_extension": ".py",
   "mimetype": "text/x-python",
   "name": "python",
   "nbconvert_exporter": "python",
   "pygments_lexer": "ipython3",
   "version": "3.6.3"
  }
 },
 "nbformat": 4,
 "nbformat_minor": 2
}
