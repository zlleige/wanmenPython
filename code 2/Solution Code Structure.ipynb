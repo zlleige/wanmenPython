{
 "cells": [
  {
   "cell_type": "markdown",
   "metadata": {
    "run_control": {
     "frozen": false,
     "read_only": false
    }
   },
   "source": [
    "## 代码结构"
   ]
  },
  {
   "cell_type": "markdown",
   "metadata": {
    "run_control": {
     "frozen": false,
     "read_only": false
    }
   },
   "source": [
    "### 以下程序哪里错误了, 并给出修改意见\n"
   ]
  },
  {
   "cell_type": "code",
   "execution_count": null,
   "metadata": {
    "code_folding": [],
    "collapsed": true,
    "run_control": {
     "frozen": false,
     "read_only": false
    }
   },
   "outputs": [],
   "source": [
    "smallest = 0\n",
    "inputStr = input(\"Enter a value: \")\n",
    "while inputStr != \"\" :\n",
    "    value = int(inputStr)\n",
    "    if value < smallest :\n",
    "        smallest = value\n",
    "    inputStr = input(\"Enter a value: \")\n",
    "print(smallest)"
   ]
  },
  {
   "cell_type": "code",
   "execution_count": null,
   "metadata": {
    "code_folding": [
     2
    ],
    "collapsed": true,
    "run_control": {
     "frozen": false,
     "read_only": false
    }
   },
   "outputs": [],
   "source": [
    "# 修改建议\n",
    "inputStr = input(\"Enter a value: \")\n",
    "smallest = int(inputStr)\n",
    "while inputStr != \"\" :\n",
    "    value = int(inputStr)\n",
    "    if value < smallest :\n",
    "        smallest = value\n",
    "    inputStr = input(\"Enter a value: \")\n",
    "print(smallest)"
   ]
  },
  {
   "cell_type": "markdown",
   "metadata": {
    "run_control": {
     "frozen": false,
     "read_only": false
    }
   },
   "source": [
    "### 判断输出结果\n"
   ]
  },
  {
   "cell_type": "code",
   "execution_count": null,
   "metadata": {
    "collapsed": true,
    "run_control": {
     "frozen": false,
     "read_only": false
    },
    "scrolled": true
   },
   "outputs": [],
   "source": [
    "mystery = randint(0, 100)\n",
    "print(\"Hi, I've think out a integer from 0 - 100, you can guess now.\")\n",
    "def guess(number_of_times):\n",
    "    print\n",
    "    userInput = int(input(\"What's the number I'm thinking of? \"))\n",
    "    if userInput > mystery:\n",
    "        print(\"Well, %s is larger than the number I'm thinking\" % userInput)\n",
    "    elif userInput < mystery:\n",
    "        print(\"Well, \" + str(userInput) + \" is smaller than the number I'm thinking\")\n",
    "    else:\n",
    "        print(\"Well done! You are correct! The number is %s.\" % mystery)\n",
    "        return\n",
    "    if number_of_times > 1:\n",
    "        guess(number_of_times - 1)\n",
    "    else:\n",
    "        print(\"Game Over!\")\n",
    "        return False\n",
    "guess(10)"
   ]
  },
  {
   "cell_type": "markdown",
   "metadata": {
    "run_control": {
     "frozen": false,
     "read_only": false
    }
   },
   "source": [
    "### 动手编程"
   ]
  },
  {
   "cell_type": "markdown",
   "metadata": {
    "run_control": {
     "frozen": false,
     "read_only": false
    }
   },
   "source": [
    "### 根据规则修改字符\n",
    "给定字符串，隔字输出，并以第一个字母开头，例如 \"Hello\" 应该输出 \"Hlo\".\n",
    "\n",
    "```\n",
    "'Hello' >>> 'Hlo'\n",
    "'Hi' >>> 'H'\n",
    "'Heeololeo' >>> 'Hello'\n",
    "```"
   ]
  },
  {
   "cell_type": "code",
   "execution_count": null,
   "metadata": {
    "code_folding": [],
    "collapsed": true,
    "run_control": {
     "frozen": false,
     "read_only": false
    }
   },
   "outputs": [],
   "source": [
    "str=\"Hello\"\n",
    "result=\"\"\n",
    "for i in range(len(str)):\n",
    "    if i % 2 == 0:\n",
    "        result = result + str[i]\n",
    "print(result)        "
   ]
  },
  {
   "cell_type": "markdown",
   "metadata": {
    "run_control": {
     "frozen": false,
     "read_only": false
    }
   },
   "source": [
    "做一个简单的可以加，减，乘，除的计算器"
   ]
  },
  {
   "cell_type": "code",
   "execution_count": 1,
   "metadata": {
    "code_folding": [],
    "run_control": {
     "frozen": false,
     "read_only": false
    }
   },
   "outputs": [
    {
     "name": "stdout",
     "output_type": "stream",
     "text": [
      "Select operation.\n",
      "1.Add\n",
      "2.Subtract\n",
      "3.Multiply\n",
      "4.Divide\n",
      "Enter choice(1/2/3/4):3\n",
      "Enter first number: 21\n",
      "Enter second number: 22\n",
      "21 * 22 = 462\n"
     ]
    }
   ],
   "source": [
    "# This function adds two numbers \n",
    "def add(x, y):\n",
    "    return x + y\n",
    "\n",
    "# This function subtracts two numbers \n",
    "def subtract(x, y):\n",
    "    return x - y\n",
    "\n",
    "# This function multiplies two numbers\n",
    "def multiply(x, y):\n",
    "    return x * y\n",
    "\n",
    "# This function divides two numbers\n",
    "def divide(x, y):\n",
    "    return x / y\n",
    "\n",
    "print(\"Select operation.\")\n",
    "print(\"1.Add\")\n",
    "print(\"2.Subtract\")\n",
    "print(\"3.Multiply\")\n",
    "print(\"4.Divide\")\n",
    "\n",
    "# Take input from the user \n",
    "choice = input(\"Enter choice(1/2/3/4):\")\n",
    "\n",
    "num1 = int(input(\"Enter first number: \"))\n",
    "num2 = int(input(\"Enter second number: \"))\n",
    "\n",
    "if choice == '1':\n",
    "    print(num1,\"+\",num2,\"=\", add(num1,num2))\n",
    "elif choice == '2':\n",
    "    print(num1,\"-\",num2,\"=\", subtract(num1,num2))\n",
    "\n",
    "elif choice == '3':\n",
    "    print(num1,\"*\",num2,\"=\", multiply(num1,num2))\n",
    "\n",
    "elif choice == '4':\n",
    "    print(num1,\"/\",num2,\"=\", divide(num1,num2))\n",
    "else:\n",
    "    print(\"Invalid input\")"
   ]
  },
  {
   "cell_type": "markdown",
   "metadata": {
    "run_control": {
     "frozen": false,
     "read_only": false
    }
   },
   "source": [
    "### 设计一个程序，来判断两个数的关系\n",
    "1. 若两个数一样，请输出 \"They are the same.\"\n",
    "2. 若两个数不一样，请判断大小，并显示第一个是大还是小\n",
    "    \"The first number is larger\" 后者 \"The first number is smaller\"\n",
    "3. 判断两个数相差多少，相差小于0.01的话请输出\"The numbers are close together\"\n",
    "   相差正好是一的话，请输出\"The numbers are one apart\"\n",
    "4. 判断两个数的符号是否一直，同为正或负请输出\"The numbers have the same sign\"\n",
    "否则，请输出\"The numbers have different signs\""
   ]
  },
  {
   "cell_type": "code",
   "execution_count": null,
   "metadata": {
    "collapsed": true,
    "run_control": {
     "frozen": false,
     "read_only": false
    }
   },
   "outputs": [],
   "source": [
    "x = float(input(\"Enter a number (such as 3.5 or 4.5): \"))\n",
    "y = float(input(\"Enter a second number: \"))\n",
    "if x == y :\n",
    "    print(\"They are the same.\")\n",
    "else :\n",
    "    if x > y :\n",
    "        print(\"The first number is larger\")\n",
    "    else :\n",
    "        print(\"The first number is smaller\")\n",
    "\n",
    "    if -0.01 < x - y and x - y < 0.01 :\n",
    "        print(\"The numbers are close together\")\n",
    "    \n",
    "    if x == y + 1 or x == y - 1 :\n",
    "        print(\"The numbers are one apart\")\n",
    "    \n",
    "    if x > 0 and y > 0 or x < 0 and y < 0 : \n",
    "        print(\"The numbers have the same sign\")\n",
    "    else :\n",
    "        print(\"The numbers have different signs\")"
   ]
  },
  {
   "cell_type": "markdown",
   "metadata": {
    "run_control": {
     "frozen": false,
     "read_only": false
    }
   },
   "source": [
    "计算你银行带来的回报，假设你存银行一笔钱是10000，年利率是5%，则计算20年后，变成了多少钱？打印每一年的变化"
   ]
  },
  {
   "cell_type": "code",
   "execution_count": null,
   "metadata": {
    "code_folding": [],
    "collapsed": true,
    "run_control": {
     "frozen": false,
     "read_only": false
    }
   },
   "outputs": [],
   "source": [
    "# Define constant variables.\n",
    "RATE = 5.0\n",
    "INITIAL_BALANCE = 10000.0\n",
    "\n",
    "# Print the table of balances for each year.\n",
    "balance = INITIAL_BALANCE\n",
    "\n",
    "bal_records =[]\n",
    "for year in range(1, 20+1) :\n",
    "    interest = balance * RATE / 100\n",
    "    balance = balance + interest\n",
    "    print(\"%4d %10.2f\" % (year, balance))\n",
    "    bal_records.append(balance)"
   ]
  },
  {
   "cell_type": "code",
   "execution_count": null,
   "metadata": {
    "collapsed": true
   },
   "outputs": [],
   "source": [
    "import matplotlib.pyplot as plt\n",
    "\n",
    "fig, ax = plt.subplots()\n",
    "\n",
    "ax.plot([i for i in range(1, 20+1)],bal_records)   #在画布上画图\n",
    "ax.set(xlabel='n th year', ylabel='Money',title='How much I got')\n",
    "ax.grid()\n",
    "\n",
    "plt.show()  #显示画布"
   ]
  },
  {
   "cell_type": "markdown",
   "metadata": {
    "run_control": {
     "frozen": false,
     "read_only": false
    }
   },
   "source": [
    "### 判卷\n",
    "我们来帮助数学老师判卷子，本次数学题一共11到，已经知道正确答案分别是\"adbdcacbdac\"，请根据正确答案，找出学生的错误\n",
    "并且请给出最终分数。"
   ]
  },
  {
   "cell_type": "code",
   "execution_count": null,
   "metadata": {
    "run_control": {
     "frozen": false,
     "read_only": false
    }
   },
   "outputs": [],
   "source": [
    "# Define a string containing the correct answers.\n",
    "CORRECT_ANSWERS = \"adbdcacbdac\"\n",
    "# Obtain the user’s answers, and make sure enough answers are provided.\n",
    "done = False\n",
    "\n",
    "while not done :\n",
    "    userAnswers = input(\"Enter your exam answers: \")\n",
    "    if len(userAnswers) == len(CORRECT_ANSWERS) :\n",
    "        done = True\n",
    "    else :\n",
    "        print(\"Error: an incorrect number of answers given.\")\n",
    "# Check the exam.\n",
    "numQuestions = len(CORRECT_ANSWERS)\n",
    "numCorrect = 0\n",
    "results = \"\"\n",
    "\n",
    "for i in range(numQuestions) :\n",
    "    if userAnswers[i] == CORRECT_ANSWERS[i] :\n",
    "        numCorrect = numCorrect + 1\n",
    "        results = results + userAnswers[i]\n",
    "    else :\n",
    "        results = results + \"X\"\n",
    "\n",
    "# Grade the exam.\n",
    "score = round(numCorrect / numQuestions * 100)\n",
    "\n",
    "if score == 100 :\n",
    "    print(\"Perfect\")\n",
    "else :\n",
    "    print(\"You missed %d questions: %s\" % (numQuestions - numCorrect, results))\n",
    "    print(\"Your score is: %d percent\" % score)"
   ]
  },
  {
   "cell_type": "markdown",
   "metadata": {
    "run_control": {
     "frozen": false,
     "read_only": false
    }
   },
   "source": [
    "设计一个帮助老师统计分数的程序：\n",
    "- 允许老师录入分数, -1停止录入\n",
    "- 以60分为及格分数，帮助老师统计及格和不及格人数\n",
    "- 计算本次考试平均分是多少\n",
    "- 找出最低分 和 最高分"
   ]
  },
  {
   "cell_type": "code",
   "execution_count": null,
   "metadata": {
    "collapsed": true,
    "run_control": {
     "frozen": false,
     "read_only": false
    }
   },
   "outputs": [],
   "source": [
    "#Initialize the counter variables.\n",
    "numPassing = 0\n",
    "numFailing = 0\n",
    "\n",
    " # Initialize the variables used to compute the average.\n",
    "total = 0\n",
    "count = 0\n",
    "\n",
    "# Initialize the min and max variables.\n",
    "minGrade = 100.0 # Assuming 100 is the highest grade possible.\n",
    "maxGrade = 0.0\n",
    "\n",
    "# Use a while loop with a priming read to obtain the grades.\n",
    "grade = float(input(\"Enter a grade or -1 to finish: \"))\n",
    "\n",
    "while grade >= 0.0 :\n",
    "    # Increment the passing or failing counter.\n",
    "    if grade >= 60.0 :\n",
    "        numPassing = numPassing + 1\n",
    "    else :\n",
    "        numFailing = numFailing + 1\n",
    "\n",
    "    # Determine if the grade is the min or max grade.\n",
    "    if grade < minGrade :\n",
    "        minGrade = grade\n",
    "    if grade > maxGrade :\n",
    "        maxGrade = grade\n",
    "\n",
    "    # Add the grade to the running total.\n",
    "    total = total + grade\n",
    "    count = count + 1\n",
    "\n",
    "    # Read the next grade.\n",
    "    grade = float(input(\"Enter a grade or -1 to finish: \"))\n",
    "\n",
    "# Print the results.\n",
    "if count > 0 :\n",
    "    average = total / count\n",
    "    \n",
    "print(\"The average grade is %.2f\" % average)\n",
    "print(\"Number of passing grades is\", numPassing)\n",
    "print(\"Number of failing grades is\", numFailing)\n",
    "print(\"The maximum grade is %.2f\" % maxGrade)\n",
    "print(\"The minimum grade is %.2f\" % minGrade)"
   ]
  },
  {
   "cell_type": "code",
   "execution_count": null,
   "metadata": {
    "collapsed": true,
    "run_control": {
     "frozen": false,
     "read_only": false
    }
   },
   "outputs": [],
   "source": [
    "\n"
   ]
  },
  {
   "cell_type": "markdown",
   "metadata": {
    "run_control": {
     "frozen": false,
     "read_only": false
    }
   },
   "source": [
    "### 计算$\\pi$值"
   ]
  },
  {
   "cell_type": "markdown",
   "metadata": {
    "run_control": {
     "frozen": false,
     "read_only": false
    }
   },
   "source": [
    "### 方法一\n",
    "\n",
    "$$\n",
    "\\frac{\\pi}{4} = 1-\\frac{1}{3}+\\frac{1}{5}-\\frac{1}{7}+\\frac{1}{9}+…\n",
    "$$"
   ]
  },
  {
   "cell_type": "code",
   "execution_count": null,
   "metadata": {
    "collapsed": true,
    "run_control": {
     "frozen": false,
     "read_only": false
    }
   },
   "outputs": [],
   "source": [
    "pi_estimate = 0\n",
    "flag = 0\n",
    "for i in range(1,10000):\n",
    "    if i % 2:        \n",
    "        if flag == 0:\n",
    "            pi_estimate += 1/i\n",
    "            flag = 1\n",
    "        else:\n",
    "#            print(\"-\",i,end=\",\")\n",
    "            pi_estimate -= 1/i\n",
    "            flag = 0\n",
    "\n",
    "print(pi_estimate*4)"
   ]
  },
  {
   "cell_type": "markdown",
   "metadata": {
    "run_control": {
     "frozen": false,
     "read_only": false
    }
   },
   "source": [
    "### 方法二: 蒙特卡洛模拟\n",
    "想象一个圆形靶子，我们不停的向靶面射击, 命名圆内的我们算是“击中 也就是 $x^2 + y^2 ≤ 1$.<br/>\n",
    "假如我们不停的射击，直到我们把这个方形的靶子全部覆盖(打成了骰子)<br/>\n",
    "圆的面积应该是$$ S_{circle} = \\pi r^2 $$\n",
    "方形的面积应该是$$ S_{square} = a^2 $$\n",
    "也就是说 $$ S_{circle} /  S_{square} = \\pi r^2 / a^2$$\n",
    "$$ r = 1, a =2 $$\n",
    "hits / tries is approximately equal to the ratio of the areas\n",
    "of the circle\n",
    "那么$$ S_{circle} /  S_{square} = \\pi / 4$$\n",
    "那么预估的$$\\pi = 4 \\times (S_{circle} /  S_{square})$$\n",
    "![](circle.png)"
   ]
  },
  {
   "cell_type": "code",
   "execution_count": null,
   "metadata": {
    "code_folding": [],
    "collapsed": true,
    "run_control": {
     "frozen": false,
     "read_only": false
    }
   },
   "outputs": [],
   "source": [
    "from random import random\n",
    "TRIES = 100000\n",
    "hits = 0\n",
    "for i in range(TRIES) :\n",
    "    # Generate two random numbers between –1 and 1\n",
    "    r = random()\n",
    "    x = -1 + 2 * r\n",
    "    r = random()\n",
    "    y = -1 + 2 * r\n",
    "    # Check whether the point lies in the unit circle\n",
    "    if x * x + y * y <= 1 :\n",
    "        hits = hits + 1\n",
    "\n",
    "    # The ratio hits / tries is approximately the same as the ratio\n",
    "    # circle area / square area = pi / 4.\n",
    "piEstimate = 4.0 * hits / TRIES\n",
    "print(\"Estimate for pi:\", piEstimate)"
   ]
  }
 ],
 "metadata": {
  "kernelspec": {
   "display_name": "Python 3",
   "language": "python",
   "name": "python3"
  },
  "language_info": {
   "codemirror_mode": {
    "name": "ipython",
    "version": 3
   },
   "file_extension": ".py",
   "mimetype": "text/x-python",
   "name": "python",
   "nbconvert_exporter": "python",
   "pygments_lexer": "ipython3",
   "version": "3.6.3"
  }
 },
 "nbformat": 4,
 "nbformat_minor": 2
}
