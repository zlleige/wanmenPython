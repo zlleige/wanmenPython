{
 "cells": [
  {
   "cell_type": "markdown",
   "metadata": {},
   "source": [
    "[百度单位转换](https://www.baidu.com/s?ie=utf-8&f=8&rsv_bp=0&rsv_idx=1&tn=baidu&wd=%E5%8D%95%E4%BD%8D%E6%8D%A2%E7%AE%97&rsv_pq=d6b803d70001c267&rsv_t=d345uYYKoQpN8h0id2nSfDbBOsp7do31iQSBVG3EG8%2F5k0%2B1%2BHOa5dpN6z8&rqlang=cn&rsv_enter=1&rsv_sug3=6&rsv_sug1=6&rsv_sug7=100)"
   ]
  },
  {
   "cell_type": "markdown",
   "metadata": {
    "run_control": {
     "frozen": false,
     "read_only": false
    }
   },
   "source": [
    "## 单位转换？\n"
   ]
  },
  {
   "cell_type": "markdown",
   "metadata": {
    "run_control": {
     "frozen": false,
     "read_only": false
    }
   },
   "source": [
    "```\n",
    "问题是什么                Problem\n",
    "我们有什么                Input\n",
    "我们想要得到什么           Output\n",
    "尝试最简单的方法           Simple Solution\n",
    "看看如何改进              Develop Incrementally\n",
    "```\n",
    "\n"
   ]
  },
  {
   "cell_type": "code",
   "execution_count": 2,
   "metadata": {},
   "outputs": [
    {
     "data": {
      "text/plain": [
       "100"
      ]
     },
     "execution_count": 2,
     "metadata": {},
     "output_type": "execute_result"
    }
   ],
   "source": [
    "cm = 100 * 1\n",
    "cm"
   ]
  },
  {
   "cell_type": "markdown",
   "metadata": {
    "run_control": {
     "frozen": false,
     "read_only": false
    }
   },
   "source": [
    "## 把cm 转换成 m\n",
    "1. input 是 cm\n",
    "2. 想要 output 是 m\n",
    "3. 要是0呢\n",
    "\n",
    "```\n",
    "def converter(value):\n",
    "    return converted_value\n",
    "```"
   ]
  },
  {
   "cell_type": "code",
   "execution_count": 3,
   "metadata": {
    "run_control": {
     "frozen": false,
     "read_only": false
    }
   },
   "outputs": [
    {
     "name": "stdout",
     "output_type": "stream",
     "text": [
      "0.1\n"
     ]
    }
   ],
   "source": [
    "length_cm = 10\n",
    "length_m  = length_cm / 100\n",
    "print(length_m)"
   ]
  },
  {
   "cell_type": "code",
   "execution_count": 5,
   "metadata": {
    "collapsed": true,
    "run_control": {
     "frozen": false,
     "read_only": false
    }
   },
   "outputs": [],
   "source": [
    "def converter(value):\n",
    "    converted_value  = value / 100\n",
    "    return converted_value\n",
    "\n",
    "def converter(value):\n",
    "    converted_value  = value * 0.3937\n",
    "    return converted_value"
   ]
  },
  {
   "cell_type": "code",
   "execution_count": 6,
   "metadata": {
    "run_control": {
     "frozen": false,
     "read_only": false
    },
    "scrolled": true
   },
   "outputs": [
    {
     "name": "stdout",
     "output_type": "stream",
     "text": [
      "0.1\n"
     ]
    }
   ],
   "source": [
    "print(converter(10))"
   ]
  },
  {
   "cell_type": "markdown",
   "metadata": {
    "run_control": {
     "frozen": false,
     "read_only": false
    }
   },
   "source": [
    "How about inches ?<br/>\n",
    "1 cm = 0.3937 inches"
   ]
  },
  {
   "cell_type": "code",
   "execution_count": 7,
   "metadata": {
    "collapsed": true,
    "run_control": {
     "frozen": false,
     "read_only": false
    }
   },
   "outputs": [],
   "source": [
    "def converter(value,to_unit=\"\"):\n",
    "    converted_value  = value * 0.3937\n",
    "    return converted_value"
   ]
  },
  {
   "cell_type": "code",
   "execution_count": 8,
   "metadata": {
    "run_control": {
     "frozen": false,
     "read_only": false
    }
   },
   "outputs": [
    {
     "name": "stdout",
     "output_type": "stream",
     "text": [
      "3.937\n"
     ]
    }
   ],
   "source": [
    "print(converter(10))"
   ]
  },
  {
   "cell_type": "markdown",
   "metadata": {
    "run_control": {
     "frozen": false,
     "read_only": false
    }
   },
   "source": [
    "### 稍微通用一些？"
   ]
  },
  {
   "cell_type": "code",
   "execution_count": 10,
   "metadata": {
    "collapsed": true,
    "run_control": {
     "frozen": false,
     "read_only": false
    }
   },
   "outputs": [],
   "source": [
    "def converter(value, to_unit='m'):\n",
    "    converted_value = 0\n",
    "    if to_unit == 'm':\n",
    "        converted_value = value / 100\n",
    "    else:\n",
    "        converted_value  = value * 0.3937\n",
    "    return converted_value"
   ]
  },
  {
   "cell_type": "code",
   "execution_count": 187,
   "metadata": {
    "run_control": {
     "frozen": false,
     "read_only": false
    }
   },
   "outputs": [
    {
     "name": "stdout",
     "output_type": "stream",
     "text": [
      "3.937\n"
     ]
    }
   ],
   "source": [
    "print(converter(10,'kg'))"
   ]
  },
  {
   "cell_type": "code",
   "execution_count": 16,
   "metadata": {
    "collapsed": true,
    "run_control": {
     "frozen": false,
     "read_only": false
    }
   },
   "outputs": [],
   "source": [
    "## improve the exception\n",
    "def converter(value,from_unit='cm',to_unit='m'):\n",
    "    converted_value = 0\n",
    "    if to_unit == 'm':\n",
    "        converted_value = value / 100\n",
    "    elif to_unit == 'in':\n",
    "        converted_value  = value * 0.3937\n",
    "    else:\n",
    "        print(\"Unknown Unit\")\n",
    "    return converted_value"
   ]
  },
  {
   "cell_type": "code",
   "execution_count": 20,
   "metadata": {
    "run_control": {
     "frozen": false,
     "read_only": false
    }
   },
   "outputs": [
    {
     "name": "stdout",
     "output_type": "stream",
     "text": [
      "Unknown Unit\n",
      "0\n"
     ]
    }
   ],
   "source": [
    "print(converter(10,'cm'))"
   ]
  },
  {
   "cell_type": "markdown",
   "metadata": {
    "run_control": {
     "frozen": false,
     "read_only": false
    }
   },
   "source": [
    "## 相互转换呢？"
   ]
  },
  {
   "cell_type": "code",
   "execution_count": 22,
   "metadata": {
    "run_control": {
     "frozen": false,
     "read_only": false
    }
   },
   "outputs": [
    {
     "name": "stdout",
     "output_type": "stream",
     "text": [
      "Unknown Unit Converter\n",
      "None\n"
     ]
    }
   ],
   "source": [
    " def converter(value, from_unit='cm',to_unit='m'):\n",
    "    converted_value = 0\n",
    "    if from_unit=='cm' and to_unit == 'm':\n",
    "        converted_value = value / 100\n",
    "    elif from_unit=='cm' and to_unit == 'in':\n",
    "        converted_value  = value * 0.3937\n",
    "    elif from_unit=='m' and to_unit == 'cm':\n",
    "        converted_value = value * 100\n",
    "    elif from_unit=='in' and to_unit == 'cm':\n",
    "        converted_value = value / 0.3937        \n",
    "    else:\n",
    "        print(\"Unknown Unit Converter\") \n",
    "        return None\n",
    "    return converted_value\n",
    "\n",
    "print(converter(10,'m','in'))"
   ]
  },
  {
   "cell_type": "markdown",
   "metadata": {
    "run_control": {
     "frozen": false,
     "read_only": false
    }
   },
   "source": [
    "### 感觉越来越累, try to make more general"
   ]
  },
  {
   "cell_type": "code",
   "execution_count": 27,
   "metadata": {
    "collapsed": true,
    "run_control": {
     "frozen": false,
     "read_only": false
    }
   },
   "outputs": [],
   "source": [
    "cm2m = lambda value :  value / 100\n",
    "cm2in = lambda value : value * 0.3937\n",
    "m2cm = lambda value :  value * 100\n",
    "in2cm = lambda value : value / 0.3937"
   ]
  },
  {
   "cell_type": "code",
   "execution_count": 28,
   "metadata": {
    "collapsed": true,
    "run_control": {
     "frozen": false,
     "read_only": false
    }
   },
   "outputs": [],
   "source": [
    "unit_converter={\n",
    "    'cm':{\n",
    "        'm':cm2m,\n",
    "        'in':cm2in},\n",
    "    'm':{\n",
    "        'cm':m2cm\n",
    "    },\n",
    "    'in':{\n",
    "        'cm':in2cm\n",
    "    }\n",
    "}"
   ]
  },
  {
   "cell_type": "code",
   "execution_count": 31,
   "metadata": {},
   "outputs": [
    {
     "data": {
      "text/plain": [
       "0.1"
      ]
     },
     "execution_count": 31,
     "metadata": {},
     "output_type": "execute_result"
    }
   ],
   "source": [
    "unit_converter['cm']['m'](10)"
   ]
  },
  {
   "cell_type": "code",
   "execution_count": 32,
   "metadata": {
    "run_control": {
     "frozen": false,
     "read_only": false
    }
   },
   "outputs": [
    {
     "name": "stdout",
     "output_type": "stream",
     "text": [
      "<function <lambda> at 0x000002587EB93268>\n"
     ]
    }
   ],
   "source": [
    "print(unit_converter['cm']['m'])"
   ]
  },
  {
   "cell_type": "code",
   "execution_count": 29,
   "metadata": {
    "run_control": {
     "frozen": false,
     "read_only": false
    }
   },
   "outputs": [
    {
     "data": {
      "text/plain": [
       "0.1"
      ]
     },
     "execution_count": 29,
     "metadata": {},
     "output_type": "execute_result"
    }
   ],
   "source": [
    "unit_converter['cm']['m'](10)"
   ]
  },
  {
   "cell_type": "code",
   "execution_count": 34,
   "metadata": {
    "run_control": {
     "frozen": false,
     "read_only": false
    }
   },
   "outputs": [
    {
     "name": "stdout",
     "output_type": "stream",
     "text": [
      "None\n"
     ]
    }
   ],
   "source": [
    " def converter(value, from_unit='cm',to_unit='m'):\n",
    "    cm2m = lambda value :  value / 100\n",
    "    m2cm = lambda value :  value * 100\n",
    "    cm2in = lambda value : value * 0.3937\n",
    "    in2cm = lambda value : value / 0.3937\n",
    "    unit_converter={\n",
    "        'cm':{\n",
    "            'm':cm2m,\n",
    "            'in':cm2in\n",
    "        },\n",
    "        'm':{\n",
    "            'cm':m2cm,\n",
    "            'in': lambda value : value * 39.37\n",
    "        },\n",
    "        'in':{\n",
    "            'cm':in2cm,\n",
    "            'm': lambda value : value / 39.37            \n",
    "        }\n",
    "    }        \n",
    "    try:\n",
    "        return unit_converter[from_unit][to_unit](value)\n",
    "    except:\n",
    "        return None \n",
    "    \n",
    "print(converter(1,'in','pm'))"
   ]
  },
  {
   "cell_type": "markdown",
   "metadata": {
    "run_control": {
     "frozen": false,
     "read_only": false
    }
   },
   "source": [
    "y = a * x\n",
    "\n",
    "1 m => 100 cm\n",
    "\n",
    "1 cm => 0.01 m\n",
    "1 m => 0.001 km\n",
    "\n",
    "1 m => 39.3700787 in\n",
    "\n",
    "cm => km\n",
    "\n",
    "km  => 1000\n",
    "m\n",
    "cm  => 0.01\n",
    "\n",
    "other* factor = m\n",
    "\n",
    "base / factor = other\n",
    "\n",
    "=> m => other\n",
    "\n"
   ]
  },
  {
   "cell_type": "markdown",
   "metadata": {
    "run_control": {
     "frozen": false,
     "read_only": false
    }
   },
   "source": [
    "- 面积，长度\n",
    "- 基础单位？ from_unit, to_unit, value, return value\n",
    "- unit * factor => base \n",
    "- base / factor => to_unit"
   ]
  },
  {
   "cell_type": "code",
   "execution_count": null,
   "metadata": {
    "collapsed": true,
    "run_control": {
     "frozen": false,
     "read_only": false
    }
   },
   "outputs": [],
   "source": [
    "def con(value, category,from_unit,to_unit):\n",
    "    \n",
    "    return converted_value"
   ]
  },
  {
   "cell_type": "markdown",
   "metadata": {
    "run_control": {
     "frozen": false,
     "read_only": false
    }
   },
   "source": [
    "### more general planning\n",
    "\n",
    "only consider about the way factor * or /\n",
    "\n",
    "1. from unit 转换成 base unit\n",
    "2. base unit 转换成 to unit"
   ]
  },
  {
   "cell_type": "code",
   "execution_count": 35,
   "metadata": {
    "run_control": {
     "frozen": false,
     "read_only": false
    }
   },
   "outputs": [
    {
     "ename": "SyntaxError",
     "evalue": "invalid syntax (<ipython-input-35-141902fe69b1>, line 8)",
     "output_type": "error",
     "traceback": [
      "\u001b[1;36m  File \u001b[1;32m\"<ipython-input-35-141902fe69b1>\"\u001b[1;36m, line \u001b[1;32m8\u001b[0m\n\u001b[1;33m    [[unit,factor],[unit2, factor2].....]\u001b[0m\n\u001b[1;37m                                     ^\u001b[0m\n\u001b[1;31mSyntaxError\u001b[0m\u001b[1;31m:\u001b[0m invalid syntax\n"
     ]
    }
   ],
   "source": [
    "sampe_units = [\n",
    "    ['m',1],['cm',0.01],['in',0.0254]\n",
    "]\n",
    "\n",
    "for unit in sampe_units[1:]:\n",
    "    print(unit[0])\n",
    "    \n",
    "[[unit,factor],[unit2, factor2].....]"
   ]
  },
  {
   "cell_type": "code",
   "execution_count": 36,
   "metadata": {
    "collapsed": true
   },
   "outputs": [],
   "source": [
    "sampe_units = [\n",
    "    ['m',1],['cm',0.01],['in',0.0254]\n",
    "]\n"
   ]
  },
  {
   "cell_type": "code",
   "execution_count": 42,
   "metadata": {},
   "outputs": [
    {
     "data": {
      "text/plain": [
       "3.9370078740157486"
      ]
     },
     "execution_count": 42,
     "metadata": {},
     "output_type": "execute_result"
    }
   ],
   "source": [
    "value_in_cm = 10\n",
    "\n",
    "10 * sampe_units[1][1] / sampe_units[2][1]"
   ]
  },
  {
   "cell_type": "code",
   "execution_count": 43,
   "metadata": {
    "run_control": {
     "frozen": false,
     "read_only": false
    }
   },
   "outputs": [
    {
     "name": "stdout",
     "output_type": "stream",
     "text": [
      "from base unit to to_unit  m\n",
      "10\n"
     ]
    }
   ],
   "source": [
    "def converter(value, from_unit='cm',to_unit='m'):\n",
    "    units = [['m',1],['cm',0.01],['in',0.0254]]\n",
    "\n",
    "    ## if base unit?\n",
    "    convert_value = None\n",
    "    found_two = 0\n",
    "    for unit in units:\n",
    "        if from_unit == unit[0]:\n",
    "            found_two +=1\n",
    "\n",
    "        if to_unit == unit[0]:\n",
    "            found_two +=1\n",
    "            \n",
    "    if found_two != 2:\n",
    "        print(\"check your from and to unit \", found_two)\n",
    "        return convert_value\n",
    "    \n",
    "    if from_unit != units[0][0]:\n",
    "        print(\"conver to base unit\")\n",
    "        for unit in units[1:]:\n",
    "            if from_unit == unit[0]:\n",
    "                print(\"fount unit \",unit[0])\n",
    "                convert_value = value * unit[1]\n",
    "                print(\"conver to unit \",units[0][0],\" value is \", convert_value)\n",
    "    else:   \n",
    "        convert_value = value\n",
    "        \n",
    "    if convert_value:\n",
    "        print(\"from base unit to to_unit \", to_unit)\n",
    "        if to_unit == units[0][0]:\n",
    "            return convert_value\n",
    "        \n",
    "        for unit in units[1:]:\n",
    "            if to_unit == unit[0]:\n",
    "                print(\"fount unit in to \", to_unit)\n",
    "                convert_value = convert_value / unit[1]\n",
    "\n",
    "    return convert_value\n",
    "        \n",
    "print(converter(10,'m','m'))"
   ]
  },
  {
   "cell_type": "code",
   "execution_count": 45,
   "metadata": {
    "code_folding": [],
    "run_control": {
     "frozen": false,
     "read_only": false
    }
   },
   "outputs": [
    {
     "name": "stdout",
     "output_type": "stream",
     "text": [
      "check your from and to unit  1\n",
      "None\n"
     ]
    }
   ],
   "source": [
    "def converter(value, category='length',from_unit='cm',to_unit='m'):\n",
    "    all_units = {'length':[['m',1],['cm',0.01],['in',0.0254]],\n",
    "                 'mass':[['kg',1],['g',0.001],['lb',0.4535924],['jin',0.5]],\n",
    "                 'volume':[['m3',1],['l',0.001],['cuyd',0.7645536]]\n",
    "            }\n",
    "\n",
    "    convert_value = None\n",
    "\n",
    "    if category in all_units.keys():\n",
    "        units = all_units[category]\n",
    "\n",
    "        \n",
    "        found_two = 0\n",
    "        for unit in units:\n",
    "            if from_unit == unit[0]:\n",
    "                found_two +=1\n",
    "\n",
    "            if to_unit == unit[0]:\n",
    "                found_two +=1\n",
    "\n",
    "        if found_two != 2:\n",
    "            print(\"check your from and to unit \", found_two)\n",
    "            return convert_value\n",
    "        \n",
    "        ## if base unit?\n",
    "        if from_unit != units[0][0]:\n",
    "            print(\"conver to base unit\")\n",
    "            for unit in units[1:]:\n",
    "                if from_unit == unit[0]:\n",
    "                    print(\"fount unit \",unit[0])\n",
    "                    convert_value = value * unit[1]\n",
    "                    print(\"conver to unit \",units[0][0],\" value is \", convert_value)\n",
    "        else:   \n",
    "            convert_value = value\n",
    "        \n",
    "        if convert_value:\n",
    "            print(\"from base unit to to_unit \", to_unit)\n",
    "            if to_unit == units[0][0]:\n",
    "                print(\"already base unit \", convert_value)\n",
    "                return convert_value\n",
    "\n",
    "            for unit in units[1:]:\n",
    "                if to_unit == unit[0]:\n",
    "                    print(\"fount unit in to \", to_unit)\n",
    "                    convert_value = convert_value / unit[1]\n",
    "\n",
    "    return convert_value\n",
    "        \n",
    "print(converter(10,'mass','g','kdg'))"
   ]
  }
 ],
 "metadata": {
  "kernelspec": {
   "display_name": "Python 3",
   "language": "python",
   "name": "python3"
  },
  "language_info": {
   "codemirror_mode": {
    "name": "ipython",
    "version": 3
   },
   "file_extension": ".py",
   "mimetype": "text/x-python",
   "name": "python",
   "nbconvert_exporter": "python",
   "pygments_lexer": "ipython3",
   "version": "3.6.3"
  }
 },
 "nbformat": 4,
 "nbformat_minor": 2
}
