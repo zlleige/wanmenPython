{
 "cells": [
  {
   "cell_type": "markdown",
   "metadata": {
    "run_control": {
     "frozen": false,
     "read_only": false
    }
   },
   "source": [
    "# Advanced Python\n",
    "\n",
    "In this notebook, you will learn the following things:\n",
    "\n",
    "- Object Oriented Programming\n",
    "- Abstract Data Structure\n",
    "    - Queue\n",
    "    - Stack\n",
    "    - Linked List\n",
    "    - Tree\n",
    "\n",
    "## What are Object\n",
    "\n",
    "*Everything in Python is an object, from numbers to modules.*\n",
    "\n",
    "However, Python hides most of the object machinery by menas of special syntax. You can type `num = 7` to create a object of type *integer* with value 7, and assign an object reference to the name `num`. \n",
    "\n",
    "The only time you need to look inside objects is when you want to make your own or modify the behavior of existing objects.\n",
    "\n",
    "An object contains:\n",
    "\n",
    "1. data (vairbales, called *attributes*)\n",
    "2. code (functions, called *methods*)\n",
    "\n",
    "It represents a unique instance of some concerete thing.\n",
    "\n",
    "> Think of objects as nouns and their methods as verbs.\n",
    "\n",
    "## Define Class with `class`\n",
    "\n",
    "If an object is like a box, then a **class** is like the mold that makes the box."
   ]
  },
  {
   "cell_type": "code",
   "execution_count": null,
   "metadata": {
    "collapsed": true,
    "run_control": {
     "frozen": false,
     "read_only": false
    }
   },
   "outputs": [],
   "source": [
    "class Person():\n",
    "    pass\n",
    "\n",
    "someone = Person()\n",
    "type(someone)"
   ]
  },
  {
   "cell_type": "code",
   "execution_count": null,
   "metadata": {
    "collapsed": true,
    "run_control": {
     "frozen": false,
     "read_only": false
    }
   },
   "outputs": [],
   "source": [
    "a = int()\n",
    "type(a)"
   ]
  },
  {
   "cell_type": "code",
   "execution_count": null,
   "metadata": {
    "collapsed": true,
    "run_control": {
     "frozen": false,
     "read_only": false
    }
   },
   "outputs": [],
   "source": [
    "class Person():\n",
    "    def __init__(self): # Self refers to the infividual object itself\n",
    "        pass\n",
    "\n",
    "someone = Person()"
   ]
  },
  {
   "cell_type": "code",
   "execution_count": null,
   "metadata": {
    "collapsed": true,
    "run_control": {
     "frozen": false,
     "read_only": false
    }
   },
   "outputs": [],
   "source": [
    "class Person():\n",
    "    def __init__(self, name, gender): # The first parameter has to be self\n",
    "        self.name = name\n",
    "        self.gender = gender\n",
    "\n",
    "ed = Person('Edward', 'Male')"
   ]
  },
  {
   "cell_type": "markdown",
   "metadata": {
    "run_control": {
     "frozen": false,
     "read_only": false
    }
   },
   "source": [
    "Behind the scene:\n",
    "\n",
    "- Look up the definition of `Person` class\n",
    "- Create a new object in memory\n",
    "- Call the `__init__` method, passing the newly-created object as `self` and the others as `name` and `gender`\n",
    "- Store the value of `name` and `gender` in the object\n",
    "- Return the new object\n",
    "- Attach the name `ed` to the object"
   ]
  },
  {
   "cell_type": "code",
   "execution_count": null,
   "metadata": {
    "collapsed": true,
    "run_control": {
     "frozen": false,
     "read_only": false
    }
   },
   "outputs": [],
   "source": [
    "print('Name:', ed.name)\n",
    "print('Gender:', ed.gender)"
   ]
  },
  {
   "cell_type": "code",
   "execution_count": null,
   "metadata": {
    "collapsed": true,
    "run_control": {
     "frozen": false,
     "read_only": false
    }
   },
   "outputs": [],
   "source": [
    "class Person():\n",
    "    def __init__(self, name, gender): # The first parameter has to be self\n",
    "        self.name = name\n",
    "        self.gender = gender\n",
    "    \n",
    "    def say(self):\n",
    "        print(\"Hi I'm \" + self.name + \", it's nice to meet you!\")\n",
    "\n",
    "ed = Person('Edward', 'Male')\n",
    "ed.say()"
   ]
  },
  {
   "cell_type": "markdown",
   "metadata": {
    "run_control": {
     "frozen": false,
     "read_only": false
    }
   },
   "source": [
    "## Inheritance\n",
    "\n",
    "Create a new class from an existing class but with some additions or changes (When x *is a* y)."
   ]
  },
  {
   "cell_type": "code",
   "execution_count": null,
   "metadata": {
    "collapsed": true,
    "run_control": {
     "frozen": false,
     "read_only": false
    }
   },
   "outputs": [],
   "source": [
    "class MDPerson(Person):\n",
    "    pass\n",
    "\n",
    "ed = MDPerson(\"Edward\", 'Male')\n",
    "ed.say()"
   ]
  },
  {
   "cell_type": "code",
   "execution_count": null,
   "metadata": {
    "collapsed": true,
    "run_control": {
     "frozen": false,
     "read_only": false
    }
   },
   "outputs": [],
   "source": [
    "class MDPerson(Person):\n",
    "    def diagnose(self):\n",
    "        print('You need some treatment.')\n",
    "\n",
    "ed = MDPerson(\"Edward\", 'Male')\n",
    "ed.diagnose()"
   ]
  },
  {
   "cell_type": "code",
   "execution_count": null,
   "metadata": {
    "collapsed": true,
    "run_control": {
     "frozen": false,
     "read_only": false
    }
   },
   "outputs": [],
   "source": [
    "someone = Person('Someone', 'NA')\n",
    "someone.diagnose()"
   ]
  },
  {
   "cell_type": "code",
   "execution_count": null,
   "metadata": {
    "collapsed": true,
    "run_control": {
     "frozen": false,
     "read_only": false
    }
   },
   "outputs": [],
   "source": [
    "class MDPerson(Person):\n",
    "    def __init__(self, name, gender, dept='Cardiac Surgery'):\n",
    "        self.name = 'Doctor ' + name\n",
    "        self.gender = gender\n",
    "        self.dept = dept\n",
    "    \n",
    "    def say(self):\n",
    "        print(\"Hi I'm %s from %s department, how can I help you\" % (self.name, self.dept))\n",
    "\n",
    "ed = MDPerson(\"Edward\", 'Male')\n",
    "ed.say()"
   ]
  },
  {
   "cell_type": "markdown",
   "metadata": {
    "run_control": {
     "frozen": false,
     "read_only": false
    }
   },
   "source": [
    "## Get Help from Your Parent with `super`"
   ]
  },
  {
   "cell_type": "code",
   "execution_count": null,
   "metadata": {
    "collapsed": true,
    "run_control": {
     "frozen": false,
     "read_only": false
    }
   },
   "outputs": [],
   "source": [
    "class MDPerson(Person):\n",
    "    def __init__(self, name, gender, dept='Cardiac Surgery'):\n",
    "        super().__init__(name, gender)\n",
    "        self.name = 'Doctor ' + self.name\n",
    "        self.dept = dept\n",
    "        \n",
    "    def say(self):\n",
    "        print(\"Hi I'm %s from %s department, how can I help you\" % (self.name, self.dept))  \n",
    "        \n",
    "ed = MDPerson(\"Edward\", 'Male')\n",
    "ed.say()"
   ]
  },
  {
   "cell_type": "markdown",
   "metadata": {
    "run_control": {
     "frozen": false,
     "read_only": false
    }
   },
   "source": [
    "If the definition of `Person` changes in the future, using `super()` will ensure that the attributes and methods that `MDPerson` inherits from `Person` will reflect the change.\n",
    "\n",
    "## In self Defense\n",
    "\n",
    "Python uses the `self` argument to find the right object's attributes and method."
   ]
  },
  {
   "cell_type": "code",
   "execution_count": null,
   "metadata": {
    "collapsed": true,
    "run_control": {
     "frozen": false,
     "read_only": false
    }
   },
   "outputs": [],
   "source": [
    "ed = Person('Edward', 'Male')\n",
    "ed.say()"
   ]
  },
  {
   "cell_type": "markdown",
   "metadata": {
    "run_control": {
     "frozen": false,
     "read_only": false
    }
   },
   "source": [
    "Behind the scene:\n",
    "\n",
    "- Loop up the class (`Person`) of the object `ed`\n",
    "- Pass the object `ed` to the `say()` method of the `Person` class as the self parameter."
   ]
  },
  {
   "cell_type": "code",
   "execution_count": null,
   "metadata": {
    "collapsed": true,
    "run_control": {
     "frozen": false,
     "read_only": false
    }
   },
   "outputs": [],
   "source": [
    "Person.say(ed)"
   ]
  },
  {
   "cell_type": "markdown",
   "metadata": {
    "run_control": {
     "frozen": false,
     "read_only": false
    }
   },
   "source": [
    "## Properties\n",
    "\n",
    "Python doesn't need getters and setters, because all attributes and method are *public*.\n",
    "\n",
    "If you do need to protect your data somehow, use *properties* -- Pythonic getters and setters."
   ]
  },
  {
   "cell_type": "code",
   "execution_count": null,
   "metadata": {
    "collapsed": true,
    "run_control": {
     "frozen": false,
     "read_only": false
    }
   },
   "outputs": [],
   "source": [
    "class Person():\n",
    "    def __init__(self, input_name):\n",
    "        self.hidden_name = input_name\n",
    "        \n",
    "    def get_name(self):\n",
    "        print('Inside getter')\n",
    "        return self.hidden_name\n",
    "    \n",
    "    def set_name(self, input_name):\n",
    "        print('Inside setter')\n",
    "        self.hidden_name = input_name\n",
    "    \n",
    "    name = property(get_name, set_name)"
   ]
  },
  {
   "cell_type": "code",
   "execution_count": null,
   "metadata": {
    "collapsed": true,
    "run_control": {
     "frozen": false,
     "read_only": false
    }
   },
   "outputs": [],
   "source": [
    "someone = Person('Edward')\n",
    "someone.name"
   ]
  },
  {
   "cell_type": "code",
   "execution_count": null,
   "metadata": {
    "collapsed": true,
    "run_control": {
     "frozen": false,
     "read_only": false
    }
   },
   "outputs": [],
   "source": [
    "someone.name = 'Ed'"
   ]
  },
  {
   "cell_type": "code",
   "execution_count": null,
   "metadata": {
    "collapsed": true,
    "run_control": {
     "frozen": false,
     "read_only": false
    }
   },
   "outputs": [],
   "source": [
    "class Person():\n",
    "    def __init__(self, input_name):\n",
    "        self.hidden_name = input_name\n",
    "    \n",
    "    @property\n",
    "    def name(self):\n",
    "        print('Inside getter')\n",
    "        return self.hidden_name\n",
    "    \n",
    "    @name.setter\n",
    "    def name(self, input_name):\n",
    "        print('Inside setter')\n",
    "        self.hidden_name = input_name"
   ]
  },
  {
   "cell_type": "code",
   "execution_count": null,
   "metadata": {
    "collapsed": true,
    "run_control": {
     "frozen": false,
     "read_only": false
    }
   },
   "outputs": [],
   "source": [
    "someone = Person('Edward')\n",
    "someone.name"
   ]
  },
  {
   "cell_type": "code",
   "execution_count": null,
   "metadata": {
    "collapsed": true,
    "run_control": {
     "frozen": false,
     "read_only": false
    }
   },
   "outputs": [],
   "source": [
    "someone.name = 'Ed'"
   ]
  },
  {
   "cell_type": "code",
   "execution_count": null,
   "metadata": {
    "collapsed": true,
    "run_control": {
     "frozen": false,
     "read_only": false
    }
   },
   "outputs": [],
   "source": [
    "class Person():\n",
    "    def __init__(self, input_name):\n",
    "        self.hidden_name = input_name\n",
    "    \n",
    "    @property\n",
    "    def name(self):\n",
    "        print('Inside getter')\n",
    "        return self.hidden_name"
   ]
  },
  {
   "cell_type": "code",
   "execution_count": null,
   "metadata": {
    "collapsed": true,
    "run_control": {
     "frozen": false,
     "read_only": false
    }
   },
   "outputs": [],
   "source": [
    "someone = Person('Edward')\n",
    "someone.name = 'Ed'"
   ]
  },
  {
   "cell_type": "code",
   "execution_count": null,
   "metadata": {
    "collapsed": true,
    "run_control": {
     "frozen": false,
     "read_only": false
    }
   },
   "outputs": [],
   "source": [
    "class Circle():\n",
    "    def __init__(self, radius):\n",
    "        self.radius = radius\n",
    "    \n",
    "    @property\n",
    "    def diameter(self):\n",
    "        return 2 * self.radius"
   ]
  },
  {
   "cell_type": "code",
   "execution_count": null,
   "metadata": {
    "collapsed": true,
    "run_control": {
     "frozen": false,
     "read_only": false
    }
   },
   "outputs": [],
   "source": [
    "c = Circle(5)\n",
    "print('radius = %d, diameter = %d' % (c.radius, c.diameter))"
   ]
  },
  {
   "cell_type": "code",
   "execution_count": null,
   "metadata": {
    "collapsed": true,
    "run_control": {
     "frozen": false,
     "read_only": false
    }
   },
   "outputs": [],
   "source": [
    "c.radius = 7\n",
    "c.diameter"
   ]
  },
  {
   "cell_type": "markdown",
   "metadata": {
    "run_control": {
     "frozen": false,
     "read_only": false
    }
   },
   "source": [
    "## Name Mangling for Privacy\n",
    "\n",
    "Python has a naming convention for attributes that should not be visible outside of their class definition: begin by using with two underscores (`__`)"
   ]
  },
  {
   "cell_type": "code",
   "execution_count": null,
   "metadata": {
    "collapsed": true,
    "run_control": {
     "frozen": false,
     "read_only": false
    }
   },
   "outputs": [],
   "source": [
    "class Person():\n",
    "    def __init__(self, input_name):\n",
    "        self.hidden_name = input_name\n",
    "    \n",
    "    @property\n",
    "    def name(self):\n",
    "        print('Inside getter')\n",
    "        return self.hidden_name\n",
    "    \n",
    "    @name.setter\n",
    "    def name(self, input_name):\n",
    "        print('Inside setter')\n",
    "        self.hidden_name = input_name"
   ]
  },
  {
   "cell_type": "code",
   "execution_count": null,
   "metadata": {
    "collapsed": true,
    "run_control": {
     "frozen": false,
     "read_only": false
    }
   },
   "outputs": [],
   "source": [
    "someone = Person('Edward')\n",
    "someone.name"
   ]
  },
  {
   "cell_type": "code",
   "execution_count": null,
   "metadata": {
    "collapsed": true,
    "run_control": {
     "frozen": false,
     "read_only": false
    }
   },
   "outputs": [],
   "source": [
    "someone.hidden_name"
   ]
  },
  {
   "cell_type": "code",
   "execution_count": null,
   "metadata": {
    "collapsed": true,
    "run_control": {
     "frozen": false,
     "read_only": false
    }
   },
   "outputs": [],
   "source": [
    "class Person():\n",
    "    def __init__(self, input_name):\n",
    "        self.__name = input_name\n",
    "    \n",
    "    @property\n",
    "    def name(self):\n",
    "        print('Inside getter')\n",
    "        return self.__name\n",
    "    \n",
    "    @name.setter\n",
    "    def name(self, input_name):\n",
    "        print('Inside setter')\n",
    "        self.__name = input_name"
   ]
  },
  {
   "cell_type": "code",
   "execution_count": null,
   "metadata": {
    "collapsed": true,
    "run_control": {
     "frozen": false,
     "read_only": false
    }
   },
   "outputs": [],
   "source": [
    "someone = Person('Edward')\n",
    "someone.name"
   ]
  },
  {
   "cell_type": "code",
   "execution_count": null,
   "metadata": {
    "collapsed": true,
    "run_control": {
     "frozen": false,
     "read_only": false
    }
   },
   "outputs": [],
   "source": [
    "someone.name = 'Ed'"
   ]
  },
  {
   "cell_type": "code",
   "execution_count": null,
   "metadata": {
    "collapsed": true,
    "run_control": {
     "frozen": false,
     "read_only": false
    }
   },
   "outputs": [],
   "source": [
    "someone.__name"
   ]
  },
  {
   "cell_type": "code",
   "execution_count": null,
   "metadata": {
    "collapsed": true,
    "run_control": {
     "frozen": false,
     "read_only": false
    }
   },
   "outputs": [],
   "source": [
    "someone._Person__name"
   ]
  },
  {
   "cell_type": "markdown",
   "metadata": {
    "run_control": {
     "frozen": false,
     "read_only": false
    }
   },
   "source": [
    "## Method Types\n",
    "\n",
    "Some data (*attributes*) and functions (*methods*) are part of the **class** itself, and some are part of the **objects** that are created from that class.\n",
    "\n",
    "1. When you see an initial `self` argument in a method, it's an **instance method**. \n",
    "2. In contrast, a **class method** affects the class as a whole.\n",
    "3. A third type of method affects neither the class nor its objects, it's just in there for convenience instead of floating around on its own. It's a **static method**"
   ]
  },
  {
   "cell_type": "code",
   "execution_count": null,
   "metadata": {
    "collapsed": true,
    "run_control": {
     "frozen": false,
     "read_only": false
    }
   },
   "outputs": [],
   "source": [
    "class A():\n",
    "    cnt = 0 # Belong to class\n",
    "    \n",
    "    def __init__(self):\n",
    "        A.count += 1\n",
    "    \n",
    "    @classmethod\n",
    "    def kids(cls):\n",
    "        print(\"A has\", cls.count, \"little objects\")"
   ]
  },
  {
   "cell_type": "markdown",
   "metadata": {
    "run_control": {
     "frozen": false,
     "read_only": false
    }
   },
   "source": [
    "The first parameter `cls` is the class itself. The Python tradition is to call the parameter `cls` since `class` is a reserved keyword."
   ]
  },
  {
   "cell_type": "code",
   "execution_count": null,
   "metadata": {
    "collapsed": true,
    "run_control": {
     "frozen": false,
     "read_only": false
    }
   },
   "outputs": [],
   "source": [
    "class A():\n",
    "    cnt = 0 # Belong to class\n",
    "    \n",
    "    def __init__(self):\n",
    "        A.count += 1\n",
    "    \n",
    "    @classmethod\n",
    "    def kids(cls):\n",
    "        print(\"A has\", cls.count, \"little objects\")\n",
    "        \n",
    "    @staticmethod\n",
    "    def whoami():\n",
    "        print(\"I'm just a static method. You need to call my by class since I don't have self argument\")\n",
    "\n",
    "A.whoami()"
   ]
  },
  {
   "cell_type": "markdown",
   "metadata": {
    "run_control": {
     "frozen": false,
     "read_only": false
    }
   },
   "source": [
    "## Duck Typing"
   ]
  },
  {
   "cell_type": "markdown",
   "metadata": {
    "run_control": {
     "frozen": false,
     "read_only": false
    }
   },
   "source": [
    "Python has a loose implementation of *polymorphism*, this means that it applies the same operation to different objects, regardless of their class.\n",
    "\n",
    "> Again, this is part of EAFP design pattern. Python will also assume an object has such method and try to call it. It will throw exception if method is not found."
   ]
  },
  {
   "cell_type": "code",
   "execution_count": null,
   "metadata": {
    "collapsed": true,
    "run_control": {
     "frozen": false,
     "read_only": false
    }
   },
   "outputs": [],
   "source": [
    "class Quote():\n",
    "    def __init__(self, person, words):\n",
    "        self.person = person\n",
    "        self.words = words\n",
    "    def who(self):\n",
    "        return self.person\n",
    "    def says(self):\n",
    "        return self.words + '.'\n",
    "\n",
    "class QuestionQuote(Quote):\n",
    "    def says(self):\n",
    "        return self.words + '?'\n",
    "\n",
    "class ExclamationQuote(Quote):\n",
    "    def says(self):\n",
    "        return self.words + '!'"
   ]
  },
  {
   "cell_type": "code",
   "execution_count": null,
   "metadata": {
    "collapsed": true,
    "run_control": {
     "frozen": false,
     "read_only": false
    }
   },
   "outputs": [],
   "source": [
    "def who_says(obj):\n",
    "    print(obj.who(), 'says:', obj.says())"
   ]
  },
  {
   "cell_type": "code",
   "execution_count": null,
   "metadata": {
    "collapsed": true,
    "run_control": {
     "frozen": false,
     "read_only": false
    }
   },
   "outputs": [],
   "source": [
    "q1 = Quote('Ed', 'Normal quote')\n",
    "q2 = QuestionQuote('Ed', 'Question quote')\n",
    "q3 = ExclamationQuote('Ed', 'Exclamation quote')\n",
    "\n",
    "quotes = [q1, q2, q3]"
   ]
  },
  {
   "cell_type": "code",
   "execution_count": null,
   "metadata": {
    "collapsed": true,
    "run_control": {
     "frozen": false,
     "read_only": false
    }
   },
   "outputs": [],
   "source": [
    "for q in quotes:\n",
    "    who_says(q)"
   ]
  },
  {
   "cell_type": "code",
   "execution_count": null,
   "metadata": {
    "collapsed": true,
    "run_control": {
     "frozen": false,
     "read_only": false
    }
   },
   "outputs": [],
   "source": [
    "class Ed():\n",
    "    def who(self):\n",
    "        return 'Ed'\n",
    "    def says(self):\n",
    "        return \"Hi I'm Edward :)\""
   ]
  },
  {
   "cell_type": "code",
   "execution_count": null,
   "metadata": {
    "collapsed": true,
    "run_control": {
     "frozen": false,
     "read_only": false
    }
   },
   "outputs": [],
   "source": [
    "ed = Ed()\n",
    "who_says(ed)"
   ]
  },
  {
   "cell_type": "code",
   "execution_count": null,
   "metadata": {
    "collapsed": true,
    "run_control": {
     "frozen": false,
     "read_only": false
    }
   },
   "outputs": [],
   "source": [
    "print(1, 'b', True, 12.3)"
   ]
  },
  {
   "cell_type": "markdown",
   "metadata": {
    "run_control": {
     "frozen": false,
     "read_only": false
    }
   },
   "source": [
    "> If it walks like a duck and quacks like a duck, it's a duck.\n",
    "\n",
    "## Special Methods\n",
    "\n",
    "When you type somthing like `a = 3 + 8`, you may wonder how do the integer objects know how to implement `+`. Also, how to use `=` to get the result? These operators are using Python's *special methods* (aka *magic methods*).\n",
    "\n",
    "The names of these special methods all begin and end with double underscores (`__`), just like `__init__`.\n",
    "\n",
    "**Task**: Write a Word class that can compare words case insensitive."
   ]
  },
  {
   "cell_type": "code",
   "execution_count": null,
   "metadata": {
    "collapsed": true,
    "run_control": {
     "frozen": false,
     "read_only": false
    }
   },
   "outputs": [],
   "source": [
    "class Word():\n",
    "    def __init__(self, text):\n",
    "        self.text = text\n",
    "    def equals(self, word2):\n",
    "        return self.text.lower() == word2.text.lower()"
   ]
  },
  {
   "cell_type": "code",
   "execution_count": null,
   "metadata": {
    "collapsed": true,
    "run_control": {
     "frozen": false,
     "read_only": false
    }
   },
   "outputs": [],
   "source": [
    "w1 = Word('Test')\n",
    "w2 = Word('test')\n",
    "w3 = Word('Tes')\n",
    "\n",
    "print(w1.equals(w2))\n",
    "print(w1.equals(w3))"
   ]
  },
  {
   "cell_type": "markdown",
   "metadata": {
    "run_control": {
     "frozen": false,
     "read_only": false
    }
   },
   "source": [
    "It would be greate if we can simply write something like `w1 == w2` to compare."
   ]
  },
  {
   "cell_type": "code",
   "execution_count": null,
   "metadata": {
    "collapsed": true,
    "run_control": {
     "frozen": false,
     "read_only": false
    }
   },
   "outputs": [],
   "source": [
    "class Word():\n",
    "    def __init__(self, text):\n",
    "        self.text = text\n",
    "    def __eq__(self, word2):\n",
    "        return self.text.lower() == word2.text.lower()"
   ]
  },
  {
   "cell_type": "code",
   "execution_count": null,
   "metadata": {
    "collapsed": true,
    "run_control": {
     "frozen": false,
     "read_only": false
    }
   },
   "outputs": [],
   "source": [
    "w1 = Word('Test')\n",
    "w2 = Word('test')\n",
    "w3 = Word('Tes')\n",
    "\n",
    "print(w1 == w2)\n",
    "print(w1 == w3)"
   ]
  },
  {
   "cell_type": "markdown",
   "metadata": {
    "run_control": {
     "frozen": false,
     "read_only": false
    }
   },
   "source": [
    "Magic methods for comparison:\n",
    "\n",
    "- `__eq__`:`==` \n",
    "- `__ne__`: `!=` \n",
    "- `__lt__`: `<` \n",
    "- `__gt__`: `>` \n",
    "- `__le__`: `<=` \n",
    "- `__ge__`: `>=` \n",
    "\n",
    "Magic methods for numbers:\n",
    "\n",
    "- `__add__`: `+`\n",
    "- `__sub__`: `-`\n",
    "- `__mul__`: `*`\n",
    "- `__floordiv__`: `//`\n",
    "- `__truediv__`: `/`\n",
    "- `__mod__`: `%`\n",
    "- `__pow__`: `**`"
   ]
  },
  {
   "cell_type": "code",
   "execution_count": null,
   "metadata": {
    "collapsed": true,
    "run_control": {
     "frozen": false,
     "read_only": false
    }
   },
   "outputs": [],
   "source": [
    "'abc' + 'def'"
   ]
  },
  {
   "cell_type": "markdown",
   "metadata": {
    "run_control": {
     "frozen": false,
     "read_only": false
    }
   },
   "source": [
    "Ohter usefule magic methods:\n",
    "\n",
    "- `__str__`: `str(self)`\n",
    "- `__repr__`: `repr(self)`\n",
    "- `__len__`: `len(self)`"
   ]
  },
  {
   "cell_type": "code",
   "execution_count": null,
   "metadata": {
    "collapsed": true,
    "run_control": {
     "frozen": false,
     "read_only": false
    }
   },
   "outputs": [],
   "source": [
    "w = Word('word')\n",
    "print(w)"
   ]
  },
  {
   "cell_type": "code",
   "execution_count": null,
   "metadata": {
    "collapsed": true,
    "run_control": {
     "frozen": false,
     "read_only": false
    }
   },
   "outputs": [],
   "source": [
    "str(w)"
   ]
  },
  {
   "cell_type": "code",
   "execution_count": null,
   "metadata": {
    "collapsed": true,
    "run_control": {
     "frozen": false,
     "read_only": false
    }
   },
   "outputs": [],
   "source": [
    "class Word():\n",
    "    def __init__(self, text):\n",
    "        self.text = text\n",
    "    def __eq__(self, word2):\n",
    "        return self.text.lower() == word2.text.lower()\n",
    "    def __str__(self):\n",
    "        return self.text"
   ]
  },
  {
   "cell_type": "code",
   "execution_count": null,
   "metadata": {
    "collapsed": true,
    "run_control": {
     "frozen": false,
     "read_only": false
    }
   },
   "outputs": [],
   "source": [
    "w = Word('word')\n",
    "print(w)"
   ]
  },
  {
   "cell_type": "code",
   "execution_count": null,
   "metadata": {
    "collapsed": true,
    "run_control": {
     "frozen": false,
     "read_only": false
    }
   },
   "outputs": [],
   "source": [
    "w"
   ]
  },
  {
   "cell_type": "code",
   "execution_count": null,
   "metadata": {
    "collapsed": true,
    "run_control": {
     "frozen": false,
     "read_only": false
    }
   },
   "outputs": [],
   "source": [
    "class Word():\n",
    "    def __init__(self, text):\n",
    "        self.text = text\n",
    "    def __eq__(self, word2):\n",
    "        return self.text.lower() == word2.text.lower()\n",
    "    def __str__(self):\n",
    "        return self.text\n",
    "    def __repr__(self):\n",
    "        return \"Word('\" + self.text + \"')\""
   ]
  },
  {
   "cell_type": "code",
   "execution_count": null,
   "metadata": {
    "collapsed": true,
    "run_control": {
     "frozen": false,
     "read_only": false
    }
   },
   "outputs": [],
   "source": [
    "w = Word('word')\n",
    "w"
   ]
  },
  {
   "cell_type": "markdown",
   "metadata": {
    "run_control": {
     "frozen": false,
     "read_only": false
    }
   },
   "source": [
    "## Composition\n",
    "\n",
    "Create a new class by using existing class as attributes (when x *has-a* y)."
   ]
  },
  {
   "cell_type": "code",
   "execution_count": null,
   "metadata": {
    "collapsed": true,
    "run_control": {
     "frozen": false,
     "read_only": false
    }
   },
   "outputs": [],
   "source": [
    "class Tire():\n",
    "    pass\n",
    "\n",
    "class Car():\n",
    "    def __init__(self):\n",
    "        self.left_front_tire = Tire()\n",
    "        self.right_front_tire = Tire()\n",
    "        self.left_rear_tire = Tire()\n",
    "        self.right_rear_tire = Tire()\n",
    "\n",
    "car = Car()\n",
    "type(car.left_front_tire)"
   ]
  },
  {
   "cell_type": "markdown",
   "metadata": {
    "run_control": {
     "frozen": false,
     "read_only": false
    }
   },
   "source": [
    "## Classes VS Modules\n",
    "\n",
    "Class:\n",
    "\n",
    "- When you need a number of individual instances that have *similar behaviors (methods)* but differ in their *internal states (attributes)* \n",
    "\n",
    "- When you need inheritance\n",
    "\n",
    "Modules:\n",
    "\n",
    "- When yo uneed only one copy of something. You may use modules as Python *singleton*.\n",
    "\n",
    "\n",
    "> Use simplest solution, don't over engineering."
   ]
  },
  {
   "cell_type": "markdown",
   "metadata": {
    "run_control": {
     "frozen": false,
     "read_only": false
    }
   },
   "source": [
    "## Abstract Data Types\n",
    "\n",
    "- Queue\n",
    "- Stack\n",
    "- Linked List\n",
    "- Tree\n",
    "\n",
    "### Stack\n",
    "\n",
    "Example: Infix to Prefix\n",
    "\n",
    "1. Scan the infix input string/stream left to right\n",
    "2. If the current input token is an **operand**, append it to the output string\n",
    "3. If the current input token is an **operator**, pop off all operators that have *equal or higher precedence* and append them to the output string; push the operator onto the stack.\n",
    "4. If the current input token is `(`, push it onto the stack\n",
    "5. If the current input token is `)`, pop off all operators and append them to the output string until a `(` is popped; discard the `(`.\n",
    "6. If the end of the input string is found, pop all operators and append them to the output string.\n",
    "\n",
    "Example 2: Prefix Evaluation\n",
    "\n",
    "1. Scan the expression left to right\n",
    "2. If operand, push it into stack\n",
    "3. When an operator is found, apply the operation to the preceding two operands\n",
    "4. Replace the two operands and operator with the calculated value (three symbols are replaced with one operand)\n",
    "5. Continue scanning until only a value remains--the result of the expression\n",
    "\n",
    "### Linked List (Unordered)\n",
    "\n",
    "List of operations a link list should supported:\n",
    "\n",
    "1. Initialize (empty/from list)\n",
    "2. `isEmpty`\n",
    "3. `add(val)`\n",
    "4. `remove(val)`\n",
    "5. `__str__`\n",
    "6. `__repr__`\n",
    "7. `index`\n",
    "8. `in`\n",
    "9. `insert(idx, val)`\n",
    "10. `len`\n",
    "\n",
    "(Code to be completed in class)"
   ]
  },
  {
   "cell_type": "code",
   "execution_count": null,
   "metadata": {
    "collapsed": true,
    "run_control": {
     "frozen": false,
     "read_only": false
    }
   },
   "outputs": [],
   "source": [
    "class Node:\n",
    "    pass"
   ]
  },
  {
   "cell_type": "code",
   "execution_count": null,
   "metadata": {
    "collapsed": true,
    "run_control": {
     "frozen": false,
     "read_only": false
    }
   },
   "outputs": [],
   "source": [
    "class LinkedList():\n",
    "    pass"
   ]
  }
 ],
 "metadata": {
  "kernelspec": {
   "display_name": "Python 3",
   "language": "python",
   "name": "python3"
  },
  "language_info": {
   "codemirror_mode": {
    "name": "ipython",
    "version": 3
   },
   "file_extension": ".py",
   "mimetype": "text/x-python",
   "name": "python",
   "nbconvert_exporter": "python",
   "pygments_lexer": "ipython3",
   "version": "3.6.0"
  }
 },
 "nbformat": 4,
 "nbformat_minor": 2
}
