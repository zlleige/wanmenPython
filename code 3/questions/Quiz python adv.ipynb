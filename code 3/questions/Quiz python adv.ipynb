{
 "cells": [
  {
   "cell_type": "markdown",
   "metadata": {
    "run_control": {
     "frozen": false,
     "read_only": false
    }
   },
   "source": [
    "### 动手编程"
   ]
  },
  {
   "cell_type": "markdown",
   "metadata": {
    "run_control": {
     "frozen": false,
     "read_only": false
    }
   },
   "source": [
    "### 生成多个邮件\n",
    "我们想统一发送多封邮件，我们有一个姓名列表，一个邮件主题，我们想通过程序为每一个人生成一个邮件。"
   ]
  },
  {
   "cell_type": "code",
   "execution_count": null,
   "metadata": {
    "collapsed": true,
    "run_control": {
     "frozen": false,
     "read_only": false
    }
   },
   "outputs": [],
   "source": [
    "# Python program to mail merger\n",
    "# Names are in the file names.txt\n",
    "# Body of the mail is in body.txt\n",
    "\n",
    "# open names.txt for reading\n"
   ]
  },
  {
   "cell_type": "markdown",
   "metadata": {
    "run_control": {
     "frozen": false,
     "read_only": false
    }
   },
   "source": [
    "我们有图像文件一枚\n",
    "<img src=\"微信二维码_Beijing.jpeg\" width= 200px/>\n",
    "格式jpeg,大多数的文件头部保存有文件信息，例如jpeg文件头有 长、高信息，颜色，灰阶等。<br/>\n",
    "不用任何现成的库，我们获取图像文件jpeg的长宽信息<br/>\n",
    "注意，高 信息在 第164为开始，2字节<br/>\n",
    "宽信息是之后两字节<br/>\n"
   ]
  },
  {
   "cell_type": "code",
   "execution_count": null,
   "metadata": {
    "run_control": {
     "frozen": false,
     "read_only": false
    }
   },
   "outputs": [],
   "source": [
    "def jpeg_res(filename):\n",
    "\n",
    "\n",
    "    print(\"The resolution of the image is\",width,\"x\",height)\n",
    "\n",
    "jpeg_res(\"微信二维码_Beijing.jpeg\")"
   ]
  },
  {
   "cell_type": "markdown",
   "metadata": {
    "run_control": {
     "frozen": false,
     "read_only": false
    }
   },
   "source": [
    "## 如何合并文件并提起内容\n",
    "\n",
    "假设一个文件夹下面有很多excel文件，文件名符合以下规律\n",
    "```\n",
    "<project_name>_<number>\n",
    "```\n",
    "希望把数据提取出来并合并"
   ]
  },
  {
   "cell_type": "code",
   "execution_count": null,
   "metadata": {
    "collapsed": true,
    "run_control": {
     "frozen": false,
     "read_only": false
    }
   },
   "outputs": [],
   "source": [
    "import os\n",
    "import pandas as pd"
   ]
  },
  {
   "cell_type": "code",
   "execution_count": null,
   "metadata": {
    "collapsed": true,
    "run_control": {
     "frozen": false,
     "read_only": false
    }
   },
   "outputs": [],
   "source": [
    "dir_name = \"data\"\n",
    "all_files=os.listdir(dir_name)"
   ]
  },
  {
   "cell_type": "code",
   "execution_count": null,
   "metadata": {
    "run_control": {
     "frozen": false,
     "read_only": false
    }
   },
   "outputs": [],
   "source": [
    "file_dic = dict()\n"
   ]
  },
  {
   "cell_type": "markdown",
   "metadata": {
    "run_control": {
     "frozen": false,
     "read_only": false
    }
   },
   "source": [
    "把以下字符串按照长度排序\n",
    "```\n",
    "Browse the docs online or download a copy of your own. Python's documentation, tutorials, and guides are constantly evolving.\n",
    "Python is an easy to learn, powerful programming language. It has efficient high-level data structures and a simple but effective approach to object-oriented programming. Python’s elegant syntax and dynamic typing, together with its interpreted nature, make it an ideal language for scripting and rapid application development in many areas on most platforms.\n",
    "The Python interpreter and the extensive standard library are freely available in source or binary form for all major platforms from the Python Web site, https://www.python.org/, and may be freely distributed. The same site also contains distributions of and pointers to many free third party Python modules, programs and tools, and additional documentation.\n",
    "```"
   ]
  },
  {
   "cell_type": "code",
   "execution_count": null,
   "metadata": {
    "code_folding": [],
    "run_control": {
     "frozen": false,
     "read_only": false
    }
   },
   "outputs": [],
   "source": [
    "a_strings= [\n",
    "    \"Python is an easy to learn, powerful programming language. It has efficient high-level data structures and a simple but effective approach to object-oriented programming. Python’s elegant syntax and dynamic typing, together with its interpreted nature, make it an ideal language for scripting and rapid application development in many areas on most platforms.\",\n",
    "    \"Browse the docs online or download a copy of your own. Python's documentation, tutorials, and guides are constantly evolving.\",\n",
    "    \"The Python interpreter and the extensive standard library are freely available in source or binary form for all major platforms from the Python Web site, https://www.python.org/, and may be freely distributed. The same site also contains distributions of and pointers to many free third party Python modules, programs and tools, and additional documentation.\"]\n",
    "\n"
   ]
  },
  {
   "cell_type": "markdown",
   "metadata": {
    "run_control": {
     "frozen": false,
     "read_only": false
    }
   },
   "source": [
    "你有一个目录，放了你一个月的日记，都是 txt，为了避免分词的问题，假设内容都是英文，请统计出你认为每篇日记最重要的词。"
   ]
  },
  {
   "cell_type": "code",
   "execution_count": null,
   "metadata": {
    "collapsed": true,
    "run_control": {
     "frozen": false,
     "read_only": false
    }
   },
   "outputs": [],
   "source": [
    "with open('oldman.txt', 'r') as fin:\n",
    "    all_text = fin.readlines()\n",
    "    \n",
    "    \n",
    "# your code"
   ]
  },
  {
   "cell_type": "markdown",
   "metadata": {
    "run_control": {
     "frozen": false,
     "read_only": false
    }
   },
   "source": [
    "The **Digit's Image Data** is a 3D list. The quiz for this session is build arround it.\n",
    "Run the code below to retrieve 100 sample data."
   ]
  },
  {
   "cell_type": "code",
   "execution_count": null,
   "metadata": {
    "collapsed": true,
    "run_control": {
     "frozen": false,
     "read_only": false
    }
   },
   "outputs": [],
   "source": [
    "from sklearn import datasets\n",
    "import random\n",
    "random.seed(2016) # This will make sure the random sample you create is the same as mine.\n",
    "\n",
    "digit_data = dict(datasets.load_digits())\n",
    "sample_index = random.sample(range(len(digit_data['images'])), 100)\n",
    "digit_images = [digit_data['images'][i] for i in sample_index]\n",
    "digit_true_label = [digit_data['target'][i] for i in sample_index]"
   ]
  },
  {
   "cell_type": "markdown",
   "metadata": {
    "run_control": {
     "frozen": false,
     "read_only": false
    }
   },
   "source": [
    "The goal for this quiz is to find a way to predict whether a image is 0 or not based only on the image data, the 2d array.\n",
    "<img src='img/digits.png' width = 400px/>"
   ]
  },
  {
   "cell_type": "markdown",
   "metadata": {
    "run_control": {
     "frozen": false,
     "read_only": false
    }
   },
   "source": [
    "### Q1\n",
    "How many 0s are their in this 100 samples?\n",
    "\n",
    "Hint (The hint is hidden in white, you could see it by selecting it):"
   ]
  },
  {
   "cell_type": "code",
   "execution_count": null,
   "metadata": {
    "run_control": {
     "frozen": false,
     "read_only": false
    }
   },
   "outputs": [],
   "source": [
    "result = 0\n",
    "# Your code below\n",
    "result = sum([1 for i in digit_true_label if i == 0])\n",
    "# Your code above\n",
    "result"
   ]
  },
  {
   "cell_type": "markdown",
   "metadata": {
    "run_control": {
     "frozen": false,
     "read_only": false
    }
   },
   "source": [
    "### Q2\n",
    "You could show the image by using the following code:\n",
    ">```\n",
    "import matplotlib.pyplot as plt\n",
    "%matplotlib inline\n",
    "plt.imshow(_____,            # Fill the 2d array in the _____\n",
    "           plt.cm.gray_r     # This is an input indicate the color scale\n",
    "          )\n",
    "```\n",
    "\n",
    "Find out the 1st image that is 5. The image should look like this:\n",
    "\n",
    "<img src='img/digit_image_for_5.png' width = 100px align='left'/>"
   ]
  },
  {
   "cell_type": "code",
   "execution_count": null,
   "metadata": {},
   "outputs": [],
   "source": [
    "a = digit_true_label.index(0)\n",
    "a"
   ]
  },
  {
   "cell_type": "code",
   "execution_count": null,
   "metadata": {
    "run_control": {
     "frozen": false,
     "read_only": false
    }
   },
   "outputs": [],
   "source": [
    "import matplotlib.pyplot as plt\n",
    "%matplotlib inline\n",
    "sample_2d_array =digit_images[22]\n",
    " #digit_images[digit_true_label.index(5)] # Change 5 to other values\n",
    "\n",
    "import matplotlib.pyplot as plt\n",
    "plt.imshow(sample_2d_array,  \n",
    "           plt.cm.gray_r     \n",
    "          )"
   ]
  },
  {
   "cell_type": "markdown",
   "metadata": {
    "run_control": {
     "frozen": false,
     "read_only": false
    }
   },
   "source": [
    "### Q3\n",
    "Given an 2d-array:\n",
    ">```\n",
    "digit_images[99]\n",
    ">>>> [[  0.,   2.,  16.,  16.,  16.,  16.,   3.,   0.],\n",
    "     [  0.,   1.,  16.,  13.,   6.,   4.,   0.,   0.],\n",
    "     ...\n",
    "```\n",
    "\n",
    "Set all the numbers in this 2d array either to 1 or 0 based on whether if it's larger than 10 or not. The result should look like this:\n",
    ">```\n",
    "[[ 0.  0.  1.  1.  1.  1.  0.  0.]\n",
    " [ 0.  0.  1.  1.  0.  0.  0.  0.]\n",
    " ...\n",
    "```"
   ]
  },
  {
   "cell_type": "code",
   "execution_count": null,
   "metadata": {
    "run_control": {
     "frozen": false,
     "read_only": false
    }
   },
   "outputs": [],
   "source": [
    "import copy\n",
    "new_image = copy.copy(digit_images[digit_true_label.index(0)])\n",
    "\n",
    "# Your code below\n",
    "for row_index in range(len(new_image)):\n",
    "    for col_index in range(len(new_image[row_index])):\n",
    "        if new_image[row_index][col_index] > 10:\n",
    "            new_image[row_index][col_index] = 1\n",
    "        else:\n",
    "            new_image[row_index][col_index] = 0\n",
    "\n",
    "# Your code above\n",
    "print(new_image)\n",
    "plt.imshow(new_image,  \n",
    "           plt.cm.gray_r     \n",
    "          )\n",
    "\n",
    "import numpy as np\n",
    "for (i, j), value in np.ndenumerate(new_image):\n",
    "    if value < 1:\n",
    "        plt.text(j, i, int(value), ha='center', va='center', color = \"#000000\")\n",
    "    else:\n",
    "        plt.text(j, i, int(value), ha='center', va='center', color = \"#cccccc\")    "
   ]
  },
  {
   "cell_type": "markdown",
   "metadata": {
    "run_control": {
     "frozen": false,
     "read_only": false
    }
   },
   "source": [
    "### Q4\n",
    "Try to use list comprehension and for loop to create a 8 * 8 list like this:\n",
    ">```\n",
    "[[1, 0, 0, 0, 0, 0, 0, 0],\n",
    " [0, 1, 0, 0, 0, 0, 0, 0],\n",
    " [0, 0, 1, 0, 0, 0, 0, 0],\n",
    " [0, 0, 0, 1, 0, 0, 0, 0],\n",
    " [0, 0, 0, 0, 1, 0, 0, 0],\n",
    " [0, 0, 0, 0, 0, 1, 0, 0],\n",
    " [0, 0, 0, 0, 0, 0, 1, 0],\n",
    " [0, 0, 0, 0, 0, 0, 0, 1]]\n",
    "```\n",
    "\n",
    "Save the value to the **result** variable."
   ]
  },
  {
   "cell_type": "code",
   "execution_count": null,
   "metadata": {
    "run_control": {
     "frozen": false,
     "read_only": false
    }
   },
   "outputs": [],
   "source": [
    "# your code below\n",
    "rows = 8\n",
    "cols = 8\n",
    "result = [ ([0] * cols) for row in range(rows) ]\n",
    "for i in range(len(result)):\n",
    "    result[i][i] = 1\n",
    "\n",
    "# your code above\n",
    "plt.imshow(result,  \n",
    "           plt.cm.gray_r     \n",
    "          )"
   ]
  },
  {
   "cell_type": "markdown",
   "metadata": {
    "run_control": {
     "frozen": false,
     "read_only": false
    }
   },
   "source": [
    "### Q5\n",
    "Create a function, sum_of_2d_list(), which takes a 2d list as input, and return the sum of all the digits in it."
   ]
  },
  {
   "cell_type": "code",
   "execution_count": null,
   "metadata": {
    "run_control": {
     "frozen": false,
     "read_only": false
    }
   },
   "outputs": [],
   "source": [
    "def sum_of_2d_list(a_2d_list):\n",
    "    # your code below\n",
    "    output = 0\n",
    "    for rows in a_2d_list:\n",
    "        output += sum(rows)\n",
    "    \n",
    "    # your code above\n",
    "    return output\n",
    "\n",
    "# test case\n",
    "print(sum_of_2d_list(digit_images[0])) # 262.0\n",
    "print(sum_of_2d_list(digit_images[1])) # 296.0\n",
    "print(sum_of_2d_list(digit_images[2])) # 259.0\n",
    "print(sum_of_2d_list(digit_images[3])) # 354.0"
   ]
  },
  {
   "cell_type": "markdown",
   "metadata": {
    "run_control": {
     "frozen": false,
     "read_only": false
    }
   },
   "source": [
    "### Q6\n",
    "To find out whether a number is 0 or not, a good way is to check whether the center of the image is dark or not. For example: \n",
    "<img src = 'img/2D_list_image.png' align = 'left'/>\n",
    "The sum of the numbers in the centers is 0.\n",
    "\n",
    "Your task is to create a function, it takes a 2D list as input, and return the sum of the four numbers in the center.\n",
    "\n",
    "Hint (The hint is hidden in white, you could see it by selecting it):"
   ]
  },
  {
   "cell_type": "code",
   "execution_count": null,
   "metadata": {
    "run_control": {
     "frozen": false,
     "read_only": false
    }
   },
   "outputs": [],
   "source": [
    "def sum_of_center(a_2d_array):\n",
    "    # your code below\n",
    "    output = [i[3:5] for i in a_2d_array[3:5]]\n",
    "    output = sum_of_2d_list(output)\n",
    "    \n",
    "    # your code above\n",
    "    return output\n",
    "\n",
    "# test case\n",
    "print(sum_of_center(digit_images[0])) # 30.0\n",
    "print(sum_of_center(digit_images[1])) # 0.0\n",
    "print(sum_of_center(digit_images[2])) # 52.0\n",
    "print(sum_of_center(digit_images[3])) # 32.0"
   ]
  },
  {
   "cell_type": "markdown",
   "metadata": {
    "run_control": {
     "frozen": false,
     "read_only": false
    }
   },
   "source": [
    "### Q7\n",
    "Read the code below, try to understand:\n",
    "* How it deal with the 3d list: digit_images.\n",
    "* How it find out all the 0s in the digit_images."
   ]
  },
  {
   "cell_type": "code",
   "execution_count": null,
   "metadata": {
    "run_control": {
     "frozen": false,
     "read_only": false
    }
   },
   "outputs": [],
   "source": [
    "num_of_samples = len(digit_images)\n",
    "index_for_zeros = []\n",
    "true_label_for_the_prediction = []\n",
    "\n",
    "# Find out all the index that are 0s, \n",
    "# if the sum of center part is smaller than 20.\n",
    "for i in range(num_of_samples):\n",
    "    if sum_of_center(digit_images[i]) < 20:\n",
    "        index_for_zeros.append(i)\n",
    "\n",
    "# Find out all the corresponded true label.\n",
    "# Turns out two are predicted wrong.\n",
    "for ind in index_for_zeros:\n",
    "    true_label_for_the_prediction.append(digit_true_label[ind])\n",
    "    \n",
    "print(true_label_for_the_prediction)\n",
    "\n",
    "# There are twelve 0s and two 6s in the result.\n",
    "# Which means all the 0s are correctly selected out\n",
    "# Change the cut off here"
   ]
  }
 ],
 "metadata": {
  "kernelspec": {
   "display_name": "Python 3",
   "language": "python",
   "name": "python3"
  },
  "language_info": {
   "codemirror_mode": {
    "name": "ipython",
    "version": 3
   },
   "file_extension": ".py",
   "mimetype": "text/x-python",
   "name": "python",
   "nbconvert_exporter": "python",
   "pygments_lexer": "ipython3",
   "version": "3.6.3"
  }
 },
 "nbformat": 4,
 "nbformat_minor": 2
}
