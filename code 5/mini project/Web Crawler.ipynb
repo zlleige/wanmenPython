{
 "cells": [
  {
   "cell_type": "markdown",
   "metadata": {
    "run_control": {
     "frozen": false,
     "read_only": false
    }
   },
   "source": [
    "## Crawl Website by Depth"
   ]
  },
  {
   "cell_type": "code",
   "execution_count": 1,
   "metadata": {
    "collapsed": true,
    "run_control": {
     "frozen": false,
     "read_only": false
    }
   },
   "outputs": [],
   "source": [
    "def crawl_web(seed, max_depth):\n",
    "    tocrawl = [seed]\n",
    "    crawled = []\n",
    "    next_depth = []\n",
    "    depth = 0\n",
    "    while tocrawl and depth <= max_depth:\n",
    "        page = tocrawl.pop()\n",
    "        if page not in crawled:\n",
    "            union(next_depth, get_all_links(get_page(page)))\n",
    "            crawled.append(page)\n",
    "        if not tocrawl:\n",
    "            tocrawl, next_depth = next_depth, []\n",
    "            depth = depth + 1\n",
    "    return crawled        "
   ]
  },
  {
   "cell_type": "markdown",
   "metadata": {
    "run_control": {
     "frozen": false,
     "read_only": false
    }
   },
   "source": [
    "# with index, and link graph"
   ]
  },
  {
   "cell_type": "markdown",
   "metadata": {
    "run_control": {
     "frozen": false,
     "read_only": false
    }
   },
   "source": [
    "## rank graph  \n",
    "{'url':[pages links]}"
   ]
  },
  {
   "cell_type": "code",
   "execution_count": 2,
   "metadata": {
    "collapsed": true,
    "run_control": {
     "frozen": false,
     "read_only": false
    }
   },
   "outputs": [],
   "source": [
    "def crawl_web(seed, max_depth):\n",
    "    tocrawl = [seed]\n",
    "    crawled = []\n",
    "    next_depth = []\n",
    "    depth = 0\n",
    "    index = {}\n",
    "    graph = {}\n",
    "    while tocrawl and depth <= max_depth:\n",
    "        page = tocrawl.pop()\n",
    "        if page not in crawled:\n",
    "            content = get_page(page)\n",
    "            add_page_to_index(index, page, content)\n",
    "            outlinks = get_all_links()\n",
    "            graph[page] = outlinks\n",
    "            union(next_depth, outlinks)\n",
    "            crawled.append(page)\n",
    "        if not tocrawl:\n",
    "            tocrawl, next_depth = next_depth, []\n",
    "            depth = depth + 1\n",
    "    return crawled "
   ]
  }
 ],
 "metadata": {
  "kernelspec": {
   "display_name": "Python 3",
   "language": "python",
   "name": "python3"
  },
  "language_info": {
   "codemirror_mode": {
    "name": "ipython",
    "version": 3
   },
   "file_extension": ".py",
   "mimetype": "text/x-python",
   "name": "python",
   "nbconvert_exporter": "python",
   "pygments_lexer": "ipython3",
   "version": "3.6.0"
  }
 },
 "nbformat": 4,
 "nbformat_minor": 2
}
