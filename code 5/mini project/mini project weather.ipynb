{
 "cells": [
  {
   "cell_type": "markdown",
   "metadata": {
    "run_control": {
     "frozen": false,
     "read_only": false
    }
   },
   "source": [
    "## 所需要的package\n",
    "**json**<br/>\n",
    "Python Json library. 用来对于Json格式的处理<br/><br/>\n",
    "\n",
    "**requests**<br/>\n",
    "Python HTTP library. 用来做API调用<br/><br/>\n",
    "**pandas**<br/>\n",
    "Python data analysis library<br/><br/>\n",
    "**matplotlib**<br/>\n",
    "Python plotting library"
   ]
  },
  {
   "cell_type": "code",
   "execution_count": 30,
   "metadata": {
    "collapsed": true,
    "run_control": {
     "frozen": false,
     "read_only": false
    }
   },
   "outputs": [],
   "source": [
    "import json\n",
    "import numpy as np\n",
    "import pandas as pd\n",
    "import requests\n",
    "import matplotlib.pyplot as plt\n",
    "%matplotlib inline"
   ]
  },
  {
   "cell_type": "markdown",
   "metadata": {
    "run_control": {
     "frozen": false,
     "read_only": false
    }
   },
   "source": [
    "## Load JSON from file\n",
    "Python has an in-built package called json that can help us handle JSON easily. But\n",
    "before we use any functions from json package we’ll have to import the package into\n",
    "our project. This can be done easily by calling import json at the beginning of\n",
    "weather_forecast.py ."
   ]
  },
  {
   "cell_type": "code",
   "execution_count": 145,
   "metadata": {
    "collapsed": false,
    "run_control": {
     "frozen": false,
     "read_only": false
    }
   },
   "outputs": [],
   "source": [
    "def load_json_sample(path):\n",
    "    with open(path, encoding='utf-8') as json_file:\n",
    "        return json.load(json_file)"
   ]
  },
  {
   "cell_type": "code",
   "execution_count": 146,
   "metadata": {
    "collapsed": true,
    "run_control": {
     "frozen": false,
     "read_only": false
    }
   },
   "outputs": [],
   "source": [
    "def daily_data_of_attributes(json_dict, attributes):\n",
    "    daily_attributes = {}\n",
    "    for attr in attributes:\n",
    "        daily_attributes[attr] = []\n",
    "    daily_data = json_dict[\"daily\"][\"data\"]\n",
    "    try:\n",
    "        for dict_data in daily_data:\n",
    "            for attr in attributes:\n",
    "                daily_attributes[attr].append(dict_data[attr])\n",
    "    except KeyError:\n",
    "        print(\"Key Not Found\")\n",
    "        return {}\n",
    "    return daily_attributes"
   ]
  },
  {
   "cell_type": "code",
   "execution_count": 147,
   "metadata": {
    "collapsed": false,
    "run_control": {
     "frozen": false,
     "read_only": false
    }
   },
   "outputs": [],
   "source": [
    "def request_data():\n",
    "    # LA 37.8267,-122.4233 , beijing 39.904200, 116.407396\n",
    "    lat = 37.8267\n",
    "    long = -122.4233\n",
    "    api_key = \"62bf94de3c232f30f6f3ee5bb534c2f3\"\n",
    "    url = \"https://api.darksky.net/forecast/%s/%s,%s?units=si\" % (api_key, lat, long)\n",
    "    response = requests.get(url)\n",
    "    return json.loads(response.text)"
   ]
  },
  {
   "cell_type": "code",
   "execution_count": 148,
   "metadata": {
    "collapsed": true,
    "run_control": {
     "frozen": false,
     "read_only": false
    }
   },
   "outputs": [],
   "source": [
    "def get_daily_data(remote=False):\n",
    "    if remote:\n",
    "        json_obj = request_data()\n",
    "    else:\n",
    "        json_obj = load_json_sample('sample.json')\n",
    "    print(json_obj)\n",
    "    attributes = ['temperatureMin', 'temperatureMax', 'humidity']\n",
    "    daily_data = daily_data_of_attributes(json_obj, attributes)\n",
    "    return daily_data"
   ]
  },
  {
   "cell_type": "code",
   "execution_count": 150,
   "metadata": {
    "collapsed": true,
    "run_control": {
     "frozen": false,
     "read_only": false
    }
   },
   "outputs": [],
   "source": [
    "def pretty_print_dict_of_list(d):\n",
    "    indent = 4\n",
    "    print(\"{\")\n",
    "    for k, l in d.items():\n",
    "        print(indent * \" \" + k + \": \", end=\"\")\n",
    "        print(l)\n",
    "    print(\"}\")"
   ]
  },
  {
   "cell_type": "code",
   "execution_count": 151,
   "metadata": {
    "collapsed": false,
    "run_control": {
     "frozen": false,
     "read_only": false
    }
   },
   "outputs": [
    {
     "name": "stdout",
     "output_type": "stream",
     "text": [
      "{'temperatureMin': [13.46, 13.63, 14.64, 11.42, 9.4, 11.57, 11.33, 9.96], 'temperatureMax': [18.73, 20.6, 17.25, 15.86, 15.94, 17.67, 18.09, 17.81], 'humidity': [0.83, 0.69, 0.86, 0.75, 0.68, 0.47, 0.45, 0.63]}\n"
     ]
    }
   ],
   "source": [
    "print(daily_data)"
   ]
  },
  {
   "cell_type": "code",
   "execution_count": 153,
   "metadata": {
    "collapsed": false,
    "run_control": {
     "frozen": false,
     "read_only": false
    }
   },
   "outputs": [
    {
     "name": "stdout",
     "output_type": "stream",
     "text": [
      "{'latitude': 37.8267, 'longitude': -122.4233, 'timezone': 'America/Los_Angeles', 'currently': {'time': 1511542210, 'summary': 'Partly Cloudy', 'icon': 'partly-cloudy-day', 'nearestStormDistance': 6, 'nearestStormBearing': 112, 'precipIntensity': 0, 'precipProbability': 0, 'temperature': 13.69, 'apparentTemperature': 13.69, 'dewPoint': 12.47, 'humidity': 0.92, 'pressure': 1020.14, 'windSpeed': 0.12, 'windGust': 1.04, 'windBearing': 308, 'cloudCover': 0.46, 'uvIndex': 1, 'visibility': 12.71, 'ozone': 240.63}, 'minutely': {'summary': 'Partly cloudy for the hour.', 'icon': 'partly-cloudy-day', 'data': [{'time': 1511542200, 'precipIntensity': 0, 'precipProbability': 0}, {'time': 1511542260, 'precipIntensity': 0, 'precipProbability': 0}, {'time': 1511542320, 'precipIntensity': 0, 'precipProbability': 0}, {'time': 1511542380, 'precipIntensity': 0, 'precipProbability': 0}, {'time': 1511542440, 'precipIntensity': 0, 'precipProbability': 0}, {'time': 1511542500, 'precipIntensity': 0, 'precipProbability': 0}, {'time': 1511542560, 'precipIntensity': 0, 'precipProbability': 0}, {'time': 1511542620, 'precipIntensity': 0, 'precipProbability': 0}, {'time': 1511542680, 'precipIntensity': 0, 'precipProbability': 0}, {'time': 1511542740, 'precipIntensity': 0, 'precipProbability': 0}, {'time': 1511542800, 'precipIntensity': 0, 'precipProbability': 0}, {'time': 1511542860, 'precipIntensity': 0, 'precipProbability': 0}, {'time': 1511542920, 'precipIntensity': 0, 'precipProbability': 0}, {'time': 1511542980, 'precipIntensity': 0, 'precipProbability': 0}, {'time': 1511543040, 'precipIntensity': 0, 'precipProbability': 0}, {'time': 1511543100, 'precipIntensity': 0, 'precipProbability': 0}, {'time': 1511543160, 'precipIntensity': 0, 'precipProbability': 0}, {'time': 1511543220, 'precipIntensity': 0, 'precipProbability': 0}, {'time': 1511543280, 'precipIntensity': 0, 'precipProbability': 0}, {'time': 1511543340, 'precipIntensity': 0, 'precipProbability': 0}, {'time': 1511543400, 'precipIntensity': 0, 'precipProbability': 0}, {'time': 1511543460, 'precipIntensity': 0, 'precipProbability': 0}, {'time': 1511543520, 'precipIntensity': 0, 'precipProbability': 0}, {'time': 1511543580, 'precipIntensity': 0, 'precipProbability': 0}, {'time': 1511543640, 'precipIntensity': 0, 'precipProbability': 0}, {'time': 1511543700, 'precipIntensity': 0, 'precipProbability': 0}, {'time': 1511543760, 'precipIntensity': 0, 'precipProbability': 0}, {'time': 1511543820, 'precipIntensity': 0, 'precipProbability': 0}, {'time': 1511543880, 'precipIntensity': 0, 'precipProbability': 0}, {'time': 1511543940, 'precipIntensity': 0, 'precipProbability': 0}, {'time': 1511544000, 'precipIntensity': 0, 'precipProbability': 0}, {'time': 1511544060, 'precipIntensity': 0, 'precipProbability': 0}, {'time': 1511544120, 'precipIntensity': 0, 'precipProbability': 0}, {'time': 1511544180, 'precipIntensity': 0, 'precipProbability': 0}, {'time': 1511544240, 'precipIntensity': 0, 'precipProbability': 0}, {'time': 1511544300, 'precipIntensity': 0, 'precipProbability': 0}, {'time': 1511544360, 'precipIntensity': 0, 'precipProbability': 0}, {'time': 1511544420, 'precipIntensity': 0, 'precipProbability': 0}, {'time': 1511544480, 'precipIntensity': 0, 'precipProbability': 0}, {'time': 1511544540, 'precipIntensity': 0, 'precipProbability': 0}, {'time': 1511544600, 'precipIntensity': 0, 'precipProbability': 0}, {'time': 1511544660, 'precipIntensity': 0, 'precipProbability': 0}, {'time': 1511544720, 'precipIntensity': 0, 'precipProbability': 0}, {'time': 1511544780, 'precipIntensity': 0, 'precipProbability': 0}, {'time': 1511544840, 'precipIntensity': 0, 'precipProbability': 0}, {'time': 1511544900, 'precipIntensity': 0, 'precipProbability': 0}, {'time': 1511544960, 'precipIntensity': 0, 'precipProbability': 0}, {'time': 1511545020, 'precipIntensity': 0, 'precipProbability': 0}, {'time': 1511545080, 'precipIntensity': 0, 'precipProbability': 0}, {'time': 1511545140, 'precipIntensity': 0, 'precipProbability': 0}, {'time': 1511545200, 'precipIntensity': 0, 'precipProbability': 0}, {'time': 1511545260, 'precipIntensity': 0, 'precipProbability': 0}, {'time': 1511545320, 'precipIntensity': 0, 'precipProbability': 0}, {'time': 1511545380, 'precipIntensity': 0, 'precipProbability': 0}, {'time': 1511545440, 'precipIntensity': 0, 'precipProbability': 0}, {'time': 1511545500, 'precipIntensity': 0, 'precipProbability': 0}, {'time': 1511545560, 'precipIntensity': 0, 'precipProbability': 0}, {'time': 1511545620, 'precipIntensity': 0, 'precipProbability': 0}, {'time': 1511545680, 'precipIntensity': 0, 'precipProbability': 0}, {'time': 1511545740, 'precipIntensity': 0, 'precipProbability': 0}, {'time': 1511545800, 'precipIntensity': 0, 'precipProbability': 0}]}, 'hourly': {'summary': 'Partly cloudy until tomorrow morning.', 'icon': 'partly-cloudy-night', 'data': [{'time': 1511539200, 'summary': 'Partly Cloudy', 'icon': 'partly-cloudy-day', 'precipIntensity': 0, 'precipProbability': 0, 'temperature': 13.17, 'apparentTemperature': 13.17, 'dewPoint': 12.41, 'humidity': 0.95, 'pressure': 1019.68, 'windSpeed': 0.07, 'windGust': 0.85, 'windBearing': 265, 'cloudCover': 0.48, 'uvIndex': 0, 'visibility': 10.17, 'ozone': 240.53}, {'time': 1511542800, 'summary': 'Partly Cloudy', 'icon': 'partly-cloudy-day', 'precipIntensity': 0, 'precipProbability': 0, 'temperature': 13.79, 'apparentTemperature': 13.79, 'dewPoint': 12.48, 'humidity': 0.92, 'pressure': 1020.22, 'windSpeed': 0.13, 'windGust': 1.08, 'windBearing': 312, 'cloudCover': 0.45, 'uvIndex': 1, 'visibility': 13.21, 'ozone': 240.64}, {'time': 1511546400, 'summary': 'Partly Cloudy', 'icon': 'partly-cloudy-day', 'precipIntensity': 0, 'precipProbability': 0, 'temperature': 14.84, 'apparentTemperature': 14.84, 'dewPoint': 12.73, 'humidity': 0.87, 'pressure': 1020.09, 'windSpeed': 0.61, 'windGust': 1.69, 'windBearing': 318, 'cloudCover': 0.48, 'uvIndex': 1, 'visibility': 16.09, 'ozone': 240.67}, {'time': 1511550000, 'summary': 'Partly Cloudy', 'icon': 'partly-cloudy-day', 'precipIntensity': 0, 'precipProbability': 0, 'temperature': 16.26, 'apparentTemperature': 16.26, 'dewPoint': 12.97, 'humidity': 0.81, 'pressure': 1019.21, 'windSpeed': 1.22, 'windGust': 2.41, 'windBearing': 319, 'cloudCover': 0.49, 'uvIndex': 2, 'visibility': 16.09, 'ozone': 240.56}, {'time': 1511553600, 'summary': 'Partly Cloudy', 'icon': 'partly-cloudy-day', 'precipIntensity': 0, 'precipProbability': 0, 'temperature': 17.81, 'apparentTemperature': 17.81, 'dewPoint': 13.02, 'humidity': 0.74, 'pressure': 1018.22, 'windSpeed': 1.59, 'windGust': 2.81, 'windBearing': 304, 'cloudCover': 0.46, 'uvIndex': 2, 'visibility': 16.09, 'ozone': 240.34}, {'time': 1511557200, 'summary': 'Partly Cloudy', 'icon': 'partly-cloudy-day', 'precipIntensity': 0, 'precipProbability': 0, 'temperature': 18.79, 'apparentTemperature': 18.79, 'dewPoint': 12.89, 'humidity': 0.69, 'pressure': 1017.6, 'windSpeed': 1.64, 'windGust': 2.84, 'windBearing': 302, 'cloudCover': 0.43, 'uvIndex': 2, 'visibility': 16.09, 'ozone': 240.2}, {'time': 1511560800, 'summary': 'Partly Cloudy', 'icon': 'partly-cloudy-day', 'precipIntensity': 0, 'precipProbability': 0, 'temperature': 19.14, 'apparentTemperature': 19.14, 'dewPoint': 12.75, 'humidity': 0.66, 'pressure': 1017.4, 'windSpeed': 1.12, 'windGust': 2.7, 'windBearing': 297, 'cloudCover': 0.51, 'uvIndex': 1, 'visibility': 16.09, 'ozone': 240.06}, {'time': 1511564400, 'summary': 'Mostly Cloudy', 'icon': 'partly-cloudy-day', 'precipIntensity': 0, 'precipProbability': 0, 'temperature': 18.88, 'apparentTemperature': 18.88, 'dewPoint': 12.59, 'humidity': 0.67, 'pressure': 1017.34, 'windSpeed': 1.65, 'windGust': 2.5, 'windBearing': 285, 'cloudCover': 0.62, 'uvIndex': 1, 'visibility': 16.09, 'ozone': 239.89}, {'time': 1511568000, 'summary': 'Mostly Cloudy', 'icon': 'partly-cloudy-day', 'precipIntensity': 0, 'precipProbability': 0, 'temperature': 18.27, 'apparentTemperature': 18.27, 'dewPoint': 12.44, 'humidity': 0.69, 'pressure': 1017.2, 'windSpeed': 1.9, 'windGust': 2.34, 'windBearing': 286, 'cloudCover': 0.68, 'uvIndex': 0, 'visibility': 16.09, 'ozone': 239.84}, {'time': 1511571600, 'summary': 'Mostly Cloudy', 'icon': 'partly-cloudy-night', 'precipIntensity': 0, 'precipProbability': 0, 'temperature': 17.36, 'apparentTemperature': 17.36, 'dewPoint': 12.27, 'humidity': 0.72, 'pressure': 1016.76, 'windSpeed': 1.8, 'windGust': 2.3, 'windBearing': 288, 'cloudCover': 0.61, 'uvIndex': 0, 'visibility': 16.09, 'ozone': 239.57}, {'time': 1511575200, 'summary': 'Partly Cloudy', 'icon': 'partly-cloudy-night', 'precipIntensity': 0, 'precipProbability': 0, 'temperature': 16.45, 'apparentTemperature': 16.45, 'dewPoint': 12.11, 'humidity': 0.76, 'pressure': 1016.23, 'windSpeed': 1.96, 'windGust': 2.32, 'windBearing': 311, 'cloudCover': 0.49, 'uvIndex': 0, 'visibility': 16.09, 'ozone': 239.3}, {'time': 1511578800, 'summary': 'Partly Cloudy', 'icon': 'partly-cloudy-night', 'precipIntensity': 0, 'precipProbability': 0, 'temperature': 15.72, 'apparentTemperature': 15.72, 'dewPoint': 11.95, 'humidity': 0.78, 'pressure': 1015.95, 'windSpeed': 2.05, 'windGust': 2.34, 'windBearing': 309, 'cloudCover': 0.42, 'uvIndex': 0, 'visibility': 16.09, 'ozone': 239.08}, {'time': 1511582400, 'summary': 'Partly Cloudy', 'icon': 'partly-cloudy-night', 'precipIntensity': 0, 'precipProbability': 0, 'temperature': 15.34, 'apparentTemperature': 15.34, 'dewPoint': 11.83, 'humidity': 0.8, 'pressure': 1016.18, 'windSpeed': 1.93, 'windGust': 2.13, 'windBearing': 323, 'cloudCover': 0.49, 'uvIndex': 0, 'visibility': 16.09, 'ozone': 238.7}, {'time': 1511586000, 'summary': 'Mostly Cloudy', 'icon': 'partly-cloudy-night', 'precipIntensity': 0.0051, 'precipProbability': 0.01, 'precipType': 'rain', 'temperature': 15.11, 'apparentTemperature': 15.11, 'dewPoint': 11.71, 'humidity': 0.8, 'pressure': 1016.68, 'windSpeed': 1.74, 'windGust': 1.86, 'windBearing': 355, 'cloudCover': 0.61, 'uvIndex': 0, 'visibility': 16.09, 'ozone': 238.41}, {'time': 1511589600, 'summary': 'Mostly Cloudy', 'icon': 'partly-cloudy-night', 'precipIntensity': 0.0051, 'precipProbability': 0.01, 'precipType': 'rain', 'temperature': 14.89, 'apparentTemperature': 14.89, 'dewPoint': 11.53, 'humidity': 0.8, 'pressure': 1016.94, 'windSpeed': 1.75, 'windGust': 1.84, 'windBearing': 13, 'cloudCover': 0.66, 'uvIndex': 0, 'visibility': 16.09, 'ozone': 238.32}, {'time': 1511593200, 'summary': 'Partly Cloudy', 'icon': 'partly-cloudy-night', 'precipIntensity': 0.0051, 'precipProbability': 0.01, 'precipType': 'rain', 'temperature': 14.71, 'apparentTemperature': 14.71, 'dewPoint': 11.29, 'humidity': 0.8, 'pressure': 1016.78, 'windSpeed': 1.92, 'windGust': 2.25, 'windBearing': 29, 'cloudCover': 0.54, 'uvIndex': 0, 'visibility': 16.09, 'ozone': 238.56}, {'time': 1511596800, 'summary': 'Partly Cloudy', 'icon': 'partly-cloudy-night', 'precipIntensity': 0.0025, 'precipProbability': 0.01, 'precipType': 'rain', 'temperature': 14.63, 'apparentTemperature': 14.63, 'dewPoint': 10.99, 'humidity': 0.79, 'pressure': 1016.35, 'windSpeed': 2.19, 'windGust': 2.99, 'windBearing': 45, 'cloudCover': 0.35, 'uvIndex': 0, 'visibility': 16.09, 'ozone': 238.97}, {'time': 1511600400, 'summary': 'Clear', 'icon': 'clear-night', 'precipIntensity': 0.0025, 'precipProbability': 0.01, 'precipType': 'rain', 'temperature': 14.63, 'apparentTemperature': 14.63, 'dewPoint': 10.69, 'humidity': 0.77, 'pressure': 1015.86, 'windSpeed': 2.48, 'windGust': 3.61, 'windBearing': 57, 'cloudCover': 0.22, 'uvIndex': 0, 'visibility': 16.09, 'ozone': 239.34}, {'time': 1511604000, 'summary': 'Clear', 'icon': 'clear-night', 'precipIntensity': 0.0051, 'precipProbability': 0.01, 'precipType': 'rain', 'temperature': 14.67, 'apparentTemperature': 14.67, 'dewPoint': 10.39, 'humidity': 0.76, 'pressure': 1015.23, 'windSpeed': 2.83, 'windGust': 3.97, 'windBearing': 62, 'cloudCover': 0.23, 'uvIndex': 0, 'visibility': 16.09, 'ozone': 239.62}, {'time': 1511607600, 'summary': 'Partly Cloudy', 'icon': 'partly-cloudy-night', 'precipIntensity': 0.0051, 'precipProbability': 0.01, 'precipType': 'rain', 'temperature': 14.71, 'apparentTemperature': 14.71, 'dewPoint': 10.08, 'humidity': 0.74, 'pressure': 1014.52, 'windSpeed': 3.21, 'windGust': 4.23, 'windBearing': 62, 'cloudCover': 0.31, 'uvIndex': 0, 'visibility': 16.09, 'ozone': 239.95}, {'time': 1511611200, 'summary': 'Partly Cloudy', 'icon': 'partly-cloudy-night', 'precipIntensity': 0.0051, 'precipProbability': 0.01, 'precipType': 'rain', 'temperature': 14.55, 'apparentTemperature': 14.55, 'dewPoint': 9.81, 'humidity': 0.73, 'pressure': 1014.03, 'windSpeed': 3.5, 'windGust': 4.46, 'windBearing': 62, 'cloudCover': 0.42, 'uvIndex': 0, 'visibility': 16.09, 'ozone': 240.03}, {'time': 1511614800, 'summary': 'Partly Cloudy', 'icon': 'partly-cloudy-night', 'precipIntensity': 0.0025, 'precipProbability': 0.01, 'precipType': 'rain', 'temperature': 14.13, 'apparentTemperature': 14.13, 'dewPoint': 9.57, 'humidity': 0.74, 'pressure': 1013.97, 'windSpeed': 3.63, 'windGust': 4.72, 'windBearing': 64, 'cloudCover': 0.57, 'uvIndex': 0, 'visibility': 16.09, 'ozone': 239.82}, {'time': 1511618400, 'summary': 'Mostly Cloudy', 'icon': 'partly-cloudy-night', 'precipIntensity': 0, 'precipProbability': 0, 'temperature': 13.6, 'apparentTemperature': 13.6, 'dewPoint': 9.38, 'humidity': 0.76, 'pressure': 1014.15, 'windSpeed': 3.68, 'windGust': 4.95, 'windBearing': 66, 'cloudCover': 0.76, 'uvIndex': 0, 'visibility': 16.09, 'ozone': 239.35}, {'time': 1511622000, 'summary': 'Mostly Cloudy', 'icon': 'partly-cloudy-night', 'precipIntensity': 0, 'precipProbability': 0, 'temperature': 13.45, 'apparentTemperature': 13.45, 'dewPoint': 9.28, 'humidity': 0.76, 'pressure': 1014.36, 'windSpeed': 3.59, 'windGust': 4.94, 'windBearing': 67, 'cloudCover': 0.88, 'uvIndex': 0, 'visibility': 16.09, 'ozone': 239.07}, {'time': 1511625600, 'summary': 'Mostly Cloudy', 'icon': 'partly-cloudy-day', 'precipIntensity': 0, 'precipProbability': 0, 'temperature': 13.9, 'apparentTemperature': 13.9, 'dewPoint': 9.26, 'humidity': 0.74, 'pressure': 1014.66, 'windSpeed': 3.3, 'windGust': 4.43, 'windBearing': 66, 'cloudCover': 0.88, 'uvIndex': 0, 'visibility': 16.09, 'ozone': 238.96}, {'time': 1511629200, 'summary': 'Mostly Cloudy', 'icon': 'partly-cloudy-day', 'precipIntensity': 0.0025, 'precipProbability': 0.01, 'precipType': 'rain', 'temperature': 14.81, 'apparentTemperature': 14.81, 'dewPoint': 9.33, 'humidity': 0.7, 'pressure': 1015.01, 'windSpeed': 2.9, 'windGust': 3.67, 'windBearing': 64, 'cloudCover': 0.85, 'uvIndex': 1, 'visibility': 16.09, 'ozone': 238.86}, {'time': 1511632800, 'summary': 'Mostly Cloudy', 'icon': 'partly-cloudy-day', 'precipIntensity': 0.0051, 'precipProbability': 0.02, 'precipType': 'rain', 'temperature': 15.91, 'apparentTemperature': 15.91, 'dewPoint': 9.49, 'humidity': 0.66, 'pressure': 1015.16, 'windSpeed': 2.58, 'windGust': 3.24, 'windBearing': 70, 'cloudCover': 0.83, 'uvIndex': 1, 'visibility': 16.09, 'ozone': 238.86}, {'time': 1511636400, 'summary': 'Mostly Cloudy', 'icon': 'partly-cloudy-day', 'precipIntensity': 0.0051, 'precipProbability': 0.01, 'precipType': 'rain', 'temperature': 17.26, 'apparentTemperature': 17.26, 'dewPoint': 9.78, 'humidity': 0.61, 'pressure': 1015.01, 'windSpeed': 2.37, 'windGust': 3.59, 'windBearing': 94, 'cloudCover': 0.86, 'uvIndex': 2, 'visibility': 16.09, 'ozone': 238.93}, {'time': 1511640000, 'summary': 'Mostly Cloudy', 'icon': 'partly-cloudy-day', 'precipIntensity': 0.0051, 'precipProbability': 0.01, 'precipType': 'rain', 'temperature': 18.83, 'apparentTemperature': 18.83, 'dewPoint': 10.18, 'humidity': 0.57, 'pressure': 1014.7, 'windSpeed': 2.19, 'windGust': 4.32, 'windBearing': 129, 'cloudCover': 0.92, 'uvIndex': 2, 'visibility': 16.09, 'ozone': 239.04}, {'time': 1511643600, 'summary': 'Overcast', 'icon': 'cloudy', 'precipIntensity': 0.0051, 'precipProbability': 0.01, 'precipType': 'rain', 'temperature': 20.04, 'apparentTemperature': 20.04, 'dewPoint': 10.53, 'humidity': 0.54, 'pressure': 1014.38, 'windSpeed': 2.07, 'windGust': 4.93, 'windBearing': 158, 'cloudCover': 0.96, 'uvIndex': 1, 'visibility': 16.09, 'ozone': 239.1}, {'time': 1511647200, 'summary': 'Overcast', 'icon': 'cloudy', 'precipIntensity': 0.0051, 'precipProbability': 0.01, 'precipType': 'rain', 'temperature': 20.57, 'apparentTemperature': 20.57, 'dewPoint': 10.79, 'humidity': 0.54, 'pressure': 1014.1, 'windSpeed': 2.1, 'windGust': 5.31, 'windBearing': 173, 'cloudCover': 0.97, 'uvIndex': 1, 'visibility': 16.09, 'ozone': 239.05}, {'time': 1511650800, 'summary': 'Overcast', 'icon': 'cloudy', 'precipIntensity': 0.0025, 'precipProbability': 0.01, 'precipType': 'rain', 'temperature': 20.44, 'apparentTemperature': 20.44, 'dewPoint': 11.01, 'humidity': 0.55, 'pressure': 1013.81, 'windSpeed': 2.21, 'windGust': 5.59, 'windBearing': 177, 'cloudCover': 0.97, 'uvIndex': 1, 'visibility': 16.09, 'ozone': 238.91}, {'time': 1511654400, 'summary': 'Overcast', 'icon': 'cloudy', 'precipIntensity': 0.0025, 'precipProbability': 0.01, 'precipType': 'rain', 'temperature': 19.91, 'apparentTemperature': 19.91, 'dewPoint': 11.2, 'humidity': 0.57, 'pressure': 1013.62, 'windSpeed': 2.32, 'windGust': 5.73, 'windBearing': 179, 'cloudCover': 0.96, 'uvIndex': 0, 'visibility': 16.09, 'ozone': 238.9}, {'time': 1511658000, 'summary': 'Overcast', 'icon': 'cloudy', 'precipIntensity': 0.0025, 'precipProbability': 0.01, 'precipType': 'rain', 'temperature': 19.01, 'apparentTemperature': 19.01, 'dewPoint': 11.37, 'humidity': 0.61, 'pressure': 1013.59, 'windSpeed': 2.39, 'windGust': 5.51, 'windBearing': 171, 'cloudCover': 0.97, 'uvIndex': 0, 'visibility': 16.09, 'ozone': 238.83}, {'time': 1511661600, 'summary': 'Overcast', 'icon': 'cloudy', 'precipIntensity': 0.0025, 'precipProbability': 0.01, 'precipType': 'rain', 'temperature': 18.08, 'apparentTemperature': 18.08, 'dewPoint': 11.51, 'humidity': 0.65, 'pressure': 1013.67, 'windSpeed': 2.52, 'windGust': 5.15, 'windBearing': 158, 'cloudCover': 0.99, 'uvIndex': 0, 'visibility': 16.09, 'ozone': 238.79}, {'time': 1511665200, 'summary': 'Overcast', 'icon': 'cloudy', 'precipIntensity': 0.0025, 'precipProbability': 0.01, 'precipType': 'rain', 'temperature': 17.34, 'apparentTemperature': 17.34, 'dewPoint': 11.61, 'humidity': 0.69, 'pressure': 1013.85, 'windSpeed': 2.7, 'windGust': 5.15, 'windBearing': 152, 'cloudCover': 1, 'uvIndex': 0, 'visibility': 16.09, 'ozone': 238.82}, {'time': 1511668800, 'summary': 'Overcast', 'icon': 'cloudy', 'precipIntensity': 0.0025, 'precipProbability': 0.01, 'precipType': 'rain', 'temperature': 16.95, 'apparentTemperature': 16.95, 'dewPoint': 11.67, 'humidity': 0.71, 'pressure': 1014.13, 'windSpeed': 2.95, 'windGust': 5.87, 'windBearing': 156, 'cloudCover': 0.98, 'uvIndex': 0, 'visibility': 16.09, 'ozone': 239.02}, {'time': 1511672400, 'summary': 'Overcast', 'icon': 'cloudy', 'precipIntensity': 0, 'precipProbability': 0, 'temperature': 16.71, 'apparentTemperature': 16.71, 'dewPoint': 11.69, 'humidity': 0.72, 'pressure': 1014.52, 'windSpeed': 3.24, 'windGust': 6.99, 'windBearing': 164, 'cloudCover': 0.95, 'uvIndex': 0, 'visibility': 16.09, 'ozone': 239.24}, {'time': 1511676000, 'summary': 'Overcast', 'icon': 'cloudy', 'precipIntensity': 0.0025, 'precipProbability': 0.01, 'precipType': 'rain', 'temperature': 16.54, 'apparentTemperature': 16.54, 'dewPoint': 11.74, 'humidity': 0.73, 'pressure': 1014.79, 'windSpeed': 3.5, 'windGust': 7.97, 'windBearing': 171, 'cloudCover': 0.94, 'uvIndex': 0, 'visibility': 16.09, 'ozone': 239.42}, {'time': 1511679600, 'summary': 'Overcast', 'icon': 'cloudy', 'precipIntensity': 0.0025, 'precipProbability': 0.01, 'precipType': 'rain', 'temperature': 16.47, 'apparentTemperature': 16.47, 'dewPoint': 11.78, 'humidity': 0.74, 'pressure': 1014.9, 'windSpeed': 3.69, 'windGust': 8.53, 'windBearing': 173, 'cloudCover': 0.95, 'uvIndex': 0, 'visibility': 16.09, 'ozone': 239.84}, {'time': 1511683200, 'summary': 'Overcast', 'icon': 'cloudy', 'precipIntensity': 0.0025, 'precipProbability': 0.01, 'precipType': 'rain', 'temperature': 16.48, 'apparentTemperature': 16.48, 'dewPoint': 11.84, 'humidity': 0.74, 'pressure': 1014.91, 'windSpeed': 3.85, 'windGust': 8.94, 'windBearing': 174, 'cloudCover': 0.98, 'uvIndex': 0, 'visibility': 16.09, 'ozone': 240.2}, {'time': 1511686800, 'summary': 'Overcast', 'icon': 'cloudy', 'precipIntensity': 0.0025, 'precipProbability': 0.01, 'precipType': 'rain', 'temperature': 16.53, 'apparentTemperature': 16.53, 'dewPoint': 12.01, 'humidity': 0.75, 'pressure': 1014.85, 'windSpeed': 4.04, 'windGust': 9.38, 'windBearing': 175, 'cloudCover': 1, 'uvIndex': 0, 'visibility': 16.09, 'ozone': 240.27}, {'time': 1511690400, 'summary': 'Overcast', 'icon': 'cloudy', 'precipIntensity': 0.0102, 'precipProbability': 0.04, 'precipType': 'rain', 'temperature': 16.47, 'apparentTemperature': 16.47, 'dewPoint': 12.32, 'humidity': 0.76, 'pressure': 1014.64, 'windSpeed': 4.28, 'windGust': 9.98, 'windBearing': 180, 'cloudCover': 1, 'uvIndex': 0, 'visibility': 16.09, 'ozone': 239.84}, {'time': 1511694000, 'summary': 'Overcast', 'icon': 'cloudy', 'precipIntensity': 0.0483, 'precipProbability': 0.09, 'precipType': 'rain', 'temperature': 16.32, 'apparentTemperature': 16.32, 'dewPoint': 12.73, 'humidity': 0.79, 'pressure': 1014.35, 'windSpeed': 4.55, 'windGust': 10.63, 'windBearing': 184, 'cloudCover': 1, 'uvIndex': 0, 'visibility': 16.09, 'ozone': 239.07}, {'time': 1511697600, 'summary': 'Overcast', 'icon': 'cloudy', 'precipIntensity': 0.1372, 'precipProbability': 0.16, 'precipType': 'rain', 'temperature': 16.14, 'apparentTemperature': 16.14, 'dewPoint': 13.12, 'humidity': 0.82, 'pressure': 1014.17, 'windSpeed': 4.82, 'windGust': 11.11, 'windBearing': 186, 'cloudCover': 1, 'uvIndex': 0, 'visibility': 16.09, 'ozone': 238.65}, {'time': 1511701200, 'summary': 'Overcast', 'icon': 'cloudy', 'precipIntensity': 0.3861, 'precipProbability': 0.26, 'precipType': 'rain', 'temperature': 16.02, 'apparentTemperature': 16.02, 'dewPoint': 13.46, 'humidity': 0.85, 'pressure': 1014.22, 'windSpeed': 5.18, 'windGust': 11.27, 'windBearing': 186, 'cloudCover': 1, 'uvIndex': 0, 'visibility': 16.09, 'ozone': 238.82}, {'time': 1511704800, 'summary': 'Light Rain', 'icon': 'rain', 'precipIntensity': 0.9474, 'precipProbability': 0.38, 'precipType': 'rain', 'temperature': 15.9, 'apparentTemperature': 15.9, 'dewPoint': 13.79, 'humidity': 0.87, 'pressure': 1014.41, 'windSpeed': 5.58, 'windGust': 11.28, 'windBearing': 184, 'cloudCover': 1, 'uvIndex': 0, 'visibility': 16.09, 'ozone': 239.28}, {'time': 1511708400, 'summary': 'Rain', 'icon': 'rain', 'precipIntensity': 1.5265, 'precipProbability': 0.46, 'precipType': 'rain', 'temperature': 15.78, 'apparentTemperature': 15.78, 'dewPoint': 14.06, 'humidity': 0.89, 'pressure': 1014.61, 'windSpeed': 5.93, 'windGust': 11.36, 'windBearing': 182, 'cloudCover': 1, 'uvIndex': 0, 'visibility': 16.09, 'ozone': 239.96}, {'time': 1511712000, 'summary': 'Rain', 'icon': 'rain', 'precipIntensity': 1.905, 'precipProbability': 0.5, 'precipType': 'rain', 'temperature': 15.66, 'apparentTemperature': 15.66, 'dewPoint': 14.2, 'humidity': 0.91, 'pressure': 1014.89, 'windSpeed': 6.21, 'windGust': 11.69, 'windBearing': 179, 'cloudCover': 1, 'uvIndex': 0, 'visibility': 14.82, 'ozone': 240.97}]}, 'daily': {'summary': 'Rain on Sunday and Monday, with temperatures falling to 16°C on Monday.', 'icon': 'rain', 'data': [{'time': 1511510400, 'summary': 'Partly cloudy throughout the day.', 'icon': 'partly-cloudy-day', 'sunriseTime': 1511535681, 'sunsetTime': 1511571279, 'moonPhase': 0.19, 'precipIntensity': 0.0025, 'precipIntensityMax': 0.0051, 'precipIntensityMaxTime': 1511589600, 'precipProbability': 0.09, 'precipType': 'rain', 'temperatureHigh': 19.14, 'temperatureHighTime': 1511560800, 'temperatureLow': 13.45, 'temperatureLowTime': 1511622000, 'apparentTemperatureHigh': 19.14, 'apparentTemperatureHighTime': 1511560800, 'apparentTemperatureLow': 13.45, 'apparentTemperatureLowTime': 1511622000, 'dewPoint': 12.54, 'humidity': 0.83, 'pressure': 1018.21, 'windSpeed': 0.93, 'windGust': 2.84, 'windGustTime': 1511557200, 'windBearing': 313, 'cloudCover': 0.44, 'uvIndex': 2, 'uvIndexTime': 1511550000, 'visibility': 16.09, 'ozone': 240, 'temperatureMin': 13.02, 'temperatureMinTime': 1511535600, 'temperatureMax': 19.14, 'temperatureMaxTime': 1511560800, 'apparentTemperatureMin': 13.02, 'apparentTemperatureMinTime': 1511535600, 'apparentTemperatureMax': 19.14, 'apparentTemperatureMaxTime': 1511560800}, {'time': 1511596800, 'summary': 'Mostly cloudy throughout the day.', 'icon': 'partly-cloudy-day', 'sunriseTime': 1511622143, 'sunsetTime': 1511657654, 'moonPhase': 0.23, 'precipIntensity': 0.0025, 'precipIntensityMax': 0.0051, 'precipIntensityMaxTime': 1511632800, 'precipProbability': 0.12, 'precipType': 'rain', 'temperatureHigh': 20.57, 'temperatureHighTime': 1511647200, 'temperatureLow': 15.66, 'temperatureLowTime': 1511712000, 'apparentTemperatureHigh': 20.57, 'apparentTemperatureHighTime': 1511647200, 'apparentTemperatureLow': 15.66, 'apparentTemperatureLowTime': 1511712000, 'dewPoint': 10.55, 'humidity': 0.68, 'pressure': 1014.52, 'windSpeed': 1.81, 'windGust': 8.53, 'windGustTime': 1511679600, 'windBearing': 110, 'cloudCover': 0.78, 'uvIndex': 2, 'uvIndexTime': 1511636400, 'visibility': 16.09, 'ozone': 239.2, 'temperatureMin': 13.45, 'temperatureMinTime': 1511622000, 'temperatureMax': 20.57, 'temperatureMaxTime': 1511647200, 'apparentTemperatureMin': 13.45, 'apparentTemperatureMinTime': 1511622000, 'apparentTemperatureMax': 20.57, 'apparentTemperatureMaxTime': 1511647200}, {'time': 1511683200, 'summary': 'Rain until afternoon, starting again overnight.', 'icon': 'rain', 'sunriseTime': 1511708604, 'sunsetTime': 1511744032, 'moonPhase': 0.26, 'precipIntensity': 0.668, 'precipIntensityMax': 2.6467, 'precipIntensityMaxTime': 1511719200, 'precipProbability': 0.93, 'precipType': 'rain', 'temperatureHigh': 16.83, 'temperatureHighTime': 1511730000, 'temperatureLow': 11.97, 'temperatureLowTime': 1511794800, 'apparentTemperatureHigh': 16.83, 'apparentTemperatureHighTime': 1511730000, 'apparentTemperatureLow': 11.97, 'apparentTemperatureLowTime': 1511794800, 'dewPoint': 13.36, 'humidity': 0.85, 'pressure': 1014.25, 'windSpeed': 4.84, 'windGust': 12.08, 'windGustTime': 1511715600, 'windBearing': 194, 'cloudCover': 0.94, 'uvIndex': 1, 'uvIndexTime': 1511715600, 'visibility': 16.09, 'ozone': 248.2, 'temperatureMin': 14.46, 'temperatureMinTime': 1511766000, 'temperatureMax': 16.83, 'temperatureMaxTime': 1511730000, 'apparentTemperatureMin': 14.46, 'apparentTemperatureMinTime': 1511766000, 'apparentTemperatureMax': 16.83, 'apparentTemperatureMaxTime': 1511730000}, {'time': 1511769600, 'summary': 'Partly cloudy in the morning.', 'icon': 'partly-cloudy-night', 'sunriseTime': 1511795064, 'sunsetTime': 1511830411, 'moonPhase': 0.29, 'precipIntensity': 0.221, 'precipIntensityMax': 1.5367, 'precipIntensityMaxTime': 1511773200, 'precipProbability': 0.79, 'precipType': 'rain', 'temperatureHigh': 15.69, 'temperatureHighTime': 1511820000, 'temperatureLow': 9.4, 'temperatureLowTime': 1511881200, 'apparentTemperatureHigh': 15.69, 'apparentTemperatureHighTime': 1511820000, 'apparentTemperatureLow': 9.02, 'apparentTemperatureLowTime': 1511877600, 'dewPoint': 9.02, 'humidity': 0.76, 'pressure': 1017.75, 'windSpeed': 3.18, 'windGust': 6.71, 'windGustTime': 1511791200, 'windBearing': 306, 'cloudCover': 0.27, 'uvIndex': 2, 'uvIndexTime': 1511809200, 'visibility': 16.09, 'ozone': 277.93, 'temperatureMin': 11.42, 'temperatureMinTime': 1511852400, 'temperatureMax': 15.69, 'temperatureMaxTime': 1511820000, 'apparentTemperatureMin': 11.42, 'apparentTemperatureMinTime': 1511852400, 'apparentTemperatureMax': 15.69, 'apparentTemperatureMaxTime': 1511820000}, {'time': 1511856000, 'summary': 'Mostly cloudy starting in the afternoon.', 'icon': 'partly-cloudy-night', 'sunriseTime': 1511881523, 'sunsetTime': 1511916792, 'moonPhase': 0.32, 'precipIntensity': 0.0025, 'precipIntensityMax': 0.0051, 'precipIntensityMaxTime': 1511881200, 'precipProbability': 0.05, 'precipType': 'rain', 'temperatureHigh': 15.94, 'temperatureHighTime': 1511906400, 'temperatureLow': 11.57, 'temperatureLowTime': 1511967600, 'apparentTemperatureHigh': 15.94, 'apparentTemperatureHighTime': 1511906400, 'apparentTemperatureLow': 11.57, 'apparentTemperatureLowTime': 1511967600, 'dewPoint': 6.66, 'humidity': 0.68, 'pressure': 1022.21, 'windSpeed': 2.36, 'windGust': 5.53, 'windGustTime': 1511938800, 'windBearing': 335, 'cloudCover': 0.44, 'uvIndex': 2, 'uvIndexTime': 1511892000, 'ozone': 269.33, 'temperatureMin': 9.4, 'temperatureMinTime': 1511881200, 'temperatureMax': 15.94, 'temperatureMaxTime': 1511906400, 'apparentTemperatureMin': 9.02, 'apparentTemperatureMinTime': 1511877600, 'apparentTemperatureMax': 15.94, 'apparentTemperatureMaxTime': 1511906400}, {'time': 1511942400, 'summary': 'Mostly cloudy in the morning and breezy until afternoon.', 'icon': 'wind', 'sunriseTime': 1511967982, 'sunsetTime': 1512003176, 'moonPhase': 0.36, 'precipIntensity': 0, 'precipIntensityMax': 0.0051, 'precipIntensityMaxTime': 1511992800, 'precipProbability': 0, 'temperatureHigh': 17.67, 'temperatureHighTime': 1511992800, 'temperatureLow': 11.93, 'temperatureLowTime': 1512054000, 'apparentTemperatureHigh': 17.67, 'apparentTemperatureHighTime': 1511992800, 'apparentTemperatureLow': 11.93, 'apparentTemperatureLowTime': 1512054000, 'dewPoint': 3.13, 'humidity': 0.47, 'pressure': 1022.42, 'windSpeed': 5.96, 'windGust': 14.91, 'windGustTime': 1511974800, 'windBearing': 21, 'cloudCover': 0.36, 'uvIndex': 2, 'uvIndexTime': 1511982000, 'ozone': 285.37, 'temperatureMin': 11.57, 'temperatureMinTime': 1511967600, 'temperatureMax': 17.67, 'temperatureMaxTime': 1511992800, 'apparentTemperatureMin': 11.57, 'apparentTemperatureMinTime': 1511967600, 'apparentTemperatureMax': 17.67, 'apparentTemperatureMaxTime': 1511992800}, {'time': 1512028800, 'summary': 'Mostly cloudy throughout the day.', 'icon': 'partly-cloudy-day', 'sunriseTime': 1512054440, 'sunsetTime': 1512089561, 'moonPhase': 0.39, 'precipIntensity': 0, 'precipIntensityMax': 0.0051, 'precipIntensityMaxTime': 1512082800, 'precipProbability': 0, 'temperatureHigh': 18.09, 'temperatureHighTime': 1512079200, 'temperatureLow': 9.96, 'temperatureLowTime': 1512140400, 'apparentTemperatureHigh': 18.09, 'apparentTemperatureHighTime': 1512079200, 'apparentTemperatureLow': 8.83, 'apparentTemperatureLowTime': 1512140400, 'dewPoint': 2.34, 'humidity': 0.45, 'pressure': 1023.13, 'windSpeed': 3.49, 'windGust': 12.06, 'windGustTime': 1512039600, 'windBearing': 32, 'cloudCover': 0.71, 'uvIndex': 1, 'uvIndexTime': 1512061200, 'ozone': 266.14, 'temperatureMin': 11.33, 'temperatureMinTime': 1512111600, 'temperatureMax': 18.09, 'temperatureMaxTime': 1512079200, 'apparentTemperatureMin': 11.33, 'apparentTemperatureMinTime': 1512111600, 'apparentTemperatureMax': 18.09, 'apparentTemperatureMaxTime': 1512079200}, {'time': 1512115200, 'summary': 'Mostly cloudy until afternoon.', 'icon': 'partly-cloudy-day', 'sunriseTime': 1512140897, 'sunsetTime': 1512175949, 'moonPhase': 0.43, 'precipIntensity': 0.0025, 'precipIntensityMax': 0.0025, 'precipIntensityMaxTime': 1512169200, 'precipProbability': 0.06, 'precipType': 'rain', 'temperatureHigh': 17.81, 'temperatureHighTime': 1512165600, 'temperatureLow': 11.52, 'temperatureLowTime': 1512226800, 'apparentTemperatureHigh': 17.81, 'apparentTemperatureHighTime': 1512165600, 'apparentTemperatureLow': 11.52, 'apparentTemperatureLowTime': 1512226800, 'dewPoint': 6.13, 'humidity': 0.63, 'pressure': 1016.83, 'windSpeed': 0.69, 'windGust': 3.55, 'windGustTime': 1512198000, 'windBearing': 33, 'cloudCover': 0.43, 'uvIndex': 2, 'uvIndexTime': 1512154800, 'ozone': 268.45, 'temperatureMin': 9.96, 'temperatureMinTime': 1512140400, 'temperatureMax': 17.81, 'temperatureMaxTime': 1512165600, 'apparentTemperatureMin': 8.83, 'apparentTemperatureMinTime': 1512140400, 'apparentTemperatureMax': 17.81, 'apparentTemperatureMaxTime': 1512165600}]}, 'flags': {'sources': ['isd', 'nearest-precip', 'nwspa', 'cmc', 'gfs', 'hrrr', 'madis', 'nam', 'sref', 'darksky'], 'isd-stations': ['724943-99999', '745039-99999', '745045-99999', '745060-23239', '745065-99999', '994016-99999', '994033-99999', '994036-99999', '997734-99999', '998197-99999', '998476-99999', '998477-99999', '998479-99999', '998496-99999', '999999-23239', '999999-23272'], 'units': 'si'}, 'offset': -8}\n"
     ]
    }
   ],
   "source": [
    "daily_data = get_daily_data(True)"
   ]
  },
  {
   "cell_type": "code",
   "execution_count": 154,
   "metadata": {
    "collapsed": false,
    "run_control": {
     "frozen": false,
     "read_only": false
    }
   },
   "outputs": [
    {
     "name": "stdout",
     "output_type": "stream",
     "text": [
      "{\n",
      "    temperatureMin: [13.02, 13.45, 14.46, 11.42, 9.4, 11.57, 11.33, 9.96]\n",
      "    temperatureMax: [19.14, 20.57, 16.83, 15.69, 15.94, 17.67, 18.09, 17.81]\n",
      "    humidity: [0.83, 0.68, 0.85, 0.76, 0.68, 0.47, 0.45, 0.63]\n",
      "}\n"
     ]
    }
   ],
   "source": [
    "pretty_print_dict_of_list(daily_data)"
   ]
  },
  {
   "cell_type": "code",
   "execution_count": 155,
   "metadata": {
    "collapsed": false,
    "run_control": {
     "frozen": false,
     "read_only": false
    }
   },
   "outputs": [],
   "source": [
    "df = pd.DataFrame(daily_data)"
   ]
  },
  {
   "cell_type": "code",
   "execution_count": 156,
   "metadata": {
    "collapsed": false,
    "run_control": {
     "frozen": false,
     "read_only": false
    }
   },
   "outputs": [
    {
     "data": {
      "image/png": "[encoded data removed]",
      "text/plain": [
       "<matplotlib.figure.Figure at 0x1153fc668>"
      ]
     },
     "metadata": {},
     "output_type": "display_data"
    }
   ],
   "source": [
    "df_temperature = df[[\"temperatureMin\", \"temperatureMax\"]]\n",
    "df_humidity = df[[\"humidity\"]]\n",
    "# Plot data\n",
    "plt.style.use('ggplot')\n",
    "_, axes = plt.subplots(nrows=2)\n",
    "df_temperature.plot(ax=axes[0])\n",
    "df_humidity.plot(ax=axes[1])\n",
    "plt.show()"
   ]
  },
  {
   "cell_type": "code",
   "execution_count": 157,
   "metadata": {
    "collapsed": true,
    "run_control": {
     "frozen": false,
     "read_only": false
    }
   },
   "outputs": [],
   "source": [
    "import subprocess"
   ]
  },
  {
   "cell_type": "code",
   "execution_count": 158,
   "metadata": {
    "collapsed": true,
    "run_control": {
     "frozen": false,
     "read_only": false
    }
   },
   "outputs": [],
   "source": [
    "def say(text: str):\n",
    "    subprocess.call('say ' + text, shell=True)"
   ]
  },
  {
   "cell_type": "code",
   "execution_count": 161,
   "metadata": {
    "collapsed": false,
    "run_control": {
     "frozen": false,
     "read_only": false
    }
   },
   "outputs": [],
   "source": [
    "say(\"负0.55\")"
   ]
  },
  {
   "cell_type": "code",
   "execution_count": 163,
   "metadata": {
    "collapsed": false,
    "run_control": {
     "frozen": false,
     "read_only": false
    }
   },
   "outputs": [],
   "source": [
    "highest_temp = max(daily_data[\"temperatureMax\"])\n",
    "lowest_temp = min(daily_data[\"temperatureMin\"])\n",
    "report = \"下周最高温度 The highest temperature in the coming week will be \" \\\n",
    "    + str(highest_temp) + \" 度degrees, 最低温度 with the lowest of \" + str(lowest_temp) + \"度 degrees.\"\n",
    "say(report)"
   ]
  }
 ],
 "metadata": {
  "kernelspec": {
   "display_name": "Python 3",
   "language": "python",
   "name": "python3"
  },
  "language_info": {
   "codemirror_mode": {
    "name": "ipython",
    "version": 3
   },
   "file_extension": ".py",
   "mimetype": "text/x-python",
   "name": "python",
   "nbconvert_exporter": "python",
   "pygments_lexer": "ipython3",
   "version": "3.6.0"
  }
 },
 "nbformat": 4,
 "nbformat_minor": 2
}
