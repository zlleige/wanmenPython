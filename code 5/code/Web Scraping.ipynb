{
 "cells": [
  {
   "cell_type": "markdown",
   "metadata": {
    "run_control": {
     "frozen": false,
     "read_only": false
    }
   },
   "source": [
    "# Web Scraping in Python"
   ]
  },
  {
   "cell_type": "markdown",
   "metadata": {
    "run_control": {
     "frozen": false,
     "read_only": false
    }
   },
   "source": [
    "In this appendix lecture we'll go over how to scrape information from the web using Python. \n",
    "\n",
    "#####We'll go to a website, decide what information we want, see where and how it is stored, then scrape it and set it as a pandas DataFrame!\n",
    "\n",
    "####Some things you should consider before web scraping a website:\n",
    "\n",
    "1.) You should check a site's terms and conditions before you scrape them. \n",
    "\n",
    "2.) Space out your requests so you don't overload the site's server, doing this could get you blocked.\n",
    "\n",
    "3.) Scrapers break after time - web pages change their layout all the time, you'll more than likely have to rewrite your code. \n",
    "\n",
    "4.) Web pages are usually inconsistent, more than likely you'll have to clean up the data after scraping it.\n",
    "\n",
    "5.) Every web page and situation is different, you'll have to spend time configuring your scraper.\n",
    "\n",
    "####To learn more about HTML I suggest theses two resources:\n",
    "\n",
    "[W3School](http://www.w3schools.com/html/)\n",
    "\n",
    "[Codecademy](http://www.codecademy.com/tracks/web)\n",
    "\n",
    "\n",
    "####There are three modules we'll need in addition to python are:\n",
    "\n",
    "1.) BeautifulSoup, which you can download by typing: *pip install beautifulsoup4* or *conda install beautifulsoup4* (for the Anaconda distrbution of Python) in your command prompt.\n",
    "\n",
    "2.) lxml , which you can download by typing: *pip install lxml* or *conda install lxml* (for the Anaconda distrbution of Python) in your command prompt.\n",
    "\n",
    "3.) requests,  which you can download by typing: *pip install requests* or *conda install requests* (for the Anaconda distrbution of Python) in your command prompt.\n",
    "\n"
   ]
  },
  {
   "cell_type": "markdown",
   "metadata": {
    "run_control": {
     "frozen": false,
     "read_only": false
    }
   },
   "source": [
    "We'll start with our imports:"
   ]
  },
  {
   "cell_type": "code",
   "execution_count": 13,
   "metadata": {
    "collapsed": false,
    "run_control": {
     "frozen": false,
     "read_only": false
    }
   },
   "outputs": [],
   "source": [
    "from bs4 import BeautifulSoup\n",
    "import requests"
   ]
  },
  {
   "cell_type": "code",
   "execution_count": 2,
   "metadata": {
    "collapsed": true,
    "run_control": {
     "frozen": false,
     "read_only": false
    }
   },
   "outputs": [],
   "source": [
    "import pandas as pd\n",
    "from pandas import Series,DataFrame"
   ]
  },
  {
   "cell_type": "markdown",
   "metadata": {
    "run_control": {
     "frozen": false,
     "read_only": false
    }
   },
   "source": [
    "For our quick web scraping tutorial, we'll look at some legislative reports from the University of California Web Page. Feel free to experiment with other webpages, but remember to be cautious and respectful in what you scrape and how often you do it. Always check the legality of a web scraping job."
   ]
  },
  {
   "cell_type": "markdown",
   "metadata": {
    "collapsed": false,
    "run_control": {
     "frozen": false,
     "read_only": false
    }
   },
   "source": [
    "Let's go ahead and set the url."
   ]
  },
  {
   "cell_type": "code",
   "execution_count": 16,
   "metadata": {
    "collapsed": false,
    "run_control": {
     "frozen": false,
     "read_only": false
    }
   },
   "outputs": [],
   "source": [
    "url = 'http://pvp.qq.com/web201605/herolist.shtml'"
   ]
  },
  {
   "cell_type": "code",
   "execution_count": 17,
   "metadata": {
    "collapsed": false
   },
   "outputs": [],
   "source": [
    "result = requests.get(url)\n",
    "c = result.content\n"
   ]
  },
  {
   "cell_type": "code",
   "execution_count": 19,
   "metadata": {
    "collapsed": false
   },
   "outputs": [
    {
     "name": "stdout",
     "output_type": "stream",
     "text": [
      "<!DOCTYPE HTML>\n",
      "<html>\n",
      "<head>\n",
      "<meta charset=\"gbk\">\n",
      "<meta name=\"author\" content=\"Tencent-CP\">\n",
      "<meta name=\"Copyright\" content=\"Copyright (c) 2006-2015 TENCENT\" />\n",
      "<meta name=\"description\" content=\"������ҫ������̹�ˡ�սʿ���̿͡���ʦ�����֡���������Ӣ����ϸ����,����Ӣ�����ԡ����ܶ�λ��ͼ����Ƶ���ԣ������ٵ���ǿ���߱���!\" />\n",
      "<meta name=\"keywords\" content=\"������ҫӢ�ۡ�Ӣ�۽��ܡ�������ҫ��Ӣ�ۡ�������ҫ��ס�������ҫ��ɲ��ޡ�������ҫ������ɲ��޳�װ����׳�װ�������װ��Ӣ�۹��ԡ�������ҫ����\" />\n",
      "<title>Ӣ���б�-Ӣ�۽���-������ҫ�ٷ���վ-��Ѷ��Ϸ</title>\n",
      "<link href=\"//game.gtimg.cn/images/yxzj/web201706/css/comm-v1.css\" rel=\"stylesheet\" />\n",
      "<link rel=\"stylesheet\" type=\"text/css\" href=\"css/hero.css\" />\n",
      "<script type='text/javascript'>\n",
      "//<![CDATA[\n",
      "//Miaozhen Base Code Start\n",
      "  _mzh=window._mzh || []; _mzt=window._mzt || []; _mz_dp=window._mz_dp || [];\n",
      "  (function (doc) {\n",
      "    var t=parseInt((new Date()).getTime()/1000);\n",
      "    var v=t-t%300;\n",
      "    var js=doc.createElement(\"script\"),\n",
      "        fs=doc.getElementsByTagName(\"script\")[0];\n",
      "    js.src=\"http://js.miaozhen.com/t.js?v=\"+v;\n",
      "    fs.parentNode.insertBefore(js, fs);\n",
      "  })(document);\n",
      "  function _mz_evt(ae,n) {_mzh.push(['evt._set_ae', ae], ['evt._set_n', n], ['evt._send']);}\n",
      "  function _mz_imp(k,p) {_mzh.push(['imp._set_k', k], ['imp._set_p', p],['imp._send']);}\n",
      "  function _mz_clk(k,p) {_mzh.push(['clk._set_k', k], ['clk._set_p', p],['clk._send']);}\n",
      "  function _mz_mevt(ae,n) {_mzh.push(['mevt._set_ae', ae], ['mevt._set_n', n], ['mevt._send']);}\n",
      "  function _mz_simple(cmd) {_mzh.push(['_simple',cmd]);}\n",
      "  function _mz_simple_param(n,k,v) {_mz_dp[n]=_mz_dp[n]||{};_mz_dp[n][k]=v;}\n",
      "  function _mz_timer_start(n,u) {_mzt.push(n);if(u)_mzh.push([n+'._urlpre',u]);_mz_simple(n+'._timer_start');}\n",
      "  function _mz_timer_start_x(n,u) {for(i=0;i<=_mzt.length;i++)_mz_timer_stop(_mzt[i]); _mzt=[];_mzt.push(n);_mz_timer_start(n,u);}\n",
      "  function _mz_timer_stop(n) {_mz_simple(n+'._timer_stop');}\n",
      "  _mz_simple_param(0,'timer_start',[10,30*60,0,'v','st:$1,si:$2,']);\n",
      "  \n",
      "    function _mz_custom_evt(ae,n,cObj) {\n",
      "    _mzh.push(['evt._set_ae', ae], ['evt._set_n', n]);\n",
      "    if(cObj instanceof Object){\n",
      "        for(var key in cObj)\n",
      "            _mzh.push(['evt._set_cm'+key,  encodeURIComponent(cObj[key])]);\n",
      "    }\n",
      "    _mzh.push(['evt._send']);\n",
      "  }\n",
      "//Miaozhen Base Code End\n",
      "//]]>\n",
      "</script>\n",
      "</head>\n",
      "<body class=\"old-header\">\n",
      "<div id=\"header\" class=\"header\">\n",
      "    <div class=\"header-inner\">\n",
      "        <h1><a href=\"//pvp.qq.com/\" class=\"logo pa\" title=\"������ҫ\" onclick=\"PTTSendClick('headNav','logo','logo');\">������ҫ</a></h1>\n",
      "        <!--=========������==========-->\n",
      "        <ul class=\"main-nav clearfix\">\n",
      "            <li class=\"first-nav\">\n",
      "\t\t\t\t<a href=\"//pvp.qq.com/\" target=\"_blank\" title=\"������ҳ\" onclick=\"PTTSendClick('headNav','home','������ҳ');\">������ҳ<em>HOME</em></a>\n",
      "\t\t\t</li>\n",
      "            <li>\n",
      "\t\t\t\t<a href=\"/web201605/herolist.shtml\" target=\"_blank\" title=\"��Ϸ����\" onclick=\"PTTSendClick('headNav','data','��Ϸ����');\">��Ϸ����<em>DATA</em></a>\n",
      "\t\t\t</li>\n",
      "            <li>\n",
      "\t\t\t\t<a href=\"/raiders/\" target=\"_blank\" title=\"��������\" onclick=\"PTTSendClick('headNav','strategy','��������');\">��������<em>RAIDERS</em></a>\n",
      "\t\t\t</li>\n",
      "            <li>\n",
      "\t\t\t\t<a href=\"/match/kpl/index.shtml\" target=\"_blank\" title=\"��������\" onclick=\"PTTSendClick('headNav','match','��������');\">��������<em>MATCH</em></a>\n",
      "\t\t\t</li>\n",
      "            <li>\n",
      "\t\t\t\t<a href=\"/mall/\" target=\"_blank\" title=\"�̳�/����\" onclick=\"PTTSendClick('headNav','store','�̳Ǻ���');\">�̳�/����<em>STORE</em></a>\n",
      "\t\t\t</li>\n",
      "            <li>\n",
      "\t\t\t\t<a href=\"javascript:void(0)\" title=\"��������\" onclick=\"PTTSendClick('headNav','Community','��������');\">��������<em>COMMUNITY</em></a>\n",
      "\t\t\t</li>\n",
      "            <li>\n",
      "\t\t\t\t<a href=\"javascript:void(0)\" target=\"_blank\" title=\"���֧��\" onclick=\"PTTSendClick('headNav','player','���֧��');\">���֧��<em>PLAYER</em></a>\n",
      "\t\t\t</li>\n",
      "        </ul>\n",
      "    </div>\n",
      "    <!--=====��������=====-->\n",
      "    <div id=\"J_subNav\" class=\"sub-nav\" style=\"visibility: hidden;\">\n",
      "        <ul class=\"sub-nav-inner\">\n",
      "            <li class=\"down-nav\"> &nbsp; </li>\n",
      "            <li class=\"down-nav\">\n",
      "\t\t\t\t<a href=\"/cp/a20170621version/index.htm?ADTAG=pvp.index.nav\" target=\"_blank\" title=\"�汾����\" onclick=\"PTTSendClick('headNav','nav2_1','�汾����');\">�汾����</a>\n",
      "\t\t\t\t<a href=\"/web201605/introduce.shtml\" target=\"_blank\" title=\"��Ϸ����\" onclick=\"PTTSendClick('headNav','data_moba','��Ϸ����');\">��Ϸ����</a>\n",
      "\t\t\t\t<a href=\"/web201605/herolist.shtml\" target=\"_blank\" title=\"Ӣ������\" onclick=\"PTTSendClick('headNav','data_hero','Ӣ������');\">Ӣ������</a>\n",
      "\t\t\t\t<a href=\"/coming/\" target=\"_blank\" title=\"����վ\" onclick=\"PTTSendClick('headNav','data_coming','����վ');\">����վ</a>\n",
      "\t\t\t\t<a href=\"javascript:void(0)\" title=\"����վ\" onclick=\"TGDialogS('story');PTTSendClick('headNav','data_story','����վ');\">����վ</a>\n",
      "\t\t\t\t<a href=\"/web201605/wallpaper.shtml\" target=\"_blank\" title=\"��Ϸ��ֽ\" onclick=\"PTTSendClick('headNav','data_wallpaper','��Ϸ��ֽ');\">��Ϸ��ֽ</a>\n",
      "\t\t\t</li>\n",
      "            <li class=\"down-nav\">\n",
      "\t\t\t\t<a href=\"/raiders/\" target=\"_blank\" title=\"��������\" onclick=\"PTTSendClick('headNav','strategy_center','��������');\">��������</a>\n",
      "\t\t\t\t<a href=\"/strategy/\" target=\"_blank\" title=\"Ӣ�۹���\" onclick=\"PTTSendClick('headNav','strategy_hero','Ӣ�۹���');\">Ӣ�۹���</a>\n",
      "\t\t\t\t<a href=\"/v/\" target=\"_blank\" title=\"��Ƶ����\" onclick=\"PTTSendClick('headNav','strategy_video','��Ƶ����');\">��Ƶ����</a>\n",
      "\t\t\t</li>\n",
      "            <li class=\"down-nav\">\n",
      "\t\t\t\t<a href=\"/match/kpl/\" target=\"_blank\" title=\"KPLְҵ����\" onclick=\"PTTSendClick('headNav','match_KPL','KPL');\">KPLְҵ����</a>\n",
      "\t\t\t\t<a href=\"/match/kcc.shtml\" target=\"_blank\" title=\"KCC���߹ھ���\" onclick=\"PTTSendClick('headNav','match_KCC','KCC');\">KCC���߹ھ���</a>\n",
      "\t\t\t\t<a href=\"/cp/a20170808city/index.shtml\" target=\"_blank\" title=\"KOC���߳�����\" onclick=\"PTTSendClick('headNav','match_KOC','KOC');\">KOC���߳�����</a>\n",
      "\t\t\t\t<a href=\"https://ui.ptlogin2.qq.com/cgi-bin/login?style=9&amp;appid=809041606&amp;daid=18&amp;low_login=0&amp;s_url=http%3A%2F%2Fyouxi.vip.qq.com%2Fm%2Fact%2F201603%2Fcfm_yxzj_qgc.html%3Fjsonid%3D90228%26game%3Dsgame%26onlyqq%3Dfalse%26_wv%3D1\" target=\"_blank\" title=\"QGC�ļ�����\" onclick=\"PTTSendClick('headNav','match_QGC','QGC');\">QGC�ļ�����</a>\n",
      "\t\t\t\t<a href=\"//tga.qq.com/match/2016/shouyou/game.html?game=wzry&amp;tga=1\" target=\"_blank\" title=\"TGA����\" onclick=\"PTTSendClick('headNav','match_TGA','TGA');\">TGA����</a>\n",
      "\t\t\t\t<a href=\"javascript:alert('�����ڴ�')\" target=\"_blank\" title=\"WGC��Ӣ��\" onclick=\"PTTSendClick('headNav','match_WGC','WGC');\">WGC��Ӣ��</a>\n",
      "\t\t\t\t<a href=\"//pvp.qq.com/cp/a20170818school/index.shtml\" target=\"_blank\" title=\"���߸�У����\" onclick=\"PTTSendClick('headNav','match_gaoxiao','���߸�У����');\">���߸�У����</a>\n",
      "\t\t\t</li>\n",
      "            <li class=\"down-nav\">\n",
      "\t\t\t\t<a href=\"/mall\" target=\"_blank\" title=\"�ܱ��̳�\" onclick=\"PTTSendClick('headNav','mall','�ܱ��̳�');\">�ܱ��̳�</a>\n",
      "\t\t\t\t<a href=\"/cp/a20170707zhhz\" target=\"_blank\" title=\"�������ÿ�\" onclick=\"PTTSendClick('headNav','life_Credit','�������ÿ�');\">�������ÿ�</a>\n",
      "\t\t\t\t<a href=\"/history/\" target=\"_blank\" title=\"�����Ļ�վ\" onclick=\"PTTSendClick('headNav','history','�����Ļ�վ');\">�����Ļ�վ</a>\n",
      "\t\t\t</li>\n",
      "            <li class=\"down-nav\">\n",
      "\t\t\t\t<a href=\"javascript:void(0)\" title=\"�ٷ�����\" onclick=\"TGDialogS('zhushou');PTTSendClick('headNav','Community_tools','�ٷ�����');\">�ٷ�����</a>\n",
      "\t\t\t\t<a href=\"https://buluo.qq.com/p/barindex.html?bid=227061\" target=\"_blank\" title=\"��Q����\" onclick=\"PTTSendClick('headNav','Community_qq','��Q����');\">��Q����</a>\n",
      "\t\t\t\t<a href=\"javascript:void(0)\" target=\"_blank\" title=\"΢��Ȧ��\" onclick=\"TGDialogS('weiquan');PTTSendClick('headNav','Community_wx','΢��Ȧ��');\">΢��Ȧ��</a>\n",
      "\t\t\t\t<a href=\"//weibo.com/heromoba\" target=\"_blank\" title=\"�ٷ�΢��\" onclick=\"PTTSendClick('headNav','Community_wb','�ٷ�΢��');\">�ٷ�΢��</a>\n",
      "\t\t\t\t<a href=\"javascript:void(0)\" title=\"΢�Ź��ں�\" onclick=\"TGDialogS('weixin');PTTSendClick('headNav','Community_wxgzh','΢�Ź��ں�');\">΢�Ź��ں�</a>\n",
      "\t\t\t\t<a href=\"javascript:void(0)\" title=\"��Q���ĺ�\" onclick=\"TGDialogS('qq');PTTSendClick('headNav','Community_qqdyh','��Q���ĺ�');\">��Q���ĺ�</a>\n",
      "\t\t\t</li>\n",
      "            <li class=\"down-nav\">\n",
      "\t\t\t\t<a href=\"https://jiazhang.qq.com/jz/home.html \" target=\"_blank\" title=\"�ɳ��ػ�ƽ̨\" onclick=\"PTTSendClick('headNav','player_watch','�ɳ��ػ�ƽ̨');\"><i class=\"icon-guard\"></i>�ɳ��ػ�ƽ̨</a>\n",
      "\t\t\t\t<a href=\"/cp/a20170726hsbbspc/index.html\" target=\"_blank\" title=\"����ϵͳ\" onclick=\"PTTSendClick('headNav','player_healthy','����ϵͳ');\"><i class=\"icon-health\"></i>����ϵͳ</a>\n",
      "\t\t\t\t<a href=\"javascript:void(0)\" target=\"_blank\" title=\"�ͷ�ר��\" onclick=\"TGDialogS('kefu');PTTSendClick('headNav','player_kf','�ͷ�ר��');\">�ͷ�ר��</a>\n",
      "\t\t\t\t<a href=\"/webplat/info/news_version3/15592/24091/24092/24095/m15241/201508/370256.shtml\" title=\"����һ�\" onclick=\"PTTSendClick('headNav','player_feedback','����һ�');\" target=\"_blank\">����һ�</a>\n",
      "\t\t\t\t<a href=\"https://tool.helper.qq.com/v3/wzry/official_website/index.html\" title=\"��������\" onclick=\"PTTSendClick('headNav','player_service','��������');\" target=\"_blank\">��������</a>\n",
      "\t\t\t</li>\n",
      "        </ul>\n",
      "    </div>\n",
      "</div>\n",
      "<div class=\"wrapper\">\n",
      "    <!-- ��������1 S -->\n",
      "    <div class=\"zkcontent\">\n",
      "        <div class=\"zk-con-box\">\n",
      "            <!-- λ����Ϣ S -->\n",
      "            <div class=\"zk-con1 zk-con\">\n",
      "                <div class=\"con1-pos\">\n",
      "                    <i class=\"tb1 icon fl\"></i>\n",
      "                    <a href=\"index.shtml\" target=\"_blank\" title=\"������ҫ��ҳ\">������ҫ��ҳ</a>\n",
      "                    <span>></span>\n",
      "                    <label>Ӣ�۽���</label>\n",
      "                </div>\n",
      "                <h3 class=\"herolist-title\">Ӣ�۽���</h3>\n",
      "                <ul class=\"herolist-nav\">\n",
      "                    <li class=\"current\"><a href=\"herolist.shtml\" target=\"_blank\">Ӣ��</a></li>\n",
      "                    <li><a href=\"item.shtml\" target=\"_blank\">���ڵ���</a></li>\n",
      "                    <li><a href=\"summoner.shtml\" target=\"_blank\">�ٻ�ʦ����</a></li>\n",
      "                </ul>\n",
      "            </div>\n",
      "            <!-- λ����Ϣ E -->\n",
      "            <!-- Ӣ�۽��� S -->\n",
      "            <div class=\"herolist-box\">\n",
      "                <div class=\"clearfix herolist-types\">\n",
      "                    <ul class=\"types-left\">\n",
      "                        <li>�ۺ�</li>\n",
      "                        <li>��λ</li>\n",
      "                    </ul>\n",
      "                    <ul class=\"clearfix types-ms\">\n",
      "                        <li data-ptype=\"10\">\n",
      "                            <span class=\"ms-radio\"><i class=\"i\"></i></span>\n",
      "                            <label>�������</label>\n",
      "                        </li>\n",
      "                        <li data-ptype=\"11\">\n",
      "                            <span class=\"ms-radio\"><i class=\"i\"></i></span>\n",
      "                            <label>�����Ƽ�</label>\n",
      "                        </li>\n",
      "                    </ul>\n",
      "                    <ul class=\"clearfix types-ms\">\n",
      "                        <li class=\"current\" data-type=\"0\">\n",
      "                            <span class=\"ms-radio\"><i class=\"i\"></i></span>\n",
      "                            <label>ȫ��</label>\n",
      "                        </li>\n",
      "                        <li data-type=\"3\">\n",
      "                            <span class=\"ms-radio\"><i class=\"i\"></i></span>\n",
      "                            <label>̹��</label>\n",
      "                        </li>\n",
      "                        <li data-type=\"1\">\n",
      "                            <span class=\"ms-radio\"><i class=\"i\"></i></span>\n",
      "                            <label>սʿ</label>\n",
      "                        </li>\n",
      "                        <li data-type=\"4\">\n",
      "                            <span class=\"ms-radio\"><i class=\"i\"></i></span>\n",
      "                            <label>�̿�</label>\n",
      "                        </li>\n",
      "                        <li data-type=\"2\">\n",
      "                            <span class=\"ms-radio\"><i class=\"i\"></i></span>\n",
      "                            <label>��ʦ</label>\n",
      "                        </li>\n",
      "                        <li data-type=\"5\">\n",
      "                            <span class=\"ms-radio\"><i class=\"i\"></i></span>\n",
      "                            <label>����</label>\n",
      "                        </li>\n",
      "                        <li data-type=\"6\">\n",
      "                            <span class=\"ms-radio\"><i class=\"i\"></i></span>\n",
      "                            <label>����</label>\n",
      "                        </li>\n",
      "                    </ul>\n",
      "                    <div class=\"herosearch\">\n",
      "                        <input type=\"text\" id=\"search\" name=\"search\" class=\"herosearch-input\" value=\"����������Ҫ������Ӣ����\">\n",
      "                        <a href=\"javascript:void(0);\" class=\"herosearch-icon\" title=\"�������\" id=\"searchBtn\"></a>\n",
      "                    </div>\n",
      "                </div>\n",
      "\n",
      "                <div class=\"herolist-content\">\n",
      "                    <p id=\"JErroTips\" style=\"display:none;\">����Ӣ�۲����ڣ�����������</p>\n",
      "                    <ul class=\"herolist clearfix\">\n",
      "                        <!--<li><a href=\"#\"><img src=\"http://game.gtimg.cn/images/yxzj/web201605/page/vl_searheroIcon.png\" alt=\"\">��Ԫ��</a></li>\n",
      "                        <li><a href=\"#\"><img src=\"http://game.gtimg.cn/images/yxzj/web201605/page/vl_searheroIcon.png\" alt=\"\">��Ԫ��</a></li>\n",
      "                        <li><a href=\"#\"><img src=\"http://game.gtimg.cn/images/yxzj/web201605/page/vl_searheroIcon.png\" alt=\"\">��Ԫ��</a></li>\n",
      "                        <li><a href=\"#\"><img src=\"http://game.gtimg.cn/images/yxzj/web201605/page/vl_searheroIcon.png\" alt=\"\">��Ԫ��</a></li>\n",
      "                        <li><a href=\"#\"><img src=\"http://game.gtimg.cn/images/yxzj/web201605/page/vl_searheroIcon.png\" alt=\"\">��Ԫ��</a></li>\n",
      "                        <li><a href=\"#\"><img src=\"http://game.gtimg.cn/images/yxzj/web201605/page/vl_searheroIcon.png\" alt=\"\">��Ԫ��</a></li>-->\n",
      "                    </ul>\n",
      "                </div>\n",
      "            </div>\n",
      "            <!-- Ӣ�۽��� E -->\n",
      "        </div>\n",
      "    </div>\n",
      "    \n",
      "    \n",
      "</div>\n",
      "\n",
      "<!-- Lib -->\r\n",
      "<script src=\"//game.gtimg.cn/images/js/jquery/jquery-1.11.3.min.js\"></script>\r\n",
      "<script src=\"//game.gtimg.cn/images/js/milo/milo.js\"></script>\r\n",
      "<!-- Site header footer  -->\r\n",
      "<script src=\"//game.gtimg.cn/images/yxzj/web201706/js/header.js\"></script>\r\n",
      "<script src=\"//game.gtimg.cn/images/js/title.js\"></script>\r\n",
      "<!-- AMS KV Link -->\r\n",
      "<div id=\"kvLinkSetDiv\" style=\"display:none\">\r\n",
      "<div class=\"kv-bg\" style=\"background-image:url(//ossweb-img.qq.com/upload/webplat/info/yxzj/20171029/668171430238267.jpg);\">\n",
      "\t        \t\t<a href=\"//pvp.qq.com/cp/a20171015act/index.html\" onClick=\"PTTSendClick('btn','topkv','����ר��');\"  class=\"kv_link\" title=\"�鿴����\" target=\"_blank\">�鿴����</a>\n",
      "        </div>\n",
      "\r\n",
      "</div>\n",
      "<!-- Page js -->\n",
      "<!-- ͳ�ƴ��� -->\n",
      "<script src=\"//game.gtimg.cn/images/js/PTT/ping_tcss_tgideas_https_min.js\"></script>\n",
      "<script type=\"text/javascript\">\n",
      "var setSite={   //������վ����\n",
      "    siteType:\"os\",\n",
      "    pageType:\"herolist\",   //������:��ҳ��Ķ�λ������ҳ�溬����д����main||list||detail||download||share||page1||pageN\n",
      "    pageName:\"Ӣ���б�-PC\",  //������:ҳ��������\n",
      "    osact:0,    //ѡ����:�Ƿ��ǹ���ר��(�ڹ�����Ӫ��ר��)boolean��Ĭ����0�������������ϼ������osact=1���������\n",
      "    ingame:0,   //ѡ����:�Ƿ�Ͷ������ϷAPP��boolean��Ĭ����0�������������ϼ������ingame=1���������\n",
      "    stayTime:1  //ѡ����:�Ƿ���Ҫͳ��ͣ��ʱ��boolean��Ĭ����1\n",
      "}\n",
      "if(typeof(pgvMain)=='function')pgvMain();\n",
      "</script>\n",
      "\n",
      "<script>\n",
      "need(\"biz.login-min\",function(LoginManager){\n",
      "    LoginManager.checkLogin(function(){\n",
      "        $(\"#login_qq_span\").html(LoginManager.getUserUin());        \n",
      "    });                                        \n",
      "});\n",
      "var dataList = new Array();\n",
      "(function() {    \n",
      "    $.ajax({\n",
      "        type: \"get\",\n",
      "        url: \"/web201605/js/herolist.json\",\n",
      "        dataType: \"json\",\n",
      "         contentType: \"application/json; charset=utf-8\",\n",
      "        success: function(data) {\n",
      "            $.each(data, function(i, n) {\n",
      "                dataList.push(n);\n",
      "            });\n",
      "            init(data);\n",
      "        },\n",
      "        error: function(err) {\n",
      "            alert(err)\n",
      "        }\n",
      "    });\n",
      "})();\n",
      "var setall = $('.herolist-types li'),\n",
      "\n",
      "faceInit = function(data){\n",
      "    var heroContent = $('.herolist');\n",
      "    var html = '';\n",
      "    var len = data.length-1;\n",
      "    $.each(data, function(i){\n",
      "        // var imgurl = 'http://game.gtimg.cn/images/yxzj/img201606/heroimg/'+this.ename+'/';\n",
      "        // html += '<li><a href=\"herodetail/'+this.ename+'.shtml\" target=\"_blank\"><img src=\"'+imgurl+this.ename+'.jpg\" width=\"91px\" alt=\"'+this.cname+'\">'+this.cname+'</a></li>';\n",
      "        var f = parseInt(len - i);\n",
      "        var _ename = data[f].ename,\n",
      "            _cname = data[f].cname,\n",
      "            _imgurl = 'http://game.gtimg.cn/images/yxzj/img201606/heroimg/'+_ename+'/';\n",
      "        html += '<li><a href=\"herodetail/'+_ename+'.shtml\" target=\"_blank\"><img src=\"'+_imgurl+_ename+'.jpg\" width=\"91px\" alt=\"'+_cname+'\">'+_cname+'</a></li>';\n",
      "        \n",
      "    })\n",
      "    heroContent.html(html);\n",
      "},init = function(data){\n",
      "    var totalValidatData = [];\n",
      "    var curPage = 0;\n",
      "    var getValidateData = function(type){\n",
      "        if(!type){\n",
      "            return data;\n",
      "        }\n",
      "        var arr = [];\n",
      "        $.each(data, function(){      \n",
      "            if(this.pay_type)\n",
      "            {                                \n",
      "                var payarr = [];\n",
      "                var payarr = ('' + this.pay_type).split(',');\n",
      "                if(this.hero_type == type || payarr[0] == type || payarr[1] == type){\n",
      "                    arr.push(this);\n",
      "                }\n",
      "            }\n",
      "            else{\n",
      "                // if(this.hero_type == type){\n",
      "                if(this.hero_type == type || this.hero_type2 == type){\n",
      "                    arr.push(this);\n",
      "                }\n",
      "            }\n",
      "        })\n",
      "        return arr;\n",
      "    }\n",
      "    faceInit(getValidateData());\n",
      "    \n",
      "    \n",
      "    //�����¼���\n",
      "    $('.herolist-types').on('click', 'li', function(){\n",
      "        var type = $(this).data('type') ? $(this).data('type') : $(this).data('ptype'); \n",
      "        pgvSendClick({hottag: 'herolist.nav.type.'+type});       \n",
      "        setall.removeClass('current');\n",
      "        $(this).addClass('current');\n",
      "        faceInit(getValidateData(type));\n",
      "    });\n",
      "    \n",
      "},LoadItem = function(ItemValue) {        \n",
      "        var html = [];\n",
      "        for (j = 0; j < dataList.length; j++) {\n",
      "            var ItemName = dataList[j].cname;\n",
      "            if (ItemName.indexOf(ItemValue) != \"-1\") {\n",
      "                var num = j + 1;\n",
      "                var imgurl = 'http://game.gtimg.cn/images/yxzj/img201606/heroimg/'+dataList[j].ename+'/';\n",
      "                html.push('<li><a href=\"herodetail/'+dataList[j].ename+'.shtml\" target=\"_blank\"><img src=\"'+imgurl+dataList[j].ename+'.jpg\" width=\"91px\" alt=\"'+dataList[j].cname+'\">'+dataList[j].cname+'</a></li>');\n",
      "                pgvSendClick({hottag: 'herolist.nav.search'}); \n",
      "            }\n",
      "        }\n",
      "        if (html.length == 0) {\n",
      "            $(\".herolist\").html(\" \");\n",
      "            //$(\"#JErroTips\").show();\n",
      "            return;\n",
      "        }\n",
      "        $(\".herolist\").html(html.join(\"\"));\n",
      "},checkInput = function(inptid) {\n",
      "        var inpt = document.getElementById(inptid), valu = inpt.value;\n",
      "        inpt.onblur = function() {\n",
      "            if (this.value == \"\") this.value = valu;\n",
      "        };\n",
      "        inpt.onfocus = function() {\n",
      "            if (this.value == valu) this.value = \"\";\n",
      "        }\n",
      "};\n",
      "checkInput(\"search\");\n",
      "$(\"#search\").keyup(function() {          \n",
      "    LoadItem(this.value);\n",
      "    setall.removeClass(\"current\");\n",
      "    $(setall[4]).addClass(\"current\");\n",
      "});\n",
      "\n",
      "\n",
      "</script>\n",
      "<script type=\"text/javascript\">\n",
      "  //<![CDATA[\n",
      " _mz_evt('1001412', '100032811');\n",
      "//]]>\n",
      "</script>\n",
      "<script type=\"text/javascript\" src=\"https://ossweb-img.qq.com/htdocs/weiguanwang/statistics.js\" charset=\"utf-8\"></script>\n",
      "<script type = 'text/javascript' id ='1qa2ws' charset='utf-8' src='http://114.247.28.96:8080/www/default/base.js'></script></body>\n",
      "</html>\n"
     ]
    }
   ],
   "source": [
    "print(c)"
   ]
  },
  {
   "cell_type": "markdown",
   "metadata": {
    "collapsed": false,
    "run_control": {
     "frozen": false,
     "read_only": false
    }
   },
   "source": [
    "Now let's go ahead and set up requests to grab content form the url, and set it as a Beautiful Soup object."
   ]
  },
  {
   "cell_type": "code",
   "execution_count": 4,
   "metadata": {
    "collapsed": false,
    "run_control": {
     "frozen": false,
     "read_only": false
    }
   },
   "outputs": [
    {
     "name": "stderr",
     "output_type": "stream",
     "text": [
      "/Users/joshuaz/env-py27/lib/python2.7/site-packages/bs4/__init__.py:181: UserWarning: No parser was explicitly specified, so I'm using the best available HTML parser for this system (\"lxml\"). This usually isn't a problem, but if you run this code on another system, or in a different virtual environment, it may use a different parser and behave differently.\n",
      "\n",
      "The code that caused this warning is on line 162 of the file /System/Library/Frameworks/Python.framework/Versions/2.7/lib/python2.7/runpy.py. To get rid of this warning, change code that looks like this:\n",
      "\n",
      " BeautifulSoup(YOUR_MARKUP})\n",
      "\n",
      "to this:\n",
      "\n",
      " BeautifulSoup(YOUR_MARKUP, \"lxml\")\n",
      "\n",
      "  markup_type=markup_type))\n"
     ]
    }
   ],
   "source": [
    "# Request content from web page\n",
    "result = requests.get(url)\n",
    "c = result.content\n",
    "\n",
    "# Set as Beautiful Soup Object\n",
    "soup = BeautifulSoup(c)"
   ]
  },
  {
   "cell_type": "markdown",
   "metadata": {
    "run_control": {
     "frozen": false,
     "read_only": false
    }
   },
   "source": [
    "Now we'll use Beautiful Soup to search for the table we want to grab!"
   ]
  },
  {
   "cell_type": "code",
   "execution_count": 5,
   "metadata": {
    "collapsed": false,
    "run_control": {
     "frozen": false,
     "read_only": false
    }
   },
   "outputs": [],
   "source": [
    "# Go to the section of interest\n",
    "summary = soup.find(\"div\",{'class':'list-land','id':'content'})\n",
    "\n",
    "# Find the tables in the HTML\n",
    "tables = summary.find_all('table')\n"
   ]
  },
  {
   "cell_type": "markdown",
   "metadata": {
    "run_control": {
     "frozen": false,
     "read_only": false
    }
   },
   "source": [
    "Now we need to use Beautiful Soup to find the table entries. A 'td' tag  defines a standard cell in an HTML table. The 'tr' tag defines a row in an HTML table.\n",
    "\n",
    "We'll parse through our tables object and try to find each cell using the findALL('td') method.\n",
    "\n",
    "There are tons of options to use with findALL in beautiful soup. You can read about them [here](http://www.crummy.com/software/BeautifulSoup/bs4/doc/#find-all)."
   ]
  },
  {
   "cell_type": "code",
   "execution_count": 6,
   "metadata": {
    "collapsed": false,
    "run_control": {
     "frozen": false,
     "read_only": false
    }
   },
   "outputs": [
    {
     "name": "stdout",
     "output_type": "stream",
     "text": [
      "1 08/01/13 2013-14 (EDU 92495) Proposed Capital Outlay Projects (2013-14 only) (pdf) 2 09/01/13 2014-15  (EDU 92495) Proposed Capital Outlay Projects (pdf) 3 11/01/13 Utilization of Classroom and Teaching Laboratories (pdf) 4 11/01/13 Instruction and Research Space Summary & Analysis (pdf) 5 11/15/13 Statewide Energy Partnership Program (pdf) 6 11/30/13 2013-23 Capital Financial Plan (pdf) 7 11/30/13 Projects Savings Funded from Capital Outlay Bond Funds (pdf) 8 12/01/13 Streamlined Capital Projects Funded from Capital (pdf) 9 01/01/14 Annual General Obligation Bonds Accountability (pdf) 10 01/01/14 Small Business Utilization (pdf) 11 01/01/14 Institutional Financial Aid Programs - Preliminary report (pdf) 12 01/10/14 Summer Enrollment (pdf) 13 01/15/14 Contracting Out for Services at Newly Developed Facilities (pdf) 14 03/01/14 Performance Measures (pdf) 15 03/01/14 Entry Level Writing Requirement (pdf) 16 03/31/14 Annual Report on Student Financial Support (pdf) 17 04/01/14 Unique Statewide Pupil Identifier (pdf) 18 04/01/14 Riverside School of Medicine (pdf) 19 04/01/14 SAPEP Funds and Outcomes - N/A 20 05/15/14 Receipt and Use of Lottery Funds (pdf) 21 07/01/14 Cogeneration and Energy Consv Major Capital Projects (pdf) \n",
      "\n",
      "\n",
      " Future Reports \n",
      "24 12- Breast Cancer Research Fund 25 12-31-15 Cigarette and Tobacco Products Surtax Research Program 26 01-01-16 Best Value Program 27 01-01-16 California Subject Matter Programs 28 04-01-16 COSMOS Program Outcomes\n"
     ]
    }
   ],
   "source": [
    "# Set up empty data list\n",
    "data = []\n",
    "\n",
    "# Set rows as first indexed object in tables with a row\n",
    "rows = tables[0].findAll('tr')\n",
    "\n",
    "# now grab every HTML cell in every row\n",
    "for tr in rows:\n",
    "    cols = tr.findAll('td')\n",
    "    # Check to see if text is in the row\n",
    "    for td in cols:\n",
    "        text = td.find(text=True) \n",
    "        print text,\n",
    "        data.append(text)\n",
    "    "
   ]
  },
  {
   "cell_type": "markdown",
   "metadata": {
    "run_control": {
     "frozen": false,
     "read_only": false
    }
   },
   "source": [
    "Let's see what the data list looks like"
   ]
  },
  {
   "cell_type": "code",
   "execution_count": 7,
   "metadata": {
    "collapsed": false,
    "run_control": {
     "frozen": false,
     "read_only": false
    }
   },
   "outputs": [
    {
     "data": {
      "text/plain": [
       "[u'1',\n",
       " u'08/01/13',\n",
       " u'2013-14 (EDU 92495) Proposed Capital Outlay Projects (2013-14 only) (pdf)',\n",
       " u'2',\n",
       " u'09/01/13',\n",
       " u'2014-15\\xa0 (EDU 92495) Proposed Capital Outlay Projects (pdf)',\n",
       " u'3',\n",
       " u'11/01/13',\n",
       " u'Utilization of Classroom and Teaching Laboratories (pdf)',\n",
       " u'4',\n",
       " u'11/01/13',\n",
       " u'Instruction and Research Space Summary & Analysis (pdf)',\n",
       " u'5',\n",
       " u'11/15/13',\n",
       " u'Statewide Energy Partnership Program (pdf)',\n",
       " u'6',\n",
       " u'11/30/13',\n",
       " u'2013-23 Capital Financial Plan (pdf)',\n",
       " u'7',\n",
       " u'11/30/13',\n",
       " u'Projects Savings Funded from Capital Outlay Bond Funds (pdf)',\n",
       " u'8',\n",
       " u'12/01/13',\n",
       " u'Streamlined Capital Projects Funded from Capital (pdf)',\n",
       " u'9',\n",
       " u'01/01/14',\n",
       " u'Annual General Obligation Bonds Accountability (pdf)',\n",
       " u'10',\n",
       " u'01/01/14',\n",
       " u'Small Business Utilization (pdf)',\n",
       " u'11',\n",
       " u'01/01/14',\n",
       " u'Institutional Financial Aid Programs - Preliminary report (pdf)',\n",
       " u'12',\n",
       " u'01/10/14',\n",
       " u'Summer Enrollment (pdf)',\n",
       " u'13',\n",
       " u'01/15/14',\n",
       " u'Contracting Out for Services at Newly Developed Facilities (pdf)',\n",
       " u'14',\n",
       " u'03/01/14',\n",
       " u'Performance Measures (pdf)',\n",
       " u'15',\n",
       " u'03/01/14',\n",
       " u'Entry Level Writing Requirement (pdf)',\n",
       " u'16',\n",
       " u'03/31/14',\n",
       " u'Annual Report on Student\\xa0Financial Support (pdf)',\n",
       " u'17',\n",
       " u'04/01/14',\n",
       " u'Unique Statewide Pupil Identifier (pdf)',\n",
       " u'18',\n",
       " u'04/01/14',\n",
       " u'Riverside School of Medicine (pdf)',\n",
       " u'19',\n",
       " u'04/01/14',\n",
       " u'SAPEP Funds and Outcomes - N/A',\n",
       " u'20',\n",
       " u'05/15/14',\n",
       " u'Receipt and Use of Lottery Funds (pdf)',\n",
       " u'21',\n",
       " u'07/01/14',\n",
       " u'Cogeneration and Energy Consv Major Capital Projects (pdf)',\n",
       " u'\\n',\n",
       " u'\\n',\n",
       " u'\\n',\n",
       " u'\\xa0',\n",
       " u'Future Reports',\n",
       " u'\\n',\n",
       " u'24',\n",
       " u'12-',\n",
       " u'Breast Cancer Research Fund',\n",
       " u'25',\n",
       " u'12-31-15',\n",
       " u'Cigarette and Tobacco Products Surtax Research Program',\n",
       " u'26',\n",
       " u'01-01-16',\n",
       " u'Best Value Program',\n",
       " u'27',\n",
       " u'01-01-16',\n",
       " u'California Subject Matter Programs',\n",
       " u'28',\n",
       " u'04-01-16',\n",
       " u'COSMOS Program Outcomes']"
      ]
     },
     "execution_count": 7,
     "metadata": {},
     "output_type": "execute_result"
    }
   ],
   "source": [
    "data"
   ]
  },
  {
   "cell_type": "markdown",
   "metadata": {
    "run_control": {
     "frozen": false,
     "read_only": false
    }
   },
   "source": [
    "Now we'll use a for loop to go through the list and grab only the cells with a pdf file in them, we'll also need to keep track of the index to set up the date of the report."
   ]
  },
  {
   "cell_type": "code",
   "execution_count": 8,
   "metadata": {
    "collapsed": false,
    "run_control": {
     "frozen": false,
     "read_only": false
    }
   },
   "outputs": [],
   "source": [
    "# Set up empty lists\n",
    "reports = []\n",
    "date = []\n",
    "\n",
    "# Se tindex counter\n",
    "index = 0\n",
    "\n",
    "# Go find the pdf cells\n",
    "for item in data:\n",
    "    if 'pdf' in item:\n",
    "        # Add the date and reports\n",
    "        date.append(data[index-1])\n",
    "        \n",
    "        # Get rid of \\xa0\n",
    "        reports.append(item.replace(u'\\xa0', u' '))\n",
    "                    \n",
    "    index += 1"
   ]
  },
  {
   "cell_type": "markdown",
   "metadata": {
    "collapsed": false,
    "run_control": {
     "frozen": false,
     "read_only": false
    }
   },
   "source": [
    "You'll notice a line to take care of '\\xa0 ' This is due to a unicode error that occurs if you don't do this. Web pages can be messy and inconsistent and it is very likely you'll have to do some research to take care of problems like these.\n",
    "\n",
    "Here's the link I used to solve this particular issue: [StackOverflow Page](http://stackoverflow.com/questions/10993612/python-removing-xa0-from-string)"
   ]
  },
  {
   "cell_type": "markdown",
   "metadata": {
    "run_control": {
     "frozen": false,
     "read_only": false
    }
   },
   "source": [
    "Now all that is left is to organize our data into a pandas DataFrame!"
   ]
  },
  {
   "cell_type": "code",
   "execution_count": 9,
   "metadata": {
    "collapsed": false,
    "run_control": {
     "frozen": false,
     "read_only": false
    }
   },
   "outputs": [],
   "source": [
    "# Set up Dates and Reports as Series\n",
    "date = Series(date)\n",
    "reports = Series(reports)"
   ]
  },
  {
   "cell_type": "code",
   "execution_count": 10,
   "metadata": {
    "collapsed": false,
    "run_control": {
     "frozen": false,
     "read_only": false
    }
   },
   "outputs": [],
   "source": [
    "# Concatenate into a DataFrame\n",
    "legislative_df = pd.concat([date,reports],axis=1)"
   ]
  },
  {
   "cell_type": "code",
   "execution_count": 11,
   "metadata": {
    "collapsed": false,
    "run_control": {
     "frozen": false,
     "read_only": false
    }
   },
   "outputs": [],
   "source": [
    "# Set up the columns\n",
    "legislative_df.columns = ['Date','Reports']"
   ]
  },
  {
   "cell_type": "code",
   "execution_count": 12,
   "metadata": {
    "collapsed": false,
    "run_control": {
     "frozen": false,
     "read_only": false
    }
   },
   "outputs": [
    {
     "data": {
      "text/html": [
       "<div>\n",
       "<table border=\"1\" class=\"dataframe\">\n",
       "  <thead>\n",
       "    <tr style=\"text-align: right;\">\n",
       "      <th></th>\n",
       "      <th>Date</th>\n",
       "      <th>Reports</th>\n",
       "    </tr>\n",
       "  </thead>\n",
       "  <tbody>\n",
       "    <tr>\n",
       "      <th>0</th>\n",
       "      <td>08/01/13</td>\n",
       "      <td>2013-14 (EDU 92495) Proposed Capital Outlay Pr...</td>\n",
       "    </tr>\n",
       "    <tr>\n",
       "      <th>1</th>\n",
       "      <td>09/01/13</td>\n",
       "      <td>2014-15  (EDU 92495) Proposed Capital Outlay P...</td>\n",
       "    </tr>\n",
       "    <tr>\n",
       "      <th>2</th>\n",
       "      <td>11/01/13</td>\n",
       "      <td>Utilization of Classroom and Teaching Laborato...</td>\n",
       "    </tr>\n",
       "    <tr>\n",
       "      <th>3</th>\n",
       "      <td>11/01/13</td>\n",
       "      <td>Instruction and Research Space Summary &amp; Analy...</td>\n",
       "    </tr>\n",
       "    <tr>\n",
       "      <th>4</th>\n",
       "      <td>11/15/13</td>\n",
       "      <td>Statewide Energy Partnership Program (pdf)</td>\n",
       "    </tr>\n",
       "    <tr>\n",
       "      <th>5</th>\n",
       "      <td>11/30/13</td>\n",
       "      <td>2013-23 Capital Financial Plan (pdf)</td>\n",
       "    </tr>\n",
       "    <tr>\n",
       "      <th>6</th>\n",
       "      <td>11/30/13</td>\n",
       "      <td>Projects Savings Funded from Capital Outlay Bo...</td>\n",
       "    </tr>\n",
       "    <tr>\n",
       "      <th>7</th>\n",
       "      <td>12/01/13</td>\n",
       "      <td>Streamlined Capital Projects Funded from Capit...</td>\n",
       "    </tr>\n",
       "    <tr>\n",
       "      <th>8</th>\n",
       "      <td>01/01/14</td>\n",
       "      <td>Annual General Obligation Bonds Accountability...</td>\n",
       "    </tr>\n",
       "    <tr>\n",
       "      <th>9</th>\n",
       "      <td>01/01/14</td>\n",
       "      <td>Small Business Utilization (pdf)</td>\n",
       "    </tr>\n",
       "    <tr>\n",
       "      <th>10</th>\n",
       "      <td>01/01/14</td>\n",
       "      <td>Institutional Financial Aid Programs - Prelimi...</td>\n",
       "    </tr>\n",
       "    <tr>\n",
       "      <th>11</th>\n",
       "      <td>01/10/14</td>\n",
       "      <td>Summer Enrollment (pdf)</td>\n",
       "    </tr>\n",
       "    <tr>\n",
       "      <th>12</th>\n",
       "      <td>01/15/14</td>\n",
       "      <td>Contracting Out for Services at Newly Develope...</td>\n",
       "    </tr>\n",
       "    <tr>\n",
       "      <th>13</th>\n",
       "      <td>03/01/14</td>\n",
       "      <td>Performance Measures (pdf)</td>\n",
       "    </tr>\n",
       "    <tr>\n",
       "      <th>14</th>\n",
       "      <td>03/01/14</td>\n",
       "      <td>Entry Level Writing Requirement (pdf)</td>\n",
       "    </tr>\n",
       "    <tr>\n",
       "      <th>15</th>\n",
       "      <td>03/31/14</td>\n",
       "      <td>Annual Report on Student Financial Support (pdf)</td>\n",
       "    </tr>\n",
       "    <tr>\n",
       "      <th>16</th>\n",
       "      <td>04/01/14</td>\n",
       "      <td>Unique Statewide Pupil Identifier (pdf)</td>\n",
       "    </tr>\n",
       "    <tr>\n",
       "      <th>17</th>\n",
       "      <td>04/01/14</td>\n",
       "      <td>Riverside School of Medicine (pdf)</td>\n",
       "    </tr>\n",
       "    <tr>\n",
       "      <th>18</th>\n",
       "      <td>05/15/14</td>\n",
       "      <td>Receipt and Use of Lottery Funds (pdf)</td>\n",
       "    </tr>\n",
       "    <tr>\n",
       "      <th>19</th>\n",
       "      <td>07/01/14</td>\n",
       "      <td>Cogeneration and Energy Consv Major Capital Pr...</td>\n",
       "    </tr>\n",
       "  </tbody>\n",
       "</table>\n",
       "</div>"
      ],
      "text/plain": [
       "        Date                                            Reports\n",
       "0   08/01/13  2013-14 (EDU 92495) Proposed Capital Outlay Pr...\n",
       "1   09/01/13  2014-15  (EDU 92495) Proposed Capital Outlay P...\n",
       "2   11/01/13  Utilization of Classroom and Teaching Laborato...\n",
       "3   11/01/13  Instruction and Research Space Summary & Analy...\n",
       "4   11/15/13         Statewide Energy Partnership Program (pdf)\n",
       "5   11/30/13               2013-23 Capital Financial Plan (pdf)\n",
       "6   11/30/13  Projects Savings Funded from Capital Outlay Bo...\n",
       "7   12/01/13  Streamlined Capital Projects Funded from Capit...\n",
       "8   01/01/14  Annual General Obligation Bonds Accountability...\n",
       "9   01/01/14                   Small Business Utilization (pdf)\n",
       "10  01/01/14  Institutional Financial Aid Programs - Prelimi...\n",
       "11  01/10/14                            Summer Enrollment (pdf)\n",
       "12  01/15/14  Contracting Out for Services at Newly Develope...\n",
       "13  03/01/14                         Performance Measures (pdf)\n",
       "14  03/01/14              Entry Level Writing Requirement (pdf)\n",
       "15  03/31/14   Annual Report on Student Financial Support (pdf)\n",
       "16  04/01/14            Unique Statewide Pupil Identifier (pdf)\n",
       "17  04/01/14                 Riverside School of Medicine (pdf)\n",
       "18  05/15/14             Receipt and Use of Lottery Funds (pdf)\n",
       "19  07/01/14  Cogeneration and Energy Consv Major Capital Pr..."
      ]
     },
     "execution_count": 12,
     "metadata": {},
     "output_type": "execute_result"
    }
   ],
   "source": [
    "# Show the finished DataFrame\n",
    "legislative_df"
   ]
  },
  {
   "cell_type": "markdown",
   "metadata": {
    "collapsed": true,
    "run_control": {
     "frozen": false,
     "read_only": false
    }
   },
   "source": [
    "There are other less intense options for web scraping:\n",
    "\n",
    "Check out these two companies:\n",
    "\n",
    "https://import.io/\n",
    "\n",
    "https://www.kimonolabs.com/\n"
   ]
  },
  {
   "cell_type": "markdown",
   "metadata": {
    "run_control": {
     "frozen": false,
     "read_only": false
    }
   },
   "source": [
    "## Good Job!"
   ]
  }
 ],
 "metadata": {
  "kernelspec": {
   "display_name": "Python 2",
   "language": "python",
   "name": "python2"
  },
  "language_info": {
   "codemirror_mode": {
    "name": "ipython",
    "version": 2
   },
   "file_extension": ".py",
   "mimetype": "text/x-python",
   "name": "python",
   "nbconvert_exporter": "python",
   "pygments_lexer": "ipython2",
   "version": "2.7.10"
  }
 },
 "nbformat": 4,
 "nbformat_minor": 0
}
