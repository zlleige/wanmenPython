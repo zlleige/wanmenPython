{
 "cells": [
  {
   "cell_type": "markdown",
   "metadata": {
    "run_control": {
     "frozen": false,
     "read_only": false
    }
   },
   "source": [
    "### 正则表达式\n",
    "\n",
    "正则表达式就是用于描述字符串规则的工具。换句话说，正则表达式就是记录文本规则的代码。\n",
    "\n",
    "#### 能用来做什么：\n",
    "\n",
    "- 在大段文字中搜索特定规则字符串，例如：你想找到email地址在哪里\n",
    "- 替代特定规则的字符串们，例如：你向把特定规则的小写文字替代成大写\n",
    "- 校验输入的正确性，例如：你在设置密码的时候，你要求密码的长度或大小写<br/>\n",
    "等等<br/>\n",
    "\n",
    "https://deerchao.net/tutorials/regex/regex.htm\n",
    "\n",
    "https://docs.python.org/3.6/library/re.html\n",
    "\n",
    "https://regex101.com/"
   ]
  },
  {
   "cell_type": "markdown",
   "metadata": {
    "run_control": {
     "frozen": false,
     "read_only": false
    }
   },
   "source": [
    "### 常见代码\n",
    "```\n",
    ".\t匹配除换行符以外的任意字符\n",
    "\\w\t匹配字母或数字或下划线或汉字\n",
    "\\s\t匹配任意的空白符\n",
    "\\d\t匹配数字\n",
    "\\b\t匹配单词的开始或结束\n",
    "^\t匹配字符串的开始\n",
    "$\t匹配字符串的结束\n",
    "\n",
    "*\t重复零次或更多次\n",
    "+\t重复一次或更多次\n",
    "?\t重复零次或一次\n",
    "{n}\t重复n次\n",
    "{n,}\t重复n次或更多次\n",
    "{n,m}\t重复n到m次\n",
    "\n",
    "\\W\t匹配任意不是字母，数字，下划线，汉字的字符\n",
    "\\S\t匹配任意不是空白符的字符\n",
    "\\D\t匹配任意非数字的字符\n",
    "\\B\t匹配不是单词开头或结束的位置\n",
    "[^x]\t匹配除了x以外的任意字符\n",
    "[^aeiou]\t匹配除了aeiou这几个字母以外的任意字符\n",
    "```"
   ]
  },
  {
   "cell_type": "code",
   "execution_count": 9,
   "metadata": {
    "collapsed": true,
    "run_control": {
     "frozen": false,
     "read_only": false
    }
   },
   "outputs": [],
   "source": [
    "re_desc = \"\"\"\n",
    "This module provides regular expression matching operations similar to those found in Perl. Both patterns and strings to be searched can be Unicode strings as well as 8-bit strings.\n",
    "Regular expressions use the backslash character ('\\') to indicate special forms or to allow special characters to be used without invoking their special meaning. This collides with Python’s usage of the same character for the same purpose in string literals; for example, to match a literal backslash, one might have to write '\\\\\\\\' as the pattern string, because the regular expression must be \\\\, and each backslash must be expressed as \\\\ inside a regular Python string literal.\n",
    "The solution is to use Python’s raw string notation for regular expression patterns; backslashes are not handled in any special way in a string literal prefixed with 'r'. So r\"\\n\" is a two-character string containing '\\' and 'n', while \"\\n\" is a one-character string containing a newline. Usually patterns will be expressed in Python code using this raw string notation.\n",
    "It is important to note that most regular expression operations are available as module-level functions and RegexObject methods. The functions are shortcuts that don’t require you to compile a regex object first, but miss some fine-tuning parameters.\n",
    "\"\"\""
   ]
  },
  {
   "cell_type": "markdown",
   "metadata": {
    "run_control": {
     "frozen": false,
     "read_only": false
    }
   },
   "source": [
    "#### 基本语法"
   ]
  },
  {
   "cell_type": "code",
   "execution_count": 2,
   "metadata": {
    "run_control": {
     "frozen": false,
     "read_only": false
    }
   },
   "outputs": [],
   "source": [
    "import sys  \n",
    "import re  "
   ]
  },
  {
   "cell_type": "code",
   "execution_count": 99,
   "metadata": {
    "run_control": {
     "frozen": false,
     "read_only": false
    }
   },
   "outputs": [
    {
     "data": {
      "text/plain": [
       "5"
      ]
     },
     "execution_count": 99,
     "metadata": {},
     "output_type": "execute_result"
    }
   ],
   "source": [
    "re_desc.count(\"expression\")"
   ]
  },
  {
   "cell_type": "markdown",
   "metadata": {
    "run_control": {
     "frozen": false,
     "read_only": false
    }
   },
   "source": [
    "https://docs.python.org/2/library/re.html#search-vs-match"
   ]
  },
  {
   "cell_type": "code",
   "execution_count": 146,
   "metadata": {
    "run_control": {
     "frozen": false,
     "read_only": false
    }
   },
   "outputs": [
    {
     "data": {
      "text/plain": [
       "'expression'"
      ]
     },
     "execution_count": 146,
     "metadata": {},
     "output_type": "execute_result"
    }
   ],
   "source": [
    "pattern = re.compile(r\"expression\")\n",
    "search_result = pattern.search(re_desc) \n",
    "search_result.group(0)"
   ]
  },
  {
   "cell_type": "code",
   "execution_count": 319,
   "metadata": {
    "run_control": {
     "frozen": false,
     "read_only": false
    }
   },
   "outputs": [
    {
     "data": {
      "text/plain": [
       "'expression'"
      ]
     },
     "execution_count": 319,
     "metadata": {},
     "output_type": "execute_result"
    }
   ],
   "source": [
    "search_result = re.search(r\"expression\",re_desc) \n",
    "search_result.group(0)"
   ]
  },
  {
   "cell_type": "markdown",
   "metadata": {
    "run_control": {
     "frozen": false,
     "read_only": false
    }
   },
   "source": [
    "```python\n",
    "prog = re.compile(pattern)\n",
    "result = prog.match(string)\n",
    "```\n",
    "相当于：\n",
    "```python\n",
    "result = re.match(pattern, string)\n",
    "```\n",
    "**Note:** The compiled versions of the most recent patterns passed to re.compile() and the module-level matching functions are cached, so programs that use only a few regular expressions at a time needn’t worry about compiling regular expressions.\n"
   ]
  },
  {
   "cell_type": "code",
   "execution_count": 317,
   "metadata": {
    "run_control": {
     "frozen": false,
     "read_only": false
    }
   },
   "outputs": [
    {
     "data": {
      "text/plain": [
       "<_sre.SRE_Match object; span=(4, 5), match='X'>"
      ]
     },
     "execution_count": 317,
     "metadata": {},
     "output_type": "execute_result"
    }
   ],
   "source": [
    "re.match(\"c\", \"abcdef\")    # No match\n",
    "re.search(\"c\", \"abcdef\")   # Match\n",
    "re.match(\"c\", \"abcdef\")    # No match\n",
    "re.search(\"^c\", \"abcdef\")  # No match\n",
    "re.search(\"^a\", \"abcdef\")  # Match\n",
    "re.match('X', 'A\\nB\\nX', re.MULTILINE)  # No match\n",
    "re.search('^X', 'A\\nB\\nX', re.MULTILINE)  # Match"
   ]
  },
  {
   "cell_type": "code",
   "execution_count": 316,
   "metadata": {
    "run_control": {
     "frozen": false,
     "read_only": false
    }
   },
   "outputs": [
    {
     "data": {
      "text/plain": [
       "['expression',\n",
       " 'expressions',\n",
       " 'expression',\n",
       " 'expressed',\n",
       " 'expression',\n",
       " 'expressed',\n",
       " 'expression']"
      ]
     },
     "execution_count": 316,
     "metadata": {},
     "output_type": "execute_result"
    }
   ],
   "source": [
    "#pattern = re.compile()\n",
    "search_result = re.findall(r\"exp\\w*\",re_desc) \n",
    "search_result"
   ]
  },
  {
   "cell_type": "code",
   "execution_count": 147,
   "metadata": {
    "run_control": {
     "frozen": false,
     "read_only": false
    }
   },
   "outputs": [
    {
     "name": "stdout",
     "output_type": "stream",
     "text": [
      "30-40: expression\n",
      "191-201: expression\n",
      "556-566: expression\n",
      "724-734: expression\n",
      "1070-1080: expression\n"
     ]
    }
   ],
   "source": [
    "for m in re.finditer(r\"expression\", re_desc):\n",
    "    print('%02d-%02d: %s' % (m.start(), m.end(), m.group(0)))"
   ]
  },
  {
   "cell_type": "code",
   "execution_count": 34,
   "metadata": {
    "run_control": {
     "frozen": false,
     "read_only": false
    },
    "scrolled": true
   },
   "outputs": [
    {
     "name": "stdout",
     "output_type": "stream",
     "text": [
      "None\n"
     ]
    }
   ],
   "source": [
    "match_result = pattern.match(re_desc)  \n",
    "print(match_result)"
   ]
  },
  {
   "cell_type": "code",
   "execution_count": 135,
   "metadata": {
    "run_control": {
     "frozen": false,
     "read_only": false
    }
   },
   "outputs": [
    {
     "name": "stdout",
     "output_type": "stream",
     "text": [
      "C:\\Windows\n"
     ]
    }
   ],
   "source": [
    "text = \"C:\\Windows\\Program\\Joshua\"\n",
    "pattern = re.compile(r\"C:\\\\Windows\")\n",
    "result = pattern.search(text)  \n",
    "print(result.group(0))"
   ]
  },
  {
   "cell_type": "markdown",
   "metadata": {
    "run_control": {
     "frozen": false,
     "read_only": false
    }
   },
   "source": [
    "### 字符匹配"
   ]
  },
  {
   "cell_type": "markdown",
   "metadata": {
    "run_control": {
     "frozen": false,
     "read_only": false
    }
   },
   "source": [
    "这个表达式可以匹配几种格式的电话号码，像(010)88886666，或022-22334455，或02912345678等。\n",
    "\n",
    "<br/>我们对它进行一些分析吧：首先是一个转义字符\\(,它能出现0次或1次(?),然后是一个0，后面跟着2个数字(\\d{2})，然后是)或-或空格中的一个，它出现1次或不出现(?)，最后是8个数字(\\d{8})。"
   ]
  },
  {
   "cell_type": "code",
   "execution_count": 401,
   "metadata": {
    "run_control": {
     "frozen": false,
     "read_only": false
    }
   },
   "outputs": [
    {
     "data": {
      "text/plain": [
       "['255.255.255.0', '127.0.0.1', '1.1.1.1']"
      ]
     },
     "execution_count": 401,
     "metadata": {},
     "output_type": "execute_result"
    }
   ],
   "source": [
    "ip_address=\"not validate 255.255.255.0 and 127.0.0.1 or 1.1.1.1\"\n",
    "pattern = re.compile(r\"\\d{1,3}\\.\\d{1,3}\\.\\d{1,3}\\.\\d{1,3}\")\n",
    "search_result = pattern.findall(ip_address) \n",
    "search_result"
   ]
  },
  {
   "cell_type": "code",
   "execution_count": 402,
   "metadata": {
    "run_control": {
     "frozen": false,
     "read_only": false
    },
    "scrolled": true
   },
   "outputs": [
    {
     "data": {
      "text/plain": [
       "['(010)88886666', '022-22334455', '02912345678', '(022-87654321']"
      ]
     },
     "execution_count": 402,
     "metadata": {},
     "output_type": "execute_result"
    }
   ],
   "source": [
    "phone_number=\"some phone number is (010)88886666,some is 022-22334455, other is 02912345678, \\\n",
    "how about (022-87654321 format?\"\n",
    "pattern = re.compile(r\"\\(?0\\d{2}[)-]?\\d{8}\")\n",
    "search_result = pattern.findall(phone_number) \n",
    "search_result"
   ]
  },
  {
   "cell_type": "markdown",
   "metadata": {
    "run_control": {
     "frozen": false,
     "read_only": false
    }
   },
   "source": [
    "### 分枝条件\n",
    "匹配分枝条件时，将会从左到右地测试每个条件，如果满足了某个分枝的话，就不会去再管其它的条件了。"
   ]
  },
  {
   "cell_type": "code",
   "execution_count": 5,
   "metadata": {
    "run_control": {
     "frozen": false,
     "read_only": false
    }
   },
   "outputs": [
    {
     "data": {
      "text/plain": [
       "['(010)88886666', '022-22334455', '02912345678', '022-87654321']"
      ]
     },
     "execution_count": 5,
     "metadata": {},
     "output_type": "execute_result"
    }
   ],
   "source": [
    "phone_number=\"some phone number is (010)88886666,some is 022-22334455, other is 02912345678, \\\n",
    "how about (022-87654321 format?\"\n",
    "pattern = re.compile(r\"\\(0\\d{2}\\)[- ]?\\d{8}|0\\d{2}[- ]?\\d{8}\")\n",
    "search_result = pattern.findall(phone_number) \n",
    "search_result"
   ]
  },
  {
   "cell_type": "markdown",
   "metadata": {
    "run_control": {
     "frozen": false,
     "read_only": false
    }
   },
   "source": [
    "### 分组"
   ]
  },
  {
   "cell_type": "code",
   "execution_count": 405,
   "metadata": {
    "run_control": {
     "frozen": false,
     "read_only": false
    },
    "scrolled": true
   },
   "outputs": [
    {
     "name": "stdout",
     "output_type": "stream",
     "text": [
      "00-04: abab\n",
      "19-23: abab\n"
     ]
    }
   ],
   "source": [
    "text = \"ababab hello ab  cdababcd\"\n",
    "pattern = re.compile(r\"(ab){2}\")\n",
    "\n",
    "for m in re.finditer(r\"(ab){2}\", text):\n",
    "    print('%02d-%02d: %s' % (m.start(), m.end(), m.group(0)))"
   ]
  },
  {
   "cell_type": "code",
   "execution_count": 406,
   "metadata": {
    "run_control": {
     "frozen": false,
     "read_only": false
    }
   },
   "outputs": [
    {
     "name": "stdout",
     "output_type": "stream",
     "text": [
      "13-26: 255.255.255.0\n",
      "31-40: 127.0.0.1\n",
      "44-51: 1.1.1.1\n"
     ]
    }
   ],
   "source": [
    "for m in re.finditer(r\"(\\d{1,3}\\.){3}\\d{1,3}\", ip_address):\n",
    "    print('%02d-%02d: %s' % (m.start(), m.end(), m.group(0)))"
   ]
  },
  {
   "cell_type": "code",
   "execution_count": 407,
   "metadata": {
    "run_control": {
     "frozen": false,
     "read_only": false
    }
   },
   "outputs": [
    {
     "name": "stdout",
     "output_type": "stream",
     "text": [
      "31-40: 127.0.0.1\n",
      "44-51: 1.1.1.1\n"
     ]
    }
   ],
   "source": [
    "ip_address=\"not validate 355.555.255.0 and 127.0.0.1 or 1.1.1.1\"\n",
    "pattern = re.compile(r\"((2[0-4]\\d|25[0-5]|[01]?\\d\\d?)\\.){3}(2[0-4]\\d|25[0-5]|[01]?\\d\\d?)\")\n",
    "for m in pattern.finditer(ip_address):\n",
    "    print('%02d-%02d: %s' % (m.start(), m.end(), m.group(0)))"
   ]
  },
  {
   "cell_type": "markdown",
   "metadata": {
    "run_control": {
     "frozen": false,
     "read_only": false
    }
   },
   "source": [
    "```\n",
    "捕获\t\n",
    "(exp)\t匹配exp,并捕获文本到自动命名的组里\n",
    "(?<name>exp)\t匹配exp,并捕获文本到名称为name的组里，也可以写成(?'name'exp)\n",
    "(?:exp)\t匹配exp,不捕获匹配的文本，也不给此分组分配组号\n",
    "\n",
    "零宽断言\t\n",
    "(?=exp)\t匹配exp前面的位置\n",
    "(?<=exp)\t匹配exp后面的位置\n",
    "(?!exp)\t匹配后面跟的不是exp的位置\n",
    "(?<!exp)\t匹配前面不是exp的位置\n",
    "\n",
    "注释\t(?#comment)\t这种类型的分组不对正则表达式的处理产生任何影响，用于提供注释让人阅读\n",
    "```"
   ]
  },
  {
   "cell_type": "markdown",
   "metadata": {
    "run_control": {
     "frozen": false,
     "read_only": false
    }
   },
   "source": [
    "### 后向引用"
   ]
  },
  {
   "cell_type": "code",
   "execution_count": 8,
   "metadata": {
    "run_control": {
     "frozen": false,
     "read_only": false
    },
    "scrolled": true
   },
   "outputs": [
    {
     "data": {
      "text/plain": [
       "['kitty', 'go']"
      ]
     },
     "execution_count": 8,
     "metadata": {},
     "output_type": "execute_result"
    }
   ],
   "source": [
    "text = \"kitty kitty go go, so cute\"\n",
    "pattern = re.compile(r\"\\b(\\w+)\\b\\s+\\1\\b\")  # \\1第一匹配\n",
    "#search_result = pattern.findall(text) \n",
    "for m in pattern.finditer(text):\n",
    "    print('%02d-%02d: %s' % (m.start(), m.end(), m.group(0)))"
   ]
  },
  {
   "cell_type": "code",
   "execution_count": 371,
   "metadata": {
    "run_control": {
     "frozen": false,
     "read_only": false
    }
   },
   "outputs": [
    {
     "name": "stdout",
     "output_type": "stream",
     "text": [
      "00-11: kitty kitty\n",
      "12-17: go go\n"
     ]
    }
   ],
   "source": [
    "text = \"kitty kitty go go, so cute\"\n",
    "pattern = re.compile(r\"\\b(?P<dw>\\w+)\\b\\s+(?P=dw)\\b\")  \n",
    "for m in pattern.finditer(text):\n",
    "    print('%02d-%02d: %s' % (m.start(), m.end(), m.group(0)))"
   ]
  },
  {
   "cell_type": "markdown",
   "metadata": {
    "run_control": {
     "frozen": false,
     "read_only": false
    }
   },
   "source": [
    "<a href=\"cn.dataapplab.com\">'hello dal'</a>"
   ]
  },
  {
   "cell_type": "code",
   "execution_count": 376,
   "metadata": {
    "run_control": {
     "frozen": false,
     "read_only": false
    }
   },
   "outputs": [
    {
     "name": "stdout",
     "output_type": "stream",
     "text": [
      "08-34: \"http://cn.dataapplab.com\"\n",
      "35-46: 'hello dal'\n"
     ]
    }
   ],
   "source": [
    "text = '<a href=\"http://cn.dataapplab.com\">\\'hello dal\\'</a>'\n",
    "pattern = re.compile(r\"(?P<quote>['\\\"]).*?(?P=quote)\")  \n",
    "for m in pattern.finditer(text):\n",
    "    print('%02d-%02d: %s' % (m.start(), m.end(), m.group(0)))"
   ]
  },
  {
   "cell_type": "markdown",
   "metadata": {
    "run_control": {
     "frozen": false,
     "read_only": false
    }
   },
   "source": [
    "### 零宽断言\n",
    "像\\b,^,$那样用于指定一个位置，这个位置应该满足一定的条件(即断言)，因此它们也被称为零宽断言"
   ]
  },
  {
   "cell_type": "code",
   "execution_count": 378,
   "metadata": {
    "run_control": {
     "frozen": false,
     "read_only": false
    }
   },
   "outputs": [
    {
     "name": "stdout",
     "output_type": "stream",
     "text": [
      "04-08: sing\n",
      "25-29: danc\n"
     ]
    }
   ],
   "source": [
    "text = \"I'm singing while you're dancing\"\n",
    "pattern = re.compile(r\"\\b\\w+(?=ing\\b)\")   #匹配以ing结尾的单词的前面部分(除了ing以外的部分)\n",
    "for m in pattern.finditer(text): \n",
    "    print('%02d-%02d: %s' % (m.start(), m.end(), m.group(0)))"
   ]
  },
  {
   "cell_type": "code",
   "execution_count": 400,
   "metadata": {
    "run_control": {
     "frozen": false,
     "read_only": false
    }
   },
   "outputs": [
    {
     "name": "stdout",
     "output_type": "stream",
     "text": [
      "28-32: cing\n"
     ]
    }
   ],
   "source": [
    "text = \"I'm singing while you're dancing\"\n",
    "pattern = re.compile(r\"(?<=\\bdan)\\w+\\b\")   #会匹配以dan开头的单词的后半部分(除了re以外的部分\n",
    "for m in pattern.finditer(text): \n",
    "    print('%02d-%02d: %s' % (m.start(), m.end(), m.group(0)))"
   ]
  },
  {
   "cell_type": "markdown",
   "metadata": {
    "run_control": {
     "frozen": false,
     "read_only": false
    }
   },
   "source": [
    "### Q:找出副词"
   ]
  },
  {
   "cell_type": "code",
   "execution_count": 273,
   "metadata": {
    "run_control": {
     "frozen": false,
     "read_only": false
    }
   },
   "outputs": [
    {
     "data": {
      "text/plain": [
       "['carefully', 'quickly']"
      ]
     },
     "execution_count": 273,
     "metadata": {},
     "output_type": "execute_result"
    }
   ],
   "source": [
    "text = \"He was carefully disguised but captured quickly by police.\"\n",
    "re.findall(r\"\\w+ly\", text)\n"
   ]
  },
  {
   "cell_type": "code",
   "execution_count": 274,
   "metadata": {
    "run_control": {
     "frozen": false,
     "read_only": false
    }
   },
   "outputs": [
    {
     "name": "stdout",
     "output_type": "stream",
     "text": [
      "07-16: carefully\n",
      "40-47: quickly\n"
     ]
    }
   ],
   "source": [
    "text = \"He was carefully disguised but captured quickly by police.\"\n",
    "for m in re.finditer(r\"\\w+ly\", text):\n",
    "    print('%02d-%02d: %s' % (m.start(), m.end(), m.group(0)))"
   ]
  },
  {
   "cell_type": "code",
   "execution_count": null,
   "metadata": {
    "collapsed": true,
    "run_control": {
     "frozen": false,
     "read_only": false
    }
   },
   "outputs": [],
   "source": []
  },
  {
   "cell_type": "markdown",
   "metadata": {
    "run_control": {
     "frozen": false,
     "read_only": false
    }
   },
   "source": [
    "## 分词"
   ]
  },
  {
   "cell_type": "code",
   "execution_count": 64,
   "metadata": {
    "run_control": {
     "frozen": false,
     "read_only": false
    }
   },
   "outputs": [],
   "source": [
    "phone_text = \"\"\"Ross McFluff: 834.345.1254 155 Elm Street\n",
    "Ronald Heathmore: 892.345.3428 436 Finley Avenue\n",
    "Frank Burger: 925.541.7625 662 South Dogwood Way\n",
    "Heather Albrecht: 548.326.4584 919 Park Place\"\"\""
   ]
  },
  {
   "cell_type": "code",
   "execution_count": 65,
   "metadata": {
    "run_control": {
     "frozen": false,
     "read_only": false
    }
   },
   "outputs": [
    {
     "data": {
      "text/plain": [
       "['Ross McFluff: 834.345.1254 155 Elm Street',\n",
       " 'Ronald Heathmore: 892.345.3428 436 Finley Avenue',\n",
       " 'Frank Burger: 925.541.7625 662 South Dogwood Way',\n",
       " 'Heather Albrecht: 548.326.4584 919 Park Place']"
      ]
     },
     "execution_count": 65,
     "metadata": {},
     "output_type": "execute_result"
    }
   ],
   "source": [
    "entries = re.split(\"\\n+\", phone_text)\n",
    "entries"
   ]
  },
  {
   "cell_type": "code",
   "execution_count": 66,
   "metadata": {
    "run_control": {
     "frozen": false,
     "read_only": false
    }
   },
   "outputs": [
    {
     "data": {
      "text/plain": [
       "['Words', 'words', 'words', '']"
      ]
     },
     "execution_count": 66,
     "metadata": {},
     "output_type": "execute_result"
    }
   ],
   "source": [
    "re.split('\\W+', 'Words, words, words.')\n"
   ]
  },
  {
   "cell_type": "code",
   "execution_count": 67,
   "metadata": {
    "run_control": {
     "frozen": false,
     "read_only": false
    }
   },
   "outputs": [
    {
     "data": {
      "text/plain": [
       "['Words', ', ', 'words', ', ', 'words', '.', '']"
      ]
     },
     "execution_count": 67,
     "metadata": {},
     "output_type": "execute_result"
    }
   ],
   "source": [
    "re.split('(\\W+)', 'Words, words, words.')\n"
   ]
  },
  {
   "cell_type": "code",
   "execution_count": 68,
   "metadata": {
    "run_control": {
     "frozen": false,
     "read_only": false
    }
   },
   "outputs": [
    {
     "data": {
      "text/plain": [
       "['Words', 'words, words.']"
      ]
     },
     "execution_count": 68,
     "metadata": {},
     "output_type": "execute_result"
    }
   ],
   "source": [
    "re.split('\\W+', 'Words, words, words.', 1)\n"
   ]
  },
  {
   "cell_type": "code",
   "execution_count": 69,
   "metadata": {
    "run_control": {
     "frozen": false,
     "read_only": false
    }
   },
   "outputs": [
    {
     "data": {
      "text/plain": [
       "['0', '3', '9']"
      ]
     },
     "execution_count": 69,
     "metadata": {},
     "output_type": "execute_result"
    }
   ],
   "source": [
    "re.split('[a-f]+', '0a3B9', flags=re.IGNORECASE)"
   ]
  },
  {
   "cell_type": "code",
   "execution_count": 70,
   "metadata": {
    "run_control": {
     "frozen": false,
     "read_only": false
    }
   },
   "outputs": [
    {
     "data": {
      "text/plain": [
       "[['Ross', 'McFluff', '834.345.1254', '155 Elm Street'],\n",
       " ['Ronald', 'Heathmore', '892.345.3428', '436 Finley Avenue'],\n",
       " ['Frank', 'Burger', '925.541.7625', '662 South Dogwood Way'],\n",
       " ['Heather', 'Albrecht', '548.326.4584', '919 Park Place']]"
      ]
     },
     "execution_count": 70,
     "metadata": {},
     "output_type": "execute_result"
    }
   ],
   "source": [
    "[re.split(\":? \", entry, maxsplit=3) for entry in entries]"
   ]
  },
  {
   "cell_type": "markdown",
   "metadata": {
    "run_control": {
     "frozen": false,
     "read_only": false
    }
   },
   "source": [
    "### 替换"
   ]
  },
  {
   "cell_type": "code",
   "execution_count": 73,
   "metadata": {
    "run_control": {
     "frozen": false,
     "read_only": false
    }
   },
   "outputs": [
    {
     "data": {
      "text/plain": [
       "'Psfooresr Abalomdlek, plasee rreopt your asebecns prtlpomy.'"
      ]
     },
     "execution_count": 73,
     "metadata": {},
     "output_type": "execute_result"
    }
   ],
   "source": [
    "import random\n",
    "def repl(m):\n",
    "    inner_word = list(m.group(2))\n",
    "    random.shuffle(inner_word)\n",
    "    return m.group(1) + \"\".join(inner_word) + m.group(3)\n",
    "\n",
    "text = \"Professor Abdolmalek, please report your absences promptly.\"\n",
    "re.sub(r\"(\\w)(\\w+)(\\w)\", repl, text)"
   ]
  },
  {
   "cell_type": "code",
   "execution_count": 74,
   "metadata": {
    "run_control": {
     "frozen": false,
     "read_only": false
    }
   },
   "outputs": [
    {
     "data": {
      "text/plain": [
       "'Pfsoerosr Alemdoalbk, peasle roeprt your acenbess ppomrlty.'"
      ]
     },
     "execution_count": 74,
     "metadata": {},
     "output_type": "execute_result"
    }
   ],
   "source": [
    "re.sub(r\"(\\w)(\\w+)(\\w)\", repl, text)"
   ]
  },
  {
   "cell_type": "markdown",
   "metadata": {
    "run_control": {
     "frozen": false,
     "read_only": false
    }
   },
   "source": []
  },
  {
   "cell_type": "markdown",
   "metadata": {
    "run_control": {
     "frozen": false,
     "read_only": false
    }
   },
   "source": [
    "### 如何处理中文？"
   ]
  },
  {
   "cell_type": "code",
   "execution_count": 275,
   "metadata": {
    "run_control": {
     "frozen": false,
     "read_only": false
    }
   },
   "outputs": [
    {
     "data": {
      "text/plain": [
       "['你好', '世界']"
      ]
     },
     "execution_count": 275,
     "metadata": {},
     "output_type": "execute_result"
    }
   ],
   "source": [
    "title = u'你好，hello，世界'\n",
    "pattern = re.compile(r'[\\u4e00-\\u9fff]+')\n",
    "result = pattern.findall(title)\n",
    "result"
   ]
  },
  {
   "cell_type": "markdown",
   "metadata": {
    "run_control": {
     "frozen": false,
     "read_only": false
    }
   },
   "source": [
    "<table cellspacing=\"0\" cellpadding=\"0\" width=\"700\" border=\"1\"><colgroup></colgroup><colgroup><col width=\"10%\"><col width=\"75%\"><col width=\"15%\"></colgroup><tbody><tr><td colspan=\"3\">\n",
    "<p align=\"center\"><span style=\"font-family:'Microsoft YaHei';font-size:24px;\">主要非英文语系字符范围</span></p>\n",
    "</td>\n",
    "</tr><tr><td><span style=\"font-family:'Microsoft YaHei';font-size:16px;\"><strong>范围</strong></span></td>\n",
    "<td><span style=\"font-family:'Microsoft YaHei';font-size:16px;\"><strong>编码</strong></span></td>\n",
    "<td><span style=\"font-family:'Microsoft YaHei';font-size:16px;\"><strong>说明</strong></span></td>\n",
    "</tr><tr><td><span style=\"font-family:'Microsoft YaHei';font-size:16px;\"><em>2E80~33FFh</em></span></td>\n",
    "<td><span style=\"font-family:'Microsoft YaHei';color:#ff0000;font-size:16px;\">中日韩符号区</span></td>\n",
    "<td><span style=\"font-family:'Microsoft YaHei';font-size:16px;\">收容康熙字典部首、中日韩辅助部首、注音符号、日本假名、韩文音符，中日韩的符号、标点、带圈或带括符文数字、月份，以及日本的假名组合、单位、年号、月份、日期、时间等。</span></td>\n",
    "</tr><tr><td><span style=\"font-family:'Microsoft YaHei';font-size:16px;\"><em>3400~4DFFh</em></span></td>\n",
    "<td><span style=\"font-family:'Microsoft YaHei';color:#ff0000;font-size:16px;\">中日韩认同文字扩充A区</span></td>\n",
    "<td><span style=\"font-family:'Microsoft YaHei';font-size:16px;\">中日韩认同表意文字扩充A区，总计收容6,582个中日韩汉字。</span></td>\n",
    "</tr><tr><td><span style=\"font-family:'Microsoft YaHei';font-size:16px;\"><em>4E00~9FFFh</em></span></td>\n",
    "<td><span style=\"font-family:'Microsoft YaHei';color:#ff0000;font-size:16px;\">中日韩认同表意文字区</span></td>\n",
    "<td><span style=\"font-family:'Microsoft YaHei';font-size:16px;\">中日韩认同表意文字区，总计收容20,902个中日韩汉字。</span></td>\n",
    "</tr><tr><td><span style=\"font-family:'Microsoft YaHei';font-size:16px;\"><em>A000~A4FFh</em></span></td>\n",
    "<td><span style=\"font-family:'Microsoft YaHei';color:#ff0000;font-size:16px;\">彝族文字区</span></td>\n",
    "<td><span style=\"font-family:'Microsoft YaHei';font-size:16px;\">收容中国南方彝族文字和字根</span></td>\n",
    "</tr><tr><td><span style=\"font-family:'Microsoft YaHei';font-size:16px;\"><em>AC00~D7FFh</em></span></td>\n",
    "<td><span style=\"font-family:'Microsoft YaHei';color:#ff0000;font-size:16px;\">韩文拼音组合字区</span></td>\n",
    "<td><span style=\"font-family:'Microsoft YaHei';font-size:16px;\">收容以韩文音符拼成的文字</span></td>\n",
    "</tr><tr><td><span style=\"font-family:'Microsoft YaHei';font-size:16px;\"><em>F900~FAFFh</em></span></td>\n",
    "<td><span style=\"font-family:'Microsoft YaHei';color:#ff0000;font-size:16px;\">中日韩兼容表意文字区</span></td>\n",
    "<td><span style=\"font-family:'Microsoft YaHei';font-size:16px;\">总计收容302个中日韩汉字</span></td>\n",
    "</tr><tr><td><span style=\"font-family:'Microsoft YaHei';font-size:16px;\"><em>FB00~FFFDh</em></span></td>\n",
    "<td><span style=\"font-family:'Microsoft YaHei';color:#ff0000;font-size:16px;\">文字表现形式区</span></td>\n",
    "<td><span style=\"font-family:'Microsoft YaHei';font-size:16px;\">收容组合拉丁文字、希伯来文、阿拉伯文、中日韩直式标点、小符号、半角符号、全角符号等。</span></td>\n",
    "</tr></tbody></table>"
   ]
  },
  {
   "cell_type": "code",
   "execution_count": 276,
   "metadata": {
    "run_control": {
     "frozen": false,
     "read_only": false
    }
   },
   "outputs": [
    {
     "data": {
      "text/plain": [
       "['世界', '世世', '世界']"
      ]
     },
     "execution_count": 276,
     "metadata": {},
     "output_type": "execute_result"
    }
   ],
   "source": [
    "title = u'你好，hello，世界，生生世世，好不好啊, 世界繁荣'\n",
    "pattern = re.compile(r'世{1,2}[\\u4e00-\\u9fff]?')\n",
    "result = pattern.findall(title)\n",
    "result"
   ]
  },
  {
   "cell_type": "code",
   "execution_count": null,
   "metadata": {
    "collapsed": true,
    "run_control": {
     "frozen": false,
     "read_only": false
    }
   },
   "outputs": [],
   "source": []
  }
 ],
 "metadata": {
  "kernelspec": {
   "display_name": "Python 3",
   "language": "python",
   "name": "python3"
  },
  "language_info": {
   "codemirror_mode": {
    "name": "ipython",
    "version": 3
   },
   "file_extension": ".py",
   "mimetype": "text/x-python",
   "name": "python",
   "nbconvert_exporter": "python",
   "pygments_lexer": "ipython3",
   "version": "3.6.5"
  }
 },
 "nbformat": 4,
 "nbformat_minor": 2
}
