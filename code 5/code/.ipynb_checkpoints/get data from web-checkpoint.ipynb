{
 "cells": [
  {
   "cell_type": "code",
   "execution_count": 2,
   "metadata": {
    "collapsed": true,
    "run_control": {
     "frozen": false,
     "read_only": false
    }
   },
   "outputs": [],
   "source": [
    "import sys\n",
    "import requests\n",
    "import json"
   ]
  },
  {
   "cell_type": "code",
   "execution_count": 5,
   "metadata": {
    "collapsed": false,
    "run_control": {
     "frozen": false,
     "read_only": false
    }
   },
   "outputs": [],
   "source": [
    "from bs4 import BeautifulSoup as bs\n",
    "from contextlib import closing\n",
    "import urllib\n",
    "import re"
   ]
  },
  {
   "cell_type": "markdown",
   "metadata": {
    "run_control": {
     "frozen": false,
     "read_only": false
    }
   },
   "source": [
    "# BeautifulSoup"
   ]
  },
  {
   "cell_type": "markdown",
   "metadata": {
    "run_control": {
     "frozen": false,
     "read_only": false
    }
   },
   "source": [
    "<html>\n",
    "    <head>\n",
    "        <title>The Dormouse's story</title>\n",
    "    </head>\n",
    "    <body>\n",
    "        <p class=\"title\" name=\"dromouse\">\n",
    "            <b>\n",
    "                The Dormouse's story\n",
    "            </b>\n",
    "        </p>\n",
    "        <p class=\"story\">\n",
    "        Once upon a time there were three little sisters; and their names were\n",
    "            <a href=\"http://example.com/elsie\" class=\"sister\" id=\"link1\">\n",
    "            <!-- Elsie -->\n",
    "            </a>,\n",
    "            <a href=\"http://example.com/lacie\" class=\"sister\" id=\"link2\">\n",
    "            Lacie\n",
    "            </a> \n",
    "            and\n",
    "            <a href=\"http://example.com/tillie\" class=\"sister\" id=\"link3\">\n",
    "            Tillie\n",
    "            </a>;\n",
    "            and they lived at the bottom of a well.\n",
    "        </p>\n",
    "        <p class=\"story\">...</p>\n",
    "    </body>\n",
    "</html>"
   ]
  },
  {
   "cell_type": "markdown",
   "metadata": {
    "run_control": {
     "frozen": false,
     "read_only": false
    }
   },
   "source": [
    "[Internal Node] head\n",
    "[Internal Node] title\n",
    "[Leaf Node] The Dormouse's title\n",
    "[Internal Node] body\n",
    "[Internal Node] p\n",
    "[Internal Node] b\n",
    "[Leaf Node] The Dormouse's story\n",
    "[Internal Node] p\n",
    "[Leaf Node] Once upon a time there were three little sisters; and their names were\n",
    "\n",
    "[Internal Node] a\n",
    "[Leaf Node]  Elsie \n",
    "[Leaf Node] ,\n",
    "\n",
    "[Internal Node] a\n",
    "[Leaf Node] Lacie\n",
    "[Leaf Node]  and\n",
    "\n",
    "[Internal Node] a\n",
    "[Leaf Node] Tillie\n",
    "[Leaf Node] ;\n",
    "and they lived at the bottom of a well.\n",
    "[Internal Node] p\n",
    "[Leaf Node] ..."
   ]
  },
  {
   "cell_type": "code",
   "execution_count": 6,
   "metadata": {
    "collapsed": true,
    "run_control": {
     "frozen": false,
     "read_only": false
    }
   },
   "outputs": [],
   "source": [
    "html = \"\"\"\n",
    "<html><head><title>The Dormouse's title</title></head>\n",
    "<body>\n",
    "<p class=\"title\" name=\"dromouse\"><b>The Dormouse's story</b></p>\n",
    "<p class=\"story\">Once upon a time there were three little sisters; and their names were\n",
    "<a href=\"http://example.com/elsie\" class=\"sister\" id=\"link1\"><!-- Elsie --></a>,\n",
    "<a href=\"http://example.com/lacie\" class=\"sister\" id=\"link2\">Lacie</a> and\n",
    "<a href=\"http://example.com/tillie\" class=\"sister\" id=\"link3\">Tillie</a>;\n",
    "and they lived at the bottom of a well.</p>\n",
    "<p class=\"story\">...</p>\n",
    "</body>\n",
    "</html>\n",
    "\"\"\""
   ]
  },
  {
   "cell_type": "code",
   "execution_count": 7,
   "metadata": {
    "collapsed": false,
    "run_control": {
     "frozen": false,
     "read_only": false
    }
   },
   "outputs": [],
   "source": [
    "soup = bs(html,'html.parser')"
   ]
  },
  {
   "cell_type": "code",
   "execution_count": 8,
   "metadata": {
    "collapsed": false,
    "run_control": {
     "frozen": false,
     "read_only": false
    }
   },
   "outputs": [
    {
     "name": "stdout",
     "output_type": "stream",
     "text": [
      "<html>\n",
      " <head>\n",
      "  <title>\n",
      "   The Dormouse's title\n",
      "  </title>\n",
      " </head>\n",
      " <body>\n",
      "  <p class=\"title\" name=\"dromouse\">\n",
      "   <b>\n",
      "    The Dormouse's story\n",
      "   </b>\n",
      "  </p>\n",
      "  <p class=\"story\">\n",
      "   Once upon a time there were three little sisters; and their names were\n",
      "   <a class=\"sister\" href=\"http://example.com/elsie\" id=\"link1\">\n",
      "    <!-- Elsie -->\n",
      "   </a>\n",
      "   ,\n",
      "   <a class=\"sister\" href=\"http://example.com/lacie\" id=\"link2\">\n",
      "    Lacie\n",
      "   </a>\n",
      "   and\n",
      "   <a class=\"sister\" href=\"http://example.com/tillie\" id=\"link3\">\n",
      "    Tillie\n",
      "   </a>\n",
      "   ;\n",
      "and they lived at the bottom of a well.\n",
      "  </p>\n",
      "  <p class=\"story\">\n",
      "   ...\n",
      "  </p>\n",
      " </body>\n",
      "</html>\n",
      "\n"
     ]
    }
   ],
   "source": [
    "print soup.prettify()"
   ]
  },
  {
   "cell_type": "code",
   "execution_count": 9,
   "metadata": {
    "collapsed": false,
    "run_control": {
     "frozen": false,
     "read_only": false
    }
   },
   "outputs": [
    {
     "data": {
      "text/plain": [
       "u\"\\nThe Dormouse's title\\n\\nThe Dormouse's story\\nOnce upon a time there were three little sisters; and their names were\\n,\\nLacie and\\nTillie;\\nand they lived at the bottom of a well.\\n...\\n\\n\\n\""
      ]
     },
     "execution_count": 9,
     "metadata": {},
     "output_type": "execute_result"
    }
   ],
   "source": [
    "soup.text"
   ]
  },
  {
   "cell_type": "code",
   "execution_count": 10,
   "metadata": {
    "collapsed": false,
    "run_control": {
     "frozen": false,
     "read_only": false
    },
    "scrolled": true
   },
   "outputs": [
    {
     "name": "stdout",
     "output_type": "stream",
     "text": [
      "[<a class=\"sister\" href=\"http://example.com/elsie\" id=\"link1\"><!-- Elsie --></a>, <a class=\"sister\" href=\"http://example.com/lacie\" id=\"link2\">Lacie</a>, <a class=\"sister\" href=\"http://example.com/tillie\" id=\"link3\">Tillie</a>]\n",
      "<class 'bs4.element.ResultSet'>\n"
     ]
    }
   ],
   "source": [
    "all_a = soup.find_all(\"a\")\n",
    "print all_a\n",
    "print type(all_a)\n"
   ]
  },
  {
   "cell_type": "code",
   "execution_count": 9,
   "metadata": {
    "collapsed": false,
    "run_control": {
     "frozen": false,
     "read_only": false
    }
   },
   "outputs": [
    {
     "data": {
      "text/plain": [
       "u'http://example.com/elsie'"
      ]
     },
     "execution_count": 9,
     "metadata": {},
     "output_type": "execute_result"
    }
   ],
   "source": [
    "all_a[0][\"href\"]"
   ]
  },
  {
   "cell_type": "code",
   "execution_count": 11,
   "metadata": {
    "collapsed": false,
    "run_control": {
     "frozen": false,
     "read_only": false
    }
   },
   "outputs": [
    {
     "data": {
      "text/plain": [
       "<p class=\"title\" name=\"dromouse\"><b>The Dormouse's story</b></p>"
      ]
     },
     "execution_count": 11,
     "metadata": {},
     "output_type": "execute_result"
    }
   ],
   "source": [
    "soup.p"
   ]
  },
  {
   "cell_type": "code",
   "execution_count": 11,
   "metadata": {
    "collapsed": false,
    "run_control": {
     "frozen": false,
     "read_only": false
    }
   },
   "outputs": [],
   "source": [
    "# Depth First Search\n",
    "def recursiveChildren(x):\n",
    "    if \"childGenerator\" in dir(x):\n",
    "        for child in x.childGenerator():\n",
    "            name = getattr(child, \"name\", None)\n",
    "            if name is not None:\n",
    "                print \"[Internal Node]\",child.name\n",
    "            recursiveChildren(child)\n",
    "    else:\n",
    "        if not x.isspace(): #Just to avoid printing \"\\n\" parsed from document.\n",
    "            print \"[Leaf Node]\",x"
   ]
  },
  {
   "cell_type": "code",
   "execution_count": 12,
   "metadata": {
    "collapsed": false,
    "run_control": {
     "frozen": false,
     "read_only": false
    }
   },
   "outputs": [
    {
     "data": {
      "text/plain": [
       "u\"\\nThe Dormouse's title\\n\\nThe Dormouse's story\\nOnce upon a time there were three little sisters; and their names were\\n,\\nLacie and\\nTillie;\\nand they lived at the bottom of a well.\\n...\\n\\n\\n\""
      ]
     },
     "execution_count": 12,
     "metadata": {},
     "output_type": "execute_result"
    }
   ],
   "source": [
    "soup.text"
   ]
  },
  {
   "cell_type": "code",
   "execution_count": 13,
   "metadata": {
    "collapsed": false,
    "run_control": {
     "frozen": false,
     "read_only": false
    }
   },
   "outputs": [
    {
     "name": "stdout",
     "output_type": "stream",
     "text": [
      "[Internal Node] head\n",
      "[Internal Node] title\n",
      "[Leaf Node] The Dormouse's title\n",
      "[Internal Node] body\n",
      "[Internal Node] p\n",
      "[Internal Node] b\n",
      "[Leaf Node] The Dormouse's story\n",
      "[Internal Node] p\n",
      "[Leaf Node] Once upon a time there were three little sisters; and their names were\n",
      "\n",
      "[Internal Node] a\n",
      "[Leaf Node]  Elsie \n",
      "[Leaf Node] ,\n",
      "\n",
      "[Internal Node] a\n",
      "[Leaf Node] Lacie\n",
      "[Leaf Node]  and\n",
      "\n",
      "[Internal Node] a\n",
      "[Leaf Node] Tillie\n",
      "[Leaf Node] ;\n",
      "and they lived at the bottom of a well.\n",
      "[Internal Node] p\n",
      "[Leaf Node] ...\n"
     ]
    }
   ],
   "source": [
    "for child in soup.childGenerator():\n",
    "    recursiveChildren(child)"
   ]
  },
  {
   "cell_type": "code",
   "execution_count": 14,
   "metadata": {
    "collapsed": false,
    "run_control": {
     "frozen": false,
     "read_only": false
    }
   },
   "outputs": [
    {
     "name": "stdout",
     "output_type": "stream",
     "text": [
      "<title>The Dormouse's title</title>\n"
     ]
    }
   ],
   "source": [
    "print soup.title"
   ]
  },
  {
   "cell_type": "code",
   "execution_count": 15,
   "metadata": {
    "collapsed": false,
    "run_control": {
     "frozen": false,
     "read_only": false
    }
   },
   "outputs": [
    {
     "name": "stdout",
     "output_type": "stream",
     "text": [
      "<head><title>The Dormouse's title</title></head>\n"
     ]
    }
   ],
   "source": [
    "print soup.head"
   ]
  },
  {
   "cell_type": "code",
   "execution_count": 12,
   "metadata": {
    "collapsed": false,
    "run_control": {
     "frozen": false,
     "read_only": false
    }
   },
   "outputs": [
    {
     "name": "stdout",
     "output_type": "stream",
     "text": [
      "<a class=\"sister\" href=\"http://example.com/elsie\" id=\"link1\"><!-- Elsie --></a>\n"
     ]
    }
   ],
   "source": [
    "print soup.a"
   ]
  },
  {
   "cell_type": "code",
   "execution_count": 17,
   "metadata": {
    "collapsed": false,
    "run_control": {
     "frozen": false,
     "read_only": false
    }
   },
   "outputs": [
    {
     "name": "stdout",
     "output_type": "stream",
     "text": [
      "<p class=\"title\" name=\"dromouse\"><b>The Dormouse's story</b></p>\n"
     ]
    }
   ],
   "source": [
    "print soup.p"
   ]
  },
  {
   "cell_type": "code",
   "execution_count": 18,
   "metadata": {
    "collapsed": false,
    "run_control": {
     "frozen": false,
     "read_only": false
    }
   },
   "outputs": [
    {
     "name": "stdout",
     "output_type": "stream",
     "text": [
      "The Dormouse's story\n",
      "<class 'bs4.element.NavigableString'>\n",
      "<class 'bs4.element.NavigableString'>\n"
     ]
    }
   ],
   "source": [
    "#NavigableString\n",
    "print soup.p.string\n",
    "print type(soup.p.string)\n",
    "print type(soup.p.string)"
   ]
  },
  {
   "cell_type": "code",
   "execution_count": null,
   "metadata": {
    "collapsed": false,
    "run_control": {
     "frozen": false,
     "read_only": false
    }
   },
   "outputs": [],
   "source": [
    "#（3）BeautifulSoup\n",
    "\n",
    "print soup.name"
   ]
  },
  {
   "cell_type": "code",
   "execution_count": 19,
   "metadata": {
    "collapsed": false,
    "run_control": {
     "frozen": false,
     "read_only": false
    }
   },
   "outputs": [
    {
     "name": "stdout",
     "output_type": "stream",
     "text": [
      "<a class=\"sister\" href=\"http://example.com/elsie\" id=\"link1\"><!-- Elsie --></a>\n",
      " Elsie \n",
      "<class 'bs4.element.Comment'>\n"
     ]
    }
   ],
   "source": [
    "#Comment\n",
    "print soup.a\n",
    "print soup.a.string\n",
    "print type(soup.a.string)"
   ]
  },
  {
   "cell_type": "code",
   "execution_count": 20,
   "metadata": {
    "collapsed": false,
    "run_control": {
     "frozen": false,
     "read_only": false
    }
   },
   "outputs": [
    {
     "data": {
      "text/plain": [
       "[<a class=\"sister\" href=\"http://example.com/elsie\" id=\"link1\"><!-- Elsie --></a>,\n",
       " <a class=\"sister\" href=\"http://example.com/lacie\" id=\"link2\">Lacie</a>,\n",
       " <a class=\"sister\" href=\"http://example.com/tillie\" id=\"link3\">Tillie</a>]"
      ]
     },
     "execution_count": 20,
     "metadata": {},
     "output_type": "execute_result"
    }
   ],
   "source": [
    "soup.find_all(\"a\")"
   ]
  },
  {
   "cell_type": "code",
   "execution_count": null,
   "metadata": {
    "collapsed": false,
    "run_control": {
     "frozen": false,
     "read_only": false
    }
   },
   "outputs": [],
   "source": [
    "def get_user_id(user_profile, user_ids):\n",
    "    url = user_profile\n",
    "    with closing(urllib.urlopen(url)) as page:\n",
    "        for line in page:\n",
    "            if \"steamid\" in line:\n",
    "                try:\n",
    "                    user_id = re.search(\"\\\"steamid\\\":\\\"(\\d+)\\\"\", line).group(1)\n",
    "                    print user_id + ' ' + user_profile\n",
    "                    if user_id != None:\n",
    "                        user_ids.append(user_id)\n",
    "                        break\n",
    "                except:\n",
    "                    continue\n"
   ]
  },
  {
   "cell_type": "code",
   "execution_count": null,
   "metadata": {
    "collapsed": true,
    "run_control": {
     "frozen": false,
     "read_only": false
    }
   },
   "outputs": [],
   "source": [
    "def get_online_users(member_list_no, user_ids):\n",
    "    url = 'https://steamcommunity.com/games/steam/members?p=' + str(member_list_no)\n",
    "    resp = requests.get(url)\n",
    "    soup = bs(resp.text, 'html.parser')\n",
    "    # print(soup.prettify())\n",
    "    # search profile of users who are online/in-game\n",
    "    all_users = soup.find_all(\"div\", \\\n",
    "                              onclick = re.compile(\"top\\.location\\.href='https:\\/\\/steamcommunity\\.com\\/id\\/(\\w+)'\"), \\\n",
    "                              class_ = re.compile(\"online|in-game\"))\n",
    "# get user names\n",
    "    for user in all_users:\n",
    "        user_profile = user.div.div.div.a['href'].encode(\"ascii\")\n",
    "# print user_profile\n",
    "        get_user_id(user_profile, user_ids)"
   ]
  },
  {
   "cell_type": "code",
   "execution_count": null,
   "metadata": {
    "collapsed": false,
    "run_control": {
     "frozen": false,
     "read_only": false
    },
    "scrolled": true
   },
   "outputs": [],
   "source": [
    "member_list_page_no = 1\n",
    "user_ids = []\n",
    "for idx in range(1, member_list_page_no + 1):\n",
    "    print \"Member List \" + str(idx)\n",
    "    get_online_users(idx, user_ids)\n",
    "    print \"Total online users found:\"\n",
    "    print len(user_ids)"
   ]
  },
  {
   "cell_type": "markdown",
   "metadata": {
    "run_control": {
     "frozen": false,
     "read_only": false
    }
   },
   "source": [
    "# API"
   ]
  },
  {
   "cell_type": "code",
   "execution_count": null,
   "metadata": {
    "collapsed": false,
    "run_control": {
     "frozen": false,
     "read_only": false
    }
   },
   "outputs": [],
   "source": [
    "app_id=70\n",
    "key='7BA13DD5D9CD290F7450FA29F09D0F39'\n",
    "#http://api.steampowered.com/ISteamUser/GetPlayerSummaries/v0002/?key=7BA13DD5D9CD290F7450FA29F09D0F39&steamids=76561197960435530\n",
    "url = 'http://api.steampowered.com/ISteamUser/GetPlayerSummaries/v0002/?key=' + key + '&steamids=76561197971155734'\n",
    "\n",
    "header = {\n",
    "        'User-Agent': 'Mozilla/5.0 (Macintosh; Intel Mac OS X 10_11_6) AppleWebKit/537.36 (KHTML, like Gecko) Chrome/57.0.2987.133 Safari/537.36',\n",
    "        'Accept':'text/html,application/xhtml+xml,application/xml;q=0.9,image/webp,*/*;q=0.8',\n",
    "        'Accept-Encoding':'gzip, deflate, sdch',\n",
    "        'Accept-Language':'en-US,en;q=0.8,zh-CN;q=0.6,zh;q=0.4,zh-TW;q=0.2'\n",
    "}\n",
    "resp = requests.get(url, header)\n",
    "obj = resp.json()\n",
    "print obj"
   ]
  },
  {
   "cell_type": "markdown",
   "metadata": {
    "run_control": {
     "frozen": false,
     "read_only": false
    }
   },
   "source": [
    "### GET APP DETAIL"
   ]
  },
  {
   "cell_type": "code",
   "execution_count": 1,
   "metadata": {
    "collapsed": false,
    "run_control": {
     "frozen": false,
     "read_only": false
    }
   },
   "outputs": [
    {
     "ename": "NameError",
     "evalue": "name 'requests' is not defined",
     "output_type": "error",
     "traceback": [
      "\u001b[0;31m---------------------------------------------------------------------------\u001b[0m",
      "\u001b[0;31mNameError\u001b[0m                                 Traceback (most recent call last)",
      "\u001b[0;32m<ipython-input-1-71f00ae98ecf>\u001b[0m in \u001b[0;36m<module>\u001b[0;34m()\u001b[0m\n\u001b[1;32m      7\u001b[0m         \u001b[0;34m'Accept-Language'\u001b[0m\u001b[0;34m:\u001b[0m\u001b[0;34m'en-US,en;q=0.8,zh-CN;q=0.6,zh;q=0.4,zh-TW;q=0.2'\u001b[0m\u001b[0;34m\u001b[0m\u001b[0m\n\u001b[1;32m      8\u001b[0m }\n\u001b[0;32m----> 9\u001b[0;31m \u001b[0mresp\u001b[0m \u001b[0;34m=\u001b[0m \u001b[0mrequests\u001b[0m\u001b[0;34m.\u001b[0m\u001b[0mget\u001b[0m\u001b[0;34m(\u001b[0m\u001b[0murl\u001b[0m\u001b[0;34m,\u001b[0m \u001b[0mheader\u001b[0m\u001b[0;34m)\u001b[0m\u001b[0;34m\u001b[0m\u001b[0m\n\u001b[0m\u001b[1;32m     10\u001b[0m \u001b[0mobj\u001b[0m \u001b[0;34m=\u001b[0m \u001b[0mresp\u001b[0m\u001b[0;34m.\u001b[0m\u001b[0mjson\u001b[0m\u001b[0;34m(\u001b[0m\u001b[0;34m)\u001b[0m\u001b[0;34m\u001b[0m\u001b[0m\n\u001b[1;32m     11\u001b[0m \u001b[0;32mprint\u001b[0m \u001b[0mobj\u001b[0m\u001b[0;34m\u001b[0m\u001b[0m\n",
      "\u001b[0;31mNameError\u001b[0m: name 'requests' is not defined"
     ]
    }
   ],
   "source": [
    "app_id=70\n",
    "url = 'http://store.steampowered.com/api/appdetails?appids=%s' % app_id\n",
    "header = {\n",
    "        'User-Agent': 'Mozilla/5.0 (Macintosh; Intel Mac OS X 10_11_6) AppleWebKit/537.36 (KHTML, like Gecko) Chrome/57.0.2987.133 Safari/537.36',\n",
    "        'Accept':'text/html,application/xhtml+xml,application/xml;q=0.9,image/webp,*/*;q=0.8',\n",
    "        'Accept-Encoding':'gzip, deflate, sdch',\n",
    "        'Accept-Language':'en-US,en;q=0.8,zh-CN;q=0.6,zh;q=0.4,zh-TW;q=0.2'\n",
    "}\n",
    "resp = requests.get(url, header)\n",
    "obj = resp.json()\n",
    "print obj\n"
   ]
  },
  {
   "cell_type": "markdown",
   "metadata": {
    "run_control": {
     "frozen": false,
     "read_only": false
    }
   },
   "source": [
    "## GET Profile Name"
   ]
  },
  {
   "cell_type": "code",
   "execution_count": 3,
   "metadata": {
    "collapsed": false,
    "run_control": {
     "frozen": false,
     "read_only": false
    }
   },
   "outputs": [
    {
     "ename": "ConnectionError",
     "evalue": "HTTPConnectionPool(host='steamcommunity.com', port=80): Max retries exceeded with url: /profiles/76561197960265738?Accept-Language=en-US%2Cen%3Bq%3D0.8%2Czh-CN%3Bq%3D0.6%2Czh%3Bq%3D0.4%2Czh-TW%3Bq%3D0.2&Accept-Encoding=gzip%2C+deflate%2C+sdch&Accept=text%2Fhtml%2Capplication%2Fxhtml%2Bxml%2Capplication%2Fxml%3Bq%3D0.9%2Cimage%2Fwebp%2C%2A%2F%2A%3Bq%3D0.8&User-Agent=Mozilla%2F5.0+%28Macintosh%3B+Intel+Mac+OS+X+10_11_6%29+AppleWebKit%2F537.36+%28KHTML%2C+like+Gecko%29+Chrome%2F57.0.2987.133+Safari%2F537.36 (Caused by NewConnectionError('<requests.packages.urllib3.connection.HTTPConnection object at 0x1062f8990>: Failed to establish a new connection: [Errno 60] Operation timed out',))",
     "output_type": "error",
     "traceback": [
      "\u001b[0;31m---------------------------------------------------------------------------\u001b[0m",
      "\u001b[0;31mConnectionError\u001b[0m                           Traceback (most recent call last)",
      "\u001b[0;32m<ipython-input-3-f3acc2382aaa>\u001b[0m in \u001b[0;36m<module>\u001b[0;34m()\u001b[0m\n\u001b[1;32m      1\u001b[0m \u001b[0;32mimport\u001b[0m \u001b[0mre\u001b[0m\u001b[0;34m\u001b[0m\u001b[0m\n\u001b[1;32m      2\u001b[0m \u001b[0mprofileURL\u001b[0m \u001b[0;34m=\u001b[0m \u001b[0;34m'http://steamcommunity.com/profiles/%s'\u001b[0m \u001b[0;34m%\u001b[0m \u001b[0;34m'76561197960265738'\u001b[0m\u001b[0;34m\u001b[0m\u001b[0m\n\u001b[0;32m----> 3\u001b[0;31m \u001b[0mrespProfile\u001b[0m \u001b[0;34m=\u001b[0m \u001b[0mrequests\u001b[0m\u001b[0;34m.\u001b[0m\u001b[0mget\u001b[0m\u001b[0;34m(\u001b[0m\u001b[0mprofileURL\u001b[0m\u001b[0;34m,\u001b[0m \u001b[0mheader\u001b[0m\u001b[0;34m)\u001b[0m\u001b[0;34m\u001b[0m\u001b[0m\n\u001b[0m\u001b[1;32m      4\u001b[0m \u001b[0mregxObj\u001b[0m \u001b[0;34m=\u001b[0m \u001b[0mre\u001b[0m\u001b[0;34m.\u001b[0m\u001b[0mcompile\u001b[0m\u001b[0;34m(\u001b[0m\u001b[0;34m'\"personaname\":\"(.+?)\"'\u001b[0m\u001b[0;34m,\u001b[0m \u001b[0mre\u001b[0m\u001b[0;34m.\u001b[0m\u001b[0mIGNORECASE\u001b[0m \u001b[0;34m|\u001b[0m \u001b[0mre\u001b[0m\u001b[0;34m.\u001b[0m\u001b[0mUNICODE\u001b[0m \u001b[0;34m|\u001b[0m \u001b[0mre\u001b[0m\u001b[0;34m.\u001b[0m\u001b[0mDOTALL\u001b[0m\u001b[0;34m)\u001b[0m\u001b[0;34m\u001b[0m\u001b[0m\n\u001b[1;32m      5\u001b[0m \u001b[0mmatch\u001b[0m \u001b[0;34m=\u001b[0m \u001b[0mregxObj\u001b[0m\u001b[0;34m.\u001b[0m\u001b[0msearch\u001b[0m\u001b[0;34m(\u001b[0m\u001b[0mrespProfile\u001b[0m\u001b[0;34m.\u001b[0m\u001b[0mtext\u001b[0m\u001b[0;34m)\u001b[0m\u001b[0;34m\u001b[0m\u001b[0m\n",
      "\u001b[0;32m/Users/joshuaz/env-py27/lib/python2.7/site-packages/requests/api.pyc\u001b[0m in \u001b[0;36mget\u001b[0;34m(url, params, **kwargs)\u001b[0m\n\u001b[1;32m     65\u001b[0m \u001b[0;34m\u001b[0m\u001b[0m\n\u001b[1;32m     66\u001b[0m     \u001b[0mkwargs\u001b[0m\u001b[0;34m.\u001b[0m\u001b[0msetdefault\u001b[0m\u001b[0;34m(\u001b[0m\u001b[0;34m'allow_redirects'\u001b[0m\u001b[0;34m,\u001b[0m \u001b[0mTrue\u001b[0m\u001b[0;34m)\u001b[0m\u001b[0;34m\u001b[0m\u001b[0m\n\u001b[0;32m---> 67\u001b[0;31m     \u001b[0;32mreturn\u001b[0m \u001b[0mrequest\u001b[0m\u001b[0;34m(\u001b[0m\u001b[0;34m'get'\u001b[0m\u001b[0;34m,\u001b[0m \u001b[0murl\u001b[0m\u001b[0;34m,\u001b[0m \u001b[0mparams\u001b[0m\u001b[0;34m=\u001b[0m\u001b[0mparams\u001b[0m\u001b[0;34m,\u001b[0m \u001b[0;34m**\u001b[0m\u001b[0mkwargs\u001b[0m\u001b[0;34m)\u001b[0m\u001b[0;34m\u001b[0m\u001b[0m\n\u001b[0m\u001b[1;32m     68\u001b[0m \u001b[0;34m\u001b[0m\u001b[0m\n\u001b[1;32m     69\u001b[0m \u001b[0;34m\u001b[0m\u001b[0m\n",
      "\u001b[0;32m/Users/joshuaz/env-py27/lib/python2.7/site-packages/requests/api.pyc\u001b[0m in \u001b[0;36mrequest\u001b[0;34m(method, url, **kwargs)\u001b[0m\n\u001b[1;32m     51\u001b[0m     \u001b[0;31m# cases, and look like a memory leak in others.\u001b[0m\u001b[0;34m\u001b[0m\u001b[0;34m\u001b[0m\u001b[0m\n\u001b[1;32m     52\u001b[0m     \u001b[0;32mwith\u001b[0m \u001b[0msessions\u001b[0m\u001b[0;34m.\u001b[0m\u001b[0mSession\u001b[0m\u001b[0;34m(\u001b[0m\u001b[0;34m)\u001b[0m \u001b[0;32mas\u001b[0m \u001b[0msession\u001b[0m\u001b[0;34m:\u001b[0m\u001b[0;34m\u001b[0m\u001b[0m\n\u001b[0;32m---> 53\u001b[0;31m         \u001b[0;32mreturn\u001b[0m \u001b[0msession\u001b[0m\u001b[0;34m.\u001b[0m\u001b[0mrequest\u001b[0m\u001b[0;34m(\u001b[0m\u001b[0mmethod\u001b[0m\u001b[0;34m=\u001b[0m\u001b[0mmethod\u001b[0m\u001b[0;34m,\u001b[0m \u001b[0murl\u001b[0m\u001b[0;34m=\u001b[0m\u001b[0murl\u001b[0m\u001b[0;34m,\u001b[0m \u001b[0;34m**\u001b[0m\u001b[0mkwargs\u001b[0m\u001b[0;34m)\u001b[0m\u001b[0;34m\u001b[0m\u001b[0m\n\u001b[0m\u001b[1;32m     54\u001b[0m \u001b[0;34m\u001b[0m\u001b[0m\n\u001b[1;32m     55\u001b[0m \u001b[0;34m\u001b[0m\u001b[0m\n",
      "\u001b[0;32m/Users/joshuaz/env-py27/lib/python2.7/site-packages/requests/sessions.pyc\u001b[0m in \u001b[0;36mrequest\u001b[0;34m(self, method, url, params, data, headers, cookies, files, auth, timeout, allow_redirects, proxies, hooks, stream, verify, cert, json)\u001b[0m\n\u001b[1;32m    466\u001b[0m         }\n\u001b[1;32m    467\u001b[0m         \u001b[0msend_kwargs\u001b[0m\u001b[0;34m.\u001b[0m\u001b[0mupdate\u001b[0m\u001b[0;34m(\u001b[0m\u001b[0msettings\u001b[0m\u001b[0;34m)\u001b[0m\u001b[0;34m\u001b[0m\u001b[0m\n\u001b[0;32m--> 468\u001b[0;31m         \u001b[0mresp\u001b[0m \u001b[0;34m=\u001b[0m \u001b[0mself\u001b[0m\u001b[0;34m.\u001b[0m\u001b[0msend\u001b[0m\u001b[0;34m(\u001b[0m\u001b[0mprep\u001b[0m\u001b[0;34m,\u001b[0m \u001b[0;34m**\u001b[0m\u001b[0msend_kwargs\u001b[0m\u001b[0;34m)\u001b[0m\u001b[0;34m\u001b[0m\u001b[0m\n\u001b[0m\u001b[1;32m    469\u001b[0m \u001b[0;34m\u001b[0m\u001b[0m\n\u001b[1;32m    470\u001b[0m         \u001b[0;32mreturn\u001b[0m \u001b[0mresp\u001b[0m\u001b[0;34m\u001b[0m\u001b[0m\n",
      "\u001b[0;32m/Users/joshuaz/env-py27/lib/python2.7/site-packages/requests/sessions.pyc\u001b[0m in \u001b[0;36msend\u001b[0;34m(self, request, **kwargs)\u001b[0m\n\u001b[1;32m    574\u001b[0m \u001b[0;34m\u001b[0m\u001b[0m\n\u001b[1;32m    575\u001b[0m         \u001b[0;31m# Send the request\u001b[0m\u001b[0;34m\u001b[0m\u001b[0;34m\u001b[0m\u001b[0m\n\u001b[0;32m--> 576\u001b[0;31m         \u001b[0mr\u001b[0m \u001b[0;34m=\u001b[0m \u001b[0madapter\u001b[0m\u001b[0;34m.\u001b[0m\u001b[0msend\u001b[0m\u001b[0;34m(\u001b[0m\u001b[0mrequest\u001b[0m\u001b[0;34m,\u001b[0m \u001b[0;34m**\u001b[0m\u001b[0mkwargs\u001b[0m\u001b[0;34m)\u001b[0m\u001b[0;34m\u001b[0m\u001b[0m\n\u001b[0m\u001b[1;32m    577\u001b[0m \u001b[0;34m\u001b[0m\u001b[0m\n\u001b[1;32m    578\u001b[0m         \u001b[0;31m# Total elapsed time of the request (approximately)\u001b[0m\u001b[0;34m\u001b[0m\u001b[0;34m\u001b[0m\u001b[0m\n",
      "\u001b[0;32m/Users/joshuaz/env-py27/lib/python2.7/site-packages/requests/adapters.pyc\u001b[0m in \u001b[0;36msend\u001b[0;34m(self, request, stream, timeout, verify, cert, proxies)\u001b[0m\n\u001b[1;32m    435\u001b[0m                 \u001b[0;32mraise\u001b[0m \u001b[0mRetryError\u001b[0m\u001b[0;34m(\u001b[0m\u001b[0me\u001b[0m\u001b[0;34m,\u001b[0m \u001b[0mrequest\u001b[0m\u001b[0;34m=\u001b[0m\u001b[0mrequest\u001b[0m\u001b[0;34m)\u001b[0m\u001b[0;34m\u001b[0m\u001b[0m\n\u001b[1;32m    436\u001b[0m \u001b[0;34m\u001b[0m\u001b[0m\n\u001b[0;32m--> 437\u001b[0;31m             \u001b[0;32mraise\u001b[0m \u001b[0mConnectionError\u001b[0m\u001b[0;34m(\u001b[0m\u001b[0me\u001b[0m\u001b[0;34m,\u001b[0m \u001b[0mrequest\u001b[0m\u001b[0;34m=\u001b[0m\u001b[0mrequest\u001b[0m\u001b[0;34m)\u001b[0m\u001b[0;34m\u001b[0m\u001b[0m\n\u001b[0m\u001b[1;32m    438\u001b[0m \u001b[0;34m\u001b[0m\u001b[0m\n\u001b[1;32m    439\u001b[0m         \u001b[0;32mexcept\u001b[0m \u001b[0mClosedPoolError\u001b[0m \u001b[0;32mas\u001b[0m \u001b[0me\u001b[0m\u001b[0;34m:\u001b[0m\u001b[0;34m\u001b[0m\u001b[0m\n",
      "\u001b[0;31mConnectionError\u001b[0m: HTTPConnectionPool(host='steamcommunity.com', port=80): Max retries exceeded with url: /profiles/76561197960265738?Accept-Language=en-US%2Cen%3Bq%3D0.8%2Czh-CN%3Bq%3D0.6%2Czh%3Bq%3D0.4%2Czh-TW%3Bq%3D0.2&Accept-Encoding=gzip%2C+deflate%2C+sdch&Accept=text%2Fhtml%2Capplication%2Fxhtml%2Bxml%2Capplication%2Fxml%3Bq%3D0.9%2Cimage%2Fwebp%2C%2A%2F%2A%3Bq%3D0.8&User-Agent=Mozilla%2F5.0+%28Macintosh%3B+Intel+Mac+OS+X+10_11_6%29+AppleWebKit%2F537.36+%28KHTML%2C+like+Gecko%29+Chrome%2F57.0.2987.133+Safari%2F537.36 (Caused by NewConnectionError('<requests.packages.urllib3.connection.HTTPConnection object at 0x1062f8990>: Failed to establish a new connection: [Errno 60] Operation timed out',))"
     ]
    }
   ],
   "source": [
    "import re\n",
    "profileURL = 'http://steamcommunity.com/profiles/%s' % '76561197960265738'\n",
    "respProfile = requests.get(profileURL, header)\n",
    "regxObj = re.compile('\"personaname\":\"(.+?)\"', re.IGNORECASE | re.UNICODE | re.DOTALL)\n",
    "match = regxObj.search(respProfile.text)\n",
    "print match"
   ]
  },
  {
   "cell_type": "code",
   "execution_count": 25,
   "metadata": {
    "collapsed": false,
    "run_control": {
     "frozen": false,
     "read_only": false
    }
   },
   "outputs": [],
   "source": [
    "import re\n",
    "profileURL = 'http://steamcommunity.com/profiles/%s' % '76561197960265738'\n",
    "respProfile = requests.get(profileURL, header)\n",
    "regxObj = re.compile('\"personaname\":\"(.+?)\"', re.IGNORECASE | re.UNICODE | re.DOTALL)\n",
    "#print respProfile.text"
   ]
  },
  {
   "cell_type": "code",
   "execution_count": 26,
   "metadata": {
    "collapsed": false,
    "run_control": {
     "frozen": false,
     "read_only": false
    }
   },
   "outputs": [
    {
     "name": "stdout",
     "output_type": "stream",
     "text": [
      "<!DOCTYPE html>\r\n",
      "<html class=\" responsive\" lang=\"en\">\r\n",
      "<head>\r\n",
      "\t<meta http-equiv=\"Content-Type\" content=\"text/html; charset=UTF-8\">\r\n",
      "\t\t\t<meta name=\"viewport\" content=\"width=device-width,initial-scale=1\">\r\n",
      "\t\t<meta name=\"theme-color\" content=\"#171a21\">\r\n",
      "\t\t<title>Steam Community :: Gregori</title>\r\n",
      "\t<link rel=\"shortcut icon\" href=\"/favicon.ico\" type=\"image/x-icon\">\r\n",
      "\r\n",
      "\t<link href=\"http://steamcommunity-a.akamaihd.net/public/shared/css/motiva_sans.css?v=Sd0odMs2NjL1\" rel=\"stylesheet\" type=\"text/css\" >\n",
      "<link href=\"http://steamcommunity-a.akamaihd.net/public/shared/css/buttons.css?v=FMXZx9fv9yp_\" rel=\"stylesheet\" type=\"text/css\" >\n",
      "<link href=\"http://steamcommunity-a.akamaihd.net/public/shared/css/shared_global.css?v=ezCZ54xw7bxo\" rel=\"stylesheet\" type=\"text/css\" >\n",
      "<link href=\"http://steamcommunity-a.akamaihd.net/public/css/globalv2.css?v=3X1Hz39cVBqV\" rel=\"stylesheet\" type=\"text/css\" >\n",
      "<link href=\"http://steamcommunity-a.akamaihd.net/public/css/skin_1/modalContent.css?v=.vXD4gU69vdZP\" rel=\"stylesheet\" type=\"text/css\" >\n",
      "<link href=\"http://steamcommunity-a.akamaihd.net/public/css/skin_1/profilev2.css?v=N-o_OmTeTC4p\" rel=\"stylesheet\" type=\"text/css\" >\n",
      "<link href=\"http://steamcommunity-a.akamaihd.net/public/shared/css/motiva_sans.css?v=Sd0odMs2NjL1\" rel=\"stylesheet\" type=\"text/css\" >\n",
      "<link href=\"http://steamcommunity-a.akamaihd.net/public/css/promo/summer2017/stickers.css?v=m1vd2a0qsX3h\" rel=\"stylesheet\" type=\"text/css\" >\n",
      "<link href=\"http://steamcommunity-a.akamaihd.net/public/shared/css/shared_responsive.css?v=Dm6dKxyudx2Y\" rel=\"stylesheet\" type=\"text/css\" >\n",
      "<link href=\"http://steamcommunity-a.akamaihd.net/public/css/skin_1/header.css?v=tZYBxDBV1D4c\" rel=\"stylesheet\" type=\"text/css\" >\n",
      "\t\t\t<script>\r\n",
      "\t\t\t\t(function(i,s,o,g,r,a,m){i['GoogleAnalyticsObject']=r;i[r]=i[r]||function(){\r\n",
      "\t\t\t\t\t\t(i[r].q=i[r].q||[]).push(arguments)},i[r].l=1*new Date();a=s.createElement(o),\r\n",
      "\t\t\t\t\tm=s.getElementsByTagName(o)[0];a.async=1;a.src=g;m.parentNode.insertBefore(a,m)\r\n",
      "\t\t\t\t})(window,document,'script','//www.google-analytics.com/analytics.js','ga');\r\n",
      "\r\n",
      "\t\t\t\tga('create', 'UA-33779068-1', 'auto', {\r\n",
      "\t\t\t\t\t'sampleRate': 0.4\t\t\t\t});\r\n",
      "\t\t\t\tga('set', 'dimension1', false );\r\n",
      "\t\t\t\tga('set', 'dimension2', 'External' );\r\n",
      "\t\t\t\tga('set', 'dimension3', 'profiles' );\r\n",
      "\t\t\t\tga('set', 'dimension4', \"profiles\\/\" );\r\n",
      "\t\t\t\tga('send', 'pageview');\r\n",
      "\r\n",
      "\t\t\t</script>\r\n",
      "\t\t\t<script type=\"text/javascript\" src=\"http://steamcommunity-a.akamaihd.net/public/javascript/prototype-1.7.js?v=.55t44gwuwgvw\" ></script>\n",
      "<script type=\"text/javascript\" src=\"http://steamcommunity-a.akamaihd.net/public/javascript/scriptaculous/_combined.js?v=9XVsa_Ni33oN&amp;l=english&amp;load=effects,controls,slider,dragdrop\" ></script>\n",
      "<script type=\"text/javascript\" src=\"http://steamcommunity-a.akamaihd.net/public/javascript/global.js?v=hyKKhbmuNEpN&amp;l=english\" ></script>\n",
      "<script type=\"text/javascript\" src=\"http://steamcommunity-a.akamaihd.net/public/javascript/jquery-1.11.1.min.js?v=.isFTSRckeNhC\" ></script>\n",
      "<script type=\"text/javascript\" src=\"http://steamcommunity-a.akamaihd.net/public/shared/javascript/tooltip.js?v=.gcRSUfx-SLlh\" ></script>\n",
      "<script type=\"text/javascript\" src=\"http://steamcommunity-a.akamaihd.net/public/shared/javascript/shared_global.js?v=cJsxXnKTNA5x&amp;l=english\" ></script>\n",
      "<script type=\"text/javascript\">$J = jQuery.noConflict();\n",
      "if ( typeof JSON != 'object' || !JSON.stringify || !JSON.parse ) { document.write( \"<scr\" + \"ipt type=\\\"text\\/javascript\\\" src=\\\"http:\\/\\/steamcommunity-a.akamaihd.net\\/public\\/javascript\\/json2.js?v=pmScf4470EZP&amp;l=english\\\" ><\\/script>\\n\" ); };\n",
      "</script><script type=\"text/javascript\" src=\"http://steamcommunity-a.akamaihd.net/public/javascript/modalContent.js?v=_GJo7RLtKayG&amp;l=english\" ></script>\n",
      "<script type=\"text/javascript\" src=\"http://steamcommunity-a.akamaihd.net/public/javascript/modalv2.js?v=dfMhuy-Lrpyo&amp;l=english\" ></script>\n",
      "<script type=\"text/javascript\" src=\"http://steamcommunity-a.akamaihd.net/public/javascript/profile.js?v=Y5S5iXNgXx1Y&amp;l=english\" ></script>\n",
      "<script type=\"text/javascript\" src=\"http://steamcommunity-a.akamaihd.net/public/javascript/promo/stickers.js?v=IQOw5QdlnEe6&amp;l=english\" ></script>\n",
      "<script type=\"text/javascript\" src=\"http://steamcommunity-a.akamaihd.net/public/shared/javascript/shared_responsive_adapter.js?v=qLEcRmcHn-kc&amp;l=english\" ></script>\n",
      "\r\n",
      "\t\t\t\t\t\t<meta name=\"Description\" content=\"And just when he had polled the crowd and swore he'd won the fight - We rocked his butt with a 12 inch cut called DISCO KRYPTONITE Me on Twitter\">\r\n",
      "\t\t\t\r\n",
      "\t\t\t\t\t\t<meta property=\"fb:app_id\" content=\"105386699540688\">\r\n",
      "\t\t\t\t\t<meta property=\"og:description\" content=\"And just when he had polled the crowd and swore he'd won the fight - We rocked his butt with a 12 inch cut called DISCO KRYPTONITE Me on Twitter\">\r\n",
      "\t\t\t\r\n",
      "\t\r\n",
      "\t\t\t<link rel=\"image_src\" href=\"http://cdn.steamstatic.com.8686c.com/steamcommunity/public/images/avatars/c0/c0428498c7dee5b9e156e743af2d849a9fa66a90_full.jpg\">\r\n",
      "\t\t<meta property=\"og:image\" content=\"http://cdn.steamstatic.com.8686c.com/steamcommunity/public/images/avatars/c0/c0428498c7dee5b9e156e743af2d849a9fa66a90_full.jpg\">\r\n",
      "\t\t\t\r\n",
      "\t\r\n",
      "\t\r\n",
      "\t</head>\r\n",
      "<body class=\"flat_page profile_page  responsive_page\">\r\n",
      "\r\n",
      "<div class=\"responsive_page_frame with_header\">\r\n",
      "\r\n",
      "\t\t\t\t\t\t<div class=\"responsive_page_menu_ctn mainmenu\">\r\n",
      "\t\t\t\t<div class=\"responsive_page_menu\"  id=\"responsive_page_menu\">\r\n",
      "\t\t\t\t\t\t\t\t\t\t<div class=\"mainmenu_contents\">\r\n",
      "\t\t\t\t\t\t<div class=\"mainmenu_contents_items\">\r\n",
      "\t\t\t\t\t\t\t\t\t\t\t\t\t\t\t<a class=\"menuitem\" href=\"https://steamcommunity.com/login/home/?goto=id%2Fgreg%2F%3FAccept-Language%3Den-US%252Cen%253Bq%253D0.8%252Czh-CN%253Bq%253D0.6%252Czh%253Bq%253D0.4%252Czh-TW%253Bq%253D0.2%26Accept-Encoding%3Dgzip%252C%2Bdeflate%252C%2Bsdch%26Accept%3Dtext%252Fhtml%252Capplication%252Fxhtml%252Bxml%252Capplication%252Fxml%253Bq%253D0.9%252Cimage%252Fwebp%252C%252A%252F%252A%253Bq%253D0.8%26User-Agent%3DMozilla%252F5.0%2B%2528Macintosh%253B%2BIntel%2BMac%2BOS%2BX%2B10_11_6%2529%2BAppleWebKit%252F537.36%2B%2528KHTML%252C%2Blike%2BGecko%2529%2BChrome%252F57.0.2987.133%2BSafari%252F537.36\">\r\n",
      "\t\t\t\t\t\t\t\t\tLogin\t\t\t\t\t\t\t\t</a>\r\n",
      "\t\t\t\t\t\t\t\t<a class=\"menuitem supernav\" href=\"http://store.steampowered.com/\" data-tooltip-type=\"selector\" data-tooltip-content=\".submenu_store\">\r\n",
      "\t\tStore\t</a>\r\n",
      "\t<div class=\"submenu_store\" style=\"display: none;\" data-submenuid=\"store\">\r\n",
      "\t\t<a class=\"submenuitem\" href=\"http://store.steampowered.com/\">Featured</a>\r\n",
      "\t\t<a class=\"submenuitem\" href=\"http://store.steampowered.com/explore/\">Explore</a>\r\n",
      "\t\t<a class=\"submenuitem\" href=\"http://store.steampowered.com/curators/\">Curators</a>\r\n",
      "\t\t<a class=\"submenuitem\" href=\"http://steamcommunity.com/my/wishlist/\">Wishlist</a>\r\n",
      "\t\t<a class=\"submenuitem\" href=\"http://store.steampowered.com/news/\">News</a>\r\n",
      "\t\t<a class=\"submenuitem\" href=\"http://store.steampowered.com/stats/\">Stats</a>\r\n",
      "\t</div>\r\n",
      "\r\n",
      "\r\n",
      "\t<a class=\"menuitem supernav\" style=\"display: block\" href=\"http://steamcommunity.com/\" data-tooltip-type=\"selector\" data-tooltip-content=\".submenu_community\">\r\n",
      "\t\tCommunity\t</a>\r\n",
      "\t<div class=\"submenu_community\" style=\"display: none;\" data-submenuid=\"community\">\r\n",
      "\t\t<a class=\"submenuitem\" href=\"http://steamcommunity.com/\">Home</a>\r\n",
      "\t\t<a class=\"submenuitem\" href=\"http://steamcommunity.com/discussions/\">Discussions</a>\r\n",
      "\t\t<a class=\"submenuitem\" href=\"http://steamcommunity.com/workshop/\">Workshop</a>\r\n",
      "\t\t<a class=\"submenuitem\" href=\"http://steamcommunity.com/market/\">Market</a>\r\n",
      "\t\t<a class=\"submenuitem\" href=\"http://steamcommunity.com/?subsection=broadcasts\">Broadcasts</a>\r\n",
      "\t\t\t\t\t</div>\r\n",
      "\r\n",
      "\t\r\n",
      "\r\n",
      "\t\r\n",
      "\t\r\n",
      "\t<a class=\"menuitem\" href=\"https://help.steampowered.com/en/\">\r\n",
      "\t\tSupport\t</a>\r\n",
      "\r\n",
      "\t\t\t\t\t\t\t<div class=\"minor_menu_items\">\r\n",
      "\t\t\t\t\t\t\t\t\t\t\t\t\t\t\t\t<div class=\"menuitem change_language_action\">\r\n",
      "\t\t\t\t\t\t\t\t\tChange language\t\t\t\t\t\t\t\t</div>\r\n",
      "\t\t\t\t\t\t\t\t\t\t\t\t\t\t\t\t\t\t\t\t\t\t\t\t\t<div class=\"menuitem\" onclick=\"Responsive_RequestDesktopView();\">\r\n",
      "\t\t\t\t\t\t\t\t\t\tView desktop website\t\t\t\t\t\t\t\t\t</div>\r\n",
      "\t\t\t\t\t\t\t\t\t\t\t\t\t\t\t</div>\r\n",
      "\t\t\t\t\t\t</div>\r\n",
      "\t\t\t\t\t\t<div class=\"mainmenu_footer_spacer\"></div>\r\n",
      "\t\t\t\t\t\t<div class=\"mainmenu_footer\">\r\n",
      "\t\t\t\t\t\t\t<div class=\"mainmenu_footer_logo\"><img src=\"http://steamcommunity-a.akamaihd.net/public/shared/images/responsive/logo_valve_footer.png\"></div>\r\n",
      "\t\t\t\t\t\t\t© Valve Corporation. All rights reserved. All trademarks are property of their respective owners in the US and other countries.\t\t\t\t\t\t\t<span class=\"mainmenu_valve_links\">\r\n",
      "\t\t\t\t\t\t\t\t<a href=\"http://store.steampowered.com/privacy_agreement/\" target=\"_blank\">Privacy Policy</a>\r\n",
      "\t\t\t\t\t\t\t\t&nbsp;| &nbsp;<a href=\"http://www.valvesoftware.com/legal.htm\" target=\"_blank\">Legal</a>\r\n",
      "\t\t\t\t\t\t\t\t&nbsp;| &nbsp;<a href=\"http://store.steampowered.com/subscriber_agreement/\" target=\"_blank\">Steam Subscriber Agreement</a>\r\n",
      "\t\t\t\t\t\t\t\t&nbsp;| &nbsp;<a href=\"http://store.steampowered.com/steam_refunds/\" target=\"_blank\">Refunds</a>\r\n",
      "\t\t\t\t\t\t\t</span>\r\n",
      "\t\t\t\t\t\t</div>\r\n",
      "\t\t\t\t\t</div>\r\n",
      "\t\t\t\t\t\t\t\t\t</div>\r\n",
      "\t\t\t</div>\r\n",
      "\t\t\r\n",
      "\t\t<div class=\"responsive_local_menu_tab\">\r\n",
      "\r\n",
      "\t\t</div>\r\n",
      "\r\n",
      "\t\t<div class=\"responsive_page_menu_ctn localmenu\">\r\n",
      "\t\t\t<div class=\"responsive_page_menu\"  id=\"responsive_page_local_menu\">\r\n",
      "\t\t\t\t<div class=\"localmenu_content\">\r\n",
      "\t\t\t\t</div>\r\n",
      "\t\t\t</div>\r\n",
      "\t\t</div>\r\n",
      "\r\n",
      "\r\n",
      "\r\n",
      "\t\t\t\t\t<div class=\"responsive_header\">\r\n",
      "\t\t\t\t<div class=\"responsive_header_content\">\r\n",
      "\t\t\t\t\t<div id=\"responsive_menu_logo\">\r\n",
      "\t\t\t\t\t\t<img src=\"http://steamcommunity-a.akamaihd.net/public/shared/images/responsive/header_menu_hamburger.png\" height=\"100%\">\r\n",
      "\t\t\t\t\t\t\t\t\t\t\t</div>\r\n",
      "\t\t\t\t\t<div class=\"responsive_header_logo\">\r\n",
      "\t\t\t\t\t\t<img src=\"http://steamcommunity-a.akamaihd.net/public/shared/images/responsive/header_logo.png\" height=\"36\" border=\"0\" alt=\"STEAM\">\r\n",
      "\t\t\t\t\t</div>\r\n",
      "\t\t\t\t</div>\r\n",
      "\t\t\t</div>\r\n",
      "\t\t\r\n",
      "\t\t<div class=\"responsive_page_content_overlay\">\r\n",
      "\r\n",
      "\t\t</div>\r\n",
      "\r\n",
      "\t\t<div class=\"responsive_fixonscroll_ctn nonresponsive_hidden \">\r\n",
      "\t\t</div>\r\n",
      "\t\r\n",
      "\t<div class=\"responsive_page_content\">\r\n",
      "\r\n",
      "\t\t<div id=\"global_header\">\r\n",
      "\t<div class=\"content\">\r\n",
      "\t\t<div class=\"logo\">\r\n",
      "\t\t\t<span id=\"logo_holder\">\r\n",
      "\t\t\t\t\t\t\t\t\t<a href=\"http://store.steampowered.com/\">\r\n",
      "\t\t\t\t\t\t<img src=\"http://steamcommunity-a.akamaihd.net/public/shared/images/header/globalheader_logo.png?t=962016\" width=\"176\" height=\"44\">\r\n",
      "\t\t\t\t\t</a>\r\n",
      "\t\t\t\t\t\t\t</span>\r\n",
      "\t\t\t<!--[if lt IE 7]>\r\n",
      "\t\t\t<style type=\"text/css\">\r\n",
      "\t\t\t\t#logo_holder img { filter:progid:DXImageTransform.Microsoft.Alpha(opacity=0); }\r\n",
      "\t\t\t\t#logo_holder { display: inline-block; width: 176px; height: 44px; filter:progid:DXImageTransform.Microsoft.AlphaImageLoader(src='http://steamcommunity-a.akamaihd.net/public/images/v5/globalheader_logo.png'); }\r\n",
      "\t\t\t</style>\r\n",
      "\t\t\t<![endif]-->\r\n",
      "\t\t</div>\r\n",
      "\r\n",
      "\t\t\t<div class=\"supernav_container\">\r\n",
      "\t<a class=\"menuitem supernav\" href=\"http://store.steampowered.com/\" data-tooltip-type=\"selector\" data-tooltip-content=\".submenu_store\">\r\n",
      "\t\tSTORE\t</a>\r\n",
      "\t<div class=\"submenu_store\" style=\"display: none;\" data-submenuid=\"store\">\r\n",
      "\t\t<a class=\"submenuitem\" href=\"http://store.steampowered.com/\">Featured</a>\r\n",
      "\t\t<a class=\"submenuitem\" href=\"http://store.steampowered.com/explore/\">Explore</a>\r\n",
      "\t\t<a class=\"submenuitem\" href=\"http://store.steampowered.com/curators/\">Curators</a>\r\n",
      "\t\t<a class=\"submenuitem\" href=\"http://steamcommunity.com/my/wishlist/\">Wishlist</a>\r\n",
      "\t\t<a class=\"submenuitem\" href=\"http://store.steampowered.com/news/\">News</a>\r\n",
      "\t\t<a class=\"submenuitem\" href=\"http://store.steampowered.com/stats/\">Stats</a>\r\n",
      "\t</div>\r\n",
      "\r\n",
      "\r\n",
      "\t<a class=\"menuitem supernav\" style=\"display: block\" href=\"http://steamcommunity.com/\" data-tooltip-type=\"selector\" data-tooltip-content=\".submenu_community\">\r\n",
      "\t\tCOMMUNITY\t</a>\r\n",
      "\t<div class=\"submenu_community\" style=\"display: none;\" data-submenuid=\"community\">\r\n",
      "\t\t<a class=\"submenuitem\" href=\"http://steamcommunity.com/\">Home</a>\r\n",
      "\t\t<a class=\"submenuitem\" href=\"http://steamcommunity.com/discussions/\">Discussions</a>\r\n",
      "\t\t<a class=\"submenuitem\" href=\"http://steamcommunity.com/workshop/\">Workshop</a>\r\n",
      "\t\t<a class=\"submenuitem\" href=\"http://steamcommunity.com/market/\">Market</a>\r\n",
      "\t\t<a class=\"submenuitem\" href=\"http://steamcommunity.com/?subsection=broadcasts\">Broadcasts</a>\r\n",
      "\t\t\t\t\t</div>\r\n",
      "\r\n",
      "\t\r\n",
      "\r\n",
      "\t\r\n",
      "\t\t\t<a class=\"menuitem\" href=\"http://store.steampowered.com/about/\">\r\n",
      "\t\t\tABOUT\t\t</a>\r\n",
      "\t\r\n",
      "\t<a class=\"menuitem\" href=\"https://help.steampowered.com/en/\">\r\n",
      "\t\tSUPPORT\t</a>\r\n",
      "\t</div>\r\n",
      "\t<script type=\"text/javascript\">\r\n",
      "\t\tjQuery(function($) {\r\n",
      "\t\t\t$('.tooltip').v_tooltip();\r\n",
      "\t\t\t$('#global_header .supernav').v_tooltip({'location':'bottom', 'tooltipClass': 'supernav_content', 'offsetY':-4, 'offsetX': 1, 'horizontalSnap': 4, 'tooltipParent': '#global_header .supernav_container', 'correctForScreenSize': false});\r\n",
      "\t\t});\r\n",
      "\t</script>\r\n",
      "\r\n",
      "\t\t<div id=\"global_actions\">\r\n",
      "\t\t\t<div id=\"global_action_menu\">\r\n",
      "\t\t\t\t\t\t\t\t\t<div class=\"header_installsteam_btn header_installsteam_btn_green\">\r\n",
      "\t\t\t\t\t\t<div class=\"header_installsteam_btn_leftcap\"></div>\r\n",
      "\t\t\t\t\t\t<div class=\"header_installsteam_btn_rightcap\"></div>\r\n",
      "\r\n",
      "\t\t\t\t\t\t<a class=\"header_installsteam_btn_content\" href=\"http://store.steampowered.com/about/\">\r\n",
      "\t\t\t\t\t\t\tInstall Steam\t\t\t\t\t\t</a>\r\n",
      "\t\t\t\t\t</div>\r\n",
      "\t\t\t\t\r\n",
      "\t\t\t\t\r\n",
      "\t\t\t\t\t\t\t\t\t\t\t\t\t\t<a class=\"global_action_link\" href=\"https://steamcommunity.com/login/home/?goto=id%2Fgreg%2F%3FAccept-Language%3Den-US%252Cen%253Bq%253D0.8%252Czh-CN%253Bq%253D0.6%252Czh%253Bq%253D0.4%252Czh-TW%253Bq%253D0.2%26Accept-Encoding%3Dgzip%252C%2Bdeflate%252C%2Bsdch%26Accept%3Dtext%252Fhtml%252Capplication%252Fxhtml%252Bxml%252Capplication%252Fxml%253Bq%253D0.9%252Cimage%252Fwebp%252C%252A%252F%252A%253Bq%253D0.8%26User-Agent%3DMozilla%252F5.0%2B%2528Macintosh%253B%2BIntel%2BMac%2BOS%2BX%2B10_11_6%2529%2BAppleWebKit%252F537.36%2B%2528KHTML%252C%2Blike%2BGecko%2529%2BChrome%252F57.0.2987.133%2BSafari%252F537.36\">login</a>\r\n",
      "\t\t\t\t\t&nbsp;|&nbsp;\r\n",
      "\t\t\t\t\t<span class=\"pulldown global_action_link\" id=\"language_pulldown\" onclick=\"ShowMenu( this, 'language_dropdown', 'right' );\">language</span>\r\n",
      "\t\t\t\t\t<div class=\"popup_block_new\" id=\"language_dropdown\" style=\"display: none;\">\r\n",
      "\t\t\t\t\t\t<div class=\"popup_body popup_menu\">\r\n",
      "\t\t\t\t\t\t\t\t\t\t\t\t\t\t\t\t\t\t\t\t\t\t\t\t\t\t\t\t\t\t\t\t\t<a class=\"popup_menu_item tight\" href=\"?l=bulgarian&Accept-Language=en-US%2Cen%3Bq%3D0.8%2Czh-CN%3Bq%3D0.6%2Czh%3Bq%3D0.4%2Czh-TW%3Bq%3D0.2&Accept-Encoding=gzip%2C+deflate%2C+sdch&Accept=text%2Fhtml%2Capplication%2Fxhtml%2Bxml%2Capplication%2Fxml%3Bq%3D0.9%2Cimage%2Fwebp%2C%2A%2F%2A%3Bq%3D0.8&User-Agent=Mozilla%2F5.0+%28Macintosh%3B+Intel+Mac+OS+X+10_11_6%29+AppleWebKit%2F537.36+%28KHTML%2C+like+Gecko%29+Chrome%2F57.0.2987.133+Safari%2F537.36\" onclick=\"ChangeLanguage( 'bulgarian' ); return false;\">Български (Bulgarian)</a>\r\n",
      "\t\t\t\t\t\t\t\t\t\t\t\t\t\t\t\t\t\t\t\t\t\t\t\t\t\t<a class=\"popup_menu_item tight\" href=\"?l=czech&Accept-Language=en-US%2Cen%3Bq%3D0.8%2Czh-CN%3Bq%3D0.6%2Czh%3Bq%3D0.4%2Czh-TW%3Bq%3D0.2&Accept-Encoding=gzip%2C+deflate%2C+sdch&Accept=text%2Fhtml%2Capplication%2Fxhtml%2Bxml%2Capplication%2Fxml%3Bq%3D0.9%2Cimage%2Fwebp%2C%2A%2F%2A%3Bq%3D0.8&User-Agent=Mozilla%2F5.0+%28Macintosh%3B+Intel+Mac+OS+X+10_11_6%29+AppleWebKit%2F537.36+%28KHTML%2C+like+Gecko%29+Chrome%2F57.0.2987.133+Safari%2F537.36\" onclick=\"ChangeLanguage( 'czech' ); return false;\">čeština (Czech)</a>\r\n",
      "\t\t\t\t\t\t\t\t\t\t\t\t\t\t\t\t\t\t\t\t\t\t\t\t\t\t<a class=\"popup_menu_item tight\" href=\"?l=danish&Accept-Language=en-US%2Cen%3Bq%3D0.8%2Czh-CN%3Bq%3D0.6%2Czh%3Bq%3D0.4%2Czh-TW%3Bq%3D0.2&Accept-Encoding=gzip%2C+deflate%2C+sdch&Accept=text%2Fhtml%2Capplication%2Fxhtml%2Bxml%2Capplication%2Fxml%3Bq%3D0.9%2Cimage%2Fwebp%2C%2A%2F%2A%3Bq%3D0.8&User-Agent=Mozilla%2F5.0+%28Macintosh%3B+Intel+Mac+OS+X+10_11_6%29+AppleWebKit%2F537.36+%28KHTML%2C+like+Gecko%29+Chrome%2F57.0.2987.133+Safari%2F537.36\" onclick=\"ChangeLanguage( 'danish' ); return false;\">Dansk (Danish)</a>\r\n",
      "\t\t\t\t\t\t\t\t\t\t\t\t\t\t\t\t\t\t\t\t\t\t\t\t\t\t<a class=\"popup_menu_item tight\" href=\"?l=dutch&Accept-Language=en-US%2Cen%3Bq%3D0.8%2Czh-CN%3Bq%3D0.6%2Czh%3Bq%3D0.4%2Czh-TW%3Bq%3D0.2&Accept-Encoding=gzip%2C+deflate%2C+sdch&Accept=text%2Fhtml%2Capplication%2Fxhtml%2Bxml%2Capplication%2Fxml%3Bq%3D0.9%2Cimage%2Fwebp%2C%2A%2F%2A%3Bq%3D0.8&User-Agent=Mozilla%2F5.0+%28Macintosh%3B+Intel+Mac+OS+X+10_11_6%29+AppleWebKit%2F537.36+%28KHTML%2C+like+Gecko%29+Chrome%2F57.0.2987.133+Safari%2F537.36\" onclick=\"ChangeLanguage( 'dutch' ); return false;\">Nederlands (Dutch)</a>\r\n",
      "\t\t\t\t\t\t\t\t\t\t\t\t\t\t\t\t\t\t\t\t\t\t\t\t\t\t\t\t\t\t\t\t\t\t\t<a class=\"popup_menu_item tight\" href=\"?l=finnish&Accept-Language=en-US%2Cen%3Bq%3D0.8%2Czh-CN%3Bq%3D0.6%2Czh%3Bq%3D0.4%2Czh-TW%3Bq%3D0.2&Accept-Encoding=gzip%2C+deflate%2C+sdch&Accept=text%2Fhtml%2Capplication%2Fxhtml%2Bxml%2Capplication%2Fxml%3Bq%3D0.9%2Cimage%2Fwebp%2C%2A%2F%2A%3Bq%3D0.8&User-Agent=Mozilla%2F5.0+%28Macintosh%3B+Intel+Mac+OS+X+10_11_6%29+AppleWebKit%2F537.36+%28KHTML%2C+like+Gecko%29+Chrome%2F57.0.2987.133+Safari%2F537.36\" onclick=\"ChangeLanguage( 'finnish' ); return false;\">Suomi (Finnish)</a>\r\n",
      "\t\t\t\t\t\t\t\t\t\t\t\t\t\t\t\t\t\t\t\t\t\t\t\t\t\t<a class=\"popup_menu_item tight\" href=\"?l=french&Accept-Language=en-US%2Cen%3Bq%3D0.8%2Czh-CN%3Bq%3D0.6%2Czh%3Bq%3D0.4%2Czh-TW%3Bq%3D0.2&Accept-Encoding=gzip%2C+deflate%2C+sdch&Accept=text%2Fhtml%2Capplication%2Fxhtml%2Bxml%2Capplication%2Fxml%3Bq%3D0.9%2Cimage%2Fwebp%2C%2A%2F%2A%3Bq%3D0.8&User-Agent=Mozilla%2F5.0+%28Macintosh%3B+Intel+Mac+OS+X+10_11_6%29+AppleWebKit%2F537.36+%28KHTML%2C+like+Gecko%29+Chrome%2F57.0.2987.133+Safari%2F537.36\" onclick=\"ChangeLanguage( 'french' ); return false;\">Français (French)</a>\r\n",
      "\t\t\t\t\t\t\t\t\t\t\t\t\t\t\t\t\t\t\t\t\t\t\t\t\t\t<a class=\"popup_menu_item tight\" href=\"?l=german&Accept-Language=en-US%2Cen%3Bq%3D0.8%2Czh-CN%3Bq%3D0.6%2Czh%3Bq%3D0.4%2Czh-TW%3Bq%3D0.2&Accept-Encoding=gzip%2C+deflate%2C+sdch&Accept=text%2Fhtml%2Capplication%2Fxhtml%2Bxml%2Capplication%2Fxml%3Bq%3D0.9%2Cimage%2Fwebp%2C%2A%2F%2A%3Bq%3D0.8&User-Agent=Mozilla%2F5.0+%28Macintosh%3B+Intel+Mac+OS+X+10_11_6%29+AppleWebKit%2F537.36+%28KHTML%2C+like+Gecko%29+Chrome%2F57.0.2987.133+Safari%2F537.36\" onclick=\"ChangeLanguage( 'german' ); return false;\">Deutsch (German)</a>\r\n",
      "\t\t\t\t\t\t\t\t\t\t\t\t\t\t\t\t\t\t\t\t\t\t\t\t\t\t<a class=\"popup_menu_item tight\" href=\"?l=greek&Accept-Language=en-US%2Cen%3Bq%3D0.8%2Czh-CN%3Bq%3D0.6%2Czh%3Bq%3D0.4%2Czh-TW%3Bq%3D0.2&Accept-Encoding=gzip%2C+deflate%2C+sdch&Accept=text%2Fhtml%2Capplication%2Fxhtml%2Bxml%2Capplication%2Fxml%3Bq%3D0.9%2Cimage%2Fwebp%2C%2A%2F%2A%3Bq%3D0.8&User-Agent=Mozilla%2F5.0+%28Macintosh%3B+Intel+Mac+OS+X+10_11_6%29+AppleWebKit%2F537.36+%28KHTML%2C+like+Gecko%29+Chrome%2F57.0.2987.133+Safari%2F537.36\" onclick=\"ChangeLanguage( 'greek' ); return false;\">Ελληνικά (Greek)</a>\r\n",
      "\t\t\t\t\t\t\t\t\t\t\t\t\t\t\t\t\t\t\t\t\t\t\t\t\t\t<a class=\"popup_menu_item tight\" href=\"?l=hungarian&Accept-Language=en-US%2Cen%3Bq%3D0.8%2Czh-CN%3Bq%3D0.6%2Czh%3Bq%3D0.4%2Czh-TW%3Bq%3D0.2&Accept-Encoding=gzip%2C+deflate%2C+sdch&Accept=text%2Fhtml%2Capplication%2Fxhtml%2Bxml%2Capplication%2Fxml%3Bq%3D0.9%2Cimage%2Fwebp%2C%2A%2F%2A%3Bq%3D0.8&User-Agent=Mozilla%2F5.0+%28Macintosh%3B+Intel+Mac+OS+X+10_11_6%29+AppleWebKit%2F537.36+%28KHTML%2C+like+Gecko%29+Chrome%2F57.0.2987.133+Safari%2F537.36\" onclick=\"ChangeLanguage( 'hungarian' ); return false;\">Magyar (Hungarian)</a>\r\n",
      "\t\t\t\t\t\t\t\t\t\t\t\t\t\t\t\t\t\t\t\t\t\t\t\t\t\t<a class=\"popup_menu_item tight\" href=\"?l=italian&Accept-Language=en-US%2Cen%3Bq%3D0.8%2Czh-CN%3Bq%3D0.6%2Czh%3Bq%3D0.4%2Czh-TW%3Bq%3D0.2&Accept-Encoding=gzip%2C+deflate%2C+sdch&Accept=text%2Fhtml%2Capplication%2Fxhtml%2Bxml%2Capplication%2Fxml%3Bq%3D0.9%2Cimage%2Fwebp%2C%2A%2F%2A%3Bq%3D0.8&User-Agent=Mozilla%2F5.0+%28Macintosh%3B+Intel+Mac+OS+X+10_11_6%29+AppleWebKit%2F537.36+%28KHTML%2C+like+Gecko%29+Chrome%2F57.0.2987.133+Safari%2F537.36\" onclick=\"ChangeLanguage( 'italian' ); return false;\">Italiano (Italian)</a>\r\n",
      "\t\t\t\t\t\t\t\t\t\t\t\t\t\t\t\t\t\t\t\t\t\t\t\t\t\t<a class=\"popup_menu_item tight\" href=\"?l=japanese&Accept-Language=en-US%2Cen%3Bq%3D0.8%2Czh-CN%3Bq%3D0.6%2Czh%3Bq%3D0.4%2Czh-TW%3Bq%3D0.2&Accept-Encoding=gzip%2C+deflate%2C+sdch&Accept=text%2Fhtml%2Capplication%2Fxhtml%2Bxml%2Capplication%2Fxml%3Bq%3D0.9%2Cimage%2Fwebp%2C%2A%2F%2A%3Bq%3D0.8&User-Agent=Mozilla%2F5.0+%28Macintosh%3B+Intel+Mac+OS+X+10_11_6%29+AppleWebKit%2F537.36+%28KHTML%2C+like+Gecko%29+Chrome%2F57.0.2987.133+Safari%2F537.36\" onclick=\"ChangeLanguage( 'japanese' ); return false;\">日本語 (Japanese)</a>\r\n",
      "\t\t\t\t\t\t\t\t\t\t\t\t\t\t\t\t\t\t\t\t\t\t\t\t\t\t<a class=\"popup_menu_item tight\" href=\"?l=koreana&Accept-Language=en-US%2Cen%3Bq%3D0.8%2Czh-CN%3Bq%3D0.6%2Czh%3Bq%3D0.4%2Czh-TW%3Bq%3D0.2&Accept-Encoding=gzip%2C+deflate%2C+sdch&Accept=text%2Fhtml%2Capplication%2Fxhtml%2Bxml%2Capplication%2Fxml%3Bq%3D0.9%2Cimage%2Fwebp%2C%2A%2F%2A%3Bq%3D0.8&User-Agent=Mozilla%2F5.0+%28Macintosh%3B+Intel+Mac+OS+X+10_11_6%29+AppleWebKit%2F537.36+%28KHTML%2C+like+Gecko%29+Chrome%2F57.0.2987.133+Safari%2F537.36\" onclick=\"ChangeLanguage( 'koreana' ); return false;\">한국어 (Korean)</a>\r\n",
      "\t\t\t\t\t\t\t\t\t\t\t\t\t\t\t\t\t\t\t\t\t\t\t\t\t\t<a class=\"popup_menu_item tight\" href=\"?l=norwegian&Accept-Language=en-US%2Cen%3Bq%3D0.8%2Czh-CN%3Bq%3D0.6%2Czh%3Bq%3D0.4%2Czh-TW%3Bq%3D0.2&Accept-Encoding=gzip%2C+deflate%2C+sdch&Accept=text%2Fhtml%2Capplication%2Fxhtml%2Bxml%2Capplication%2Fxml%3Bq%3D0.9%2Cimage%2Fwebp%2C%2A%2F%2A%3Bq%3D0.8&User-Agent=Mozilla%2F5.0+%28Macintosh%3B+Intel+Mac+OS+X+10_11_6%29+AppleWebKit%2F537.36+%28KHTML%2C+like+Gecko%29+Chrome%2F57.0.2987.133+Safari%2F537.36\" onclick=\"ChangeLanguage( 'norwegian' ); return false;\">Norsk (Norwegian)</a>\r\n",
      "\t\t\t\t\t\t\t\t\t\t\t\t\t\t\t\t\t\t\t\t\t\t\t\t\t\t<a class=\"popup_menu_item tight\" href=\"?l=polish&Accept-Language=en-US%2Cen%3Bq%3D0.8%2Czh-CN%3Bq%3D0.6%2Czh%3Bq%3D0.4%2Czh-TW%3Bq%3D0.2&Accept-Encoding=gzip%2C+deflate%2C+sdch&Accept=text%2Fhtml%2Capplication%2Fxhtml%2Bxml%2Capplication%2Fxml%3Bq%3D0.9%2Cimage%2Fwebp%2C%2A%2F%2A%3Bq%3D0.8&User-Agent=Mozilla%2F5.0+%28Macintosh%3B+Intel+Mac+OS+X+10_11_6%29+AppleWebKit%2F537.36+%28KHTML%2C+like+Gecko%29+Chrome%2F57.0.2987.133+Safari%2F537.36\" onclick=\"ChangeLanguage( 'polish' ); return false;\">Polski (Polish)</a>\r\n",
      "\t\t\t\t\t\t\t\t\t\t\t\t\t\t\t\t\t\t\t\t\t\t\t\t\t\t<a class=\"popup_menu_item tight\" href=\"?l=portuguese&Accept-Language=en-US%2Cen%3Bq%3D0.8%2Czh-CN%3Bq%3D0.6%2Czh%3Bq%3D0.4%2Czh-TW%3Bq%3D0.2&Accept-Encoding=gzip%2C+deflate%2C+sdch&Accept=text%2Fhtml%2Capplication%2Fxhtml%2Bxml%2Capplication%2Fxml%3Bq%3D0.9%2Cimage%2Fwebp%2C%2A%2F%2A%3Bq%3D0.8&User-Agent=Mozilla%2F5.0+%28Macintosh%3B+Intel+Mac+OS+X+10_11_6%29+AppleWebKit%2F537.36+%28KHTML%2C+like+Gecko%29+Chrome%2F57.0.2987.133+Safari%2F537.36\" onclick=\"ChangeLanguage( 'portuguese' ); return false;\">Português (Portuguese)</a>\r\n",
      "\t\t\t\t\t\t\t\t\t\t\t\t\t\t\t\t\t\t\t\t\t\t\t\t\t\t<a class=\"popup_menu_item tight\" href=\"?l=brazilian&Accept-Language=en-US%2Cen%3Bq%3D0.8%2Czh-CN%3Bq%3D0.6%2Czh%3Bq%3D0.4%2Czh-TW%3Bq%3D0.2&Accept-Encoding=gzip%2C+deflate%2C+sdch&Accept=text%2Fhtml%2Capplication%2Fxhtml%2Bxml%2Capplication%2Fxml%3Bq%3D0.9%2Cimage%2Fwebp%2C%2A%2F%2A%3Bq%3D0.8&User-Agent=Mozilla%2F5.0+%28Macintosh%3B+Intel+Mac+OS+X+10_11_6%29+AppleWebKit%2F537.36+%28KHTML%2C+like+Gecko%29+Chrome%2F57.0.2987.133+Safari%2F537.36\" onclick=\"ChangeLanguage( 'brazilian' ); return false;\">Português-Brasil (Portuguese-Brazil)</a>\r\n",
      "\t\t\t\t\t\t\t\t\t\t\t\t\t\t\t\t\t\t\t\t\t\t\t\t\t\t<a class=\"popup_menu_item tight\" href=\"?l=romanian&Accept-Language=en-US%2Cen%3Bq%3D0.8%2Czh-CN%3Bq%3D0.6%2Czh%3Bq%3D0.4%2Czh-TW%3Bq%3D0.2&Accept-Encoding=gzip%2C+deflate%2C+sdch&Accept=text%2Fhtml%2Capplication%2Fxhtml%2Bxml%2Capplication%2Fxml%3Bq%3D0.9%2Cimage%2Fwebp%2C%2A%2F%2A%3Bq%3D0.8&User-Agent=Mozilla%2F5.0+%28Macintosh%3B+Intel+Mac+OS+X+10_11_6%29+AppleWebKit%2F537.36+%28KHTML%2C+like+Gecko%29+Chrome%2F57.0.2987.133+Safari%2F537.36\" onclick=\"ChangeLanguage( 'romanian' ); return false;\">Română (Romanian)</a>\r\n",
      "\t\t\t\t\t\t\t\t\t\t\t\t\t\t\t\t\t\t\t\t\t\t\t\t\t\t<a class=\"popup_menu_item tight\" href=\"?l=russian&Accept-Language=en-US%2Cen%3Bq%3D0.8%2Czh-CN%3Bq%3D0.6%2Czh%3Bq%3D0.4%2Czh-TW%3Bq%3D0.2&Accept-Encoding=gzip%2C+deflate%2C+sdch&Accept=text%2Fhtml%2Capplication%2Fxhtml%2Bxml%2Capplication%2Fxml%3Bq%3D0.9%2Cimage%2Fwebp%2C%2A%2F%2A%3Bq%3D0.8&User-Agent=Mozilla%2F5.0+%28Macintosh%3B+Intel+Mac+OS+X+10_11_6%29+AppleWebKit%2F537.36+%28KHTML%2C+like+Gecko%29+Chrome%2F57.0.2987.133+Safari%2F537.36\" onclick=\"ChangeLanguage( 'russian' ); return false;\">Русский (Russian)</a>\r\n",
      "\t\t\t\t\t\t\t\t\t\t\t\t\t\t\t\t\t\t\t\t\t\t\t\t\t\t<a class=\"popup_menu_item tight\" href=\"?l=schinese&Accept-Language=en-US%2Cen%3Bq%3D0.8%2Czh-CN%3Bq%3D0.6%2Czh%3Bq%3D0.4%2Czh-TW%3Bq%3D0.2&Accept-Encoding=gzip%2C+deflate%2C+sdch&Accept=text%2Fhtml%2Capplication%2Fxhtml%2Bxml%2Capplication%2Fxml%3Bq%3D0.9%2Cimage%2Fwebp%2C%2A%2F%2A%3Bq%3D0.8&User-Agent=Mozilla%2F5.0+%28Macintosh%3B+Intel+Mac+OS+X+10_11_6%29+AppleWebKit%2F537.36+%28KHTML%2C+like+Gecko%29+Chrome%2F57.0.2987.133+Safari%2F537.36\" onclick=\"ChangeLanguage( 'schinese' ); return false;\">简体中文 (Simplified Chinese)</a>\r\n",
      "\t\t\t\t\t\t\t\t\t\t\t\t\t\t\t\t\t\t\t\t\t\t\t\t\t\t<a class=\"popup_menu_item tight\" href=\"?l=spanish&Accept-Language=en-US%2Cen%3Bq%3D0.8%2Czh-CN%3Bq%3D0.6%2Czh%3Bq%3D0.4%2Czh-TW%3Bq%3D0.2&Accept-Encoding=gzip%2C+deflate%2C+sdch&Accept=text%2Fhtml%2Capplication%2Fxhtml%2Bxml%2Capplication%2Fxml%3Bq%3D0.9%2Cimage%2Fwebp%2C%2A%2F%2A%3Bq%3D0.8&User-Agent=Mozilla%2F5.0+%28Macintosh%3B+Intel+Mac+OS+X+10_11_6%29+AppleWebKit%2F537.36+%28KHTML%2C+like+Gecko%29+Chrome%2F57.0.2987.133+Safari%2F537.36\" onclick=\"ChangeLanguage( 'spanish' ); return false;\">Español (Spanish)</a>\r\n",
      "\t\t\t\t\t\t\t\t\t\t\t\t\t\t\t\t\t\t\t\t\t\t\t\t\t\t<a class=\"popup_menu_item tight\" href=\"?l=swedish&Accept-Language=en-US%2Cen%3Bq%3D0.8%2Czh-CN%3Bq%3D0.6%2Czh%3Bq%3D0.4%2Czh-TW%3Bq%3D0.2&Accept-Encoding=gzip%2C+deflate%2C+sdch&Accept=text%2Fhtml%2Capplication%2Fxhtml%2Bxml%2Capplication%2Fxml%3Bq%3D0.9%2Cimage%2Fwebp%2C%2A%2F%2A%3Bq%3D0.8&User-Agent=Mozilla%2F5.0+%28Macintosh%3B+Intel+Mac+OS+X+10_11_6%29+AppleWebKit%2F537.36+%28KHTML%2C+like+Gecko%29+Chrome%2F57.0.2987.133+Safari%2F537.36\" onclick=\"ChangeLanguage( 'swedish' ); return false;\">Svenska (Swedish)</a>\r\n",
      "\t\t\t\t\t\t\t\t\t\t\t\t\t\t\t\t\t\t\t\t\t\t\t\t\t\t<a class=\"popup_menu_item tight\" href=\"?l=tchinese&Accept-Language=en-US%2Cen%3Bq%3D0.8%2Czh-CN%3Bq%3D0.6%2Czh%3Bq%3D0.4%2Czh-TW%3Bq%3D0.2&Accept-Encoding=gzip%2C+deflate%2C+sdch&Accept=text%2Fhtml%2Capplication%2Fxhtml%2Bxml%2Capplication%2Fxml%3Bq%3D0.9%2Cimage%2Fwebp%2C%2A%2F%2A%3Bq%3D0.8&User-Agent=Mozilla%2F5.0+%28Macintosh%3B+Intel+Mac+OS+X+10_11_6%29+AppleWebKit%2F537.36+%28KHTML%2C+like+Gecko%29+Chrome%2F57.0.2987.133+Safari%2F537.36\" onclick=\"ChangeLanguage( 'tchinese' ); return false;\">繁體中文 (Traditional Chinese)</a>\r\n",
      "\t\t\t\t\t\t\t\t\t\t\t\t\t\t\t\t\t\t\t\t\t\t\t\t\t\t<a class=\"popup_menu_item tight\" href=\"?l=thai&Accept-Language=en-US%2Cen%3Bq%3D0.8%2Czh-CN%3Bq%3D0.6%2Czh%3Bq%3D0.4%2Czh-TW%3Bq%3D0.2&Accept-Encoding=gzip%2C+deflate%2C+sdch&Accept=text%2Fhtml%2Capplication%2Fxhtml%2Bxml%2Capplication%2Fxml%3Bq%3D0.9%2Cimage%2Fwebp%2C%2A%2F%2A%3Bq%3D0.8&User-Agent=Mozilla%2F5.0+%28Macintosh%3B+Intel+Mac+OS+X+10_11_6%29+AppleWebKit%2F537.36+%28KHTML%2C+like+Gecko%29+Chrome%2F57.0.2987.133+Safari%2F537.36\" onclick=\"ChangeLanguage( 'thai' ); return false;\">ไทย (Thai)</a>\r\n",
      "\t\t\t\t\t\t\t\t\t\t\t\t\t\t\t\t\t\t\t\t\t\t\t\t\t\t<a class=\"popup_menu_item tight\" href=\"?l=turkish&Accept-Language=en-US%2Cen%3Bq%3D0.8%2Czh-CN%3Bq%3D0.6%2Czh%3Bq%3D0.4%2Czh-TW%3Bq%3D0.2&Accept-Encoding=gzip%2C+deflate%2C+sdch&Accept=text%2Fhtml%2Capplication%2Fxhtml%2Bxml%2Capplication%2Fxml%3Bq%3D0.9%2Cimage%2Fwebp%2C%2A%2F%2A%3Bq%3D0.8&User-Agent=Mozilla%2F5.0+%28Macintosh%3B+Intel+Mac+OS+X+10_11_6%29+AppleWebKit%2F537.36+%28KHTML%2C+like+Gecko%29+Chrome%2F57.0.2987.133+Safari%2F537.36\" onclick=\"ChangeLanguage( 'turkish' ); return false;\">Türkçe (Turkish)</a>\r\n",
      "\t\t\t\t\t\t\t\t\t\t\t\t\t\t\t\t\t\t\t\t\t\t\t\t\t\t<a class=\"popup_menu_item tight\" href=\"?l=ukrainian&Accept-Language=en-US%2Cen%3Bq%3D0.8%2Czh-CN%3Bq%3D0.6%2Czh%3Bq%3D0.4%2Czh-TW%3Bq%3D0.2&Accept-Encoding=gzip%2C+deflate%2C+sdch&Accept=text%2Fhtml%2Capplication%2Fxhtml%2Bxml%2Capplication%2Fxml%3Bq%3D0.9%2Cimage%2Fwebp%2C%2A%2F%2A%3Bq%3D0.8&User-Agent=Mozilla%2F5.0+%28Macintosh%3B+Intel+Mac+OS+X+10_11_6%29+AppleWebKit%2F537.36+%28KHTML%2C+like+Gecko%29+Chrome%2F57.0.2987.133+Safari%2F537.36\" onclick=\"ChangeLanguage( 'ukrainian' ); return false;\">Українська (Ukrainian)</a>\r\n",
      "\t\t\t\t\t\t\t\t\t\t\t\t\t\t\t\t\t\t\t\t\t\t<a class=\"popup_menu_item tight\" href=\"http://translation.steampowered.com\" target=\"_blank\">Help us translate Steam</a>\r\n",
      "\t\t\t\t\t\t</div>\r\n",
      "\t\t\t\t\t</div>\r\n",
      "\t\t\t\t\t\t\t</div>\r\n",
      "\t\t\t\t\t</div>\r\n",
      "\t\t\t</div>\r\n",
      "</div>\r\n",
      "<script type=\"text/javascript\">\r\n",
      "\tg_sessionID = \"1669f5b54826975111d56b2c\";\r\n",
      "\tg_steamID = false;\r\n",
      "\r\n",
      "\t// We always want to have the timezone cookie set for PHP to use\r\n",
      "\tsetTimezoneCookies();\r\n",
      "\r\n",
      "\t$J( function() {\r\n",
      "\r\n",
      "\t\tInitMiniprofileHovers();\r\n",
      "\t\tInitEmoticonHovers();\r\n",
      "\t\twindow.BindCommunityTooltip = function( $Selector ) { $Selector.v_tooltip( {'tooltipClass': 'community_tooltip', 'dataName': 'communityTooltip' } ); };\r\n",
      "\t\tBindCommunityTooltip( $J('[data-community-tooltip]') );\r\n",
      "\t});\r\n",
      "\r\n",
      "\t$J( function() { InitEconomyHovers( \"http:\\/\\/steamcommunity-a.akamaihd.net\\/public\\/css\\/skin_1\\/economy.css?v=q6EkkWwqjgQx\", \"http:\\/\\/steamcommunity-a.akamaihd.net\\/public\\/javascript\\/economy_common.js?v=tsXdRVB0yEaR&l=english\", \"http:\\/\\/steamcommunity-a.akamaihd.net\\/public\\/javascript\\/economy.js?v=jsMHcqsTyBbv&l=english\" );});</script>\r\n",
      "\t\t<div class=\"responsive_page_template_content\">\r\n",
      "\r\n",
      "\t\t\t\t<script type=\"text/javascript\">\r\n",
      "\t\tg_rgProfileData = {\"url\":\"http:\\/\\/steamcommunity.com\\/id\\/greg\\/\",\"steamid\":\"76561197960265738\",\"personaname\":\"Gregori\",\"summary\":\"And just when he had polled the crowd and swore he'd won the fight - We rocked his butt with a 12 inch cut called DISCO KRYPTONITE<br><br> <a class=\\\"bb_link\\\" href=\\\"http:\\/\\/twitter.com\\/gregcoomer\\\" target=\\\"_blank\\\" rel=\\\"noreferrer\\\" >Me on Twitter<\\/a> <br>\"};\r\n",
      "\t\t$J( function() {\r\n",
      "\t\t\twindow.Responsive_ReparentItemsInResponsiveMode && Responsive_ReparentItemsInResponsiveMode( '.responsive_groupfriends_element', $J('#responsive_groupfriends_element_ctn') );\r\n",
      "\t\t\t\t\t});\r\n",
      "\t</script>\r\n",
      "\r\n",
      "\r\n",
      "\r\n",
      "<div class=\"no_header profile_page  \" style=\"\">\r\n",
      "\r\n",
      "\t<div class=\"profile_header_bg\">\r\n",
      "\r\n",
      "\r\n",
      "\t<div class=\"profile_header_bg_texture\">\r\n",
      "\t\t\r\n",
      "\t\t<div class=\"profile_header\">\r\n",
      "\r\n",
      "\t\t\t<div class=\"profile_header_content\">\r\n",
      "\r\n",
      "\t\t\t\t\t\t\t\t<div class=\"profile_header_centered_persona\">\r\n",
      "\t\t\t\t\t<div class=\"persona_name\" style=\"font-size: 24px;\">\r\n",
      "\t\t\t\t\t\t<span class=\"actual_persona_name\">Gregori</span>\r\n",
      "\t\t\t\t\t\t\t\t\t\t\t\t<span class=\"namehistory_link\" onclick=\"ShowAliasPopup( this );\">\r\n",
      "\t\t\t\t\t\t\t\t<img id=\"getnamehistory_arrow\" src=\"http://steamcommunity-a.akamaihd.net/public/images/skin_1/arrowDn9x5.gif\" width=\"9\" height=\"5\" border=\"0\">\r\n",
      "\t\t\t\t\t\t\t</span>\r\n",
      "\t\t\t\t\t\t<div id=\"NamePopup\" class=\"popup_block_new\" style=\"display: none;\">\r\n",
      "\t\t\t\t\t\t\t<div class=\"popup_body popup_menu\">\r\n",
      "\t\t\t\t\t\t\t\t<div>This user has also played as:</div>\r\n",
      "\t\t\t\t\t\t\t\t<div id=\"NamePopupAliases\">\r\n",
      "\r\n",
      "\t\t\t\t\t\t\t\t</div>\r\n",
      "\t\t\t\t\t\t\t</div>\r\n",
      "\t\t\t\t\t\t</div>\r\n",
      "\t\t\t\t\t</div>\r\n",
      "\r\n",
      "\t\t\t\t\t\t\t\t\t\t<div class=\"header_real_name ellipsis\">\r\n",
      "\t\t\t\t\t\t<bdi>Greg Coomer</bdi>\r\n",
      "\t\t\t\t\t\t\t\t\t\t\t\t\t&nbsp;\r\n",
      "\t\t\t\t\t\t\t\t\t\t\t\t\t\t\t\t\t\t\t<img class=\"profile_flag\" src=\"http://steamcommunity-a.akamaihd.net/public/images/countryflags/us.gif\">\r\n",
      "\t\t\t\t\t\t\t\t\t\t\t\tSeattle, Washington, United States\t\t\t\t\t</div>\r\n",
      "\t\t\t\t\t\t\t\t\t</div>\r\n",
      "\r\n",
      "\t\t\t\t<div class=\"playerAvatar profile_header_size online\">\r\n",
      "\t\t\t\t\t<div class=\"playerAvatarAutoSizeInner\"><img src=\"http://cdn.steamstatic.com.8686c.com/steamcommunity/public/images/avatars/c0/c0428498c7dee5b9e156e743af2d849a9fa66a90_full.jpg\"></div>\r\n",
      "\t\t\t\t</div>\r\n",
      "\t\t\t\t<div class=\"profile_header_badgeinfo\">\r\n",
      "\t\t\t\t\t<div class=\"profile_header_badgeinfo_badge_area\">\r\n",
      "\t\t\t\t\t\t\t\t\t\t\t\t\t<a href=\"http://steamcommunity.com/id/greg/badges\">\r\n",
      "\t\t\t\t\t\t\t\t<div class=\"persona_name persona_level\">Level <div class=\"friendPlayerLevel lvl_10\"><span class=\"friendPlayerLevelNum\">19</span></div></div>\r\n",
      "\t\t\t\t\t\t\t</a>\r\n",
      "\t\t\t\t\t\t\t\t\t\t\t\t\t\t\t\t\t\t</div>\r\n",
      "\t\t\t\t\t<div class=\"profile_header_actions\">\r\n",
      "\t\t\t\t\t\t\t\t\t\t\t</div>\r\n",
      "\t\t\t\t</div>\r\n",
      "\r\n",
      "\t\t\t\t<div class=\"profile_header_summary\">\r\n",
      "\t\t\t\t\t<div class=\"persona_name persona_name_spacer\" style=\"font-size: 24px;\">\r\n",
      "\t\t\t\t\t\t<span class=\"actual_persona_name\">&nbsp;</span>\r\n",
      "\t\t\t\t\t</div>\r\n",
      "\t\t\t\t\t\t\t\t\t\t\t<div class=\"header_real_name_spacer\">&nbsp;</div>\r\n",
      "\t\t\t\t\t\t<div class=\"profile_summary\">\r\n",
      "\t\t\t\t\t\t\tAnd just when he had polled the crowd and swore he'd won the fight - We rocked his butt with a 12 inch cut called DISCO KRYPTONITE<br><br> <a class=\"bb_link\" href=\"http://twitter.com/gregcoomer\" target=\"_blank\" rel=\"noreferrer\" >Me on Twitter</a> <br>\t\t\t\t\t\t</div>\r\n",
      "\t\t\t\t\t\t<div class=\"profile_summary_footer\">\r\n",
      "\t\t\t\t\t\t\t<span class=\"whiteLink\" class=\"whiteLink\">View more info</span>\r\n",
      "\t\t\t\t\t\t</div>\r\n",
      "\t\t\t\t\t\t<script type=\"text/javascript\"> $J( function() { InitProfileSummary( g_rgProfileData['summary'] ); } ); </script>\r\n",
      "\t\t\t\t\t\t\t\t\t</div>\r\n",
      "\r\n",
      "\t\t\t</div>\r\n",
      "\t\t</div>\r\n",
      "\t</div>\r\n",
      "</div>\r\n",
      "\t<div class=\"profile_content \">\r\n",
      "\t\t\t\t<div class=\"profile_content_inner\">\r\n",
      "\t\t\t\r\n",
      "\t\t\t\r\n",
      "\t\t\t\r\n",
      "\r\n",
      "\t\t\t\r\n",
      "\t\t\t<div class=\"profile_rightcol\">\r\n",
      "\t\t\t\t<div class=\"responsive_status_info\">\r\n",
      "\t\t\t\t\t\t<div class=\"profile_in_game persona online\">\r\n",
      "\t\t\t\t\t<div class=\"profile_in_game_header\">Currently Online</div>\r\n",
      "\t\t\t\t\t</div>\r\n",
      "\t\t\t\t\t\t\t\t\t</div>\r\n",
      "\r\n",
      "\t\t\t\t<div class=\"responsive_count_link_area\">\r\n",
      "\t\t\t\t\t<div class=\"profile_badges\">\r\n",
      "\t\t\t\t\t\t<div class=\"profile_count_link_preview_ctn\">\r\n",
      "\t\t\t\t\t\t\t\t\t\t\t\t\t\t\t\t<div class=\"profile_count_link ellipsis\">\r\n",
      "\t\t\t\t\t\t<a href=\"http://steamcommunity.com/id/greg/badges/\">\r\n",
      "\t\t\t\t\t\t\t<span class=\"count_link_label\">Badges</span>&nbsp;\r\n",
      "\t\t\t\t\t\t\t<span class=\"profile_count_link_total\">\r\n",
      "\t\t\t\t\t\t\t\t\t\t\t\t\t\t\t\t\t9\t\t\t\t\t\t\t\t\t\t\t\t\t\t\t</span>\r\n",
      "\t\t\t\t\t\t</a>\r\n",
      "\t\t\t\t\t</div>\r\n",
      "\t\t\t\t\t\t\t\t\t\t\t\t\t\t<div class=\"profile_count_link_preview\">\r\n",
      "\t\t\t\t\t\t\t\t\t\t\t\t\t\t\t\t\t\t\t\t\t\t\t\t\t<div class=\"profile_badges_badge \" data-community-tooltip=\"Community Ambassador\">\r\n",
      "\t\t\t\t\t\t\t\t\t\t<a href=\"http://steamcommunity.com/id/greg/badges/2\">\r\n",
      "\t\t\t\t\t\t\t\t\t\t\t<img src=\"http://steamcommunity-a.akamaihd.net/public/images/badges/01_community/community03_54.png\" class=\"badge_icon small\">\r\n",
      "\t\t\t\t\t\t\t\t\t\t</a>\r\n",
      "\t\t\t\t\t\t\t\t\t</div>\r\n",
      "\t\t\t\t\t\t\t\t\t\t\t\t\t\t\t\t\t\t\t\t\t\t\t\t\t\t<div class=\"profile_badges_badge \" data-community-tooltip=\"Power Player<br>\n",
      "227 games owned\">\r\n",
      "\t\t\t\t\t\t\t\t\t\t<a href=\"http://steamcommunity.com/id/greg/badges/13\">\r\n",
      "\t\t\t\t\t\t\t\t\t\t\t<img src=\"http://steamcommunity-a.akamaihd.net/public/images/badges/13_gamecollector/100_54.png?v=4\" class=\"badge_icon small\">\r\n",
      "\t\t\t\t\t\t\t\t\t\t</a>\r\n",
      "\t\t\t\t\t\t\t\t\t</div>\r\n",
      "\t\t\t\t\t\t\t\t\t\t\t\t\t\t\t\t\t\t\t\t\t\t\t\t\t\t<div class=\"profile_badges_badge \" data-community-tooltip=\"Years of Service<br>\n",
      "Member since 10 September, 2003.\">\r\n",
      "\t\t\t\t\t\t\t\t\t\t<a href=\"http://steamcommunity.com/id/greg/badges/1\">\r\n",
      "\t\t\t\t\t\t\t\t\t\t\t<img src=\"http://steamcommunity-a.akamaihd.net/public/images/badges/02_years/steamyears1402_54.png\" class=\"badge_icon small\">\r\n",
      "\t\t\t\t\t\t\t\t\t\t</a>\r\n",
      "\t\t\t\t\t\t\t\t\t</div>\r\n",
      "\t\t\t\t\t\t\t\t\t\t\t\t\t\t\t\t\t\t\t\t\t\t\t\t\t\t<div class=\"profile_badges_badge last\" data-community-tooltip=\"Monster Summer Badge<br>\n",
      "Level 380 Monster Summer Badge. Helped the Steam Community defeat monsters during the 2015 Steam Summer Sale.\">\r\n",
      "\t\t\t\t\t\t\t\t\t\t<a href=\"http://steamcommunity.com/id/greg/badges/23\">\r\n",
      "\t\t\t\t\t\t\t\t\t\t\t<img src=\"http://steamcommunity-a.akamaihd.net/public/images/badges/23_towerattack/300.png\" class=\"badge_icon small\">\r\n",
      "\t\t\t\t\t\t\t\t\t\t</a>\r\n",
      "\t\t\t\t\t\t\t\t\t</div>\r\n",
      "\t\t\t\t\t\t\t\t\t\t\t\t\t\t\t\t\t<div style=\"clear: left;\"></div>\r\n",
      "\t\t\t\t\t\t\t</div>\r\n",
      "\t\t\t\t\t\t</div>\r\n",
      "\t\t\t\t\t</div>\r\n",
      "\r\n",
      "\t\t\t\t\t<div id=\"responsive_groupfriends_element_ctn\">\r\n",
      "\t\t\t\t\t</div>\r\n",
      "\r\n",
      "\t\t\t\t\t<div class=\"profile_item_links\">\r\n",
      "\t\t\t\t\t\t\t\t\t\t\t\t\t\t\t<div class=\"profile_count_link ellipsis\">\r\n",
      "\t\t\t\t\t\t<a href=\"http://steamcommunity.com/id/greg/games/?tab=all\">\r\n",
      "\t\t\t\t\t\t\t<span class=\"count_link_label\">Games</span>&nbsp;\r\n",
      "\t\t\t\t\t\t\t<span class=\"profile_count_link_total\">\r\n",
      "\t\t\t\t\t\t\t\t\t\t\t\t\t\t\t\t\t227\t\t\t\t\t\t\t\t\t\t\t\t\t\t\t</span>\r\n",
      "\t\t\t\t\t\t</a>\r\n",
      "\t\t\t\t\t</div>\r\n",
      "\t\t\t\t\t\t\t\t\t\t\t\t\t\t\t\t\t\t\t\t\t\t<div class=\"profile_count_link ellipsis\">\r\n",
      "\t\t\t\t\t\t<a href=\"http://steamcommunity.com/id/greg/inventory/\">\r\n",
      "\t\t\t\t\t\t\t<span class=\"count_link_label\">Inventory</span>&nbsp;\r\n",
      "\t\t\t\t\t\t\t<span class=\"profile_count_link_total\">\r\n",
      "\t\t\t\t\t\t\t\t\t\t\t\t\t\t\t\t\t&nbsp; <!-- so the line spaces like the rest -->\r\n",
      "\t\t\t\t\t\t\t\t\t\t\t\t\t\t\t</span>\r\n",
      "\t\t\t\t\t\t</a>\r\n",
      "\t\t\t\t\t</div>\r\n",
      "\t\t\t\t\t\t\t\t\t\t\t\t\t\t\t\t\t\t\t\t\t\t<div class=\"profile_count_link ellipsis\">\r\n",
      "\t\t\t\t\t\t<a href=\"http://steamcommunity.com/id/greg/screenshots/\">\r\n",
      "\t\t\t\t\t\t\t<span class=\"count_link_label\">Screenshots</span>&nbsp;\r\n",
      "\t\t\t\t\t\t\t<span class=\"profile_count_link_total\">\r\n",
      "\t\t\t\t\t\t\t\t\t\t\t\t\t\t\t\t\t42\t\t\t\t\t\t\t\t\t\t\t\t\t\t\t</span>\r\n",
      "\t\t\t\t\t\t</a>\r\n",
      "\t\t\t\t\t</div>\r\n",
      "\t\t\t\t\t\t\t\t\t\t\t\t\t\t\t\t\t\t\t\t\t\t<div class=\"profile_count_link ellipsis\">\r\n",
      "\t\t\t\t\t\t<a href=\"http://steamcommunity.com/id/greg/videos/\">\r\n",
      "\t\t\t\t\t\t\t<span class=\"count_link_label\">Videos</span>&nbsp;\r\n",
      "\t\t\t\t\t\t\t<span class=\"profile_count_link_total\">\r\n",
      "\t\t\t\t\t\t\t\t\t\t\t\t\t\t\t\t\t1\t\t\t\t\t\t\t\t\t\t\t\t\t\t\t</span>\r\n",
      "\t\t\t\t\t\t</a>\r\n",
      "\t\t\t\t\t</div>\r\n",
      "\t\t\t\t\t\t\t\t\t\t\t\t\t\t\t\t\t\t\t\t\t\t\t\t\t\t\t\t\t\t\t\t\t\t\t<div class=\"profile_count_link ellipsis\">\r\n",
      "\t\t\t\t\t\t<a href=\"http://steamcommunity.com/id/greg/recommended/\">\r\n",
      "\t\t\t\t\t\t\t<span class=\"count_link_label\">Reviews</span>&nbsp;\r\n",
      "\t\t\t\t\t\t\t<span class=\"profile_count_link_total\">\r\n",
      "\t\t\t\t\t\t\t\t\t\t\t\t\t\t\t\t\t4\t\t\t\t\t\t\t\t\t\t\t\t\t\t\t</span>\r\n",
      "\t\t\t\t\t\t</a>\r\n",
      "\t\t\t\t\t</div>\r\n",
      "\t\t\t\t\t\t\t\t\t\t\t\t\t\t\t\t\t\t\t\t\t\t\t\t\t\t\t\t\t\t\t\t\t\t\t\t\t\t\t\t\t\t\t\t\t\t\t\t\t\t\t<div style=\"clear: left;\"></div>\r\n",
      "\t\t\t\t\t</div>\r\n",
      "\t\t\t\t</div>\r\n",
      "\r\n",
      "\t\t\t\t\t\t\t\t\t<div class=\"profile_group_links profile_count_link_preview_ctn responsive_groupfriends_element\">\r\n",
      "\t\t\t\t\t\t\t\t\t\t\t\t\t\t\t<div class=\"profile_count_link ellipsis\">\r\n",
      "\t\t\t\t\t\t<a href=\"http://steamcommunity.com/id/greg/groups/\">\r\n",
      "\t\t\t\t\t\t\t<span class=\"count_link_label\">Groups</span>&nbsp;\r\n",
      "\t\t\t\t\t\t\t<span class=\"profile_count_link_total\">\r\n",
      "\t\t\t\t\t\t\t\t\t\t\t\t\t\t\t\t\t10\t\t\t\t\t\t\t\t\t\t\t\t\t\t\t</span>\r\n",
      "\t\t\t\t\t\t</a>\r\n",
      "\t\t\t\t\t</div>\r\n",
      "\t\t\t\t\t\t\t\t\t\t\t\t\t\t\t\t\t\t\t<div class=\"profile_count_link_preview\">\r\n",
      "\t\t\t\t\t\t\t\t\t\t\t\t\t\t\t<div class=\"profile_group profile_primary_group\">\r\n",
      "\t\t\t\t\t\t\t\t\t<div class=\"profile_group_avatar\">\r\n",
      "\t\t\t\t\t\t\t\t\t\t<a href=\"http://steamcommunity.com/groups/Valve\">\r\n",
      "\t\t\t\t\t\t\t\t\t\t\t<img src=\"http://cdn.steamstatic.com.8686c.com/steamcommunity/public/images/avatars/1d/1d8baf5a2b5968ae5ca65d7a971c02e222c9a17e_medium.jpg\">\r\n",
      "\t\t\t\t\t\t\t\t\t\t</a>\r\n",
      "\t\t\t\t\t\t\t\t\t</div>\r\n",
      "\t\t\t\t\t\t\t\t\t<a class=\"whiteLink\" href=\"http://steamcommunity.com/groups/Valve\">\r\n",
      "\t\t\t\t\t\t\t\t\t\tValve\t\t\t\t\t\t\t\t\t</a>\r\n",
      "\t\t\t\t\t\t\t\t\t<div class=\"profile_group_membercount\">226 Members</div>\r\n",
      "\t\t\t\t\t\t\t\t\t<div style=\"clear: left;\"></div>\r\n",
      "\t\t\t\t\t\t\t\t</div>\r\n",
      "\t\t\t\t\t\t\t\t\t\t\t\t\t\t\t\t\t\t\t\t\t\t\t\t\t\t\t\t\t\t\t<div class=\"profile_group\">\r\n",
      "\t\t\t\t\t\t\t\t\t\t<div class=\"profile_group_avatar\">\r\n",
      "\t\t\t\t\t\t\t\t\t\t\t<a href=\"http://steamcommunity.com/groups/Steam\">\r\n",
      "\t\t\t\t\t\t\t\t\t\t\t\t<img src=\"http://cdn.steamstatic.com.8686c.com/steamcommunity/public/images/avatars/8a/8a326436cc4b4acb95b4176277a8a4951ba8728b.jpg\">\r\n",
      "\t\t\t\t\t\t\t\t\t\t\t</a>\r\n",
      "\t\t\t\t\t\t\t\t\t\t</div>\r\n",
      "\t\t\t\t\t\t\t\t\t\t<a class=\"whiteLink\" href=\"http://steamcommunity.com/groups/Steam\">\r\n",
      "\t\t\t\t\t\t\t\t\t\t\tSteam\t\t\t\t\t\t\t\t\t\t</a>\r\n",
      "\t\t\t\t\t\t\t\t\t\t<div class=\"profile_group_membercount\">43 Members</div>\r\n",
      "\t\t\t\t\t\t\t\t\t\t<div style=\"clear: left;\"></div>\r\n",
      "\t\t\t\t\t\t\t\t\t</div>\r\n",
      "\t\t\t\t\t\t\t\t\t\t\t\t\t\t\t\t\t<div class=\"profile_group\">\r\n",
      "\t\t\t\t\t\t\t\t\t\t<div class=\"profile_group_avatar\">\r\n",
      "\t\t\t\t\t\t\t\t\t\t\t<a href=\"http://steamcommunity.com/groups/Seattle\">\r\n",
      "\t\t\t\t\t\t\t\t\t\t\t\t<img src=\"http://cdn.steamstatic.com.8686c.com/steamcommunity/public/images/avatars/9e/9ed98ea7ef94c44a8a3f8320ac7b8d275918ab57.jpg\">\r\n",
      "\t\t\t\t\t\t\t\t\t\t\t</a>\r\n",
      "\t\t\t\t\t\t\t\t\t\t</div>\r\n",
      "\t\t\t\t\t\t\t\t\t\t<a class=\"whiteLink\" href=\"http://steamcommunity.com/groups/Seattle\">\r\n",
      "\t\t\t\t\t\t\t\t\t\t\tSeattle\t\t\t\t\t\t\t\t\t\t</a>\r\n",
      "\t\t\t\t\t\t\t\t\t\t<div class=\"profile_group_membercount\">4,952 Members</div>\r\n",
      "\t\t\t\t\t\t\t\t\t\t<div style=\"clear: left;\"></div>\r\n",
      "\t\t\t\t\t\t\t\t\t</div>\r\n",
      "\t\t\t\t\t\t\t\t\t\t\t\t\t\t\t\t\t\t\t\t\t</div>\r\n",
      "\t\t\t\t\t</div>\r\n",
      "\t\t\t\t\r\n",
      "\t\t\t\t\t\t\t\t\t<div class=\"profile_friend_links profile_count_link_preview_ctn responsive_groupfriends_element\">\r\n",
      "\t\t\t\t\t\t\t\t\t\t\t\t\t\t\t<div class=\"profile_count_link ellipsis\">\r\n",
      "\t\t\t\t\t\t<a href=\"http://steamcommunity.com/id/greg/friends/\">\r\n",
      "\t\t\t\t\t\t\t<span class=\"count_link_label\">Friends</span>&nbsp;\r\n",
      "\t\t\t\t\t\t\t<span class=\"profile_count_link_total\">\r\n",
      "\t\t\t\t\t\t\t\t\t\t\t\t\t\t\t\t\t89\t\t\t\t\t\t\t\t\t\t\t\t\t\t\t</span>\r\n",
      "\t\t\t\t\t\t</a>\r\n",
      "\t\t\t\t\t</div>\r\n",
      "\t\t\t\t\t\t\t\r\n",
      "\t\t\t\t\t\t\r\n",
      "\t\t\t\t\t\t<div class=\"profile_topfriends profile_count_link_preview\">\r\n",
      "\t\t\t\t\t\t\t\t\t\t\t\t\t\t\t\t\t<div class=\"friendBlock persona online\" data-miniprofile=\"61757\" >\r\n",
      "\t\t\t\t\t\t<a class=\"friendBlockLinkOverlay\" href=\"http://steamcommunity.com/id/Fisker\"></a>\r\n",
      "\t\t\t\t\t\t\t\t\t\t<div class=\"friendPlayerLevel lvl_100 lvl_plus_40\">\r\n",
      "\t\t\t\t\t<span class=\"friendPlayerLevelNum\">140</span>\r\n",
      "\t\t\t\t</div>\r\n",
      "\t\t\t\t\t\t\t\t\t\t\t\t<div class=\"playerAvatar online\">\r\n",
      "\t\t\t\t<img src=\"http://cdn.steamstatic.com.8686c.com/steamcommunity/public/images/avatars/c3/c39c31208f3c7b8d862073cc2992e7d3f510781d_medium.jpg\">\r\n",
      "\t\t\t</div>\r\n",
      "\t\t\t<div class=\"friendBlockContent\">\r\n",
      "\t\t\t\tFISKER_Q<br>\r\n",
      "\t\t\t\t<span class=\"friendSmallText\">\r\n",
      "\t\tOnline\r\n",
      "\t\t\t\t</span>\r\n",
      "\t\t\t</div>\r\n",
      "\t\t</div>\r\n",
      "\t\t\t\t\t\t\t\t\t\t\t\t\t\t\t\t\t\t\t<div class=\"friendBlock persona offline\" data-miniprofile=\"32416149\" >\r\n",
      "\t\t\t\t\t\t<a class=\"friendBlockLinkOverlay\" href=\"http://steamcommunity.com/id/kasstrator\"></a>\r\n",
      "\t\t\t\t\t\t\t\t\t\t<div class=\"friendPlayerLevel lvl_100 lvl_plus_20\">\r\n",
      "\t\t\t\t\t<span class=\"friendPlayerLevelNum\">123</span>\r\n",
      "\t\t\t\t</div>\r\n",
      "\t\t\t\t\t\t\t\t\t\t\t\t<div class=\"playerAvatar offline\">\r\n",
      "\t\t\t\t<img src=\"http://cdn.steamstatic.com.8686c.com/steamcommunity/public/images/avatars/22/22764adc470cda6c583e1e1bd06218c6f105ef45_medium.jpg\">\r\n",
      "\t\t\t</div>\r\n",
      "\t\t\t<div class=\"friendBlockContent\">\r\n",
      "\t\t\t\tKasstrator<br>\r\n",
      "\t\t\t\t<span class=\"friendSmallText\">\r\n",
      "\t\tLast Online 20 hrs, 45 mins ago\r\n",
      "\t\t\t\t</span>\r\n",
      "\t\t\t</div>\r\n",
      "\t\t</div>\r\n",
      "\t\t\t\t\t\t\t\t\t\t\t\t\t\t\t\t\t\t\t<div class=\"friendBlock persona offline\" data-miniprofile=\"21\" >\r\n",
      "\t\t\t\t\t\t<a class=\"friendBlockLinkOverlay\" href=\"http://steamcommunity.com/id/paintrain\"></a>\r\n",
      "\t\t\t\t\t\t\t\t\t\t<div class=\"friendPlayerLevel lvl_100 lvl_plus_0\">\r\n",
      "\t\t\t\t\t<span class=\"friendPlayerLevelNum\">102</span>\r\n",
      "\t\t\t\t</div>\r\n",
      "\t\t\t\t\t\t\t\t\t\t\t\t<div class=\"playerAvatar offline\">\r\n",
      "\t\t\t\t<img src=\"http://cdn.steamstatic.com.8686c.com/steamcommunity/public/images/avatars/4a/4aa0f3121a70c0960e97f07e33482f418db91db7_medium.jpg\">\r\n",
      "\t\t\t</div>\r\n",
      "\t\t\t<div class=\"friendBlockContent\">\r\n",
      "\t\t\t\tEricS<br>\r\n",
      "\t\t\t\t<span class=\"friendSmallText\">\r\n",
      "\t\tLast Online 5 hrs, 7 mins ago\r\n",
      "\t\t\t\t</span>\r\n",
      "\t\t\t</div>\r\n",
      "\t\t</div>\r\n",
      "\t\t\t\t\t\t\t\t\t\t\t\t\t\t\t\t\t\t\t<div class=\"friendBlock persona in-game\" data-miniprofile=\"18000830\" >\r\n",
      "\t\t\t\t\t\t<a class=\"friendBlockLinkOverlay\" href=\"http://steamcommunity.com/id/jeepbarnett\"></a>\r\n",
      "\t\t\t\t\t\t\t\t\t\t<div class=\"friendPlayerLevel lvl_70\">\r\n",
      "\t\t\t\t\t<span class=\"friendPlayerLevelNum\">72</span>\r\n",
      "\t\t\t\t</div>\r\n",
      "\t\t\t\t\t\t\t\t\t\t\t\t<div class=\"playerAvatar in-game\">\r\n",
      "\t\t\t\t<img src=\"http://cdn.steamstatic.com.8686c.com/steamcommunity/public/images/avatars/32/32cb956abc98b389296e4701ff427c5aea49c985_medium.jpg\">\r\n",
      "\t\t\t</div>\r\n",
      "\t\t\t<div class=\"friendBlockContent\">\r\n",
      "\t\t\t\tPersonGuy<br>\r\n",
      "\t\t\t\t<span class=\"friendSmallText\">\r\n",
      "\t\t<span class=\"linkFriend_in-game\">In-Game<br/>Oure</span>\r\n",
      "\t\t\t\t</span>\r\n",
      "\t\t\t</div>\r\n",
      "\t\t</div>\r\n",
      "\t\t\t\t\t\t\t\t\t\t\t\t\t\t\t\t\t\t\t<div class=\"friendBlock persona offline\" data-miniprofile=\"10299447\" >\r\n",
      "\t\t\t\t\t\t<a class=\"friendBlockLinkOverlay\" href=\"http://steamcommunity.com/id/alden\"></a>\r\n",
      "\t\t\t\t\t\t\t\t\t\t<div class=\"friendPlayerLevel lvl_70\">\r\n",
      "\t\t\t\t\t<span class=\"friendPlayerLevelNum\">72</span>\r\n",
      "\t\t\t\t</div>\r\n",
      "\t\t\t\t\t\t\t\t\t\t\t\t<div class=\"playerAvatar offline\">\r\n",
      "\t\t\t\t<img src=\"http://cdn.steamstatic.com.8686c.com/steamcommunity/public/images/avatars/20/20111513204464c620cc8a10e9651760b6587ec3_medium.jpg\">\r\n",
      "\t\t\t</div>\r\n",
      "\t\t\t<div class=\"friendBlockContent\">\r\n",
      "\t\t\t\tAlden<br>\r\n",
      "\t\t\t\t<span class=\"friendSmallText\">\r\n",
      "\t\tLast Online 9 hrs, 2 mins ago\r\n",
      "\t\t\t\t</span>\r\n",
      "\t\t\t</div>\r\n",
      "\t\t</div>\r\n",
      "\t\t\t\t\t\t\t\t\t\t\t\t\t\t\t\t\t\t\t<div class=\"friendBlock persona online\" data-miniprofile=\"17970641\" >\r\n",
      "\t\t\t\t\t\t<a class=\"friendBlockLinkOverlay\" href=\"http://steamcommunity.com/id/jason\"></a>\r\n",
      "\t\t\t\t\t\t\t\t\t\t<div class=\"friendPlayerLevel lvl_50\">\r\n",
      "\t\t\t\t\t<span class=\"friendPlayerLevelNum\">55</span>\r\n",
      "\t\t\t\t</div>\r\n",
      "\t\t\t\t\t\t\t\t\t\t\t\t<div class=\"playerAvatar online\">\r\n",
      "\t\t\t\t<img src=\"http://cdn.steamstatic.com.8686c.com/steamcommunity/public/images/avatars/41/415d2fbb879593c0565ce0489428a09c019feffa_medium.jpg\">\r\n",
      "\t\t\t</div>\r\n",
      "\t\t\t<div class=\"friendBlockContent\">\r\n",
      "\t\t\t\tjason<br>\r\n",
      "\t\t\t\t<span class=\"friendSmallText\">\r\n",
      "\t\tOnline\r\n",
      "\t\t\t\t</span>\r\n",
      "\t\t\t</div>\r\n",
      "\t\t</div>\r\n",
      "\t\t\t\t\t\t\t\t\t\t\t\t\t\t\t</div>\r\n",
      "\t\t\t\t\t</div>\r\n",
      "\t\t\t\t\r\n",
      "\t\t\t</div>\r\n",
      "\r\n",
      "\r\n",
      "\t\t\t<div class=\"profile_leftcol\">\r\n",
      "\r\n",
      "\t\t\t\t\t\t\t\t\t<div class=\"profile_customization_area\">\r\n",
      "\t\t\t\t\t\t\r\n",
      "<div class=\"profile_customization\">\r\n",
      "\t\t<div class=\"profile_customization_header\">Badge Collector</div>\r\n",
      "\t<div class=\"profile_customization_block\">\r\n",
      "\t\t<div class=\"badge_showcase\">\r\n",
      "\t\t\t<div class=\"showcase_badges_icons\">\r\n",
      "\t\t\t\t\t\t\t\t\t\t\t\t\t<div class=\"showcase_slot showcase_badge \" data-community-tooltip=\"Valve Employee<br>\n",
      "Crowbar equipped\" >\r\n",
      "\t\t\t\t\t\t\t\t\t\t\t\t\t<a href=\"http://steamcommunity.com/id/greg/badges/11\">\r\n",
      "\t\t\t\t\t\t\t\t<img src=\"http://steamcommunity-a.akamaihd.net/public/images/badges/generic/ValveEmployee_80.png\" class=\"badge_icon\">\r\n",
      "\t\t\t\t\t\t\t</a>\r\n",
      "\t\t\t\t\t\t\t\t\t\t\t\t\t\t\t\t\t</div>\r\n",
      "\t\t\t\t\t\t\t\t\t<div class=\"showcase_slot showcase_badge \" data-community-tooltip=\"Steam Hardware Enthusiast<br>\n",
      " \" >\r\n",
      "\t\t\t\t\t\t\t\t\t\t\t\t\t<a href=\"http://steamcommunity.com/id/greg/badges/15\">\r\n",
      "\t\t\t\t\t\t\t\t<img src=\"http://steamcommunity-a.akamaihd.net/public/images/badges/15_hwbeta/hwbeta01_80.png\" class=\"badge_icon\">\r\n",
      "\t\t\t\t\t\t\t</a>\r\n",
      "\t\t\t\t\t\t\t\t\t\t\t\t\t\t\t\t\t</div>\r\n",
      "\t\t\t\t\t\t\t\t\t<div class=\"showcase_slot showcase_badge \" data-community-tooltip=\"Years of Service<br>\n",
      "Member since 10 September, 2003.\" >\r\n",
      "\t\t\t\t\t\t\t\t\t\t\t\t\t<a href=\"http://steamcommunity.com/id/greg/badges/1\">\r\n",
      "\t\t\t\t\t\t\t\t<img src=\"http://steamcommunity-a.akamaihd.net/public/images/badges/02_years/steamyears1402_80.png\" class=\"badge_icon\">\r\n",
      "\t\t\t\t\t\t\t</a>\r\n",
      "\t\t\t\t\t\t\t\t\t\t\t\t\t\t\t\t\t</div>\r\n",
      "\t\t\t\t\t\t\t\t\t<div class=\"showcase_slot showcase_badge \" data-community-tooltip=\"Trading Card Beta Tester<br>\n",
      "Participated in the Steam Trading Card Beta.\" >\r\n",
      "\t\t\t\t\t\t\t\t\t\t\t\t\t<a href=\"http://steamcommunity.com/id/greg/badges/14\">\r\n",
      "\t\t\t\t\t\t\t\t<img src=\"http://steamcommunity-a.akamaihd.net/public/images/badges/generic/TradingCardBeta_80.png\" class=\"badge_icon\">\r\n",
      "\t\t\t\t\t\t\t</a>\r\n",
      "\t\t\t\t\t\t\t\t\t\t\t\t\t\t\t\t\t</div>\r\n",
      "\t\t\t\t\t\t\t\t\t<div class=\"showcase_slot showcase_badge \" data-community-tooltip=\"Power Player<br>\n",
      "227 games owned\" >\r\n",
      "\t\t\t\t\t\t\t\t\t\t\t\t\t<a href=\"http://steamcommunity.com/id/greg/badges/13\">\r\n",
      "\t\t\t\t\t\t\t\t<img src=\"http://steamcommunity-a.akamaihd.net/public/images/badges/13_gamecollector/100_80.png?v=4\" class=\"badge_icon\">\r\n",
      "\t\t\t\t\t\t\t</a>\r\n",
      "\t\t\t\t\t\t\t\t\t\t\t\t\t\t\t\t\t</div>\r\n",
      "\t\t\t\t\t\t\t\t\t<div class=\"showcase_slot showcase_badge \" data-community-tooltip=\"Steam Holiday Sale 2011<br>\n",
      "Completed 2 achievements\" >\r\n",
      "\t\t\t\t\t\t\t\t\t\t\t\t\t<a href=\"http://steamcommunity.com/id/greg/badges/6\">\r\n",
      "\t\t\t\t\t\t\t\t<img src=\"http://steamcommunity-a.akamaihd.net/public/images/badges/06_winter2011/coal01_80.png\" class=\"badge_icon\">\r\n",
      "\t\t\t\t\t\t\t</a>\r\n",
      "\t\t\t\t\t\t\t\t\t\t\t\t\t\t\t\t\t</div>\r\n",
      "\t\t\t\t\t\t\t\t<div style=\"clear: left;\"></div>\r\n",
      "\t\t\t</div>\r\n",
      "\r\n",
      "\t\t\t<div class=\"showcase_content_bg showcase_stats_row\">\r\n",
      "\t\t\t\t<a class=\"showcase_stat\" href=\"http://steamcommunity.com/id/greg/badges/\">\r\n",
      "\t\t\t\t\t<div class=\"value\">9</div>\r\n",
      "\t\t\t\t\t<div class=\"label\">Badges Earned</div>\r\n",
      "\t\t\t\t</a>\r\n",
      "\t\t\t\t\t\t\t\t\t<a class=\"showcase_stat\" href=\"http://steamcommunity.com/id/greg/inventory/#753_6\">\r\n",
      "\t\t\t\t\t\t<div class=\"value\">146</div>\r\n",
      "\t\t\t\t\t\t<div class=\"label\">Game Cards</div>\r\n",
      "\t\t\t\t\t</a>\r\n",
      "\t\t\t\t\t\t\t\t<div style=\"clear: left;\"></div>\r\n",
      "\t\t\t</div>\r\n",
      "\t\t</div>\r\n",
      "\t\t<div style=\"clear: both\"></div>\r\n",
      "\t</div>\r\n",
      "</div>\t\t\t\t\t\t\t\t\t\t\t</div>\r\n",
      "\t\t\t\t\r\n",
      "\t\t\t\t\r\n",
      "\t\t\t\t<div class=\"profile_recentgame_header profile_leftcol_header\">\r\n",
      "\t\t\t\t\t<h2>Recent Activity</h2>\r\n",
      "\t\t\t\t\t\t\t\t\t\t\t<div class=\"recentgame_quicklinks recentgame_recentplaytime\">\r\n",
      "\t\t\t\t\t\t\t<h2>33.6 hours past 2 weeks</h2>\r\n",
      "\t\t\t\t\t\t</div>\r\n",
      "\t\t\t\t\t\t\t\t\t\t<div style=\"clear: both;\"></div>\r\n",
      "\t\t\t\t</div>\r\n",
      "\r\n",
      "\t\t\t\t\t\t\t\t<div class=\"recent_games\">\r\n",
      "\t\t\t\t\t\t\t\t\t\t\t<div class=\"recent_game\">\r\n",
      "\t\t\t\t\t\t\t<div class=\"recent_game_content\">\r\n",
      "\t\t\t\t\t\t\t\t<div class=\"game_info\">\r\n",
      "\t\t\t\t\t\t\t\t\t<div class=\"game_info_cap\"><a href=\"http://steamcommunity.com/app/444930\"><img src=\"http://cdn.steamstatic.com.8686c.com/steamcommunity/public/images/apps/444930/4f9011aafe8b6d79780f93f5ea8e15dcd3784d89.jpg\"></a></div>\r\n",
      "\t\t\t\t\t\t\t\t\t<div class=\"game_info_details\">\r\n",
      "\t\t\t\t\t\t\t\t\t\t0.3 hrs on record<br>\r\n",
      "\t\t\t\t\t\t\t\t\t\t\t\t\t\t\t\t\t\t\t\t\t\t\t\t\t\t\t\t\t\t\t\t\tlast played on 12 Nov\t\t\t\t\t\t\t\t\t\t\t\t\t\t\t\t\t\t\t\t\t\t\t\t\t\t\t\t\t\t</div>\r\n",
      "\t\t\t\t\t\t\t\t\t<div class=\"game_name\"><a class=\"whiteLink\" href=\"http://steamcommunity.com/app/444930\">Zaccaria Pinball</a></div>\r\n",
      "\t\t\t\t\t\t\t\t</div>\r\n",
      "\r\n",
      "\t\t\t\t\t\t\t\t\t<div class=\"game_info_stats\">\r\n",
      "\t\t\t\t\t<div class=\"game_info_achievements_only_ctn\">\r\n",
      "\t\t\t\t\t\t\t\t\t\t\t\t\t<div class=\"game_info_achievements\">\r\n",
      "\t\t\t\t\t\t<div class=\"game_info_achievements_summary_area\">\r\n",
      "\t\t\t\t\t\t\t<span class=\"game_info_achievement_summary\">\r\n",
      "\t\t\t\t\t\t\t\t<a class=\"whiteLink\" href=\"http://steamcommunity.com/id/greg/stats/444930/achievements/\">Achievement Progress</a>\r\n",
      "\t\t\t\t\t\t\t\t&nbsp; <span class=\"ellipsis\">0 of 2476</span>\r\n",
      "\t\t\t\t\t\t\t</span>\r\n",
      "\t\t\t\t\t\t\t<div class=\"achievement_progress_bar_ctn\">\r\n",
      "\t\t\t\t\t\t\t\t\t\t\t\t\t\t\t</div>\r\n",
      "\t\t\t\t\t\t</div>\r\n",
      "\t\t\t\t\t\t<div class=\"achievement_icons\">\r\n",
      "\t\t\t\t\t\t\t\t\t\t\t\t\t\t\t\t\t\t\t\t\t\t\t\t\t\t\t</div>\r\n",
      "\t\t\t\t\t</div>\r\n",
      "\t\t\t\t\t\t\t\t<div style=\"clear: both;\"></div>\r\n",
      "\t\t\t</div>\r\n",
      "\t\t\t\t\t</div>\r\n",
      "\t\t\t\t\t\t\t</div>\r\n",
      "\t\t\t\t\t\t</div>\r\n",
      "\t\t\t\t\t\t\t\t\t\t\t<div class=\"recent_game\">\r\n",
      "\t\t\t\t\t\t\t<div class=\"recent_game_content\">\r\n",
      "\t\t\t\t\t\t\t\t<div class=\"game_info\">\r\n",
      "\t\t\t\t\t\t\t\t\t<div class=\"game_info_cap\"><a href=\"http://steamcommunity.com/app/326720\"><img src=\"http://cdn.steamstatic.com.8686c.com/steamcommunity/public/images/apps/326720/7a6c9153731050b5618726f4381fb7148fac3661.jpg\"></a></div>\r\n",
      "\t\t\t\t\t\t\t\t\t<div class=\"game_info_details\">\r\n",
      "\t\t\t\t\t\t\t\t\t\t64 hrs on record<br>\r\n",
      "\t\t\t\t\t\t\t\t\t\t\t\t\t\t\t\t\t\t\t\t\t\t\t\t\t\t\t\t\t\t\t\t\tlast played on 12 Nov\t\t\t\t\t\t\t\t\t\t\t\t\t\t\t\t\t\t\t\t\t\t\t\t\t\t\t\t\t\t</div>\r\n",
      "\t\t\t\t\t\t\t\t\t<div class=\"game_name\"><a class=\"whiteLink\" href=\"http://steamcommunity.com/app/326720\">Instant Dungeon!</a></div>\r\n",
      "\t\t\t\t\t\t\t\t</div>\r\n",
      "\r\n",
      "\t\t\t\t\t\t\t\t\t<div class=\"game_info_stats\">\r\n",
      "\t\t\t\t\t<div class=\"game_info_achievements_only_ctn\">\r\n",
      "\t\t\t\t\t\t\t\t\t\t\t\t\t<div class=\"game_info_achievements\">\r\n",
      "\t\t\t\t\t\t<div class=\"game_info_achievements_summary_area\">\r\n",
      "\t\t\t\t\t\t\t<span class=\"game_info_achievement_summary\">\r\n",
      "\t\t\t\t\t\t\t\t<a class=\"whiteLink\" href=\"http://steamcommunity.com/id/greg/stats/326720/achievements/\">Achievement Progress</a>\r\n",
      "\t\t\t\t\t\t\t\t&nbsp; <span class=\"ellipsis\">28 of 51</span>\r\n",
      "\t\t\t\t\t\t\t</span>\r\n",
      "\t\t\t\t\t\t\t<div class=\"achievement_progress_bar_ctn\">\r\n",
      "\t\t\t\t\t\t\t\t\t\t\t\t\t\t\t\t\t<div class=\"progress_bar\" style=\"width: 54%;\">\r\n",
      "\r\n",
      "\t\t\t\t\t\t\t\t\t</div>\r\n",
      "\t\t\t\t\t\t\t\t\t\t\t\t\t\t\t</div>\r\n",
      "\t\t\t\t\t\t</div>\r\n",
      "\t\t\t\t\t\t<div class=\"achievement_icons\">\r\n",
      "\t\t\t\t\t\t\t\t\t\t\t\t\t\t\t\t\t\t\t\t\t\t<div class=\"game_info_achievement\" data-community-tooltip=\"I'll Shoot Your Eye Out!\">\r\n",
      "\t\t\t\t\t\t\t\t\t<a href=\"http://steamcommunity.com/id/greg/stats/326720/achievements/\">\r\n",
      "\t\t\t\t\t\t\t\t\t\t<img src=\"http://cdn.steamstatic.com.8686c.com/steamcommunity/public/images/apps/326720/58cec2eda972355441fdaa376f4c2c0f4ef8367e.jpg\">\r\n",
      "\t\t\t\t\t\t\t\t\t</a>\r\n",
      "\t\t\t\t\t\t\t\t</div>\r\n",
      "\t\t\t\t\t\t\t\t\t\t\t\t\t\t\t<div class=\"game_info_achievement\" data-community-tooltip=\"Shocker!\">\r\n",
      "\t\t\t\t\t\t\t\t\t<a href=\"http://steamcommunity.com/id/greg/stats/326720/achievements/\">\r\n",
      "\t\t\t\t\t\t\t\t\t\t<img src=\"http://cdn.steamstatic.com.8686c.com/steamcommunity/public/images/apps/326720/a92f1b39db8a739956b7d91529f2921ef539352d.jpg\">\r\n",
      "\t\t\t\t\t\t\t\t\t</a>\r\n",
      "\t\t\t\t\t\t\t\t</div>\r\n",
      "\t\t\t\t\t\t\t\t\t\t\t\t\t\t\t<div class=\"game_info_achievement\" data-community-tooltip=\"Ice To See You!\">\r\n",
      "\t\t\t\t\t\t\t\t\t<a href=\"http://steamcommunity.com/id/greg/stats/326720/achievements/\">\r\n",
      "\t\t\t\t\t\t\t\t\t\t<img src=\"http://cdn.steamstatic.com.8686c.com/steamcommunity/public/images/apps/326720/10bb81d82a31eb5a888cd31f9fb3d391a1e31d21.jpg\">\r\n",
      "\t\t\t\t\t\t\t\t\t</a>\r\n",
      "\t\t\t\t\t\t\t\t</div>\r\n",
      "\t\t\t\t\t\t\t\t\t\t\t\t\t\t\t<div class=\"game_info_achievement\" data-community-tooltip=\"Fire Starter!\">\r\n",
      "\t\t\t\t\t\t\t\t\t<a href=\"http://steamcommunity.com/id/greg/stats/326720/achievements/\">\r\n",
      "\t\t\t\t\t\t\t\t\t\t<img src=\"http://cdn.steamstatic.com.8686c.com/steamcommunity/public/images/apps/326720/309a6acd5e7f6902e17ff26d5023dc7a30d7e615.jpg\">\r\n",
      "\t\t\t\t\t\t\t\t\t</a>\r\n",
      "\t\t\t\t\t\t\t\t</div>\r\n",
      "\t\t\t\t\t\t\t\t\t\t\t\t\t\t\t<div class=\"game_info_achievement\" data-community-tooltip=\"Die! Die! SUPER DIE!\">\r\n",
      "\t\t\t\t\t\t\t\t\t<a href=\"http://steamcommunity.com/id/greg/stats/326720/achievements/\">\r\n",
      "\t\t\t\t\t\t\t\t\t\t<img src=\"http://cdn.steamstatic.com.8686c.com/steamcommunity/public/images/apps/326720/25afb56fd6d8b49b446de0ac412894f703025984.jpg\">\r\n",
      "\t\t\t\t\t\t\t\t\t</a>\r\n",
      "\t\t\t\t\t\t\t\t</div>\r\n",
      "\t\t\t\t\t\t\t\t\t\t\t\t\t\t\t\t\t\t\t\t\t\t<div class=\"game_info_achievement plus_more\" onclick=\"window.location='http://steamcommunity.com/id/greg/stats/326720/achievements/'\">\r\n",
      "\t\t\t\t\t\t\t\t\t+23\t\t\t\t\t\t\t\t</div>\r\n",
      "\t\t\t\t\t\t\t\t\t\t\t\t\t</div>\r\n",
      "\t\t\t\t\t</div>\r\n",
      "\t\t\t\t\t\t\t\t<div style=\"clear: both;\"></div>\r\n",
      "\t\t\t</div>\r\n",
      "\t\t\t\t\t</div>\r\n",
      "\t\t\t\t\t\t\t</div>\r\n",
      "\t\t\t\t\t\t</div>\r\n",
      "\t\t\t\t\t\t\t\t\t\t\t<div class=\"recent_game\">\r\n",
      "\t\t\t\t\t\t\t<div class=\"recent_game_content\">\r\n",
      "\t\t\t\t\t\t\t\t<div class=\"game_info\">\r\n",
      "\t\t\t\t\t\t\t\t\t<div class=\"game_info_cap\"><a href=\"http://steamcommunity.com/app/570\"><img src=\"http://cdn.steamstatic.com.8686c.com/steamcommunity/public/images/apps/570/d4f836839254be08d8e9dd333ecc9a01782c26d2.jpg\"></a></div>\r\n",
      "\t\t\t\t\t\t\t\t\t<div class=\"game_info_details\">\r\n",
      "\t\t\t\t\t\t\t\t\t\t138 hrs on record<br>\r\n",
      "\t\t\t\t\t\t\t\t\t\t\t\t\t\t\t\t\t\t\t\t\t\t\t\t\t\t\t\t\t\t\t\t\tlast played on 12 Nov\t\t\t\t\t\t\t\t\t\t\t\t\t\t\t\t\t\t\t\t\t\t\t\t\t\t\t\t\t\t</div>\r\n",
      "\t\t\t\t\t\t\t\t\t<div class=\"game_name\"><a class=\"whiteLink\" href=\"http://steamcommunity.com/app/570\">Dota 2</a></div>\r\n",
      "\t\t\t\t\t\t\t\t</div>\r\n",
      "\r\n",
      "\t\t\t\t\t\t\t\t\t\t\t\t\t\t\t</div>\r\n",
      "\t\t\t\t\t\t</div>\r\n",
      "\t\t\t\t\t\t\t\t\t</div>\r\n",
      "\t\t\t\t<div>\r\n",
      "\t\t\t\t\t<div class=\"recentgame_quicklinks\">\r\n",
      "\t\t\t\t\t\tView\t\t\t\t\t\t<a class=\"whiteLink\" href=\"http://steamcommunity.com/id/greg/games/\">All Recently Played</a>\r\n",
      "\t\t\t\t\t\t\t\t\t\t\t\t\t| <a class=\"whiteLink\" href=\"http://steamcommunity.com/id/greg/wishlist/\">Wishlist</a>\r\n",
      "\t\t\t\t\t\t\t\t\t\t\t\t\t\t\t\t\t\t\t| <a class=\"whiteLink\" href=\"http://steamcommunity.com/id/greg/recommended/\">Reviews</a>\r\n",
      "\t\t\t\t\t\t\t\t\t\t\t</div>\r\n",
      "\t\t\t\t\t<div style=\"clear: right;\"></div>\r\n",
      "\t\t\t\t</div>\r\n",
      "\t\t\t\t\r\n",
      "\t\t\t\t<div class=\"profile_comment_area\">\r\n",
      "\t\t\t\t\t<script type=\"text/javascript\">\r\n",
      "\t$J( function() {\r\n",
      "\t\tInitializeCommentThread( \"Profile\", \"Profile_76561197960265738_0\", {\"feature\":\"-1\",\"feature2\":0,\"owner\":\"76561197960265738\",\"total_count\":2190,\"start\":0,\"pagesize\":6,\"has_upvoted\":0,\"upvotes\":0,\"votecountid\":null,\"voteupid\":null,\"commentcountid\":null,\"subscribed\":false}, 'http://steamcommunity.com/comment/Profile/', 40 );\r\n",
      "\t} );\r\n",
      "</script>\r\n",
      "<div class=\"commentthread_area\"  id=\"commentthread_Profile_76561197960265738_0_area\">\r\n",
      "\t<div class=\"commentthread_header\">\r\n",
      "\t\t<div class=\"commentthread_paging has_view_all_link\" id=\"commentthread_Profile_76561197960265738_0_pagecontrols\">\r\n",
      "\t\t\t\t\t\t\t<a class=\"commentthread_allcommentslink\" href=\"http://steamcommunity.com/id/greg/allcomments\">View all <span id=\"commentthread_Profile_76561197960265738_0_totalcount\">2,190</span> comments</a>\r\n",
      "\t\t\t\t\t\t<a id=\"commentthread_Profile_76561197960265738_0_pagebtn_prev\" href=\"javascript:void(0);\" class=\"pagebtn\">&lt;</a>\r\n",
      "\t\t\t<span id=\"commentthread_Profile_76561197960265738_0_pagelinks\" class=\"commentthread_pagelinks\"></span>\r\n",
      "\t\t\t<span id=\"commentthread_Profile_76561197960265738_0_pagedropdown\" class=\"commentthread_pagedropdown\"></span>\r\n",
      "\t\t\t<a id=\"commentthread_Profile_76561197960265738_0_pagebtn_next\" href=\"javascript:void(0);\" class=\"pagebtn\">&gt;</a>\r\n",
      "\t\t</div>\r\n",
      "\t\t<div class=\"commentthread_count\">\r\n",
      "\t\t\t<span class=\"ellipsis commentthread_count_label\">\r\n",
      "\t\t\t\t\t\t\t\t\t<span class=\"commentthread_header_label\">Comments</span>\r\n",
      "\t\t\t\t\t\t\t</span>\r\n",
      "\t\t\t\t\t</div>\r\n",
      "\t\t<div style=\"clear: both;\"></div>\r\n",
      "\t</div>\r\n",
      "\t\t\t\t<!-- 21 -->\r\n",
      "\t\t\t\t<div class=\"commentthread_comment_container\" id=\"commentthread_Profile_76561197960265738_0_postcontainer\">\r\n",
      "\t\t\t<div class=\"commentthread_comments\" id=\"commentthread_Profile_76561197960265738_0_posts\">\r\n",
      "\t\t\t\t\t\t<div class=\"commentthread_comment responsive_body_text  \" id=\"comment_2425614361135225266\" style=\"\">\r\n",
      "\t\t\t\t<div class=\"commentthread_comment_avatar playerAvatar offline\">\r\n",
      "\t\t\t<a href=\"http://steamcommunity.com/id/HellraisersTomi\" data-miniprofile=\"237273482\">\r\n",
      "\t\t\t\t<img src=\"http://cdn.steamstatic.com.8686c.com/steamcommunity/public/images/avatars/fc/fc3151c5e11222a3751e495918ab239c7ab2231f.jpg\" srcset=\"http://cdn.steamstatic.com.8686c.com/steamcommunity/public/images/avatars/fc/fc3151c5e11222a3751e495918ab239c7ab2231f.jpg 1x, http://cdn.steamstatic.com.8686c.com/steamcommunity/public/images/avatars/fc/fc3151c5e11222a3751e495918ab239c7ab2231f_medium.jpg 2x\">\t\t\t</a>\r\n",
      "\t\t</div>\r\n",
      "\t\t<div class=\"commentthread_comment_content\">\r\n",
      "\t\t\t<div class=\"commentthread_comment_author\">\r\n",
      "\t\t\t\t<a class=\"hoverunderline commentthread_author_link\" href=\"http://steamcommunity.com/id/HellraisersTomi\"  data-miniprofile=\"237273482\">\r\n",
      "\t\t\t\t\t<bdi>Tomi @ Sportsbet.io</bdi></a>\r\n",
      "\t\t\t\t\r\n",
      "\t\t\t\t\r\n",
      "\t\t\t\t\r\n",
      "\t\t\t\t\r\n",
      "\t\t\t\t\r\n",
      "\r\n",
      "\t\t\t\t<span class=\"commentthread_comment_timestamp\" title=\"16 November, 2017 @ 5:25:57 am PST\" data-timestamp=\"1510838757\">\r\n",
      "\t\t\t\t\t16 Nov @ 5:25am&nbsp;\r\n",
      "\t\t\t\t</span>\r\n",
      "\t\t\t\t\t\t\t</div>\r\n",
      "\t\t\t<div class=\"commentthread_comment_text\"  id=\"comment_content_2425614361135225266\">\r\n",
      "\t\t\t\tDear Gregori,i have very uncommon question for Valve Representative,so hopefully you will help me out,as question is not related to Support,thank you very much for accepting my request,have a nice day <img src=\"http://steamcommunity-a.akamaihd.net/economy/emoticon/Winking\" class=\"emoticon\">\t\t\t</div>\r\n",
      "\t\t\t\t\t\t\t\t</div>\r\n",
      "\t\t\t</div>\r\n",
      "\t\t<div class=\"commentthread_comment responsive_body_text  \" id=\"comment_1482109512317569173\" style=\"\">\r\n",
      "\t\t\t\t<div class=\"commentthread_comment_avatar playerAvatar offline\">\r\n",
      "\t\t\t<a href=\"http://steamcommunity.com/profiles/76561198077872029\" data-miniprofile=\"117606301\">\r\n",
      "\t\t\t\t<img src=\"http://cdn.steamstatic.com.8686c.com/steamcommunity/public/images/avatars/02/0227a240393e6d62f539ee7b306dd048b0830eeb.jpg\" srcset=\"http://cdn.steamstatic.com.8686c.com/steamcommunity/public/images/avatars/02/0227a240393e6d62f539ee7b306dd048b0830eeb.jpg 1x, http://cdn.steamstatic.com.8686c.com/steamcommunity/public/images/avatars/02/0227a240393e6d62f539ee7b306dd048b0830eeb_medium.jpg 2x\">\t\t\t</a>\r\n",
      "\t\t</div>\r\n",
      "\t\t<div class=\"commentthread_comment_content\">\r\n",
      "\t\t\t<div class=\"commentthread_comment_author\">\r\n",
      "\t\t\t\t<a class=\"hoverunderline commentthread_author_link\" href=\"http://steamcommunity.com/profiles/76561198077872029\"  data-miniprofile=\"117606301\">\r\n",
      "\t\t\t\t\t<bdi>Gabus Christ</bdi></a>\r\n",
      "\t\t\t\t\r\n",
      "\t\t\t\t\r\n",
      "\t\t\t\t\r\n",
      "\t\t\t\t\r\n",
      "\t\t\t\t\r\n",
      "\r\n",
      "\t\t\t\t<span class=\"commentthread_comment_timestamp\" title=\"12 November, 2017 @ 10:25:29 am PST\" data-timestamp=\"1510511129\">\r\n",
      "\t\t\t\t\t12 Nov @ 10:25am&nbsp;\r\n",
      "\t\t\t\t</span>\r\n",
      "\t\t\t\t\t\t\t</div>\r\n",
      "\t\t\t<div class=\"commentthread_comment_text\"  id=\"comment_content_1482109512317569173\">\r\n",
      "\t\t\t\tadd me<br><img src=\"http://steamcommunity-a.akamaihd.net/economy/emoticon/steamhappy\" class=\"emoticon\">\t\t\t</div>\r\n",
      "\t\t\t\t\t\t\t\t</div>\r\n",
      "\t\t\t</div>\r\n",
      "\t\t<div class=\"commentthread_comment responsive_body_text  \" id=\"comment_1482109512312210708\" style=\"\">\r\n",
      "\t\t\t\t<div class=\"commentthread_comment_avatar playerAvatar offline\">\r\n",
      "\t\t\t<a href=\"http://steamcommunity.com/id/plexx0601\" data-miniprofile=\"240931262\">\r\n",
      "\t\t\t\t<img src=\"http://cdn.steamstatic.com.8686c.com/steamcommunity/public/images/avatars/3c/3c8b423c2876a63c35bc4542b7042dfafa838afb.jpg\" srcset=\"http://cdn.steamstatic.com.8686c.com/steamcommunity/public/images/avatars/3c/3c8b423c2876a63c35bc4542b7042dfafa838afb.jpg 1x, http://cdn.steamstatic.com.8686c.com/steamcommunity/public/images/avatars/3c/3c8b423c2876a63c35bc4542b7042dfafa838afb_medium.jpg 2x\">\t\t\t</a>\r\n",
      "\t\t</div>\r\n",
      "\t\t<div class=\"commentthread_comment_content\">\r\n",
      "\t\t\t<div class=\"commentthread_comment_author\">\r\n",
      "\t\t\t\t<a class=\"hoverunderline commentthread_author_link\" href=\"http://steamcommunity.com/id/plexx0601\"  data-miniprofile=\"240931262\">\r\n",
      "\t\t\t\t\t<bdi>★Supreme</bdi></a>\r\n",
      "\t\t\t\t\r\n",
      "\t\t\t\t\r\n",
      "\t\t\t\t\r\n",
      "\t\t\t\t\r\n",
      "\t\t\t\t\r\n",
      "\r\n",
      "\t\t\t\t<span class=\"commentthread_comment_timestamp\" title=\"11 November, 2017 @ 2:08:31 am PST\" data-timestamp=\"1510394911\">\r\n",
      "\t\t\t\t\t11 Nov @ 2:08am&nbsp;\r\n",
      "\t\t\t\t</span>\r\n",
      "\t\t\t\t\t\t\t</div>\r\n",
      "\t\t\t<div class=\"commentthread_comment_text\"  id=\"comment_content_1482109512312210708\">\r\n",
      "\t\t\t\tHey mate, so i have a question... if i report a scammer and do proof that he scammed me/or tried to scam me. Is it more chance hell get trade banned?... and can he get trade banned for using paypal, steamwallet, middleman scams? answer on my profile please :)\t\t\t</div>\r\n",
      "\t\t\t\t\t\t\t\t</div>\r\n",
      "\t\t\t</div>\r\n",
      "\t\t<div class=\"commentthread_comment responsive_body_text  \" id=\"comment_1479857071271875153\" style=\"\">\r\n",
      "\t\t\t\t<div class=\"commentthread_comment_avatar playerAvatar offline\">\r\n",
      "\t\t\t<a href=\"http://steamcommunity.com/id/disabro\" data-miniprofile=\"297540553\">\r\n",
      "\t\t\t\t<img src=\"http://cdn.steamstatic.com.8686c.com/steamcommunity/public/images/avatars/82/82023104219a52220e4bc2cecc346893193be216.jpg\" srcset=\"http://cdn.steamstatic.com.8686c.com/steamcommunity/public/images/avatars/82/82023104219a52220e4bc2cecc346893193be216.jpg 1x, http://cdn.steamstatic.com.8686c.com/steamcommunity/public/images/avatars/82/82023104219a52220e4bc2cecc346893193be216_medium.jpg 2x\">\t\t\t</a>\r\n",
      "\t\t</div>\r\n",
      "\t\t<div class=\"commentthread_comment_content\">\r\n",
      "\t\t\t<div class=\"commentthread_comment_author\">\r\n",
      "\t\t\t\t<a class=\"hoverunderline commentthread_author_link\" href=\"http://steamcommunity.com/id/disabro\"  data-miniprofile=\"297540553\">\r\n",
      "\t\t\t\t\t<bdi>Disa Bro</bdi></a>\r\n",
      "\t\t\t\t\r\n",
      "\t\t\t\t\r\n",
      "\t\t\t\t\r\n",
      "\t\t\t\t\r\n",
      "\t\t\t\t\r\n",
      "\r\n",
      "\t\t\t\t<span class=\"commentthread_comment_timestamp\" title=\"7 November, 2017 @ 1:50:02 am PST\" data-timestamp=\"1510048202\">\r\n",
      "\t\t\t\t\t7 Nov @ 1:50am&nbsp;\r\n",
      "\t\t\t\t</span>\r\n",
      "\t\t\t\t\t\t\t</div>\r\n",
      "\t\t\t<div class=\"commentthread_comment_text\"  id=\"comment_content_1479857071271875153\">\r\n",
      "\t\t\t\tyou are the developer of cs:go?\t\t\t</div>\r\n",
      "\t\t\t\t\t\t\t\t</div>\r\n",
      "\t\t\t</div>\r\n",
      "\t\t<div class=\"commentthread_comment responsive_body_text  \" id=\"comment_1479857071271328257\" style=\"\">\r\n",
      "\t\t\t\t<div class=\"commentthread_comment_avatar playerAvatar offline\">\r\n",
      "\t\t\t<a href=\"http://steamcommunity.com/profiles/76561198254258439\" data-miniprofile=\"293992711\">\r\n",
      "\t\t\t\t<img src=\"http://cdn.steamstatic.com.8686c.com/steamcommunity/public/images/avatars/17/17a1ccad526bc7d0f92278c7d073b87268cbad4a.jpg\" srcset=\"http://cdn.steamstatic.com.8686c.com/steamcommunity/public/images/avatars/17/17a1ccad526bc7d0f92278c7d073b87268cbad4a.jpg 1x, http://cdn.steamstatic.com.8686c.com/steamcommunity/public/images/avatars/17/17a1ccad526bc7d0f92278c7d073b87268cbad4a_medium.jpg 2x\">\t\t\t</a>\r\n",
      "\t\t</div>\r\n",
      "\t\t<div class=\"commentthread_comment_content\">\r\n",
      "\t\t\t<div class=\"commentthread_comment_author\">\r\n",
      "\t\t\t\t<a class=\"hoverunderline commentthread_author_link\" href=\"http://steamcommunity.com/profiles/76561198254258439\"  data-miniprofile=\"293992711\">\r\n",
      "\t\t\t\t\t<bdi>zorro#buying items now</bdi></a>\r\n",
      "\t\t\t\t\r\n",
      "\t\t\t\t\r\n",
      "\t\t\t\t\r\n",
      "\t\t\t\t\r\n",
      "\t\t\t\t\r\n",
      "\r\n",
      "\t\t\t\t<span class=\"commentthread_comment_timestamp\" title=\"6 November, 2017 @ 10:21:42 pm PST\" data-timestamp=\"1510035702\">\r\n",
      "\t\t\t\t\t6 Nov @ 10:21pm&nbsp;\r\n",
      "\t\t\t\t</span>\r\n",
      "\t\t\t\t\t\t\t</div>\r\n",
      "\t\t\t<div class=\"commentthread_comment_text\"  id=\"comment_content_1479857071271328257\">\r\n",
      "\t\t\t\tplease add me i cant add you<br>\t\t\t</div>\r\n",
      "\t\t\t\t\t\t\t\t</div>\r\n",
      "\t\t\t</div>\r\n",
      "\t\t<div class=\"commentthread_comment responsive_body_text  \" id=\"comment_1479857071260610374\" style=\"\">\r\n",
      "\t\t\t\t<div class=\"commentthread_comment_avatar playerAvatar offline\">\r\n",
      "\t\t\t<a href=\"http://steamcommunity.com/id/765278242\" data-miniprofile=\"473978659\">\r\n",
      "\t\t\t\t<img src=\"http://cdn.steamstatic.com.8686c.com/steamcommunity/public/images/avatars/3d/3de280bb77b7fec83ff0ed7a839f71a93b0a95ea.jpg\" srcset=\"http://cdn.steamstatic.com.8686c.com/steamcommunity/public/images/avatars/3d/3de280bb77b7fec83ff0ed7a839f71a93b0a95ea.jpg 1x, http://cdn.steamstatic.com.8686c.com/steamcommunity/public/images/avatars/3d/3de280bb77b7fec83ff0ed7a839f71a93b0a95ea_medium.jpg 2x\">\t\t\t</a>\r\n",
      "\t\t</div>\r\n",
      "\t\t<div class=\"commentthread_comment_content\">\r\n",
      "\t\t\t<div class=\"commentthread_comment_author\">\r\n",
      "\t\t\t\t<a class=\"hoverunderline commentthread_author_link\" href=\"http://steamcommunity.com/id/765278242\"  data-miniprofile=\"473978659\">\r\n",
      "\t\t\t\t\t<bdi>Виктор Цой</bdi></a>\r\n",
      "\t\t\t\t\r\n",
      "\t\t\t\t\r\n",
      "\t\t\t\t\r\n",
      "\t\t\t\t\r\n",
      "\t\t\t\t\r\n",
      "\r\n",
      "\t\t\t\t<span class=\"commentthread_comment_timestamp\" title=\"4 November, 2017 @ 6:04:43 am PST\" data-timestamp=\"1509800683\">\r\n",
      "\t\t\t\t\t4 Nov @ 6:04am&nbsp;\r\n",
      "\t\t\t\t</span>\r\n",
      "\t\t\t\t\t\t\t</div>\r\n",
      "\t\t\t<div class=\"commentthread_comment_text\"  id=\"comment_content_1479857071260610374\">\r\n",
      "\t\t\t\tfuck you mother ahahhaha\t\t\t</div>\r\n",
      "\t\t\t\t\t\t\t\t</div>\r\n",
      "\t\t\t</div>\r\n",
      "\t\t\t</div>\r\n",
      "\t\t</div>\r\n",
      "\t\t<div class=\"commentthread_footer\">\r\n",
      "\t\t\t<div class=\"commentthread_paging\" id=\"commentthread_Profile_76561197960265738_0_fpagecontrols\">\r\n",
      "\t\t\t\t<a id=\"commentthread_Profile_76561197960265738_0_fpagebtn_prev\" href=\"javascript:void(0);\" class=\"pagebtn\">&lt;</a>\r\n",
      "\t\t\t\t<span id=\"commentthread_Profile_76561197960265738_0_fpagelinks\" class=\"commentthread_pagelinks\"></span>\r\n",
      "\t\t\t\t<span id=\"commentthread_Profile_76561197960265738_0_fpagedropdown\" class=\"commentthread_pagedropdown\"></span>\r\n",
      "\t\t\t\t<a id=\"commentthread_Profile_76561197960265738_0_fpagebtn_next\" href=\"javascript:void(0);\" class=\"pagebtn\">&gt;</a>\r\n",
      "\t\t\t</div>\r\n",
      "\t\t\t<div style=\"clear: both;\"></div>\r\n",
      "\t\t</div>\r\n",
      "\t</div>\t\t\t\t</div>\r\n",
      "\t\t\t</div>\r\n",
      "\r\n",
      "\t\t\t<div style=\"clear: both;\"></div>\r\n",
      "\t\t</div>\r\n",
      "\t</div>\r\n",
      "\r\n",
      "</div>\r\n",
      "\r\n",
      "\r\n",
      "\t\t</div>\t<!-- responsive_page_legacy_content -->\r\n",
      "\r\n",
      "\t\t\t<div id=\"footer_spacer\"></div>\r\n",
      "\t<div id=\"footer_responsive_optin_spacer\"></div>\r\n",
      "\t<div id=\"footer\">\r\n",
      "\t\t<div class=\"footer_content\">\r\n",
      "\t\t\t<span id=\"footerLogo\"><img src=\"http://steamcommunity-a.akamaihd.net/public/images/skin_1/footerLogo_valve.png?v=1\" width=\"96\" height=\"26\" border=\"0\" alt=\"Valve Logo\" /></span>\r\n",
      "\t\t\t<span id=\"footerText\">\r\n",
      "\t\t\t\t&copy; Valve Corporation. All rights reserved. All trademarks are property of their respective owners in the US and other countries.<br/>Some geospatial data on this website is provided by <a href=\"https://steamcommunity.com/linkfilter/?url=http://www.geonames.org\" target=\"_blank\" rel=\"noreferrer\">geonames.org</a>.\t\t\t\t<br>\r\n",
      "\t\t\t\t\t\t\t\t\t<span class=\"valve_links\">\r\n",
      "\t\t\t\t\t\t<a href=\"http://store.steampowered.com/privacy_agreement/\" target=\"_blank\">Privacy Policy</a>\r\n",
      "\t\t\t\t\t\t&nbsp; | &nbsp;<a href=\"http://www.valvesoftware.com/legal.htm\" target=\"_blank\">Legal</a>\r\n",
      "\t\t\t\t\t\t&nbsp;| &nbsp;<a href=\"http://store.steampowered.com/subscriber_agreement/\" target=\"_blank\">Steam Subscriber Agreement</a>\r\n",
      "\t\t\t\t\t</span>\r\n",
      "\t\t\t\t\t\t\t</span>\r\n",
      "\t\t</div>\r\n",
      "\t\t\t\t\t<div class=\"responsive_optin_link\">\r\n",
      "\t\t\t\t<div class=\"btn_medium btnv6_grey_black\" onclick=\"Responsive_RequestMobileView()\">\r\n",
      "\t\t\t\t\t<span>View mobile website</span>\r\n",
      "\t\t\t\t</div>\r\n",
      "\t\t\t</div>\r\n",
      "\t\t\t</div>\r\n",
      "\t\r\n",
      "\t</div>\t<!-- responsive_page_content -->\r\n",
      "\r\n",
      "</div>\t<!-- responsive_page_frame -->\r\n",
      "</body>\r\n",
      "</html>\n"
     ]
    }
   ],
   "source": [
    "print respProfile.text"
   ]
  },
  {
   "cell_type": "code",
   "execution_count": 27,
   "metadata": {
    "collapsed": true,
    "run_control": {
     "frozen": false,
     "read_only": false
    }
   },
   "outputs": [],
   "source": [
    "regxObj = re.compile('\"personaname\":\"(.+?)\"', re.IGNORECASE | re.UNICODE | re.DOTALL)"
   ]
  },
  {
   "cell_type": "code",
   "execution_count": 16,
   "metadata": {
    "collapsed": false,
    "run_control": {
     "frozen": false,
     "read_only": false
    }
   },
   "outputs": [
    {
     "name": "stdout",
     "output_type": "stream",
     "text": [
      "Gregori\n"
     ]
    }
   ],
   "source": [
    "if match:\n",
    "    obj = match.group(1)\n",
    "else:\n",
    "    obj = []\n",
    "print obj    "
   ]
  },
  {
   "cell_type": "code",
   "execution_count": null,
   "metadata": {
    "collapsed": true,
    "run_control": {
     "frozen": false,
     "read_only": false
    }
   },
   "outputs": [],
   "source": [
    "regxObj = re.compile('\"personaname\":\"(.+?)\"', re.IGNORECASE | re.UNICODE | re.DOTALL)\n",
    "match = regxObj.search(respProfile.text)\n",
    "save"
   ]
  },
  {
   "cell_type": "code",
   "execution_count": null,
   "metadata": {
    "collapsed": false,
    "run_control": {
     "frozen": false,
     "read_only": false
    }
   },
   "outputs": [],
   "source": [
    "gurl = 'http://steamcommunity.com/profiles/%s/games/?tab=all' % '76561197960265738'\n",
    "respGames = requests.get(profileURL, header)\n",
    "regxObj = re.compile('var rgGames = (.+?);\\s*?var', re.IGNORECASE | re.UNICODE | re.DOTALL)\n",
    "match = regxObj.search(respGames.text)\n",
    "print match\n",
    "if match:\n",
    "    obj = json.loads(match.group(1))\n",
    "else:\n",
    "    obj = []\n",
    "print obj\n",
    "\n",
    "for item in obj:\n",
    "    print item"
   ]
  },
  {
   "cell_type": "code",
   "execution_count": null,
   "metadata": {
    "collapsed": true,
    "run_control": {
     "frozen": false,
     "read_only": false
    }
   },
   "outputs": [],
   "source": [
    "print respGames.text"
   ]
  },
  {
   "cell_type": "code",
   "execution_count": null,
   "metadata": {
    "collapsed": true,
    "run_control": {
     "frozen": false,
     "read_only": false
    }
   },
   "outputs": [],
   "source": [
    "proxies = { \"http\": \"http://10.10.1.10:3128\", \"https\": \"http://10.10.1.10:1080\", }   \n",
    "app_id=70\n",
    "url = 'http://store.steampowered.com/api/appdetails?appids=%s' % app_id\n",
    "header = {\n",
    "        'User-Agent': 'Mozilla/5.0 (Macintosh; Intel Mac OS X 10_11_6) AppleWebKit/537.36 (KHTML, like Gecko) Chrome/57.0.2987.133 Safari/537.36',\n",
    "        'Accept':'text/html,application/xhtml+xml,application/xml;q=0.9,image/webp,*/*;q=0.8',\n",
    "        'Accept-Encoding':'gzip, deflate, sdch',\n",
    "        'Accept-Language':'en-US,en;q=0.8,zh-CN;q=0.6,zh;q=0.4,zh-TW;q=0.2'\n",
    "}\n",
    "resp = requests.get(url, header)\n",
    "obj = resp.json()\n",
    "print obj"
   ]
  },
  {
   "cell_type": "code",
   "execution_count": null,
   "metadata": {
    "collapsed": true,
    "run_control": {
     "frozen": false,
     "read_only": false
    }
   },
   "outputs": [],
   "source": [
    "patterns = {\n",
    "        'detail': {\n",
    "            #'steamID': False,\n",
    "            'name': '\"personaname\":\"(.+?)\"',\n",
    "            'real_name': '<div class=\"header_real_name ellipsis\">[^<>]*?<bdi>([^<>]+?)</bdi>',\n",
    "            'location': '<img class=\"profile_flag\" src=\"[^>]*?\">([^<>]+?)</div>',\n",
    "            'level': '<span class=\"friendPlayerLevelNum\">(\\d+?)</span>',\n",
    "            'since': 'data-community-tooltip=\"Years of Service<br>[^<>]*?Member since ([^<>]+?).\">',\n",
    "            'customURL': '\"url\":\"([^<>]+?)\",',\n",
    "            'games_url': '<a href=\"([^<>]+?)\">\\s*?<span class=\"count_link_label\">Games</span>',\n",
    "            'friends_url': '<a href=\"([^<>]+?)\">\\s*?<span class=\"count_link_label\">Friends</span>'\n",
    "        },\n",
    "        'games': {\n",
    "            'gameList': 'var rgGames = (.+?);\\s*?var',\n",
    "            'error': 'made too many requests recently. Please wait and try your request again later.'\n",
    "        },\n",
    "        'friends': {\n",
    "            'friendList': '<a class=\"friendBlockLinkOverlay\" href=\"([^<>]+?)\"></a>.+?<div class=\"friendBlockContent\">([^<>]+?)<br>'\n",
    "            # Wierd, there is one time I didn't see the pattern above, but only the pattern below\n",
    "            # The pattern above doesn't exist in my own friends page! But in other people's friends pages\n",
    "            #'friendList': '<a class=\"friendBlockLinkOverlay\" href=\"([^<>]+?)\"></a><div class=.+?>.+?</div><div>([^<>]+?)<br />'\n",
    "        },\n",
    "        'games_url': '<a href=\"([^<>]+?)\">\\s*?<span class=\"count_link_label\">Games</span>',\n",
    "        'friends_url': '<a href=\"([^<>]+?)\">\\s*?<span class=\"count_link_label\">Friends</span>'\n",
    "    }\n",
    "\n",
    "profileURL = 'http://steamcommunity.com/profiles/%s' % 76561197960265738\n",
    "\n",
    "\n",
    "class ContentRetriever(object):\n",
    "\n",
    "    def _re_search(self, pattern, html):\n",
    "        regxObj = re.compile(pattern, re.IGNORECASE | re.UNICODE | re.DOTALL)\n",
    "        match = regxObj.search(html)\n",
    "        return match\n",
    "\n",
    "    def _re_finditer(self, pattern, html):\n",
    "        regxObj = re.compile(pattern, re.IGNORECASE | re.UNICODE | re.DOTALL)\n",
    "        return regxObj.finditer(html)\n",
    "\n",
    "#here is your code#\n"
   ]
  },
  {
   "cell_type": "code",
   "execution_count": null,
   "metadata": {
    "collapsed": true,
    "run_control": {
     "frozen": false,
     "read_only": false
    }
   },
   "outputs": [],
   "source": [
    "proxy = {\n",
    "  \"https\": \"https://23.253.83.226:80\"\n",
    "}\n",
    "app_id=70\n",
    "url = 'http://store.steampowered.com/api/appdetails?appids=%s' % app_id\n",
    "header = {\n",
    "        'User-Agent': 'Mozilla/5.0 (Macintosh; Intel Mac OS X 10_11_6) AppleWebKit/537.36 (KHTML, like Gecko) Chrome/57.0.2987.133 Safari/537.36',\n",
    "        'Accept':'text/html,application/xhtml+xml,application/xml;q=0.9,image/webp,*/*;q=0.8',\n",
    "        'Accept-Encoding':'gzip, deflate, sdch',\n",
    "        'Accept-Language':'en-US,en;q=0.8,zh-CN;q=0.6,zh;q=0.4,zh-TW;q=0.2'\n",
    "}\n",
    "resp = requests.get(url, header, timeout=10, proxies=proxy)\n",
    "obj = resp.json()\n",
    "print obj\n"
   ]
  }
 ],
 "metadata": {
  "kernelspec": {
   "display_name": "Python 2",
   "language": "python",
   "name": "python2"
  },
  "language_info": {
   "codemirror_mode": {
    "name": "ipython",
    "version": 2
   },
   "file_extension": ".py",
   "mimetype": "text/x-python",
   "name": "python",
   "nbconvert_exporter": "python",
   "pygments_lexer": "ipython2",
   "version": "2.7.10"
  }
 },
 "nbformat": 4,
 "nbformat_minor": 2
}
